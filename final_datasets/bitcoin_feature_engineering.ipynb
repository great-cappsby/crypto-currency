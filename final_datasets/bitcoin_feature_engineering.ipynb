{
 "cells": [
  {
   "cell_type": "code",
   "execution_count": 21,
   "id": "7d6cfb20",
   "metadata": {},
   "outputs": [],
   "source": [
    "import pandas as pd\n",
    "import numpy as np"
   ]
  },
  {
   "cell_type": "code",
   "execution_count": 2,
   "id": "5f0a6a35",
   "metadata": {},
   "outputs": [],
   "source": [
    "bitcoin = pd.read_csv(\"../data/merged_datasets.csv\")"
   ]
  },
  {
   "cell_type": "code",
   "execution_count": 6,
   "id": "d10a869b",
   "metadata": {},
   "outputs": [],
   "source": [
    "# Dump some columns\n",
    "bitcoin.drop(inplace=True, columns=[\"Unnamed: 0\", \"Adj Close\", \"gold_close\", \"gold_label\", \"sp500_close\", \"sp500_label\", \\\n",
    "                                    \"isPartial\", \"neg\", \"neu\", \"pos\"])"
   ]
  },
  {
   "cell_type": "code",
   "execution_count": 9,
   "id": "ade61632",
   "metadata": {},
   "outputs": [],
   "source": [
    "# Create a daily change percent\n",
    "bitcoin['Daily_Change_Perc'] = bitcoin[\"Daily_Change\"] / bitcoin[\"Open\"]"
   ]
  },
  {
   "cell_type": "code",
   "execution_count": 45,
   "id": "c31e3e6c",
   "metadata": {},
   "outputs": [],
   "source": [
    "# Re-add gold\n",
    "gold = pd.read_csv(\"../data/gold_modified.csv\")\n",
    "gold['Daily_Change'] = gold[\"Close/Last\"] - gold[\"Open\"]\n",
    "gold['Daily_Change_Perc'] = gold[\"Daily_Change\"] / gold[\"Open\"]\n",
    "gold[\"Increased\"] = np.where(gold[\"Daily_Change\"] > 0, 1, 0)\n",
    "# Get date in right format for merge\n",
    "gold[\"Date\"] = pd.to_datetime(gold[\"Date\"]).dt.strftime('%Y-%m-%d')\n",
    "gold_needed_columns = gold[[\"Date\", \"Close/Last\", \"Open\", \"Daily_Change\", \"Daily_Change_Perc\", \"Increased\"]]"
   ]
  },
  {
   "cell_type": "code",
   "execution_count": 46,
   "id": "dee502bf",
   "metadata": {},
   "outputs": [],
   "source": [
    "# Merge Gold Columns Back in\n",
    "bitcoin = bitcoin.merge(gold_needed_columns, on=\"Date\", suffixes=(\"\", \"_Gold\"))"
   ]
  },
  {
   "cell_type": "code",
   "execution_count": 53,
   "id": "322aa846",
   "metadata": {},
   "outputs": [],
   "source": [
    "# Re-add sp500\n",
    "sp500 = pd.read_csv(\"../data/sp_500.csv\")\n",
    "sp500['Daily_Change'] = sp500[\"Close/Last\"] - sp500[\"Open\"]\n",
    "sp500['Daily_Change_Perc'] = sp500[\"Daily_Change\"] / sp500[\"Open\"]\n",
    "sp500[\"Increased\"] = np.where(sp500[\"Daily_Change\"] > 0, 1, 0)\n",
    "# Get date in right format for merge\n",
    "sp500[\"Date\"] = pd.to_datetime(sp500[\"Date\"]).dt.strftime('%Y-%m-%d')\n",
    "sp_needed_columns = sp500[[\"Date\", \"Close/Last\", \"Open\", \"Daily_Change\", \"Daily_Change_Perc\", \"Increased\"]]"
   ]
  },
  {
   "cell_type": "code",
   "execution_count": 54,
   "id": "a14735cb",
   "metadata": {},
   "outputs": [],
   "source": [
    "bitcoin = bitcoin.merge(sp_needed_columns, on=\"Date\", suffixes=(\"\", \"_SP500\"))"
   ]
  },
  {
   "cell_type": "code",
   "execution_count": 57,
   "id": "cbf32e3a",
   "metadata": {},
   "outputs": [],
   "source": [
    "# set y label\n",
    "bitcoin[\"label\"] = bitcoin[\"Daily_Change_Ind\"].shift(1)"
   ]
  },
  {
   "cell_type": "code",
   "execution_count": 68,
   "id": "bf3c0d76",
   "metadata": {},
   "outputs": [
    {
     "name": "stdout",
     "output_type": "stream",
     "text": [
      "Column Name :  Date\n",
      "Any NAs :  False\n",
      "Column Name :  Open\n",
      "Any NAs :  False\n",
      "Column Name :  High\n",
      "Any NAs :  False\n",
      "Column Name :  Low\n",
      "Any NAs :  False\n",
      "Column Name :  Close\n",
      "Any NAs :  False\n",
      "Column Name :  Volume\n",
      "Any NAs :  False\n",
      "Column Name :  Daily_Change\n",
      "Any NAs :  False\n",
      "Column Name :  Daily_Change_Ind\n",
      "Any NAs :  False\n",
      "Column Name :  MACD\n",
      "Any NAs :  False\n",
      "Column Name :  PROC_3\n",
      "Any NAs :  False\n",
      "Column Name :  PROC_5\n",
      "Any NAs :  False\n",
      "Column Name :  PROC_10\n",
      "Any NAs :  False\n",
      "Column Name :  wpr\n",
      "Any NAs :  False\n",
      "Column Name :  sto_os\n",
      "Any NAs :  False\n",
      "Column Name :  goog_trend_score\n",
      "Any NAs :  False\n",
      "Column Name :  count\n",
      "Any NAs :  False\n",
      "Column Name :  compound\n",
      "Any NAs :  False\n",
      "Column Name :  retweets_count\n",
      "Any NAs :  False\n",
      "Column Name :  likes_count\n",
      "Any NAs :  False\n",
      "Column Name :  replies_count\n",
      "Any NAs :  False\n",
      "Column Name :  compound_weighted_replies\n",
      "Any NAs :  True\n",
      "Column Name :  compound_weighted_likes\n",
      "Any NAs :  False\n",
      "Column Name :  compound_weighted_retweets\n",
      "Any NAs :  False\n",
      "Column Name :  Daily_Change_Perc\n",
      "Any NAs :  False\n",
      "Column Name :  Close/Last\n",
      "Any NAs :  False\n",
      "Column Name :  Open_Gold\n",
      "Any NAs :  False\n",
      "Column Name :  Daily_Change_Gold\n",
      "Any NAs :  False\n",
      "Column Name :  Daily_Change_Perc_Gold\n",
      "Any NAs :  False\n",
      "Column Name :  Increased\n",
      "Any NAs :  False\n",
      "Column Name :  Close/Last_Gold\n",
      "Any NAs :  False\n",
      "Column Name :  Open_Gold\n",
      "Any NAs :  False\n",
      "Column Name :  Daily_Change_Gold\n",
      "Any NAs :  False\n",
      "Column Name :  Daily_Change_Perc_Gold\n",
      "Any NAs :  False\n",
      "Column Name :  Increased_Gold\n",
      "Any NAs :  False\n",
      "Column Name :  Close/Last_Gold\n",
      "Any NAs :  False\n",
      "Column Name :  Open_Gold\n",
      "Any NAs :  False\n",
      "Column Name :  Daily_Change_Gold\n",
      "Any NAs :  False\n",
      "Column Name :  Daily_Change_Perc_Gold\n",
      "Any NAs :  False\n",
      "Column Name :  Increased_Gold\n",
      "Any NAs :  False\n",
      "Column Name :  Close/Last_SP500\n",
      "Any NAs :  False\n",
      "Column Name :  Open_SP500\n",
      "Any NAs :  False\n",
      "Column Name :  Daily_Change_SP500\n",
      "Any NAs :  False\n",
      "Column Name :  Daily_Change_Perc_SP500\n",
      "Any NAs :  False\n",
      "Column Name :  Increased_SP500\n",
      "Any NAs :  False\n",
      "Column Name :  label\n",
      "Any NAs :  True\n"
     ]
    }
   ],
   "source": [
    "for (columnName, columnData) in bitcoin.iteritems():\n",
    "    print('Column Name : ', columnName)\n",
    "    print('Any NAs : ', columnData.isnull().any())"
   ]
  },
  {
   "cell_type": "code",
   "execution_count": 77,
   "id": "6b380cf7",
   "metadata": {},
   "outputs": [],
   "source": [
    "bitcoin['compound_weighted_replies'] = bitcoin['compound_weighted_replies'].fillna(0)"
   ]
  },
  {
   "cell_type": "code",
   "execution_count": 78,
   "id": "1404f080",
   "metadata": {},
   "outputs": [
    {
     "data": {
      "text/plain": [
       "0"
      ]
     },
     "execution_count": 78,
     "metadata": {},
     "output_type": "execute_result"
    }
   ],
   "source": [
    "bitcoin['compound_weighted_replies'].isnull().sum()"
   ]
  },
  {
   "cell_type": "code",
   "execution_count": 80,
   "id": "f9fc234b",
   "metadata": {},
   "outputs": [
    {
     "name": "stdout",
     "output_type": "stream",
     "text": [
      "1578\n",
      "1577\n"
     ]
    }
   ],
   "source": [
    "print(len(bitcoin))\n",
    "bitcoin = bitcoin.dropna()\n",
    "print(len(bitcoin))"
   ]
  },
  {
   "cell_type": "code",
   "execution_count": 81,
   "id": "6ffd7c50",
   "metadata": {},
   "outputs": [],
   "source": [
    "# Train - Test Split\n",
    "from sklearn.model_selection import train_test_split\n",
    "random_state = 12345\n",
    "\n",
    "train_set, test_set = train_test_split(bitcoin, test_size=0.2, random_state=random_state)"
   ]
  },
  {
   "cell_type": "code",
   "execution_count": 82,
   "id": "2d553215",
   "metadata": {},
   "outputs": [
    {
     "data": {
      "text/plain": [
       "1261"
      ]
     },
     "execution_count": 82,
     "metadata": {},
     "output_type": "execute_result"
    }
   ],
   "source": [
    "len(train_set)"
   ]
  },
  {
   "cell_type": "code",
   "execution_count": 83,
   "id": "f1cf0d46",
   "metadata": {},
   "outputs": [
    {
     "data": {
      "text/plain": [
       "316"
      ]
     },
     "execution_count": 83,
     "metadata": {},
     "output_type": "execute_result"
    }
   ],
   "source": [
    "len(test_set)"
   ]
  },
  {
   "cell_type": "code",
   "execution_count": 84,
   "id": "438f8fbc",
   "metadata": {},
   "outputs": [],
   "source": [
    "train_set.to_csv(\"../models/bitcoin_train.csv\")\n",
    "test_set.to_csv(\"../models/bitcoin_test.csv\")"
   ]
  },
  {
   "cell_type": "code",
   "execution_count": null,
   "id": "69ad5e8b",
   "metadata": {},
   "outputs": [],
   "source": []
  }
 ],
 "metadata": {
  "kernelspec": {
   "display_name": "Python 3",
   "language": "python",
   "name": "python3"
  },
  "language_info": {
   "codemirror_mode": {
    "name": "ipython",
    "version": 3
   },
   "file_extension": ".py",
   "mimetype": "text/x-python",
   "name": "python",
   "nbconvert_exporter": "python",
   "pygments_lexer": "ipython3",
   "version": "3.8.8"
  }
 },
 "nbformat": 4,
 "nbformat_minor": 5
}
