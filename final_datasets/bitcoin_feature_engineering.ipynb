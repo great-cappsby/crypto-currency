{
 "cells": [
  {
   "cell_type": "code",
   "execution_count": 1,
   "id": "7d6cfb20",
   "metadata": {},
   "outputs": [],
   "source": [
    "import pandas as pd\n",
    "import numpy as np"
   ]
  },
  {
   "cell_type": "code",
   "execution_count": 2,
   "id": "5f0a6a35",
   "metadata": {},
   "outputs": [],
   "source": [
    "bitcoin = pd.read_csv(\"../data/merged_datasets.csv\")"
   ]
  },
  {
   "cell_type": "code",
   "execution_count": 3,
   "id": "d10a869b",
   "metadata": {},
   "outputs": [],
   "source": [
    "# Dump some columns\n",
    "bitcoin.drop(inplace=True, columns=[\"Unnamed: 0\", \"Adj Close\", \"gold_close\", \"gold_label\", \"sp500_close\", \"sp500_label\", \\\n",
    "                                    \"isPartial\", \"neg\", \"neu\", \"pos\"])"
   ]
  },
  {
   "cell_type": "code",
   "execution_count": 4,
   "id": "ade61632",
   "metadata": {},
   "outputs": [],
   "source": [
    "# Create a daily change percent\n",
    "bitcoin['Daily_Change_Perc'] = bitcoin[\"Daily_Change\"] / bitcoin[\"Open\"]"
   ]
  },
  {
   "cell_type": "code",
   "execution_count": 5,
   "id": "c31e3e6c",
   "metadata": {},
   "outputs": [],
   "source": [
    "# Re-add gold\n",
    "gold = pd.read_csv(\"../data/gold_modified.csv\")\n",
    "gold['Daily_Change'] = gold[\"Close/Last\"] - gold[\"Open\"]\n",
    "gold['Daily_Change_Perc'] = gold[\"Daily_Change\"] / gold[\"Open\"]\n",
    "gold[\"Increased\"] = np.where(gold[\"Daily_Change\"] > 0, 1, 0)\n",
    "# Get date in right format for merge\n",
    "gold[\"Date\"] = pd.to_datetime(gold[\"Date\"]).dt.strftime('%Y-%m-%d')\n",
    "gold_needed_columns = gold[[\"Date\", \"Close/Last\", \"Open\", \"Daily_Change\", \"Daily_Change_Perc\", \"Increased\"]]"
   ]
  },
  {
   "cell_type": "code",
   "execution_count": 6,
   "id": "dee502bf",
   "metadata": {},
   "outputs": [],
   "source": [
    "# Merge Gold Columns Back in\n",
    "bitcoin = bitcoin.merge(gold_needed_columns, on=\"Date\", suffixes=(\"\", \"_Gold\"))"
   ]
  },
  {
   "cell_type": "code",
   "execution_count": 7,
   "id": "322aa846",
   "metadata": {},
   "outputs": [],
   "source": [
    "# Re-add sp500\n",
    "sp500 = pd.read_csv(\"../data/sp_500.csv\")\n",
    "sp500['Daily_Change'] = sp500[\"Close/Last\"] - sp500[\"Open\"]\n",
    "sp500['Daily_Change_Perc'] = sp500[\"Daily_Change\"] / sp500[\"Open\"]\n",
    "sp500[\"Increased\"] = np.where(sp500[\"Daily_Change\"] > 0, 1, 0)\n",
    "# Get date in right format for merge\n",
    "sp500[\"Date\"] = pd.to_datetime(sp500[\"Date\"]).dt.strftime('%Y-%m-%d')\n",
    "sp_needed_columns = sp500[[\"Date\", \"Close/Last\", \"Open\", \"Daily_Change\", \"Daily_Change_Perc\", \"Increased\"]]"
   ]
  },
  {
   "cell_type": "code",
   "execution_count": 8,
   "id": "a14735cb",
   "metadata": {},
   "outputs": [],
   "source": [
    "bitcoin = bitcoin.merge(sp_needed_columns, on=\"Date\", suffixes=(\"\", \"_SP500\"))"
   ]
  },
  {
   "cell_type": "code",
   "execution_count": 13,
   "id": "6a0445de",
   "metadata": {},
   "outputs": [
    {
     "data": {
      "text/html": [
       "<div>\n",
       "<style scoped>\n",
       "    .dataframe tbody tr th:only-of-type {\n",
       "        vertical-align: middle;\n",
       "    }\n",
       "\n",
       "    .dataframe tbody tr th {\n",
       "        vertical-align: top;\n",
       "    }\n",
       "\n",
       "    .dataframe thead th {\n",
       "        text-align: right;\n",
       "    }\n",
       "</style>\n",
       "<table border=\"1\" class=\"dataframe\">\n",
       "  <thead>\n",
       "    <tr style=\"text-align: right;\">\n",
       "      <th></th>\n",
       "      <th>Date</th>\n",
       "      <th>Open</th>\n",
       "      <th>High</th>\n",
       "      <th>Low</th>\n",
       "      <th>Close</th>\n",
       "      <th>Volume</th>\n",
       "      <th>Daily_Change</th>\n",
       "      <th>Daily_Change_Ind</th>\n",
       "      <th>MACD</th>\n",
       "      <th>PROC_3</th>\n",
       "      <th>...</th>\n",
       "      <th>Close/Last_Gold</th>\n",
       "      <th>Open_Gold</th>\n",
       "      <th>Daily_Change_Gold</th>\n",
       "      <th>Daily_Change_Perc_Gold</th>\n",
       "      <th>Increased_Gold</th>\n",
       "      <th>Close/Last_SP500</th>\n",
       "      <th>Open_SP500</th>\n",
       "      <th>Daily_Change_SP500</th>\n",
       "      <th>Daily_Change_Perc_SP500</th>\n",
       "      <th>Increased_SP500</th>\n",
       "    </tr>\n",
       "  </thead>\n",
       "  <tbody>\n",
       "    <tr>\n",
       "      <th>0</th>\n",
       "      <td>2014-10-13</td>\n",
       "      <td>377.920990</td>\n",
       "      <td>397.226013</td>\n",
       "      <td>368.897003</td>\n",
       "      <td>390.414001</td>\n",
       "      <td>35221400</td>\n",
       "      <td>11.864990</td>\n",
       "      <td>1.0</td>\n",
       "      <td>-15.701840</td>\n",
       "      <td>0.079798</td>\n",
       "      <td>...</td>\n",
       "      <td>1230.0</td>\n",
       "      <td>1224.8</td>\n",
       "      <td>5.2</td>\n",
       "      <td>0.004246</td>\n",
       "      <td>1</td>\n",
       "      <td>1874.74</td>\n",
       "      <td>1905.65</td>\n",
       "      <td>-30.91</td>\n",
       "      <td>-0.016220</td>\n",
       "      <td>0</td>\n",
       "    </tr>\n",
       "    <tr>\n",
       "      <th>1</th>\n",
       "      <td>2014-10-14</td>\n",
       "      <td>391.691986</td>\n",
       "      <td>411.697998</td>\n",
       "      <td>391.324005</td>\n",
       "      <td>400.869995</td>\n",
       "      <td>38491500</td>\n",
       "      <td>10.455994</td>\n",
       "      <td>1.0</td>\n",
       "      <td>-11.895282</td>\n",
       "      <td>0.106462</td>\n",
       "      <td>...</td>\n",
       "      <td>1234.3</td>\n",
       "      <td>1237.3</td>\n",
       "      <td>-3.0</td>\n",
       "      <td>-0.002425</td>\n",
       "      <td>0</td>\n",
       "      <td>1877.70</td>\n",
       "      <td>1877.11</td>\n",
       "      <td>0.59</td>\n",
       "      <td>0.000314</td>\n",
       "      <td>1</td>\n",
       "    </tr>\n",
       "    <tr>\n",
       "      <th>2</th>\n",
       "      <td>2014-10-15</td>\n",
       "      <td>400.954987</td>\n",
       "      <td>402.226990</td>\n",
       "      <td>388.765991</td>\n",
       "      <td>394.773010</td>\n",
       "      <td>25267100</td>\n",
       "      <td>-6.096985</td>\n",
       "      <td>0.0</td>\n",
       "      <td>-9.263747</td>\n",
       "      <td>0.042858</td>\n",
       "      <td>...</td>\n",
       "      <td>1244.8</td>\n",
       "      <td>1233.3</td>\n",
       "      <td>11.5</td>\n",
       "      <td>0.009325</td>\n",
       "      <td>1</td>\n",
       "      <td>1862.49</td>\n",
       "      <td>1874.18</td>\n",
       "      <td>-11.69</td>\n",
       "      <td>-0.006237</td>\n",
       "      <td>0</td>\n",
       "    </tr>\n",
       "    <tr>\n",
       "      <th>3</th>\n",
       "      <td>2014-10-17</td>\n",
       "      <td>382.756012</td>\n",
       "      <td>385.477997</td>\n",
       "      <td>375.389008</td>\n",
       "      <td>383.757996</td>\n",
       "      <td>13600700</td>\n",
       "      <td>1.201996</td>\n",
       "      <td>1.0</td>\n",
       "      <td>-6.948665</td>\n",
       "      <td>-0.042687</td>\n",
       "      <td>...</td>\n",
       "      <td>1239.0</td>\n",
       "      <td>1239.5</td>\n",
       "      <td>-0.5</td>\n",
       "      <td>-0.000403</td>\n",
       "      <td>0</td>\n",
       "      <td>1886.76</td>\n",
       "      <td>1864.91</td>\n",
       "      <td>21.85</td>\n",
       "      <td>0.011716</td>\n",
       "      <td>1</td>\n",
       "    </tr>\n",
       "    <tr>\n",
       "      <th>4</th>\n",
       "      <td>2014-10-20</td>\n",
       "      <td>389.230988</td>\n",
       "      <td>390.084015</td>\n",
       "      <td>378.252014</td>\n",
       "      <td>382.845001</td>\n",
       "      <td>16419000</td>\n",
       "      <td>-6.700989</td>\n",
       "      <td>0.0</td>\n",
       "      <td>-3.828066</td>\n",
       "      <td>-0.002379</td>\n",
       "      <td>...</td>\n",
       "      <td>1244.7</td>\n",
       "      <td>1239.1</td>\n",
       "      <td>5.6</td>\n",
       "      <td>0.004519</td>\n",
       "      <td>1</td>\n",
       "      <td>1904.01</td>\n",
       "      <td>1885.62</td>\n",
       "      <td>18.39</td>\n",
       "      <td>0.009753</td>\n",
       "      <td>1</td>\n",
       "    </tr>\n",
       "  </tbody>\n",
       "</table>\n",
       "<p>5 rows × 34 columns</p>\n",
       "</div>"
      ],
      "text/plain": [
       "         Date        Open        High         Low       Close    Volume  \\\n",
       "0  2014-10-13  377.920990  397.226013  368.897003  390.414001  35221400   \n",
       "1  2014-10-14  391.691986  411.697998  391.324005  400.869995  38491500   \n",
       "2  2014-10-15  400.954987  402.226990  388.765991  394.773010  25267100   \n",
       "3  2014-10-17  382.756012  385.477997  375.389008  383.757996  13600700   \n",
       "4  2014-10-20  389.230988  390.084015  378.252014  382.845001  16419000   \n",
       "\n",
       "   Daily_Change  Daily_Change_Ind       MACD    PROC_3  ...  Close/Last_Gold  \\\n",
       "0     11.864990               1.0 -15.701840  0.079798  ...           1230.0   \n",
       "1     10.455994               1.0 -11.895282  0.106462  ...           1234.3   \n",
       "2     -6.096985               0.0  -9.263747  0.042858  ...           1244.8   \n",
       "3      1.201996               1.0  -6.948665 -0.042687  ...           1239.0   \n",
       "4     -6.700989               0.0  -3.828066 -0.002379  ...           1244.7   \n",
       "\n",
       "   Open_Gold  Daily_Change_Gold  Daily_Change_Perc_Gold  Increased_Gold  \\\n",
       "0     1224.8                5.2                0.004246               1   \n",
       "1     1237.3               -3.0               -0.002425               0   \n",
       "2     1233.3               11.5                0.009325               1   \n",
       "3     1239.5               -0.5               -0.000403               0   \n",
       "4     1239.1                5.6                0.004519               1   \n",
       "\n",
       "   Close/Last_SP500  Open_SP500  Daily_Change_SP500  Daily_Change_Perc_SP500  \\\n",
       "0           1874.74     1905.65              -30.91                -0.016220   \n",
       "1           1877.70     1877.11                0.59                 0.000314   \n",
       "2           1862.49     1874.18              -11.69                -0.006237   \n",
       "3           1886.76     1864.91               21.85                 0.011716   \n",
       "4           1904.01     1885.62               18.39                 0.009753   \n",
       "\n",
       "   Increased_SP500  \n",
       "0                0  \n",
       "1                1  \n",
       "2                0  \n",
       "3                1  \n",
       "4                1  \n",
       "\n",
       "[5 rows x 34 columns]"
      ]
     },
     "execution_count": 13,
     "metadata": {},
     "output_type": "execute_result"
    }
   ],
   "source": [
    "bitcoin.head()"
   ]
  },
  {
   "cell_type": "code",
   "execution_count": 12,
   "id": "108ee8cb",
   "metadata": {},
   "outputs": [],
   "source": [
    "bitcoin = bitcoin.rename(columns={'Close/Last': 'Close/Last_Gold', 'Increased': \"Increased_Gold\"})"
   ]
  },
  {
   "cell_type": "code",
   "execution_count": 14,
   "id": "cbf32e3a",
   "metadata": {},
   "outputs": [],
   "source": [
    "# set y label\n",
    "bitcoin[\"label\"] = bitcoin[\"Daily_Change_Ind\"].shift(1)"
   ]
  },
  {
   "cell_type": "code",
   "execution_count": 19,
   "id": "bf3c0d76",
   "metadata": {},
   "outputs": [
    {
     "name": "stdout",
     "output_type": "stream",
     "text": [
      "Column Name :  Date\n",
      "Any NAs :  False\n",
      "Couldn't check\n",
      "Column Name :  Open\n",
      "Any NAs :  False\n",
      "Any INFs: False\n",
      "Column Name :  High\n",
      "Any NAs :  False\n",
      "Any INFs: False\n",
      "Column Name :  Low\n",
      "Any NAs :  False\n",
      "Any INFs: False\n",
      "Column Name :  Close\n",
      "Any NAs :  False\n",
      "Any INFs: False\n",
      "Column Name :  Volume\n",
      "Any NAs :  False\n",
      "Any INFs: False\n",
      "Column Name :  Daily_Change\n",
      "Any NAs :  False\n",
      "Any INFs: False\n",
      "Column Name :  Daily_Change_Ind\n",
      "Any NAs :  False\n",
      "Any INFs: False\n",
      "Column Name :  MACD\n",
      "Any NAs :  False\n",
      "Any INFs: False\n",
      "Column Name :  PROC_3\n",
      "Any NAs :  False\n",
      "Any INFs: False\n",
      "Column Name :  PROC_5\n",
      "Any NAs :  False\n",
      "Any INFs: False\n",
      "Column Name :  PROC_10\n",
      "Any NAs :  False\n",
      "Any INFs: False\n",
      "Column Name :  wpr\n",
      "Any NAs :  False\n",
      "Any INFs: False\n",
      "Column Name :  sto_os\n",
      "Any NAs :  False\n",
      "Any INFs: False\n",
      "Column Name :  goog_trend_score\n",
      "Any NAs :  False\n",
      "Any INFs: False\n",
      "Column Name :  count\n",
      "Any NAs :  False\n",
      "Any INFs: False\n",
      "Column Name :  compound\n",
      "Any NAs :  False\n",
      "Any INFs: False\n",
      "Column Name :  retweets_count\n",
      "Any NAs :  False\n",
      "Any INFs: False\n",
      "Column Name :  likes_count\n",
      "Any NAs :  False\n",
      "Any INFs: False\n",
      "Column Name :  replies_count\n",
      "Any NAs :  False\n",
      "Any INFs: False\n",
      "Column Name :  compound_weighted_replies\n",
      "Any NAs :  True\n",
      "Any INFs: False\n",
      "Column Name :  compound_weighted_likes\n",
      "Any NAs :  False\n",
      "Any INFs: False\n",
      "Column Name :  compound_weighted_retweets\n",
      "Any NAs :  False\n",
      "Any INFs: False\n",
      "Column Name :  Daily_Change_Perc\n",
      "Any NAs :  False\n",
      "Any INFs: False\n",
      "Column Name :  Close/Last_Gold\n",
      "Any NAs :  False\n",
      "Any INFs: False\n",
      "Column Name :  Open_Gold\n",
      "Any NAs :  False\n",
      "Any INFs: False\n",
      "Column Name :  Daily_Change_Gold\n",
      "Any NAs :  False\n",
      "Any INFs: False\n",
      "Column Name :  Daily_Change_Perc_Gold\n",
      "Any NAs :  False\n",
      "Any INFs: False\n",
      "Column Name :  Increased_Gold\n",
      "Any NAs :  False\n",
      "Any INFs: False\n",
      "Column Name :  Close/Last_SP500\n",
      "Any NAs :  False\n",
      "Any INFs: False\n",
      "Column Name :  Open_SP500\n",
      "Any NAs :  False\n",
      "Any INFs: False\n",
      "Column Name :  Daily_Change_SP500\n",
      "Any NAs :  False\n",
      "Any INFs: False\n",
      "Column Name :  Daily_Change_Perc_SP500\n",
      "Any NAs :  False\n",
      "Any INFs: True\n",
      "Column Name :  Increased_SP500\n",
      "Any NAs :  False\n",
      "Any INFs: False\n",
      "Column Name :  label\n",
      "Any NAs :  True\n",
      "Any INFs: False\n"
     ]
    }
   ],
   "source": [
    "for (columnName, columnData) in bitcoin.iteritems():\n",
    "    print('Column Name : ', columnName)\n",
    "    print('Any NAs : ', columnData.isnull().any())\n",
    "    try:\n",
    "        print('Any INFs:', np.isinf(columnData).any())\n",
    "    except:\n",
    "        print(\"Couldn't check\")"
   ]
  },
  {
   "cell_type": "code",
   "execution_count": 20,
   "id": "6b380cf7",
   "metadata": {},
   "outputs": [],
   "source": [
    "bitcoin['compound_weighted_replies'] = bitcoin['compound_weighted_replies'].fillna(0)"
   ]
  },
  {
   "cell_type": "code",
   "execution_count": 21,
   "id": "1404f080",
   "metadata": {},
   "outputs": [
    {
     "data": {
      "text/plain": [
       "0"
      ]
     },
     "execution_count": 21,
     "metadata": {},
     "output_type": "execute_result"
    }
   ],
   "source": [
    "bitcoin['compound_weighted_replies'].isnull().sum()"
   ]
  },
  {
   "cell_type": "code",
   "execution_count": 22,
   "id": "f9fc234b",
   "metadata": {},
   "outputs": [
    {
     "name": "stdout",
     "output_type": "stream",
     "text": [
      "1578\n",
      "1577\n"
     ]
    }
   ],
   "source": [
    "print(len(bitcoin))\n",
    "bitcoin = bitcoin.dropna()\n",
    "print(len(bitcoin))"
   ]
  },
  {
   "cell_type": "code",
   "execution_count": 28,
   "id": "3d531717",
   "metadata": {},
   "outputs": [
    {
     "data": {
      "text/plain": [
       "10"
      ]
     },
     "execution_count": 28,
     "metadata": {},
     "output_type": "execute_result"
    }
   ],
   "source": [
    "np.isinf(bitcoin['Daily_Change_Perc_SP500']).sum()"
   ]
  },
  {
   "cell_type": "code",
   "execution_count": 32,
   "id": "68b3ed39",
   "metadata": {},
   "outputs": [],
   "source": [
    "#Dump the inf\n",
    "bitcoin = bitcoin[np.isinf(bitcoin['Daily_Change_Perc_SP500']) == False]"
   ]
  },
  {
   "cell_type": "code",
   "execution_count": 33,
   "id": "6ffd7c50",
   "metadata": {},
   "outputs": [],
   "source": [
    "# Train - Test Split\n",
    "from sklearn.model_selection import train_test_split\n",
    "random_state = 12345\n",
    "\n",
    "train_set, test_set = train_test_split(bitcoin, test_size=0.2, random_state=random_state)"
   ]
  },
  {
   "cell_type": "code",
   "execution_count": 34,
   "id": "2d553215",
   "metadata": {},
   "outputs": [
    {
     "data": {
      "text/plain": [
       "1253"
      ]
     },
     "execution_count": 34,
     "metadata": {},
     "output_type": "execute_result"
    }
   ],
   "source": [
    "len(train_set)"
   ]
  },
  {
   "cell_type": "code",
   "execution_count": 35,
   "id": "f1cf0d46",
   "metadata": {},
   "outputs": [
    {
     "data": {
      "text/plain": [
       "314"
      ]
     },
     "execution_count": 35,
     "metadata": {},
     "output_type": "execute_result"
    }
   ],
   "source": [
    "len(test_set)"
   ]
  },
  {
   "cell_type": "code",
   "execution_count": 36,
   "id": "438f8fbc",
   "metadata": {},
   "outputs": [],
   "source": [
    "train_set.to_csv(\"../models/bitcoin_train.csv\")\n",
    "test_set.to_csv(\"../models/bitcoin_test.csv\")"
   ]
  },
  {
   "cell_type": "code",
   "execution_count": null,
   "id": "69ad5e8b",
   "metadata": {},
   "outputs": [],
   "source": []
  }
 ],
 "metadata": {
  "kernelspec": {
   "display_name": "Python 3",
   "language": "python",
   "name": "python3"
  },
  "language_info": {
   "codemirror_mode": {
    "name": "ipython",
    "version": 3
   },
   "file_extension": ".py",
   "mimetype": "text/x-python",
   "name": "python",
   "nbconvert_exporter": "python",
   "pygments_lexer": "ipython3",
   "version": "3.8.8"
  }
 },
 "nbformat": 4,
 "nbformat_minor": 5
}
