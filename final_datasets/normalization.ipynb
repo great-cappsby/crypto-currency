{
 "cells": [
  {
   "cell_type": "code",
   "execution_count": 7,
   "id": "49a71586",
   "metadata": {},
   "outputs": [],
   "source": [
    "import pandas as pd\n",
    "import numpy as np"
   ]
  },
  {
   "cell_type": "code",
   "execution_count": 8,
   "id": "a8b4f560",
   "metadata": {},
   "outputs": [],
   "source": [
    "bitcoin_train = pd.read_csv(\"../models/bitcoin_train.csv\")"
   ]
  },
  {
   "cell_type": "code",
   "execution_count": 3,
   "id": "1d02758d",
   "metadata": {},
   "outputs": [
    {
     "data": {
      "text/plain": [
       "['Unnamed: 0',\n",
       " 'Date',\n",
       " 'Open',\n",
       " 'High',\n",
       " 'Low',\n",
       " 'Close',\n",
       " 'Volume',\n",
       " 'Daily_Change',\n",
       " 'Daily_Change_Ind',\n",
       " 'MACD',\n",
       " 'PROC_3',\n",
       " 'PROC_5',\n",
       " 'PROC_10',\n",
       " 'wpr',\n",
       " 'sto_os',\n",
       " 'goog_trend_score',\n",
       " 'count',\n",
       " 'compound_times_retweets',\n",
       " 'likes_count',\n",
       " 'neg_times_retweets',\n",
       " 'pos_times_retweets',\n",
       " 'replies_count',\n",
       " 'retweets_count',\n",
       " 'pos_weighted',\n",
       " 'neg_weighted',\n",
       " 'compound_weighted',\n",
       " 'count_avg7',\n",
       " 'count_daily_diff',\n",
       " 'count_weekly_diff',\n",
       " 'replies_count_avg7',\n",
       " 'replies_count_daily_diff',\n",
       " 'replies_count_weekly_diff',\n",
       " 'retweets_count_avg7',\n",
       " 'retweets_count_daily_diff',\n",
       " 'retweets_count_weekly_diff',\n",
       " 'likes_count_avg7',\n",
       " 'likes_count_daily_diff',\n",
       " 'likes_count_weekly_diff',\n",
       " 'compound_weighted_avg7',\n",
       " 'compound_weighted_daily_diff',\n",
       " 'compound_weighted_weekly_diff',\n",
       " 'pos_weighted_avg7',\n",
       " 'pos_weighted_daily_diff',\n",
       " 'pos_weighted_weekly_diff',\n",
       " 'neg_weighted_avg7',\n",
       " 'neg_weighted_daily_diff',\n",
       " 'neg_weighted_weekly_diff',\n",
       " 'Daily_Change_Perc',\n",
       " 'RSI',\n",
       " 'Weekly_Change',\n",
       " 'Weekly_Change_Perc',\n",
       " 'streak',\n",
       " 'Close/Last_Gold',\n",
       " 'Open_Gold',\n",
       " 'Daily_Change_Gold',\n",
       " 'Daily_Change_Perc_Gold',\n",
       " 'Increased_Gold',\n",
       " 'RSI_Gold',\n",
       " 'Close/Last_SP500',\n",
       " 'Open_SP500',\n",
       " 'Daily_Change_SP500',\n",
       " 'Daily_Change_Perc_SP500',\n",
       " 'Increased_SP500',\n",
       " 'RSI_SP500',\n",
       " 'label']"
      ]
     },
     "execution_count": 3,
     "metadata": {},
     "output_type": "execute_result"
    }
   ],
   "source": [
    "bitcoin_train.columns.values.tolist()"
   ]
  },
  {
   "cell_type": "code",
   "execution_count": 9,
   "id": "8eeab5cb",
   "metadata": {},
   "outputs": [],
   "source": [
    "features_to_normalize = [\n",
    " 'Open',\n",
    " 'High',\n",
    " 'Low',\n",
    " 'Close',\n",
    " 'Volume',\n",
    " 'Daily_Change',\n",
    " 'MACD',\n",
    " 'PROC_3',\n",
    " 'PROC_5',\n",
    " 'PROC_10',\n",
    " 'wpr',\n",
    " 'sto_os',\n",
    " 'goog_trend_score',\n",
    " 'count',\n",
    " 'compound_times_retweets',\n",
    " 'likes_count',\n",
    " 'neg_times_retweets',\n",
    " 'pos_times_retweets',\n",
    " 'replies_count',\n",
    " 'retweets_count',\n",
    " 'pos_weighted',\n",
    " 'neg_weighted',\n",
    " 'compound_weighted',\n",
    " 'count_avg7',\n",
    " 'count_daily_diff',\n",
    " 'count_weekly_diff',\n",
    " 'replies_count_avg7',\n",
    " 'replies_count_daily_diff',\n",
    " 'replies_count_weekly_diff',\n",
    " 'retweets_count_avg7',\n",
    " 'retweets_count_daily_diff',\n",
    " 'retweets_count_weekly_diff',\n",
    " 'likes_count_avg7',\n",
    " 'likes_count_daily_diff',\n",
    " 'likes_count_weekly_diff',\n",
    " 'compound_weighted_avg7',\n",
    " 'compound_weighted_daily_diff',\n",
    " 'compound_weighted_weekly_diff',\n",
    " 'pos_weighted_avg7',\n",
    " 'pos_weighted_daily_diff',\n",
    " 'pos_weighted_weekly_diff',\n",
    " 'neg_weighted_avg7',\n",
    " 'neg_weighted_daily_diff',\n",
    " 'neg_weighted_weekly_diff',\n",
    " 'Daily_Change_Perc',\n",
    " 'RSI',\n",
    " 'Weekly_Change',\n",
    " 'Weekly_Change_Perc',\n",
    " 'streak',\n",
    " 'Close/Last_Gold',\n",
    " 'Open_Gold',\n",
    " 'Daily_Change_Gold',\n",
    " 'Daily_Change_Perc_Gold',\n",
    " 'RSI_Gold',\n",
    " 'Close/Last_SP500',\n",
    " 'Open_SP500',\n",
    " 'Daily_Change_SP500',\n",
    " 'Daily_Change_Perc_SP500',\n",
    " 'RSI_SP500'\n",
    "]"
   ]
  },
  {
   "cell_type": "code",
   "execution_count": 10,
   "id": "6ab195fb",
   "metadata": {},
   "outputs": [],
   "source": [
    "normalization_dict = {}\n",
    "\n",
    "for col in features_to_normalize:\n",
    "    mean = bitcoin_train[col].mean()\n",
    "    std = bitcoin_train[col].std()\n",
    "    normalization_dict[col] = (mean, std)\n",
    "    bitcoin_train[col] = (bitcoin_train[col] - mean)/std"
   ]
  },
  {
   "cell_type": "code",
   "execution_count": 11,
   "id": "ba1830f9",
   "metadata": {},
   "outputs": [],
   "source": [
    "bitcoin_train.to_csv(\"../models/bitcoin_train_normal.csv\")"
   ]
  },
  {
   "cell_type": "code",
   "execution_count": 12,
   "id": "607e1a19",
   "metadata": {},
   "outputs": [],
   "source": [
    "bitcoin_test = pd.read_csv(\"../models/bitcoin_test.csv\")"
   ]
  },
  {
   "cell_type": "code",
   "execution_count": 13,
   "id": "2864ea18",
   "metadata": {},
   "outputs": [],
   "source": [
    "for col in features_to_normalize:\n",
    "    bitcoin_test[col] = (bitcoin_test[col] - normalization_dict[col][0])/normalization_dict[col][1]"
   ]
  },
  {
   "cell_type": "code",
   "execution_count": 14,
   "id": "d52993b8",
   "metadata": {},
   "outputs": [],
   "source": [
    "bitcoin_test.to_csv(\"../models/bitcoin_test_normal.csv\", )"
   ]
  },
  {
   "cell_type": "code",
   "execution_count": 23,
   "id": "fcbff2a0",
   "metadata": {},
   "outputs": [],
   "source": [
    "dogecoin = pd.read_csv(\"../models/dogecoin_train.csv\", thousands=',')\n",
    "#dogecoin['Volume'] = dogecoin['Volume'].astype(int)"
   ]
  },
  {
   "cell_type": "code",
   "execution_count": 24,
   "id": "c6b97c96",
   "metadata": {},
   "outputs": [],
   "source": [
    "normalization_dict = {}\n",
    "\n",
    "for col in features_to_normalize:\n",
    "    try:\n",
    "        mean = dogecoin[col].mean()\n",
    "    except:\n",
    "        print(col)\n",
    "    std = dogecoin[col].std()\n",
    "    normalization_dict[col] = (mean, std)\n",
    "    dogecoin[col] = (dogecoin[col] - mean)/std"
   ]
  },
  {
   "cell_type": "code",
   "execution_count": 26,
   "id": "25e19de0",
   "metadata": {},
   "outputs": [],
   "source": [
    "dogecoin.to_csv(\"../models/dogecoin_train_normal.csv\")"
   ]
  },
  {
   "cell_type": "code",
   "execution_count": 27,
   "id": "62db030e",
   "metadata": {},
   "outputs": [],
   "source": [
    "dogecoin_test = pd.read_csv(\"../models/dogecoin_test.csv\", thousands=',')\n"
   ]
  },
  {
   "cell_type": "code",
   "execution_count": 28,
   "id": "9d7e706e",
   "metadata": {},
   "outputs": [],
   "source": [
    "for col in features_to_normalize:\n",
    "    dogecoin_test[col] = (dogecoin_test[col] - normalization_dict[col][0])/normalization_dict[col][1]"
   ]
  },
  {
   "cell_type": "code",
   "execution_count": 29,
   "id": "1b9c324c",
   "metadata": {},
   "outputs": [],
   "source": [
    "dogecoin_test.to_csv(\"../models/dogecoin_test_normal.csv\")"
   ]
  },
  {
   "cell_type": "code",
   "execution_count": null,
   "id": "23e7a3a6",
   "metadata": {},
   "outputs": [],
   "source": []
  }
 ],
 "metadata": {
  "kernelspec": {
   "display_name": "Python 3",
   "language": "python",
   "name": "python3"
  },
  "language_info": {
   "codemirror_mode": {
    "name": "ipython",
    "version": 3
   },
   "file_extension": ".py",
   "mimetype": "text/x-python",
   "name": "python",
   "nbconvert_exporter": "python",
   "pygments_lexer": "ipython3",
   "version": "3.8.8"
  }
 },
 "nbformat": 4,
 "nbformat_minor": 5
}
