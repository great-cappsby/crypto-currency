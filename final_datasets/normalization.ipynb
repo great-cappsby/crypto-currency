{
 "cells": [
  {
   "cell_type": "code",
   "execution_count": 1,
   "id": "49a71586",
   "metadata": {},
   "outputs": [],
   "source": [
    "import pandas as pd\n",
    "import numpy as np"
   ]
  },
  {
   "cell_type": "code",
   "execution_count": 3,
   "id": "a8b4f560",
   "metadata": {},
   "outputs": [],
   "source": [
    "bitcoin_train = pd.read_csv(\"../models/bitcoin_train.csv\")"
   ]
  },
  {
   "cell_type": "code",
   "execution_count": 9,
   "id": "1d02758d",
   "metadata": {},
   "outputs": [
    {
     "data": {
      "text/plain": [
       "['Unnamed: 0',\n",
       " 'Date',\n",
       " 'Open',\n",
       " 'High',\n",
       " 'Low',\n",
       " 'Close',\n",
       " 'Volume',\n",
       " 'Daily_Change',\n",
       " 'Daily_Change_Ind',\n",
       " 'MACD',\n",
       " 'PROC_3',\n",
       " 'PROC_5',\n",
       " 'PROC_10',\n",
       " 'wpr',\n",
       " 'sto_os',\n",
       " 'goog_trend_score',\n",
       " 'count',\n",
       " 'compound_times_retweets',\n",
       " 'likes_count',\n",
       " 'neg_times_retweets',\n",
       " 'pos_times_retweets',\n",
       " 'replies_count',\n",
       " 'retweets_count',\n",
       " 'pos_weighted',\n",
       " 'neg_weighted',\n",
       " 'compound_weighted',\n",
       " 'count_avg7',\n",
       " 'count_daily_diff',\n",
       " 'count_weekly_diff',\n",
       " 'replies_count_avg7',\n",
       " 'replies_count_daily_diff',\n",
       " 'replies_count_weekly_diff',\n",
       " 'retweets_count_avg7',\n",
       " 'retweets_count_daily_diff',\n",
       " 'retweets_count_weekly_diff',\n",
       " 'likes_count_avg7',\n",
       " 'likes_count_daily_diff',\n",
       " 'likes_count_weekly_diff',\n",
       " 'compound_weighted_avg7',\n",
       " 'compound_weighted_daily_diff',\n",
       " 'compound_weighted_weekly_diff',\n",
       " 'pos_weighted_avg7',\n",
       " 'pos_weighted_daily_diff',\n",
       " 'pos_weighted_weekly_diff',\n",
       " 'neg_weighted_avg7',\n",
       " 'neg_weighted_daily_diff',\n",
       " 'neg_weighted_weekly_diff',\n",
       " 'Daily_Change_Perc',\n",
       " 'RSI',\n",
       " 'Weekly_Change',\n",
       " 'Weekly_Change_Perc',\n",
       " 'Close/Last_Gold',\n",
       " 'Open_Gold',\n",
       " 'Daily_Change_Gold',\n",
       " 'Daily_Change_Perc_Gold',\n",
       " 'Increased_Gold',\n",
       " 'Close/Last_SP500',\n",
       " 'Open_SP500',\n",
       " 'Daily_Change_SP500',\n",
       " 'Daily_Change_Perc_SP500',\n",
       " 'Increased_SP500',\n",
       " 'label']"
      ]
     },
     "execution_count": 9,
     "metadata": {},
     "output_type": "execute_result"
    }
   ],
   "source": [
    "bitcoin_train.columns.values.tolist()"
   ]
  },
  {
   "cell_type": "code",
   "execution_count": 12,
   "id": "8eeab5cb",
   "metadata": {},
   "outputs": [],
   "source": [
    "features_to_normalize = [\n",
    " 'Open',\n",
    " 'High',\n",
    " 'Low',\n",
    " 'Close',\n",
    " 'Volume',\n",
    " 'Daily_Change',\n",
    " 'MACD',\n",
    " 'PROC_3',\n",
    " 'PROC_5',\n",
    " 'PROC_10',\n",
    " 'wpr',\n",
    " 'sto_os',\n",
    " 'goog_trend_score',\n",
    " 'count',\n",
    " 'likes_count',\n",
    " 'replies_count',\n",
    " 'retweets_count',\n",
    " 'pos_weighted',\n",
    " 'neg_weighted',\n",
    " 'compound_weighted',\n",
    " 'count_avg7',\n",
    " 'count_daily_diff',\n",
    " 'count_weekly_diff',\n",
    " 'replies_count_avg7',\n",
    " 'replies_count_daily_diff',\n",
    " 'replies_count_weekly_diff',\n",
    " 'retweets_count_avg7',\n",
    " 'retweets_count_daily_diff',\n",
    " 'retweets_count_weekly_diff',\n",
    " 'likes_count_avg7',\n",
    " 'likes_count_daily_diff',\n",
    " 'likes_count_weekly_diff',\n",
    " 'compound_weighted_avg7',\n",
    " 'compound_weighted_daily_diff',\n",
    " 'compound_weighted_weekly_diff',\n",
    " 'pos_weighted_avg7',\n",
    " 'pos_weighted_daily_diff',\n",
    " 'pos_weighted_weekly_diff',\n",
    " 'neg_weighted_avg7',\n",
    " 'neg_weighted_daily_diff',\n",
    " 'neg_weighted_weekly_diff',\n",
    " 'Daily_Change_Perc',\n",
    " 'RSI',\n",
    " 'Weekly_Change',\n",
    " 'Weekly_Change_Perc',\n",
    " 'Close/Last_Gold',\n",
    " 'Open_Gold',\n",
    " 'Daily_Change_Gold',\n",
    " 'Daily_Change_Perc_Gold',\n",
    " 'Increased_Gold',\n",
    " 'Close/Last_SP500',\n",
    " 'Open_SP500',\n",
    " 'Daily_Change_SP500',\n",
    " 'Daily_Change_Perc_SP500',\n",
    "]"
   ]
  },
  {
   "cell_type": "code",
   "execution_count": 13,
   "id": "6ab195fb",
   "metadata": {},
   "outputs": [],
   "source": [
    "normalization_dict = {}\n",
    "\n",
    "for col in features_to_normalize:\n",
    "    mean = bitcoin_train[col].mean()\n",
    "    std = bitcoin_train[col].std()\n",
    "    normalization_dict[col] = (mean, std)\n",
    "    bitcoin_train[col] = (bitcoin_train[col] - mean)/std"
   ]
  },
  {
   "cell_type": "code",
   "execution_count": 15,
   "id": "ba1830f9",
   "metadata": {},
   "outputs": [],
   "source": [
    "bitcoin_train.to_csv(\"../models/bitcoin_train_normal.csv\")"
   ]
  },
  {
   "cell_type": "code",
   "execution_count": 16,
   "id": "607e1a19",
   "metadata": {},
   "outputs": [],
   "source": [
    "bitcoin_test = pd.read_csv(\"../models/bitcoin_test.csv\")"
   ]
  },
  {
   "cell_type": "code",
   "execution_count": 17,
   "id": "2864ea18",
   "metadata": {},
   "outputs": [],
   "source": [
    "for col in features_to_normalize:\n",
    "    bitcoin_test[col] = (bitcoin_test[col] - normalization_dict[col][0])/normalization_dict[col][1]"
   ]
  },
  {
   "cell_type": "code",
   "execution_count": 19,
   "id": "d52993b8",
   "metadata": {},
   "outputs": [],
   "source": [
    "bitcoin_test.to_csv(\"../models/bitcoin_test_normal.csv\")"
   ]
  },
  {
   "cell_type": "code",
   "execution_count": null,
   "id": "fcbff2a0",
   "metadata": {},
   "outputs": [],
   "source": []
  }
 ],
 "metadata": {
  "kernelspec": {
   "display_name": "Python 3",
   "language": "python",
   "name": "python3"
  },
  "language_info": {
   "codemirror_mode": {
    "name": "ipython",
    "version": 3
   },
   "file_extension": ".py",
   "mimetype": "text/x-python",
   "name": "python",
   "nbconvert_exporter": "python",
   "pygments_lexer": "ipython3",
   "version": "3.8.8"
  }
 },
 "nbformat": 4,
 "nbformat_minor": 5
}
