{
 "cells": [
  {
   "cell_type": "code",
   "execution_count": 64,
   "id": "cc080f7c",
   "metadata": {},
   "outputs": [],
   "source": [
    "import pandas as pd\n",
    "import numpy as np\n",
    "import matplotlib.pyplot as plt"
   ]
  },
  {
   "cell_type": "code",
   "execution_count": 65,
   "id": "74011ee7",
   "metadata": {},
   "outputs": [],
   "source": [
    "bitcoin = pd.read_csv(\"bitcoin_daily.csv\")"
   ]
  },
  {
   "cell_type": "code",
   "execution_count": 66,
   "id": "4c5c6b5b",
   "metadata": {},
   "outputs": [],
   "source": [
    "def prepare_df(df):\n",
    "    df['Date'] = pd.to_datetime(df['Date'])\n",
    "    df_filtered = df[(df['Date'] >= \"2014-10-20\") & (df['Date'] <= '2021-02-09')]\n",
    "    df_filtered['Percent Change'] = (df_filtered['Close'] - df_filtered['Open']) / df_filtered['Open']\n",
    "    df_filtered['color'] = np.where(df_filtered[\"Percent Change\"] > 0, \"blue\", \"red\")\n",
    "    df_filtered['ind'] = np.where(df_filtered[\"Percent Change\"] > 0, 1, 0)\n",
    "    return df_filtered"
   ]
  },
  {
   "cell_type": "code",
   "execution_count": 84,
   "id": "4fc73594",
   "metadata": {},
   "outputs": [],
   "source": [
    "def create_chart(df, title, xlabel, ylabel, xcol, ycol, filename, bar=False):\n",
    "    fig, ax = plt.subplots( nrows=1, ncols=1, figsize=(10, 5))\n",
    "    if bar:\n",
    "        ax.bar(df[xcol], df[ycol], color=df['color'])\n",
    "    else:\n",
    "        ax.plot(df[xcol], df[ycol])\n",
    "    plt.xlabel(xlabel)\n",
    "    plt.ylabel(ylabel)\n",
    "    plt.title(title)\n",
    "    fig.savefig(filename) \n",
    "    plt.close(fig) "
   ]
  },
  {
   "cell_type": "code",
   "execution_count": 68,
   "id": "cfc46bb2",
   "metadata": {},
   "outputs": [
    {
     "name": "stderr",
     "output_type": "stream",
     "text": [
      "<ipython-input-66-1d40fe02747b>:4: SettingWithCopyWarning: \n",
      "A value is trying to be set on a copy of a slice from a DataFrame.\n",
      "Try using .loc[row_indexer,col_indexer] = value instead\n",
      "\n",
      "See the caveats in the documentation: https://pandas.pydata.org/pandas-docs/stable/user_guide/indexing.html#returning-a-view-versus-a-copy\n",
      "  df_filtered['Percent Change'] = (df_filtered['Close'] - df_filtered['Open']) / df_filtered['Open']\n",
      "<ipython-input-66-1d40fe02747b>:5: SettingWithCopyWarning: \n",
      "A value is trying to be set on a copy of a slice from a DataFrame.\n",
      "Try using .loc[row_indexer,col_indexer] = value instead\n",
      "\n",
      "See the caveats in the documentation: https://pandas.pydata.org/pandas-docs/stable/user_guide/indexing.html#returning-a-view-versus-a-copy\n",
      "  df_filtered['color'] = np.where(df_filtered[\"Percent Change\"] > 0, \"blue\", \"red\")\n",
      "<ipython-input-66-1d40fe02747b>:6: SettingWithCopyWarning: \n",
      "A value is trying to be set on a copy of a slice from a DataFrame.\n",
      "Try using .loc[row_indexer,col_indexer] = value instead\n",
      "\n",
      "See the caveats in the documentation: https://pandas.pydata.org/pandas-docs/stable/user_guide/indexing.html#returning-a-view-versus-a-copy\n",
      "  df_filtered['ind'] = np.where(df_filtered[\"Percent Change\"] > 0, 1, 0)\n"
     ]
    }
   ],
   "source": [
    "bitcoin = prepare_df(bitcoin)"
   ]
  },
  {
   "cell_type": "code",
   "execution_count": 71,
   "id": "3d938bdb",
   "metadata": {},
   "outputs": [],
   "source": [
    "create_chart(bitcoin, \"Figure 1: Bitcoin Price Over Time\", \"Date\", \"Closing Price\", \"Date\", \"Close\", \"btc_line.png\")"
   ]
  },
  {
   "cell_type": "code",
   "execution_count": 73,
   "id": "e01400f9",
   "metadata": {},
   "outputs": [],
   "source": [
    "create_chart(bitcoin, \"Figure 2: Bitcoin Changes in Value\", \"Date\", \"Change in Value\", \\\n",
    "             \"Date\", \"Percent Change\", \"btc_bar.png\", True)"
   ]
  },
  {
   "cell_type": "code",
   "execution_count": 75,
   "id": "eabedc33",
   "metadata": {},
   "outputs": [
    {
     "data": {
      "text/plain": [
       "0.5483731019522776"
      ]
     },
     "execution_count": 75,
     "metadata": {},
     "output_type": "execute_result"
    }
   ],
   "source": [
    "bitcoin['ind'].mean()"
   ]
  },
  {
   "cell_type": "code",
   "execution_count": 76,
   "id": "07e9d682",
   "metadata": {},
   "outputs": [],
   "source": [
    "dogecoin = pd.read_csv(\"doge_daily_modified.csv\")"
   ]
  },
  {
   "cell_type": "code",
   "execution_count": 77,
   "id": "029643a1",
   "metadata": {},
   "outputs": [
    {
     "data": {
      "text/html": [
       "<div>\n",
       "<style scoped>\n",
       "    .dataframe tbody tr th:only-of-type {\n",
       "        vertical-align: middle;\n",
       "    }\n",
       "\n",
       "    .dataframe tbody tr th {\n",
       "        vertical-align: top;\n",
       "    }\n",
       "\n",
       "    .dataframe thead th {\n",
       "        text-align: right;\n",
       "    }\n",
       "</style>\n",
       "<table border=\"1\" class=\"dataframe\">\n",
       "  <thead>\n",
       "    <tr style=\"text-align: right;\">\n",
       "      <th></th>\n",
       "      <th>Unnamed: 0</th>\n",
       "      <th>Date</th>\n",
       "      <th>Open</th>\n",
       "      <th>High</th>\n",
       "      <th>Low</th>\n",
       "      <th>Close</th>\n",
       "      <th>Adj Close**</th>\n",
       "      <th>Volume</th>\n",
       "      <th>Daily_Change</th>\n",
       "      <th>Daily_Change_Ind</th>\n",
       "      <th>MACD</th>\n",
       "      <th>PROC_3</th>\n",
       "      <th>PROC_5</th>\n",
       "      <th>PROC_10</th>\n",
       "      <th>wpr</th>\n",
       "      <th>sto_os</th>\n",
       "    </tr>\n",
       "  </thead>\n",
       "  <tbody>\n",
       "    <tr>\n",
       "      <th>0</th>\n",
       "      <td>0</td>\n",
       "      <td>2014-09-17</td>\n",
       "      <td>0.0003</td>\n",
       "      <td>0.0003</td>\n",
       "      <td>0.0003</td>\n",
       "      <td>0.0003</td>\n",
       "      <td>0.0003</td>\n",
       "      <td>1,463,600</td>\n",
       "      <td>0.0</td>\n",
       "      <td>0</td>\n",
       "      <td>NaN</td>\n",
       "      <td>NaN</td>\n",
       "      <td>NaN</td>\n",
       "      <td>NaN</td>\n",
       "      <td>NaN</td>\n",
       "      <td>NaN</td>\n",
       "    </tr>\n",
       "    <tr>\n",
       "      <th>1</th>\n",
       "      <td>1</td>\n",
       "      <td>2014-09-18</td>\n",
       "      <td>0.0003</td>\n",
       "      <td>0.0003</td>\n",
       "      <td>0.0003</td>\n",
       "      <td>0.0003</td>\n",
       "      <td>0.0003</td>\n",
       "      <td>2,215,910</td>\n",
       "      <td>0.0</td>\n",
       "      <td>0</td>\n",
       "      <td>NaN</td>\n",
       "      <td>NaN</td>\n",
       "      <td>NaN</td>\n",
       "      <td>NaN</td>\n",
       "      <td>NaN</td>\n",
       "      <td>NaN</td>\n",
       "    </tr>\n",
       "    <tr>\n",
       "      <th>2</th>\n",
       "      <td>2</td>\n",
       "      <td>2014-09-19</td>\n",
       "      <td>0.0003</td>\n",
       "      <td>0.0003</td>\n",
       "      <td>0.0003</td>\n",
       "      <td>0.0003</td>\n",
       "      <td>0.0003</td>\n",
       "      <td>883,563</td>\n",
       "      <td>0.0</td>\n",
       "      <td>0</td>\n",
       "      <td>NaN</td>\n",
       "      <td>NaN</td>\n",
       "      <td>NaN</td>\n",
       "      <td>NaN</td>\n",
       "      <td>NaN</td>\n",
       "      <td>NaN</td>\n",
       "    </tr>\n",
       "    <tr>\n",
       "      <th>3</th>\n",
       "      <td>3</td>\n",
       "      <td>2014-09-20</td>\n",
       "      <td>0.0003</td>\n",
       "      <td>0.0003</td>\n",
       "      <td>0.0003</td>\n",
       "      <td>0.0003</td>\n",
       "      <td>0.0003</td>\n",
       "      <td>993,004</td>\n",
       "      <td>0.0</td>\n",
       "      <td>0</td>\n",
       "      <td>NaN</td>\n",
       "      <td>0.0</td>\n",
       "      <td>NaN</td>\n",
       "      <td>NaN</td>\n",
       "      <td>NaN</td>\n",
       "      <td>NaN</td>\n",
       "    </tr>\n",
       "    <tr>\n",
       "      <th>4</th>\n",
       "      <td>4</td>\n",
       "      <td>2014-09-21</td>\n",
       "      <td>0.0003</td>\n",
       "      <td>0.0003</td>\n",
       "      <td>0.0003</td>\n",
       "      <td>0.0003</td>\n",
       "      <td>0.0003</td>\n",
       "      <td>539,140</td>\n",
       "      <td>0.0</td>\n",
       "      <td>0</td>\n",
       "      <td>NaN</td>\n",
       "      <td>0.0</td>\n",
       "      <td>NaN</td>\n",
       "      <td>NaN</td>\n",
       "      <td>NaN</td>\n",
       "      <td>NaN</td>\n",
       "    </tr>\n",
       "  </tbody>\n",
       "</table>\n",
       "</div>"
      ],
      "text/plain": [
       "   Unnamed: 0        Date    Open    High     Low   Close  Adj Close**  \\\n",
       "0           0  2014-09-17  0.0003  0.0003  0.0003  0.0003       0.0003   \n",
       "1           1  2014-09-18  0.0003  0.0003  0.0003  0.0003       0.0003   \n",
       "2           2  2014-09-19  0.0003  0.0003  0.0003  0.0003       0.0003   \n",
       "3           3  2014-09-20  0.0003  0.0003  0.0003  0.0003       0.0003   \n",
       "4           4  2014-09-21  0.0003  0.0003  0.0003  0.0003       0.0003   \n",
       "\n",
       "      Volume  Daily_Change  Daily_Change_Ind  MACD  PROC_3  PROC_5  PROC_10  \\\n",
       "0  1,463,600           0.0                 0   NaN     NaN     NaN      NaN   \n",
       "1  2,215,910           0.0                 0   NaN     NaN     NaN      NaN   \n",
       "2    883,563           0.0                 0   NaN     NaN     NaN      NaN   \n",
       "3    993,004           0.0                 0   NaN     0.0     NaN      NaN   \n",
       "4    539,140           0.0                 0   NaN     0.0     NaN      NaN   \n",
       "\n",
       "   wpr  sto_os  \n",
       "0  NaN     NaN  \n",
       "1  NaN     NaN  \n",
       "2  NaN     NaN  \n",
       "3  NaN     NaN  \n",
       "4  NaN     NaN  "
      ]
     },
     "execution_count": 77,
     "metadata": {},
     "output_type": "execute_result"
    }
   ],
   "source": [
    "dogecoin.head()"
   ]
  },
  {
   "cell_type": "code",
   "execution_count": 78,
   "id": "2d8ba4e2",
   "metadata": {},
   "outputs": [
    {
     "name": "stderr",
     "output_type": "stream",
     "text": [
      "<ipython-input-66-1d40fe02747b>:4: SettingWithCopyWarning: \n",
      "A value is trying to be set on a copy of a slice from a DataFrame.\n",
      "Try using .loc[row_indexer,col_indexer] = value instead\n",
      "\n",
      "See the caveats in the documentation: https://pandas.pydata.org/pandas-docs/stable/user_guide/indexing.html#returning-a-view-versus-a-copy\n",
      "  df_filtered['Percent Change'] = (df_filtered['Close'] - df_filtered['Open']) / df_filtered['Open']\n",
      "<ipython-input-66-1d40fe02747b>:5: SettingWithCopyWarning: \n",
      "A value is trying to be set on a copy of a slice from a DataFrame.\n",
      "Try using .loc[row_indexer,col_indexer] = value instead\n",
      "\n",
      "See the caveats in the documentation: https://pandas.pydata.org/pandas-docs/stable/user_guide/indexing.html#returning-a-view-versus-a-copy\n",
      "  df_filtered['color'] = np.where(df_filtered[\"Percent Change\"] > 0, \"blue\", \"red\")\n",
      "<ipython-input-66-1d40fe02747b>:6: SettingWithCopyWarning: \n",
      "A value is trying to be set on a copy of a slice from a DataFrame.\n",
      "Try using .loc[row_indexer,col_indexer] = value instead\n",
      "\n",
      "See the caveats in the documentation: https://pandas.pydata.org/pandas-docs/stable/user_guide/indexing.html#returning-a-view-versus-a-copy\n",
      "  df_filtered['ind'] = np.where(df_filtered[\"Percent Change\"] > 0, 1, 0)\n"
     ]
    }
   ],
   "source": [
    "dogecoin = prepare_df(dogecoin)"
   ]
  },
  {
   "cell_type": "code",
   "execution_count": 80,
   "id": "3424a059",
   "metadata": {},
   "outputs": [],
   "source": [
    "create_chart(dogecoin, \"Figure 3: Dogecoin Price Over Time\", \"Date\", \"Closing Price\", \"Date\", \"Close\", \"doge_line.png\")"
   ]
  },
  {
   "cell_type": "code",
   "execution_count": 86,
   "id": "2955ab1c",
   "metadata": {},
   "outputs": [],
   "source": [
    "create_chart(dogecoin, \"Figure 4: Dogecoin Changes in Value\", \"Date\", \"Change in Value\", \\\n",
    "             \"Date\", \"Percent Change\", \"doge_bar.png\", True)"
   ]
  },
  {
   "cell_type": "code",
   "execution_count": 87,
   "id": "1924ddc1",
   "metadata": {},
   "outputs": [
    {
     "data": {
      "text/plain": [
       "0.18134490238611714"
      ]
     },
     "execution_count": 87,
     "metadata": {},
     "output_type": "execute_result"
    }
   ],
   "source": [
    "dogecoin['ind'].mean()"
   ]
  },
  {
   "cell_type": "code",
   "execution_count": 95,
   "id": "94273511",
   "metadata": {},
   "outputs": [],
   "source": [
    "bitcoin_tweets = pd.read_csv(\"bitcoin_daily_tweets.csv\")"
   ]
  },
  {
   "cell_type": "code",
   "execution_count": 97,
   "id": "99696ebb",
   "metadata": {},
   "outputs": [
    {
     "data": {
      "text/plain": [
       "294562"
      ]
     },
     "execution_count": 97,
     "metadata": {},
     "output_type": "execute_result"
    }
   ],
   "source": [
    "bitcoin_tweets['count'].sum()"
   ]
  },
  {
   "cell_type": "code",
   "execution_count": 99,
   "id": "61d54bdd",
   "metadata": {},
   "outputs": [],
   "source": [
    "dogecoin_tweets = pd.read_csv('dogecoin_daily_tweets.csv')"
   ]
  },
  {
   "cell_type": "code",
   "execution_count": 100,
   "id": "7cbd16b3",
   "metadata": {},
   "outputs": [
    {
     "data": {
      "text/plain": [
       "4602"
      ]
     },
     "execution_count": 100,
     "metadata": {},
     "output_type": "execute_result"
    }
   ],
   "source": [
    "dogecoin_tweets['count'].sum()"
   ]
  },
  {
   "cell_type": "code",
   "execution_count": 109,
   "id": "b85ce760",
   "metadata": {},
   "outputs": [],
   "source": [
    "def summarize_tweets(df, name):\n",
    "    things = ['count', 'replies_count', 'retweets_count', 'compound']\n",
    "    print(name)\n",
    "    print(\"================\")\n",
    "    for thing in things:\n",
    "        print(thing)\n",
    "        print(f\"max: {df[thing].max()}\")\n",
    "        print(f\"min: {df[thing].min()}\")\n",
    "        print(f\"mean: {df[thing].mean()}\")\n",
    "        print(f\"median: {df[thing].median()}\")\n",
    "        print(f\"total: {df[thing].sum()}\")\n",
    "        print(\"-----------\")\n",
    "        print(\"\")\n",
    " "
   ]
  },
  {
   "cell_type": "code",
   "execution_count": 110,
   "id": "78239ef3",
   "metadata": {},
   "outputs": [
    {
     "name": "stdout",
     "output_type": "stream",
     "text": [
      "bitcoin\n",
      "================\n",
      "count\n",
      "max: 1690\n",
      "min: 1\n",
      "mean: 121.36876802637\n",
      "median: 113.0\n",
      "total: 294562\n",
      "-----------\n",
      "\n",
      "replies_count\n",
      "max: 96239\n",
      "min: 0\n",
      "mean: 2670.0053564070868\n",
      "median: 599.0\n",
      "total: 6480103\n",
      "-----------\n",
      "\n",
      "retweets_count\n",
      "max: 94976\n",
      "min: 0\n",
      "mean: 6969.100535640709\n",
      "median: 3837.0\n",
      "total: 16914007\n",
      "-----------\n",
      "\n",
      "compound\n",
      "max: 0.9603\n",
      "min: -0.8356\n",
      "mean: 0.24060765685438554\n",
      "median: 0.2561953488372093\n",
      "total: 583.9547831855934\n",
      "-----------\n",
      "\n"
     ]
    }
   ],
   "source": [
    "summarize_tweets(bitcoin_tweets, \"bitcoin\")"
   ]
  },
  {
   "cell_type": "code",
   "execution_count": 111,
   "id": "c0f511bf",
   "metadata": {},
   "outputs": [
    {
     "name": "stdout",
     "output_type": "stream",
     "text": [
      "dogecoin\n",
      "================\n",
      "count\n",
      "max: 216\n",
      "min: 1\n",
      "mean: 6.536931818181818\n",
      "median: 3.0\n",
      "total: 4602\n",
      "-----------\n",
      "\n",
      "replies_count\n",
      "max: 13741\n",
      "min: 0\n",
      "mean: 284.95028409090907\n",
      "median: 31.5\n",
      "total: 200605\n",
      "-----------\n",
      "\n",
      "retweets_count\n",
      "max: 25731\n",
      "min: 0\n",
      "mean: 609.4076704545455\n",
      "median: 110.5\n",
      "total: 429023\n",
      "-----------\n",
      "\n",
      "compound\n",
      "max: 0.9812\n",
      "min: -0.8689\n",
      "mean: 0.4544454371706667\n",
      "median: 0.5344544871794872\n",
      "total: 319.92958776814953\n",
      "-----------\n",
      "\n"
     ]
    }
   ],
   "source": [
    "summarize_tweets(dogecoin_tweets, \"dogecoin\")"
   ]
  },
  {
   "cell_type": "code",
   "execution_count": null,
   "id": "be3dca78",
   "metadata": {},
   "outputs": [],
   "source": []
  }
 ],
 "metadata": {
  "kernelspec": {
   "display_name": "Python 3",
   "language": "python",
   "name": "python3"
  },
  "language_info": {
   "codemirror_mode": {
    "name": "ipython",
    "version": 3
   },
   "file_extension": ".py",
   "mimetype": "text/x-python",
   "name": "python",
   "nbconvert_exporter": "python",
   "pygments_lexer": "ipython3",
   "version": "3.8.8"
  }
 },
 "nbformat": 4,
 "nbformat_minor": 5
}
