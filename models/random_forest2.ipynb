{
 "cells": [
  {
   "cell_type": "code",
   "execution_count": 14,
   "metadata": {},
   "outputs": [],
   "source": [
    "import pandas as pd\n",
    "import numpy as np \n",
    "from sklearn.model_selection import train_test_split, GridSearchCV\n",
    "from sklearn.ensemble import RandomForestClassifier\n",
    "from sklearn.metrics import accuracy_score, mean_squared_error"
   ]
  },
  {
   "cell_type": "code",
   "execution_count": 2,
   "metadata": {},
   "outputs": [
    {
     "data": {
      "text/html": [
       "<div>\n",
       "<style scoped>\n",
       "    .dataframe tbody tr th:only-of-type {\n",
       "        vertical-align: middle;\n",
       "    }\n",
       "\n",
       "    .dataframe tbody tr th {\n",
       "        vertical-align: top;\n",
       "    }\n",
       "\n",
       "    .dataframe thead th {\n",
       "        text-align: right;\n",
       "    }\n",
       "</style>\n",
       "<table border=\"1\" class=\"dataframe\">\n",
       "  <thead>\n",
       "    <tr style=\"text-align: right;\">\n",
       "      <th></th>\n",
       "      <th>Unnamed: 0</th>\n",
       "      <th>Date</th>\n",
       "      <th>Open</th>\n",
       "      <th>High</th>\n",
       "      <th>Low</th>\n",
       "      <th>Close</th>\n",
       "      <th>Volume</th>\n",
       "      <th>Daily_Change</th>\n",
       "      <th>Daily_Change_Ind</th>\n",
       "      <th>MACD</th>\n",
       "      <th>...</th>\n",
       "      <th>Open_Gold</th>\n",
       "      <th>Daily_Change_Gold</th>\n",
       "      <th>Daily_Change_Perc_Gold</th>\n",
       "      <th>Increased_Gold</th>\n",
       "      <th>Close/Last_SP500</th>\n",
       "      <th>Open_SP500</th>\n",
       "      <th>Daily_Change_SP500</th>\n",
       "      <th>Daily_Change_Perc_SP500</th>\n",
       "      <th>Increased_SP500</th>\n",
       "      <th>label</th>\n",
       "    </tr>\n",
       "  </thead>\n",
       "  <tbody>\n",
       "    <tr>\n",
       "      <th>0</th>\n",
       "      <td>793</td>\n",
       "      <td>2017-12-28</td>\n",
       "      <td>15864.099609</td>\n",
       "      <td>15888.400391</td>\n",
       "      <td>13937.299805</td>\n",
       "      <td>14606.500000</td>\n",
       "      <td>12336499712</td>\n",
       "      <td>-1232.000000</td>\n",
       "      <td>0.0</td>\n",
       "      <td>636.405515</td>\n",
       "      <td>...</td>\n",
       "      <td>1292.0</td>\n",
       "      <td>5.2</td>\n",
       "      <td>0.004025</td>\n",
       "      <td>1</td>\n",
       "      <td>2687.54</td>\n",
       "      <td>2686.10</td>\n",
       "      <td>1.44</td>\n",
       "      <td>0.000536</td>\n",
       "      <td>1</td>\n",
       "      <td>0.0</td>\n",
       "    </tr>\n",
       "    <tr>\n",
       "      <th>1</th>\n",
       "      <td>908</td>\n",
       "      <td>2018-06-14</td>\n",
       "      <td>6342.750000</td>\n",
       "      <td>6707.140137</td>\n",
       "      <td>6334.459961</td>\n",
       "      <td>6675.350098</td>\n",
       "      <td>5138710016</td>\n",
       "      <td>325.450196</td>\n",
       "      <td>1.0</td>\n",
       "      <td>-383.201570</td>\n",
       "      <td>...</td>\n",
       "      <td>1303.1</td>\n",
       "      <td>5.2</td>\n",
       "      <td>0.003990</td>\n",
       "      <td>1</td>\n",
       "      <td>2782.49</td>\n",
       "      <td>2783.21</td>\n",
       "      <td>-0.72</td>\n",
       "      <td>-0.000259</td>\n",
       "      <td>0</td>\n",
       "      <td>0.0</td>\n",
       "    </tr>\n",
       "    <tr>\n",
       "      <th>2</th>\n",
       "      <td>224</td>\n",
       "      <td>2015-09-25</td>\n",
       "      <td>234.362000</td>\n",
       "      <td>237.427002</td>\n",
       "      <td>233.684006</td>\n",
       "      <td>235.143997</td>\n",
       "      <td>22363600</td>\n",
       "      <td>0.614990</td>\n",
       "      <td>1.0</td>\n",
       "      <td>-1.731076</td>\n",
       "      <td>...</td>\n",
       "      <td>1151.0</td>\n",
       "      <td>-5.4</td>\n",
       "      <td>-0.004692</td>\n",
       "      <td>0</td>\n",
       "      <td>1931.34</td>\n",
       "      <td>1935.93</td>\n",
       "      <td>-4.59</td>\n",
       "      <td>-0.002371</td>\n",
       "      <td>0</td>\n",
       "      <td>1.0</td>\n",
       "    </tr>\n",
       "    <tr>\n",
       "      <th>3</th>\n",
       "      <td>1042</td>\n",
       "      <td>2018-12-26</td>\n",
       "      <td>3819.666748</td>\n",
       "      <td>3893.359619</td>\n",
       "      <td>3769.863770</td>\n",
       "      <td>3857.297607</td>\n",
       "      <td>5326547918</td>\n",
       "      <td>41.806884</td>\n",
       "      <td>1.0</td>\n",
       "      <td>-83.043066</td>\n",
       "      <td>...</td>\n",
       "      <td>1273.5</td>\n",
       "      <td>-0.5</td>\n",
       "      <td>-0.000393</td>\n",
       "      <td>0</td>\n",
       "      <td>2467.70</td>\n",
       "      <td>2363.12</td>\n",
       "      <td>104.58</td>\n",
       "      <td>0.044255</td>\n",
       "      <td>1</td>\n",
       "      <td>1.0</td>\n",
       "    </tr>\n",
       "    <tr>\n",
       "      <th>4</th>\n",
       "      <td>563</td>\n",
       "      <td>2017-01-31</td>\n",
       "      <td>920.958984</td>\n",
       "      <td>972.018982</td>\n",
       "      <td>920.958984</td>\n",
       "      <td>970.403015</td>\n",
       "      <td>164582000</td>\n",
       "      <td>50.020996</td>\n",
       "      <td>1.0</td>\n",
       "      <td>12.846431</td>\n",
       "      <td>...</td>\n",
       "      <td>1197.7</td>\n",
       "      <td>13.7</td>\n",
       "      <td>0.011439</td>\n",
       "      <td>1</td>\n",
       "      <td>2278.87</td>\n",
       "      <td>2274.02</td>\n",
       "      <td>4.85</td>\n",
       "      <td>0.002133</td>\n",
       "      <td>1</td>\n",
       "      <td>1.0</td>\n",
       "    </tr>\n",
       "  </tbody>\n",
       "</table>\n",
       "<p>5 rows × 36 columns</p>\n",
       "</div>"
      ],
      "text/plain": [
       "   Unnamed: 0        Date          Open          High           Low  \\\n",
       "0         793  2017-12-28  15864.099609  15888.400391  13937.299805   \n",
       "1         908  2018-06-14   6342.750000   6707.140137   6334.459961   \n",
       "2         224  2015-09-25    234.362000    237.427002    233.684006   \n",
       "3        1042  2018-12-26   3819.666748   3893.359619   3769.863770   \n",
       "4         563  2017-01-31    920.958984    972.018982    920.958984   \n",
       "\n",
       "          Close       Volume  Daily_Change  Daily_Change_Ind        MACD  ...  \\\n",
       "0  14606.500000  12336499712  -1232.000000               0.0  636.405515  ...   \n",
       "1   6675.350098   5138710016    325.450196               1.0 -383.201570  ...   \n",
       "2    235.143997     22363600      0.614990               1.0   -1.731076  ...   \n",
       "3   3857.297607   5326547918     41.806884               1.0  -83.043066  ...   \n",
       "4    970.403015    164582000     50.020996               1.0   12.846431  ...   \n",
       "\n",
       "   Open_Gold  Daily_Change_Gold  Daily_Change_Perc_Gold  Increased_Gold  \\\n",
       "0     1292.0                5.2                0.004025               1   \n",
       "1     1303.1                5.2                0.003990               1   \n",
       "2     1151.0               -5.4               -0.004692               0   \n",
       "3     1273.5               -0.5               -0.000393               0   \n",
       "4     1197.7               13.7                0.011439               1   \n",
       "\n",
       "   Close/Last_SP500  Open_SP500  Daily_Change_SP500  Daily_Change_Perc_SP500  \\\n",
       "0           2687.54     2686.10                1.44                 0.000536   \n",
       "1           2782.49     2783.21               -0.72                -0.000259   \n",
       "2           1931.34     1935.93               -4.59                -0.002371   \n",
       "3           2467.70     2363.12              104.58                 0.044255   \n",
       "4           2278.87     2274.02                4.85                 0.002133   \n",
       "\n",
       "   Increased_SP500  label  \n",
       "0                1    0.0  \n",
       "1                0    0.0  \n",
       "2                0    1.0  \n",
       "3                1    1.0  \n",
       "4                1    1.0  \n",
       "\n",
       "[5 rows x 36 columns]"
      ]
     },
     "execution_count": 2,
     "metadata": {},
     "output_type": "execute_result"
    }
   ],
   "source": [
    "features_df = pd.read_csv(\"bitcoin_train.csv\")\n",
    "features_df.head()"
   ]
  },
  {
   "cell_type": "code",
   "execution_count": 3,
   "metadata": {},
   "outputs": [
    {
     "data": {
      "text/plain": [
       "Unnamed: 0                    0\n",
       "Date                          0\n",
       "Open                          0\n",
       "High                          0\n",
       "Low                           0\n",
       "Close                         0\n",
       "Volume                        0\n",
       "Daily_Change                  0\n",
       "Daily_Change_Ind              0\n",
       "MACD                          0\n",
       "PROC_3                        0\n",
       "PROC_5                        0\n",
       "PROC_10                       0\n",
       "wpr                           0\n",
       "sto_os                        0\n",
       "goog_trend_score              0\n",
       "count                         0\n",
       "compound                      0\n",
       "retweets_count                0\n",
       "likes_count                   0\n",
       "replies_count                 0\n",
       "compound_weighted_replies     0\n",
       "compound_weighted_likes       0\n",
       "compound_weighted_retweets    0\n",
       "Daily_Change_Perc             0\n",
       "Close/Last_Gold               0\n",
       "Open_Gold                     0\n",
       "Daily_Change_Gold             0\n",
       "Daily_Change_Perc_Gold        0\n",
       "Increased_Gold                0\n",
       "Close/Last_SP500              0\n",
       "Open_SP500                    0\n",
       "Daily_Change_SP500            0\n",
       "Daily_Change_Perc_SP500       0\n",
       "Increased_SP500               0\n",
       "label                         0\n",
       "dtype: int64"
      ]
     },
     "execution_count": 3,
     "metadata": {},
     "output_type": "execute_result"
    }
   ],
   "source": [
    "features_df.isnull().sum()"
   ]
  },
  {
   "cell_type": "code",
   "execution_count": 4,
   "metadata": {},
   "outputs": [
    {
     "data": {
      "text/plain": [
       "Index(['Unnamed: 0', 'Date', 'Open', 'High', 'Low', 'Close', 'Volume',\n",
       "       'Daily_Change', 'Daily_Change_Ind', 'MACD', 'PROC_3', 'PROC_5',\n",
       "       'PROC_10', 'wpr', 'sto_os', 'goog_trend_score', 'count', 'compound',\n",
       "       'retweets_count', 'likes_count', 'replies_count',\n",
       "       'compound_weighted_replies', 'compound_weighted_likes',\n",
       "       'compound_weighted_retweets', 'Daily_Change_Perc', 'Close/Last_Gold',\n",
       "       'Open_Gold', 'Daily_Change_Gold', 'Daily_Change_Perc_Gold',\n",
       "       'Increased_Gold', 'Close/Last_SP500', 'Open_SP500',\n",
       "       'Daily_Change_SP500', 'Daily_Change_Perc_SP500', 'Increased_SP500',\n",
       "       'label'],\n",
       "      dtype='object')"
      ]
     },
     "execution_count": 4,
     "metadata": {},
     "output_type": "execute_result"
    }
   ],
   "source": [
    "features_df.columns"
   ]
  },
  {
   "cell_type": "code",
   "execution_count": 15,
   "metadata": {},
   "outputs": [],
   "source": [
    "# Creating X and y \n",
    "\n",
    "features_lst = ['Daily_Change', 'Daily_Change_Ind', 'MACD', 'PROC_3', 'PROC_5','PROC_10', 'wpr',\\\n",
    "                'sto_os', 'goog_trend_score', 'count', 'compound', 'retweets_count', 'likes_count', 'replies_count',\\\n",
    "                'compound_weighted_replies', 'compound_weighted_likes','compound_weighted_retweets',\\\n",
    "                'Daily_Change_Perc', 'Daily_Change_Gold', 'Daily_Change_Perc_Gold', 'Increased_Gold', \\\n",
    "                'Daily_Change_SP500', 'Daily_Change_Perc_SP500', 'Increased_SP500']\n",
    "\n",
    "y = features_df['label']\n"
   ]
  },
  {
   "cell_type": "code",
   "execution_count": 6,
   "metadata": {},
   "outputs": [],
   "source": [
    "def predict_btc(rf_model, features):\n",
    "    '''\n",
    "    Fits a Random Forest model to predict whether the price of bitcoin will go up or down\n",
    "    Inputs:\n",
    "        rf_model: the random forest model\n",
    "        features: list of features to use\n",
    "    Returns: \n",
    "         yhat: predictions  \n",
    "    '''\n",
    "    \n",
    "    X = features_df[features_lst]\n",
    "    X_train, X_valid, y_train, y_valid = train_test_split(X, y, random_state = 42)\n",
    "    \n",
    "    rf.fit(X_train, y_train)\n",
    "\n",
    "    yhat = rf.predict(X_valid)\n",
    "    acc_score  = accuracy_score(y_valid, yhat)\n",
    "    mse = mean_squared_error(y_valid, yhat)\n",
    "    \n",
    "    print('Fraction of correctly classified samples: ', acc_score)\n",
    "    \n",
    "    return (yhat, rf.feature_importances_)\n"
   ]
  },
  {
   "cell_type": "code",
   "execution_count": 7,
   "metadata": {},
   "outputs": [
    {
     "name": "stdout",
     "output_type": "stream",
     "text": [
      "Fraction of correctly classified samples:  0.6528662420382165\n"
     ]
    }
   ],
   "source": [
    "rf = RandomForestClassifier()\n",
    "yhat1, feature_import = predict_btc(rf, features_lst)"
   ]
  },
  {
   "cell_type": "code",
   "execution_count": 8,
   "metadata": {},
   "outputs": [
    {
     "name": "stdout",
     "output_type": "stream",
     "text": [
      "Daily_Change: 0.042769767743863624\n",
      "Daily_Change_Ind: 0.004831284059931657\n",
      "MACD: 0.05088726328017087\n",
      "PROC_3: 0.08912090800068667\n",
      "PROC_5: 0.08358884421858975\n",
      "PROC_10: 0.049805996143422765\n",
      "wpr: 0.07397925309805797\n",
      "sto_os: 0.07258941208249682\n",
      "goog_trend_score: 0.035244468744150395\n",
      "count: 0.030676741736961256\n",
      "compound: 0.038097194443367455\n",
      "retweets_count: 0.0359946171944019\n",
      "likes_count: 0.033132506983833195\n",
      "replies_count: 0.03283892515888229\n",
      "compound_weighted_replies: 0.03679999421996541\n",
      "compound_weighted_likes: 0.039880791375812547\n",
      "compound_weighted_retweets: 0.04095499769618014\n",
      "Daily_Change_Perc: 0.04625440363491208\n",
      "Daily_Change_Gold: 0.03627544098130936\n",
      "Daily_Change_Perc_Gold: 0.03580380618533167\n",
      "Increased_Gold: 0.0045746746073670385\n",
      "Daily_Change_SP500: 0.038740341660153096\n",
      "Daily_Change_Perc_SP500: 0.042348618615382264\n",
      "Increased_SP500: 0.004809748134769845\n"
     ]
    }
   ],
   "source": [
    "for i in range(len(features_lst)):\n",
    "    print(f\"{features_lst[i]}: {feature_import[i]}\")"
   ]
  },
  {
   "cell_type": "code",
   "execution_count": 9,
   "metadata": {},
   "outputs": [
    {
     "data": {
      "text/plain": [
       "GridSearchCV(cv=5, estimator=RandomForestClassifier(),\n",
       "             param_grid=[{'n_estimators': [5, 10, 15, 20, 25, 30]},\n",
       "                         {'max_features': ['sqrt', 'log2', None]},\n",
       "                         {'oob_score': [True, False]}],\n",
       "             scoring='accuracy')"
      ]
     },
     "execution_count": 9,
     "metadata": {},
     "output_type": "execute_result"
    }
   ],
   "source": [
    "param_grid = [{'n_estimators': [5, 10, 15, 20, 25, 30]}, {'max_features': ['sqrt', 'log2', None]},\n",
    "              {'oob_score': [True, False]}]\n",
    "\n",
    "\n",
    "X = features_df[features_lst]\n",
    "grid_search_rf = GridSearchCV(rf, param_grid, cv = 5, scoring = 'accuracy')\n",
    "grid_search_rf.fit(X, y)\n"
   ]
  },
  {
   "cell_type": "code",
   "execution_count": 10,
   "metadata": {},
   "outputs": [
    {
     "data": {
      "text/plain": [
       "{'oob_score': False}"
      ]
     },
     "execution_count": 10,
     "metadata": {},
     "output_type": "execute_result"
    }
   ],
   "source": [
    "best_hp = grid_search_rf.best_params_\n",
    "best_hp"
   ]
  },
  {
   "cell_type": "code",
   "execution_count": 11,
   "metadata": {},
   "outputs": [
    {
     "name": "stdout",
     "output_type": "stream",
     "text": [
      "Fraction of correctly classified samples:  0.6560509554140127\n"
     ]
    }
   ],
   "source": [
    "rf_oob = RandomForestClassifier(oob_score=True)\n",
    "yhat_oob = predict_btc(rf_oob, features_lst)"
   ]
  },
  {
   "cell_type": "code",
   "execution_count": 25,
   "metadata": {},
   "outputs": [],
   "source": [
    "dogecoin = pd.read_csv(\"dogecoin_train.csv\")\n",
    "dogecoin = dogecoin.rename(columns={'goog_trend': 'goog_trend_score'})"
   ]
  },
  {
   "cell_type": "code",
   "execution_count": 26,
   "metadata": {},
   "outputs": [],
   "source": [
    "y2 = dogecoin['label']"
   ]
  },
  {
   "cell_type": "code",
   "execution_count": 27,
   "metadata": {},
   "outputs": [],
   "source": [
    "def predict_doge(rf_model, features):\n",
    "    '''\n",
    "    Fits a Random Forest model to predict whether the price of bitcoin will go up or down\n",
    "    Inputs:\n",
    "        rf_model: the random forest model\n",
    "        features: list of features to use\n",
    "    Returns: \n",
    "         yhat: predictions  \n",
    "    '''\n",
    "    \n",
    "    X = dogecoin[features_lst]\n",
    "    X_train, X_valid, y_train, y_valid = train_test_split(X, y2, random_state = 42)\n",
    "    \n",
    "    rf.fit(X_train, y_train)\n",
    "\n",
    "    yhat = rf.predict(X_valid)\n",
    "    acc_score  = accuracy_score(y_valid, yhat)\n",
    "    mse = mean_squared_error(y_valid, yhat)\n",
    "    \n",
    "    print('Fraction of correctly classified samples: ', acc_score)\n",
    "    \n",
    "    return (yhat, rf.feature_importances_)"
   ]
  },
  {
   "cell_type": "code",
   "execution_count": 28,
   "metadata": {},
   "outputs": [
    {
     "name": "stdout",
     "output_type": "stream",
     "text": [
      "Fraction of correctly classified samples:  0.8536585365853658\n"
     ]
    }
   ],
   "source": [
    "rf2 = RandomForestClassifier()\n",
    "yhat1, feature_import = predict_doge(rf2, features_lst)"
   ]
  },
  {
   "cell_type": "code",
   "execution_count": 29,
   "metadata": {},
   "outputs": [
    {
     "name": "stdout",
     "output_type": "stream",
     "text": [
      "Daily_Change: 0.046939303918911594\n",
      "Daily_Change_Ind: 0.007871151133848146\n",
      "MACD: 0.07961770450331775\n",
      "PROC_3: 0.08726040073704334\n",
      "PROC_5: 0.08730142063631043\n",
      "PROC_10: 0.07250571766584481\n",
      "wpr: 0.06259181929078961\n",
      "sto_os: 0.09644013821431655\n",
      "goog_trend_score: 0.0523637915224342\n",
      "count: 0.016018323161874935\n",
      "compound: 0.018943295804393204\n",
      "retweets_count: 0.018241593761498462\n",
      "likes_count: 0.019919112401886638\n",
      "replies_count: 0.01825932661314547\n",
      "compound_weighted_replies: 0.012579020691635287\n",
      "compound_weighted_likes: 0.01652161637381665\n",
      "compound_weighted_retweets: 0.019230673271766526\n",
      "Daily_Change_Perc: 0.06825555260241903\n",
      "Daily_Change_Gold: 0.042091134789235755\n",
      "Daily_Change_Perc_Gold: 0.04535316249231582\n",
      "Increased_Gold: 0.007215170573422292\n",
      "Daily_Change_SP500: 0.05207822375673977\n",
      "Daily_Change_Perc_SP500: 0.045276711144137095\n",
      "Increased_SP500: 0.007125634938896608\n"
     ]
    }
   ],
   "source": [
    "for i in range(len(features_lst)):\n",
    "    print(f\"{features_lst[i]}: {feature_import[i]}\")"
   ]
  },
  {
   "cell_type": "code",
   "execution_count": null,
   "metadata": {},
   "outputs": [],
   "source": []
  }
 ],
 "metadata": {
  "kernelspec": {
   "display_name": "Python 3",
   "language": "python",
   "name": "python3"
  },
  "language_info": {
   "codemirror_mode": {
    "name": "ipython",
    "version": 3
   },
   "file_extension": ".py",
   "mimetype": "text/x-python",
   "name": "python",
   "nbconvert_exporter": "python",
   "pygments_lexer": "ipython3",
   "version": "3.8.8"
  }
 },
 "nbformat": 4,
 "nbformat_minor": 4
}
