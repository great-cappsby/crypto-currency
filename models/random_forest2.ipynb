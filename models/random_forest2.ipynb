{
 "cells": [
  {
   "cell_type": "code",
   "execution_count": 1,
   "metadata": {},
   "outputs": [],
   "source": [
    "import pandas as pd\n",
    "import numpy as np \n",
    "from sklearn.model_selection import train_test_split, GridSearchCV\n",
    "from sklearn.ensemble import RandomForestClassifier\n",
    "from sklearn.metrics import accuracy_score, mean_squared_error"
   ]
  },
  {
   "cell_type": "code",
   "execution_count": 2,
   "metadata": {},
   "outputs": [
    {
     "data": {
      "text/html": [
       "<div>\n",
       "<style scoped>\n",
       "    .dataframe tbody tr th:only-of-type {\n",
       "        vertical-align: middle;\n",
       "    }\n",
       "\n",
       "    .dataframe tbody tr th {\n",
       "        vertical-align: top;\n",
       "    }\n",
       "\n",
       "    .dataframe thead th {\n",
       "        text-align: right;\n",
       "    }\n",
       "</style>\n",
       "<table border=\"1\" class=\"dataframe\">\n",
       "  <thead>\n",
       "    <tr style=\"text-align: right;\">\n",
       "      <th></th>\n",
       "      <th>Unnamed: 0</th>\n",
       "      <th>Date</th>\n",
       "      <th>Open</th>\n",
       "      <th>High</th>\n",
       "      <th>Low</th>\n",
       "      <th>Close</th>\n",
       "      <th>Volume</th>\n",
       "      <th>Daily_Change</th>\n",
       "      <th>Daily_Change_Ind</th>\n",
       "      <th>MACD</th>\n",
       "      <th>...</th>\n",
       "      <th>Open_Gold</th>\n",
       "      <th>Daily_Change_Gold</th>\n",
       "      <th>Daily_Change_Perc_Gold</th>\n",
       "      <th>Increased_Gold</th>\n",
       "      <th>Close/Last_SP500</th>\n",
       "      <th>Open_SP500</th>\n",
       "      <th>Daily_Change_SP500</th>\n",
       "      <th>Daily_Change_Perc_SP500</th>\n",
       "      <th>Increased_SP500</th>\n",
       "      <th>label</th>\n",
       "    </tr>\n",
       "  </thead>\n",
       "  <tbody>\n",
       "    <tr>\n",
       "      <th>0</th>\n",
       "      <td>708</td>\n",
       "      <td>2017-08-28</td>\n",
       "      <td>4384.450195</td>\n",
       "      <td>4403.930176</td>\n",
       "      <td>4224.640137</td>\n",
       "      <td>4382.660156</td>\n",
       "      <td>1959330048</td>\n",
       "      <td>-0.219727</td>\n",
       "      <td>0.0</td>\n",
       "      <td>318.734756</td>\n",
       "      <td>...</td>\n",
       "      <td>1297.6</td>\n",
       "      <td>17.7</td>\n",
       "      <td>0.013641</td>\n",
       "      <td>1</td>\n",
       "      <td>2444.24</td>\n",
       "      <td>2447.35</td>\n",
       "      <td>-3.11</td>\n",
       "      <td>-0.001271</td>\n",
       "      <td>0</td>\n",
       "      <td>1.0</td>\n",
       "    </tr>\n",
       "    <tr>\n",
       "      <th>1</th>\n",
       "      <td>563</td>\n",
       "      <td>2017-01-31</td>\n",
       "      <td>920.958984</td>\n",
       "      <td>972.018982</td>\n",
       "      <td>920.958984</td>\n",
       "      <td>970.403015</td>\n",
       "      <td>164582000</td>\n",
       "      <td>50.020996</td>\n",
       "      <td>1.0</td>\n",
       "      <td>12.846431</td>\n",
       "      <td>...</td>\n",
       "      <td>1197.7</td>\n",
       "      <td>13.7</td>\n",
       "      <td>0.011439</td>\n",
       "      <td>1</td>\n",
       "      <td>2278.87</td>\n",
       "      <td>2274.02</td>\n",
       "      <td>4.85</td>\n",
       "      <td>0.002133</td>\n",
       "      <td>1</td>\n",
       "      <td>1.0</td>\n",
       "    </tr>\n",
       "    <tr>\n",
       "      <th>2</th>\n",
       "      <td>1390</td>\n",
       "      <td>2020-05-14</td>\n",
       "      <td>9271.329102</td>\n",
       "      <td>9793.268555</td>\n",
       "      <td>9255.035156</td>\n",
       "      <td>9733.721680</td>\n",
       "      <td>56426907637</td>\n",
       "      <td>463.734375</td>\n",
       "      <td>1.0</td>\n",
       "      <td>491.284984</td>\n",
       "      <td>...</td>\n",
       "      <td>1723.1</td>\n",
       "      <td>17.8</td>\n",
       "      <td>0.010330</td>\n",
       "      <td>1</td>\n",
       "      <td>2852.50</td>\n",
       "      <td>2794.54</td>\n",
       "      <td>57.96</td>\n",
       "      <td>0.020740</td>\n",
       "      <td>1</td>\n",
       "      <td>0.0</td>\n",
       "    </tr>\n",
       "    <tr>\n",
       "      <th>3</th>\n",
       "      <td>19</td>\n",
       "      <td>2014-11-10</td>\n",
       "      <td>362.265015</td>\n",
       "      <td>374.816010</td>\n",
       "      <td>357.561005</td>\n",
       "      <td>366.924011</td>\n",
       "      <td>30450100</td>\n",
       "      <td>3.660003</td>\n",
       "      <td>1.0</td>\n",
       "      <td>-5.684871</td>\n",
       "      <td>...</td>\n",
       "      <td>1176.8</td>\n",
       "      <td>-17.0</td>\n",
       "      <td>-0.014446</td>\n",
       "      <td>0</td>\n",
       "      <td>2038.26</td>\n",
       "      <td>2032.01</td>\n",
       "      <td>6.25</td>\n",
       "      <td>0.003076</td>\n",
       "      <td>1</td>\n",
       "      <td>1.0</td>\n",
       "    </tr>\n",
       "    <tr>\n",
       "      <th>4</th>\n",
       "      <td>944</td>\n",
       "      <td>2018-08-06</td>\n",
       "      <td>7062.939941</td>\n",
       "      <td>7166.549805</td>\n",
       "      <td>6890.540039</td>\n",
       "      <td>6951.799805</td>\n",
       "      <td>3925900000</td>\n",
       "      <td>-116.680175</td>\n",
       "      <td>0.0</td>\n",
       "      <td>55.940525</td>\n",
       "      <td>...</td>\n",
       "      <td>1214.4</td>\n",
       "      <td>-5.8</td>\n",
       "      <td>-0.004776</td>\n",
       "      <td>0</td>\n",
       "      <td>2850.40</td>\n",
       "      <td>2840.29</td>\n",
       "      <td>10.11</td>\n",
       "      <td>0.003559</td>\n",
       "      <td>1</td>\n",
       "      <td>0.0</td>\n",
       "    </tr>\n",
       "  </tbody>\n",
       "</table>\n",
       "<p>5 rows × 38 columns</p>\n",
       "</div>"
      ],
      "text/plain": [
       "   Unnamed: 0        Date         Open         High          Low        Close  \\\n",
       "0         708  2017-08-28  4384.450195  4403.930176  4224.640137  4382.660156   \n",
       "1         563  2017-01-31   920.958984   972.018982   920.958984   970.403015   \n",
       "2        1390  2020-05-14  9271.329102  9793.268555  9255.035156  9733.721680   \n",
       "3          19  2014-11-10   362.265015   374.816010   357.561005   366.924011   \n",
       "4         944  2018-08-06  7062.939941  7166.549805  6890.540039  6951.799805   \n",
       "\n",
       "        Volume  Daily_Change  Daily_Change_Ind        MACD  ...  Open_Gold  \\\n",
       "0   1959330048     -0.219727               0.0  318.734756  ...     1297.6   \n",
       "1    164582000     50.020996               1.0   12.846431  ...     1197.7   \n",
       "2  56426907637    463.734375               1.0  491.284984  ...     1723.1   \n",
       "3     30450100      3.660003               1.0   -5.684871  ...     1176.8   \n",
       "4   3925900000   -116.680175               0.0   55.940525  ...     1214.4   \n",
       "\n",
       "   Daily_Change_Gold  Daily_Change_Perc_Gold  Increased_Gold  \\\n",
       "0               17.7                0.013641               1   \n",
       "1               13.7                0.011439               1   \n",
       "2               17.8                0.010330               1   \n",
       "3              -17.0               -0.014446               0   \n",
       "4               -5.8               -0.004776               0   \n",
       "\n",
       "   Close/Last_SP500  Open_SP500  Daily_Change_SP500  Daily_Change_Perc_SP500  \\\n",
       "0           2444.24     2447.35               -3.11                -0.001271   \n",
       "1           2278.87     2274.02                4.85                 0.002133   \n",
       "2           2852.50     2794.54               57.96                 0.020740   \n",
       "3           2038.26     2032.01                6.25                 0.003076   \n",
       "4           2850.40     2840.29               10.11                 0.003559   \n",
       "\n",
       "   Increased_SP500  label  \n",
       "0                0    1.0  \n",
       "1                1    1.0  \n",
       "2                1    0.0  \n",
       "3                1    1.0  \n",
       "4                1    0.0  \n",
       "\n",
       "[5 rows x 38 columns]"
      ]
     },
     "execution_count": 2,
     "metadata": {},
     "output_type": "execute_result"
    }
   ],
   "source": [
    "features_df = pd.read_csv(\"bitcoin_train.csv\")\n",
    "features_df.head()"
   ]
  },
  {
   "cell_type": "code",
   "execution_count": 3,
   "metadata": {},
   "outputs": [
    {
     "data": {
      "text/plain": [
       "Unnamed: 0                    0\n",
       "Date                          0\n",
       "Open                          0\n",
       "High                          0\n",
       "Low                           0\n",
       "Close                         0\n",
       "Volume                        0\n",
       "Daily_Change                  0\n",
       "Daily_Change_Ind              0\n",
       "MACD                          0\n",
       "PROC_3                        0\n",
       "PROC_5                        0\n",
       "PROC_10                       0\n",
       "wpr                           0\n",
       "sto_os                        0\n",
       "goog_trend_score              0\n",
       "count                         0\n",
       "compound                      0\n",
       "retweets_count                0\n",
       "likes_count                   0\n",
       "replies_count                 0\n",
       "compound_weighted_replies     0\n",
       "compound_weighted_likes       0\n",
       "compound_weighted_retweets    0\n",
       "Daily_Change_Perc             0\n",
       "Weekly_Change                 0\n",
       "Weekly_Change_Perc            0\n",
       "Close/Last_Gold               0\n",
       "Open_Gold                     0\n",
       "Daily_Change_Gold             0\n",
       "Daily_Change_Perc_Gold        0\n",
       "Increased_Gold                0\n",
       "Close/Last_SP500              0\n",
       "Open_SP500                    0\n",
       "Daily_Change_SP500            0\n",
       "Daily_Change_Perc_SP500       0\n",
       "Increased_SP500               0\n",
       "label                         0\n",
       "dtype: int64"
      ]
     },
     "execution_count": 3,
     "metadata": {},
     "output_type": "execute_result"
    }
   ],
   "source": [
    "features_df.isnull().sum()"
   ]
  },
  {
   "cell_type": "code",
   "execution_count": 4,
   "metadata": {},
   "outputs": [
    {
     "data": {
      "text/plain": [
       "Index(['Unnamed: 0', 'Date', 'Open', 'High', 'Low', 'Close', 'Volume',\n",
       "       'Daily_Change', 'Daily_Change_Ind', 'MACD', 'PROC_3', 'PROC_5',\n",
       "       'PROC_10', 'wpr', 'sto_os', 'goog_trend_score', 'count', 'compound',\n",
       "       'retweets_count', 'likes_count', 'replies_count',\n",
       "       'compound_weighted_replies', 'compound_weighted_likes',\n",
       "       'compound_weighted_retweets', 'Daily_Change_Perc', 'Weekly_Change',\n",
       "       'Weekly_Change_Perc', 'Close/Last_Gold', 'Open_Gold',\n",
       "       'Daily_Change_Gold', 'Daily_Change_Perc_Gold', 'Increased_Gold',\n",
       "       'Close/Last_SP500', 'Open_SP500', 'Daily_Change_SP500',\n",
       "       'Daily_Change_Perc_SP500', 'Increased_SP500', 'label'],\n",
       "      dtype='object')"
      ]
     },
     "execution_count": 4,
     "metadata": {},
     "output_type": "execute_result"
    }
   ],
   "source": [
    "features_df.columns"
   ]
  },
  {
   "cell_type": "code",
   "execution_count": 7,
   "metadata": {},
   "outputs": [],
   "source": [
    "# Creating X and y \n",
    "\n",
    "features_lst = ['Daily_Change', 'Daily_Change_Ind', 'MACD', 'PROC_3', 'PROC_5','PROC_10', 'wpr',\\\n",
    "                'sto_os', 'goog_trend_score', 'count', 'compound', 'retweets_count', 'likes_count', 'replies_count',\\\n",
    "                'compound_weighted_replies', 'compound_weighted_likes','compound_weighted_retweets',\\\n",
    "                'Daily_Change_Perc', 'Daily_Change_Gold', 'Daily_Change_Perc_Gold', 'Increased_Gold', \\\n",
    "                'Daily_Change_SP500', 'Daily_Change_Perc_SP500', 'Increased_SP500', 'Weekly_Change', 'Weekly_Change_Perc' ]\n",
    "\n",
    "y = features_df['label']\n"
   ]
  },
  {
   "cell_type": "code",
   "execution_count": 8,
   "metadata": {},
   "outputs": [],
   "source": [
    "def predict_btc(rf_model, features):\n",
    "    '''\n",
    "    Fits a Random Forest model to predict whether the price of bitcoin will go up or down\n",
    "    Inputs:\n",
    "        rf_model: the random forest model\n",
    "        features: list of features to use\n",
    "    Returns: \n",
    "         yhat: predictions  \n",
    "    '''\n",
    "    \n",
    "    X = features_df[features_lst]\n",
    "    X_train, X_valid, y_train, y_valid = train_test_split(X, y, random_state = 42)\n",
    "    \n",
    "    rf.fit(X_train, y_train)\n",
    "\n",
    "    yhat = rf.predict(X_valid)\n",
    "    acc_score  = accuracy_score(y_valid, yhat)\n",
    "    mse = mean_squared_error(y_valid, yhat)\n",
    "    \n",
    "    print('Fraction of correctly classified samples: ', acc_score)\n",
    "    \n",
    "    return (yhat, rf.feature_importances_)\n"
   ]
  },
  {
   "cell_type": "code",
   "execution_count": 9,
   "metadata": {},
   "outputs": [
    {
     "name": "stdout",
     "output_type": "stream",
     "text": [
      "Fraction of correctly classified samples:  0.4728434504792332\n"
     ]
    }
   ],
   "source": [
    "rf = RandomForestClassifier()\n",
    "yhat1, feature_import = predict_btc(rf, features_lst)"
   ]
  },
  {
   "cell_type": "code",
   "execution_count": 10,
   "metadata": {},
   "outputs": [
    {
     "name": "stdout",
     "output_type": "stream",
     "text": [
      "Daily_Change: 0.041641370663031356\n",
      "Daily_Change_Ind: 0.003937620602276846\n",
      "MACD: 0.05010979988525663\n",
      "PROC_3: 0.04411324186879252\n",
      "PROC_5: 0.04423464044544665\n",
      "PROC_10: 0.04400933232117042\n",
      "wpr: 0.03632939327766383\n",
      "sto_os: 0.03801772270315417\n",
      "goog_trend_score: 0.04573770021318294\n",
      "count: 0.03657653365635353\n",
      "compound: 0.045909180642653945\n",
      "retweets_count: 0.040554225757980546\n",
      "likes_count: 0.039600293643680666\n",
      "replies_count: 0.036221179557046075\n",
      "compound_weighted_replies: 0.04114134163463002\n",
      "compound_weighted_likes: 0.04488825252761517\n",
      "compound_weighted_retweets: 0.04951573436011645\n",
      "Daily_Change_Perc: 0.04761246764234312\n",
      "Daily_Change_Gold: 0.04634566650051084\n",
      "Daily_Change_Perc_Gold: 0.04552286285886493\n",
      "Increased_Gold: 0.0036127411676297326\n",
      "Daily_Change_SP500: 0.046002293553132526\n",
      "Daily_Change_Perc_SP500: 0.04630741331629196\n",
      "Increased_SP500: 0.004871959850077091\n",
      "Weekly_Change: 0.04021804890855459\n",
      "Weekly_Change_Perc: 0.03696898244254349\n"
     ]
    }
   ],
   "source": [
    "for i in range(len(features_lst)):\n",
    "    print(f\"{features_lst[i]}: {feature_import[i]}\")"
   ]
  },
  {
   "cell_type": "code",
   "execution_count": 11,
   "metadata": {},
   "outputs": [
    {
     "data": {
      "text/plain": [
       "GridSearchCV(cv=5, estimator=RandomForestClassifier(),\n",
       "             param_grid=[{'n_estimators': [5, 10, 15, 20, 25, 30]},\n",
       "                         {'max_features': ['sqrt', 'log2', None]},\n",
       "                         {'oob_score': [True, False]}],\n",
       "             scoring='accuracy')"
      ]
     },
     "execution_count": 11,
     "metadata": {},
     "output_type": "execute_result"
    }
   ],
   "source": [
    "param_grid = [{'n_estimators': [5, 10, 15, 20, 25, 30]}, {'max_features': ['sqrt', 'log2', None]},\n",
    "              {'oob_score': [True, False]}]\n",
    "\n",
    "\n",
    "X = features_df[features_lst]\n",
    "grid_search_rf = GridSearchCV(rf, param_grid, cv = 5, scoring = 'accuracy')\n",
    "grid_search_rf.fit(X, y)\n"
   ]
  },
  {
   "cell_type": "code",
   "execution_count": 12,
   "metadata": {},
   "outputs": [
    {
     "data": {
      "text/plain": [
       "{'oob_score': False}"
      ]
     },
     "execution_count": 12,
     "metadata": {},
     "output_type": "execute_result"
    }
   ],
   "source": [
    "best_hp = grid_search_rf.best_params_\n",
    "best_hp"
   ]
  },
  {
   "cell_type": "code",
   "execution_count": 14,
   "metadata": {},
   "outputs": [
    {
     "name": "stdout",
     "output_type": "stream",
     "text": [
      "Fraction of correctly classified samples:  0.5079872204472844\n"
     ]
    }
   ],
   "source": [
    "rf_log2 = RandomForestClassifier(oob_score=False)\n",
    "yhat_log2 = predict_btc(rf_log2, features_lst)"
   ]
  },
  {
   "cell_type": "code",
   "execution_count": 15,
   "metadata": {},
   "outputs": [],
   "source": [
    "dogecoin = pd.read_csv(\"dogecoin_train.csv\")\n",
    "dogecoin = dogecoin.rename(columns={'goog_trend': 'goog_trend_score'})"
   ]
  },
  {
   "cell_type": "code",
   "execution_count": 16,
   "metadata": {},
   "outputs": [],
   "source": [
    "y2 = dogecoin['label']"
   ]
  },
  {
   "cell_type": "code",
   "execution_count": 17,
   "metadata": {},
   "outputs": [],
   "source": [
    "def predict_doge(rf_model, features):\n",
    "    '''\n",
    "    Fits a Random Forest model to predict whether the price of bitcoin will go up or down\n",
    "    Inputs:\n",
    "        rf_model: the random forest model\n",
    "        features: list of features to use\n",
    "    Returns: \n",
    "         yhat: predictions  \n",
    "    '''\n",
    "    \n",
    "    X = dogecoin[features_lst]\n",
    "    X_train, X_valid, y_train, y_valid = train_test_split(X, y2, random_state = 42)\n",
    "    \n",
    "    rf.fit(X_train, y_train)\n",
    "\n",
    "    yhat = rf.predict(X_valid)\n",
    "    acc_score  = accuracy_score(y_valid, yhat)\n",
    "    mse = mean_squared_error(y_valid, yhat)\n",
    "    \n",
    "    print('Fraction of correctly classified samples: ', acc_score)\n",
    "    \n",
    "    return (yhat, rf.feature_importances_)"
   ]
  },
  {
   "cell_type": "code",
   "execution_count": 18,
   "metadata": {},
   "outputs": [
    {
     "name": "stdout",
     "output_type": "stream",
     "text": [
      "Fraction of correctly classified samples:  0.8079268292682927\n"
     ]
    }
   ],
   "source": [
    "rf2 = RandomForestClassifier()\n",
    "yhat1, feature_import = predict_doge(rf2, features_lst)"
   ]
  },
  {
   "cell_type": "code",
   "execution_count": 19,
   "metadata": {},
   "outputs": [
    {
     "name": "stdout",
     "output_type": "stream",
     "text": [
      "Daily_Change: 0.03894316667250456\n",
      "Daily_Change_Ind: 0.00725748378833058\n",
      "MACD: 0.09832821182218617\n",
      "PROC_3: 0.053616107079894344\n",
      "PROC_5: 0.05594103921630059\n",
      "PROC_10: 0.05045930959143881\n",
      "wpr: 0.04997609868563159\n",
      "sto_os: 0.055277626538312356\n",
      "goog_trend_score: 0.060513122111475616\n",
      "count: 0.012755522586048897\n",
      "compound: 0.018661528115088033\n",
      "retweets_count: 0.019593000429074175\n",
      "likes_count: 0.02124871241515087\n",
      "replies_count: 0.020903241754300028\n",
      "compound_weighted_replies: 0.01575789499682435\n",
      "compound_weighted_likes: 0.018420166897283423\n",
      "compound_weighted_retweets: 0.018111997426373316\n",
      "Daily_Change_Perc: 0.04909888138471762\n",
      "Daily_Change_Gold: 0.050507396476791\n",
      "Daily_Change_Perc_Gold: 0.055429656935759866\n",
      "Increased_Gold: 0.005253633998469346\n",
      "Daily_Change_SP500: 0.058284363191551176\n",
      "Daily_Change_Perc_SP500: 0.053376248073163955\n",
      "Increased_SP500: 0.006247399048119839\n",
      "Weekly_Change: 0.051315844519146246\n",
      "Weekly_Change_Perc: 0.0547223462460631\n"
     ]
    }
   ],
   "source": [
    "for i in range(len(features_lst)):\n",
    "    print(f\"{features_lst[i]}: {feature_import[i]}\")"
   ]
  },
  {
   "cell_type": "code",
   "execution_count": null,
   "metadata": {},
   "outputs": [],
   "source": []
  }
 ],
 "metadata": {
  "kernelspec": {
   "display_name": "Python 3",
   "language": "python",
   "name": "python3"
  },
  "language_info": {
   "codemirror_mode": {
    "name": "ipython",
    "version": 3
   },
   "file_extension": ".py",
   "mimetype": "text/x-python",
   "name": "python",
   "nbconvert_exporter": "python",
   "pygments_lexer": "ipython3",
   "version": "3.9.12"
  }
 },
 "nbformat": 4,
 "nbformat_minor": 4
}
