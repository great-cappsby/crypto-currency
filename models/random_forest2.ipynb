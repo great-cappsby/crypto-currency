{
 "cells": [
  {
   "cell_type": "code",
   "execution_count": 1,
   "metadata": {},
   "outputs": [],
   "source": [
    "import pandas as pd\n",
    "import numpy as np \n",
    "from sklearn.model_selection import train_test_split, GridSearchCV\n",
    "from sklearn.ensemble import RandomForestClassifier\n",
    "from sklearn.metrics import accuracy_score, mean_squared_error"
   ]
  },
  {
   "cell_type": "code",
   "execution_count": 2,
   "metadata": {},
   "outputs": [
    {
     "data": {
      "text/html": [
       "<div>\n",
       "<style scoped>\n",
       "    .dataframe tbody tr th:only-of-type {\n",
       "        vertical-align: middle;\n",
       "    }\n",
       "\n",
       "    .dataframe tbody tr th {\n",
       "        vertical-align: top;\n",
       "    }\n",
       "\n",
       "    .dataframe thead th {\n",
       "        text-align: right;\n",
       "    }\n",
       "</style>\n",
       "<table border=\"1\" class=\"dataframe\">\n",
       "  <thead>\n",
       "    <tr style=\"text-align: right;\">\n",
       "      <th></th>\n",
       "      <th>Unnamed: 0</th>\n",
       "      <th>Date</th>\n",
       "      <th>Open</th>\n",
       "      <th>High</th>\n",
       "      <th>Low</th>\n",
       "      <th>Close</th>\n",
       "      <th>Volume</th>\n",
       "      <th>Daily_Change</th>\n",
       "      <th>Daily_Change_Ind</th>\n",
       "      <th>MACD</th>\n",
       "      <th>...</th>\n",
       "      <th>Open_Gold</th>\n",
       "      <th>Daily_Change_Gold</th>\n",
       "      <th>Daily_Change_Perc_Gold</th>\n",
       "      <th>Increased_Gold</th>\n",
       "      <th>Close/Last_SP500</th>\n",
       "      <th>Open_SP500</th>\n",
       "      <th>Daily_Change_SP500</th>\n",
       "      <th>Daily_Change_Perc_SP500</th>\n",
       "      <th>Increased_SP500</th>\n",
       "      <th>label</th>\n",
       "    </tr>\n",
       "  </thead>\n",
       "  <tbody>\n",
       "    <tr>\n",
       "      <th>0</th>\n",
       "      <td>268</td>\n",
       "      <td>2015-11-30</td>\n",
       "      <td>371.437012</td>\n",
       "      <td>382.363007</td>\n",
       "      <td>370.382996</td>\n",
       "      <td>377.321014</td>\n",
       "      <td>71701600</td>\n",
       "      <td>6.027008</td>\n",
       "      <td>1.0</td>\n",
       "      <td>10.296558</td>\n",
       "      <td>...</td>\n",
       "      <td>1056.0</td>\n",
       "      <td>9.3</td>\n",
       "      <td>0.008807</td>\n",
       "      <td>1</td>\n",
       "      <td>2080.41</td>\n",
       "      <td>2090.95</td>\n",
       "      <td>-10.54</td>\n",
       "      <td>-0.005041</td>\n",
       "      <td>0</td>\n",
       "      <td>0.0</td>\n",
       "    </tr>\n",
       "    <tr>\n",
       "      <th>1</th>\n",
       "      <td>1016</td>\n",
       "      <td>2018-11-15</td>\n",
       "      <td>5736.149902</td>\n",
       "      <td>5774.819824</td>\n",
       "      <td>5358.379883</td>\n",
       "      <td>5648.029785</td>\n",
       "      <td>7032140000</td>\n",
       "      <td>-90.320313</td>\n",
       "      <td>0.0</td>\n",
       "      <td>-121.126607</td>\n",
       "      <td>...</td>\n",
       "      <td>1211.8</td>\n",
       "      <td>3.2</td>\n",
       "      <td>0.002641</td>\n",
       "      <td>1</td>\n",
       "      <td>2730.20</td>\n",
       "      <td>2693.52</td>\n",
       "      <td>36.68</td>\n",
       "      <td>0.013618</td>\n",
       "      <td>1</td>\n",
       "      <td>0.0</td>\n",
       "    </tr>\n",
       "    <tr>\n",
       "      <th>2</th>\n",
       "      <td>1144</td>\n",
       "      <td>2019-05-23</td>\n",
       "      <td>7677.269043</td>\n",
       "      <td>7943.791504</td>\n",
       "      <td>7533.196777</td>\n",
       "      <td>7881.846680</td>\n",
       "      <td>24457107820</td>\n",
       "      <td>201.780274</td>\n",
       "      <td>1.0</td>\n",
       "      <td>625.729133</td>\n",
       "      <td>...</td>\n",
       "      <td>1278.5</td>\n",
       "      <td>12.5</td>\n",
       "      <td>0.009777</td>\n",
       "      <td>1</td>\n",
       "      <td>2822.24</td>\n",
       "      <td>2836.70</td>\n",
       "      <td>-14.46</td>\n",
       "      <td>-0.005097</td>\n",
       "      <td>0</td>\n",
       "      <td>1.0</td>\n",
       "    </tr>\n",
       "    <tr>\n",
       "      <th>3</th>\n",
       "      <td>1082</td>\n",
       "      <td>2019-02-25</td>\n",
       "      <td>3807.002441</td>\n",
       "      <td>3913.707275</td>\n",
       "      <td>3807.002441</td>\n",
       "      <td>3882.696289</td>\n",
       "      <td>9318796067</td>\n",
       "      <td>72.268799</td>\n",
       "      <td>1.0</td>\n",
       "      <td>94.876946</td>\n",
       "      <td>...</td>\n",
       "      <td>1331.9</td>\n",
       "      <td>-2.4</td>\n",
       "      <td>-0.001802</td>\n",
       "      <td>0</td>\n",
       "      <td>2796.11</td>\n",
       "      <td>2804.35</td>\n",
       "      <td>-8.24</td>\n",
       "      <td>-0.002938</td>\n",
       "      <td>0</td>\n",
       "      <td>0.0</td>\n",
       "    </tr>\n",
       "    <tr>\n",
       "      <th>4</th>\n",
       "      <td>1149</td>\n",
       "      <td>2019-05-31</td>\n",
       "      <td>8320.286133</td>\n",
       "      <td>8586.659180</td>\n",
       "      <td>8172.550781</td>\n",
       "      <td>8574.501953</td>\n",
       "      <td>25365190957</td>\n",
       "      <td>255.029297</td>\n",
       "      <td>1.0</td>\n",
       "      <td>608.732748</td>\n",
       "      <td>...</td>\n",
       "      <td>1293.2</td>\n",
       "      <td>17.9</td>\n",
       "      <td>0.013842</td>\n",
       "      <td>1</td>\n",
       "      <td>2752.06</td>\n",
       "      <td>2766.15</td>\n",
       "      <td>-14.09</td>\n",
       "      <td>-0.005094</td>\n",
       "      <td>0</td>\n",
       "      <td>0.0</td>\n",
       "    </tr>\n",
       "  </tbody>\n",
       "</table>\n",
       "<p>5 rows × 62 columns</p>\n",
       "</div>"
      ],
      "text/plain": [
       "   Unnamed: 0        Date         Open         High          Low        Close  \\\n",
       "0         268  2015-11-30   371.437012   382.363007   370.382996   377.321014   \n",
       "1        1016  2018-11-15  5736.149902  5774.819824  5358.379883  5648.029785   \n",
       "2        1144  2019-05-23  7677.269043  7943.791504  7533.196777  7881.846680   \n",
       "3        1082  2019-02-25  3807.002441  3913.707275  3807.002441  3882.696289   \n",
       "4        1149  2019-05-31  8320.286133  8586.659180  8172.550781  8574.501953   \n",
       "\n",
       "        Volume  Daily_Change  Daily_Change_Ind        MACD  ...  Open_Gold  \\\n",
       "0     71701600      6.027008               1.0   10.296558  ...     1056.0   \n",
       "1   7032140000    -90.320313               0.0 -121.126607  ...     1211.8   \n",
       "2  24457107820    201.780274               1.0  625.729133  ...     1278.5   \n",
       "3   9318796067     72.268799               1.0   94.876946  ...     1331.9   \n",
       "4  25365190957    255.029297               1.0  608.732748  ...     1293.2   \n",
       "\n",
       "   Daily_Change_Gold  Daily_Change_Perc_Gold  Increased_Gold  \\\n",
       "0                9.3                0.008807               1   \n",
       "1                3.2                0.002641               1   \n",
       "2               12.5                0.009777               1   \n",
       "3               -2.4               -0.001802               0   \n",
       "4               17.9                0.013842               1   \n",
       "\n",
       "   Close/Last_SP500  Open_SP500  Daily_Change_SP500  Daily_Change_Perc_SP500  \\\n",
       "0           2080.41     2090.95              -10.54                -0.005041   \n",
       "1           2730.20     2693.52               36.68                 0.013618   \n",
       "2           2822.24     2836.70              -14.46                -0.005097   \n",
       "3           2796.11     2804.35               -8.24                -0.002938   \n",
       "4           2752.06     2766.15              -14.09                -0.005094   \n",
       "\n",
       "   Increased_SP500  label  \n",
       "0                0    0.0  \n",
       "1                1    0.0  \n",
       "2                0    1.0  \n",
       "3                0    0.0  \n",
       "4                0    0.0  \n",
       "\n",
       "[5 rows x 62 columns]"
      ]
     },
     "execution_count": 2,
     "metadata": {},
     "output_type": "execute_result"
    }
   ],
   "source": [
    "features_df = pd.read_csv(\"bitcoin_train.csv\")\n",
    "features_df.head()"
   ]
  },
  {
   "cell_type": "code",
   "execution_count": 3,
   "metadata": {},
   "outputs": [
    {
     "data": {
      "text/plain": [
       "Unnamed: 0                 0\n",
       "Date                       0\n",
       "Open                       0\n",
       "High                       0\n",
       "Low                        0\n",
       "                          ..\n",
       "Open_SP500                 0\n",
       "Daily_Change_SP500         0\n",
       "Daily_Change_Perc_SP500    0\n",
       "Increased_SP500            0\n",
       "label                      0\n",
       "Length: 62, dtype: int64"
      ]
     },
     "execution_count": 3,
     "metadata": {},
     "output_type": "execute_result"
    }
   ],
   "source": [
    "features_df.isnull().sum()"
   ]
  },
  {
   "cell_type": "code",
   "execution_count": 4,
   "metadata": {},
   "outputs": [
    {
     "data": {
      "text/plain": [
       "Index(['Unnamed: 0', 'Date', 'Open', 'High', 'Low', 'Close', 'Volume',\n",
       "       'Daily_Change', 'Daily_Change_Ind', 'MACD', 'PROC_3', 'PROC_5',\n",
       "       'PROC_10', 'wpr', 'sto_os', 'goog_trend_score', 'count', 'compound',\n",
       "       'retweets_count', 'likes_count', 'replies_count',\n",
       "       'compound_weighted_replies', 'compound_weighted_likes',\n",
       "       'compound_weighted_retweets', 'Daily_Change_Perc', 'Weekly_Change',\n",
       "       'Weekly_Change_Perc', 'Close/Last_Gold', 'Open_Gold',\n",
       "       'Daily_Change_Gold', 'Daily_Change_Perc_Gold', 'Increased_Gold',\n",
       "       'Close/Last_SP500', 'Open_SP500', 'Daily_Change_SP500',\n",
       "       'Daily_Change_Perc_SP500', 'Increased_SP500', 'label'],\n",
       "      dtype='object')"
      ]
     },
     "execution_count": 4,
     "metadata": {},
     "output_type": "execute_result"
    }
   ],
   "source": [
    "features_df.columns"
   ]
  },
  {
   "cell_type": "code",
   "execution_count": 7,
   "metadata": {},
   "outputs": [],
   "source": [
    "# Creating X and y \n",
    "\n",
    "# features_lst = ['Daily_Change', 'Daily_Change_Ind', 'MACD', 'PROC_3', 'PROC_5','PROC_10', 'wpr',\\\n",
    "#                 'sto_os', 'goog_trend_score', 'count', 'compound', 'retweets_count', 'likes_count', 'replies_count',\\\n",
    "#                 'compound_weighted_replies', 'compound_weighted_likes','compound_weighted_retweets',\\\n",
    "#                 'Daily_Change_Perc', 'Daily_Change_Gold', 'Daily_Change_Perc_Gold', 'Increased_Gold', \\\n",
    "#                 'Daily_Change_SP500', 'Daily_Change_Perc_SP500', 'Increased_SP500', 'Weekly_Change', 'Weekly_Change_Perc' ]\n",
    "\n",
    "\n",
    "features_lst = ['MACD', 'RSI', 'PROC_3', 'Daily_Change_Perc_SP500', 'Daily_Change_Perc_Gold', \\\n",
    "                'compound_weighted_avg7', 'likes_count_daily_diff', 'pos_weighted_avg7',\\\n",
    "                'retweets_count_weekly_diff','goog_trend_score']\n",
    "\n",
    "y = features_df['label']\n"
   ]
  },
  {
   "cell_type": "code",
   "execution_count": 8,
   "metadata": {},
   "outputs": [],
   "source": [
    "def predict_btc(rf_model, features):\n",
    "    '''\n",
    "    Fits a Random Forest model to predict whether the price of bitcoin will go up or down\n",
    "    Inputs:\n",
    "        rf_model: the random forest model\n",
    "        features: list of features to use\n",
    "    Returns: \n",
    "         yhat: predictions  \n",
    "    '''\n",
    "    \n",
    "    X = features_df[features_lst]\n",
    "    X_train, X_valid, y_train, y_valid = train_test_split(X, y, random_state = 42)\n",
    "    \n",
    "    rf.fit(X_train, y_train)\n",
    "\n",
    "    yhat = rf.predict(X_valid)\n",
    "    acc_score  = accuracy_score(y_valid, yhat)\n",
    "    mse = mean_squared_error(y_valid, yhat)\n",
    "    \n",
    "    print('Fraction of correctly classified samples: ', acc_score)\n",
    "    \n",
    "    return (yhat, rf.feature_importances_)\n"
   ]
  },
  {
   "cell_type": "code",
   "execution_count": 9,
   "metadata": {},
   "outputs": [
    {
     "name": "stdout",
     "output_type": "stream",
     "text": [
      "Fraction of correctly classified samples:  0.5448717948717948\n"
     ]
    }
   ],
   "source": [
    "rf = RandomForestClassifier()\n",
    "yhat1, feature_import = predict_btc(rf, features_lst)"
   ]
  },
  {
   "cell_type": "code",
   "execution_count": 10,
   "metadata": {},
   "outputs": [
    {
     "name": "stdout",
     "output_type": "stream",
     "text": [
      "MACD: 0.10495869443318384\n",
      "RSI: 0.10161060872444082\n",
      "PROC_3: 0.0994621201184743\n",
      "Daily_Change_Perc_SP500: 0.10524664160812156\n",
      "Daily_Change_Perc_Gold: 0.10654816620937861\n",
      "compound_weighted_avg7: 0.09787963955345985\n",
      "likes_count_daily_diff: 0.10092423819909806\n",
      "pos_weighted_avg7: 0.10121400586489518\n",
      "retweets_count_weekly_diff: 0.09242133806524867\n",
      "goog_trend_score: 0.08973454722369915\n"
     ]
    }
   ],
   "source": [
    "for i in range(len(features_lst)):\n",
    "    print(f\"{features_lst[i]}: {feature_import[i]}\")"
   ]
  },
  {
   "cell_type": "code",
   "execution_count": 11,
   "metadata": {},
   "outputs": [
    {
     "data": {
      "text/plain": [
       "GridSearchCV(cv=5, estimator=RandomForestClassifier(),\n",
       "             param_grid=[{'n_estimators': [5, 10, 15, 20, 25, 30]},\n",
       "                         {'max_features': ['sqrt', 'log2', None]},\n",
       "                         {'oob_score': [True, False]}],\n",
       "             scoring='accuracy')"
      ]
     },
     "execution_count": 11,
     "metadata": {},
     "output_type": "execute_result"
    }
   ],
   "source": [
    "param_grid = [{'n_estimators': [5, 10, 15, 20, 25, 30]}, {'max_features': ['sqrt', 'log2', None]},\n",
    "              {'oob_score': [True, False]}]\n",
    "\n",
    "\n",
    "X = features_df[features_lst]\n",
    "grid_search_rf = GridSearchCV(rf, param_grid, cv = 5, scoring = 'accuracy')\n",
    "grid_search_rf.fit(X, y)\n"
   ]
  },
  {
   "cell_type": "code",
   "execution_count": 12,
   "metadata": {},
   "outputs": [
    {
     "data": {
      "text/plain": [
       "{'n_estimators': 5}"
      ]
     },
     "execution_count": 12,
     "metadata": {},
     "output_type": "execute_result"
    }
   ],
   "source": [
    "best_hp = grid_search_rf.best_params_\n",
    "best_hp"
   ]
  },
  {
   "cell_type": "code",
   "execution_count": 13,
   "metadata": {},
   "outputs": [
    {
     "name": "stdout",
     "output_type": "stream",
     "text": [
      "Fraction of correctly classified samples:  0.5576923076923077\n"
     ]
    }
   ],
   "source": [
    "rf_log2 = RandomForestClassifier(n_estimators=5)\n",
    "yhat_log2 = predict_btc(rf_log2, features_lst)"
   ]
  },
  {
   "cell_type": "code",
   "execution_count": 24,
   "metadata": {},
   "outputs": [],
   "source": [
    "dogecoin = pd.read_csv(\"dogecoin_train.csv\")\n",
    "dogecoin = dogecoin.rename(columns={'goog_trend': 'goog_trend_score'})"
   ]
  },
  {
   "cell_type": "code",
   "execution_count": 25,
   "metadata": {},
   "outputs": [],
   "source": [
    "y2 = dogecoin['label']"
   ]
  },
  {
   "cell_type": "code",
   "execution_count": 26,
   "metadata": {},
   "outputs": [],
   "source": [
    "def predict_doge(rf_model, features):\n",
    "    '''\n",
    "    Fits a Random Forest model to predict whether the price of bitcoin will go up or down\n",
    "    Inputs:\n",
    "        rf_model: the random forest model\n",
    "        features: list of features to use\n",
    "    Returns: \n",
    "         yhat: predictions  \n",
    "    '''\n",
    "    \n",
    "    X = dogecoin[features_lst]\n",
    "    X_train, X_valid, y_train, y_valid = train_test_split(X, y2, random_state = 42)\n",
    "    \n",
    "    rf.fit(X_train, y_train)\n",
    "\n",
    "    yhat = rf.predict(X_valid)\n",
    "    acc_score  = accuracy_score(y_valid, yhat)\n",
    "    mse = mean_squared_error(y_valid, yhat)\n",
    "    \n",
    "    print('Fraction of correctly classified samples: ', acc_score)\n",
    "    \n",
    "    return (yhat, rf.feature_importances_)"
   ]
  },
  {
   "cell_type": "code",
   "execution_count": 27,
   "metadata": {},
   "outputs": [
    {
     "name": "stdout",
     "output_type": "stream",
     "text": [
      "Fraction of correctly classified samples:  0.8048780487804879\n"
     ]
    }
   ],
   "source": [
    "rf2 = RandomForestClassifier()\n",
    "yhat1, feature_import = predict_doge(rf2, features_lst)"
   ]
  },
  {
   "cell_type": "code",
   "execution_count": 28,
   "metadata": {},
   "outputs": [
    {
     "name": "stdout",
     "output_type": "stream",
     "text": [
      "MACD: 0.18915503988915888\n",
      "PROC_5: 0.10319450747669909\n",
      "wpr: 0.1073144930965813\n",
      "goog_trend_score: 0.10563574647896565\n",
      "compound_weighted_retweets: 0.06183551305406923\n",
      "Daily_Change_Perc: 0.10077242515622381\n",
      "Weekly_Change_Perc: 0.1018444474009364\n",
      "Daily_Change_Perc_Gold: 0.11530183014496793\n",
      "Daily_Change_Perc_SP500: 0.1149459973023978\n"
     ]
    }
   ],
   "source": [
    "for i in range(len(features_lst)):\n",
    "    print(f\"{features_lst[i]}: {feature_import[i]}\")"
   ]
  },
  {
   "cell_type": "code",
   "execution_count": null,
   "metadata": {},
   "outputs": [],
   "source": []
  }
 ],
 "metadata": {
  "kernelspec": {
   "display_name": "Python 3",
   "language": "python",
   "name": "python3"
  },
  "language_info": {
   "codemirror_mode": {
    "name": "ipython",
    "version": 3
   },
   "file_extension": ".py",
   "mimetype": "text/x-python",
   "name": "python",
   "nbconvert_exporter": "python",
   "pygments_lexer": "ipython3",
   "version": "3.8.8"
  }
 },
 "nbformat": 4,
 "nbformat_minor": 4
}
