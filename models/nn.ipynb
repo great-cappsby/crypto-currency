{
 "cells": [
  {
   "cell_type": "code",
   "execution_count": 35,
   "id": "ac891d06",
   "metadata": {},
   "outputs": [],
   "source": [
    "import pandas as pd\n",
    "import numpy as np\n",
    "from sklearn.model_selection import train_test_split\n",
    "import torch\n",
    "import torch.nn as nn\n",
    "import torch.nn.functional as F\n",
    "import torch.optim as optim"
   ]
  },
  {
   "cell_type": "code",
   "execution_count": 51,
   "id": "8ae938df",
   "metadata": {},
   "outputs": [],
   "source": [
    "# determine the supported device\n",
    "def get_device():\n",
    "    if torch.cuda.is_available():\n",
    "        device = torch.device('cuda:0')\n",
    "    else:\n",
    "        device = torch.device('cpu') # don't have GPU \n",
    "    return device\n",
    "\n",
    "# convert a df to tensor to be used in pytorch\n",
    "def df_to_tensor(df):\n",
    "    device = get_device()\n",
    "    return torch.from_numpy(df.values).float().to(device)"
   ]
  },
  {
   "cell_type": "code",
   "execution_count": 52,
   "id": "2d650c6b",
   "metadata": {},
   "outputs": [
    {
     "data": {
      "text/plain": [
       "device(type='cpu')"
      ]
     },
     "execution_count": 52,
     "metadata": {},
     "output_type": "execute_result"
    }
   ],
   "source": [
    "get_device()"
   ]
  },
  {
   "cell_type": "code",
   "execution_count": 53,
   "id": "75adc1e1",
   "metadata": {},
   "outputs": [],
   "source": [
    "X = pd.read_csv(\"bitcoin_train.csv\",usecols=[7, 8, 9, 10, 11, 12, 13, 14, 15, 16, 17, 18, 24, 27, 28, 29, 32, 33, 34])\n",
    "y = pd.read_csv(\"bitcoin_train.csv\",usecols=[35])\n",
    "\n",
    "def y_2d(x):\n",
    "    if x == 1.0:\n",
    "        return 0\n",
    "    return 1\n",
    "    \n",
    "#y['second_label'] = y.apply(lambda x: y_2d(x[0]), axis = 1)\n",
    "\n",
    "X = X.to_numpy()\n",
    "y = y.to_numpy()\n",
    "\n",
    "X_train, X_valid, y_train, y_valid = train_test_split(X, y, random_state=1234)"
   ]
  },
  {
   "cell_type": "code",
   "execution_count": 73,
   "id": "b27aee19",
   "metadata": {},
   "outputs": [],
   "source": [
    "def init_weights(m):\n",
    "    if isinstance(m, nn.Linear):\n",
    "        nn.init.normal_(m.weight.data)\n",
    "        nn.init.normal_(m.bias.data)\n",
    "\n",
    "class Net(nn.Module):\n",
    "\n",
    "    def __init__(self, sizes):\n",
    "        super(Net, self).__init__()\n",
    "        layers = []\n",
    "        for i in range(len(sizes) - 1):\n",
    "            layers.append(nn.Linear(sizes[i], sizes[i + 1]))\n",
    "            layers.append(nn.Sigmoid())\n",
    "        self.model = nn.Sequential(*layers)\n",
    "        self.model.apply(init_weights)\n",
    "        self.softmax = nn.Softmax(dim=0)\n",
    "\n",
    "    def forward(self, x):\n",
    "        return self.model(x)\n",
    "        #pred = self.softmax(self.model.forward(x)).argmax()\n",
    "        #if pred == 0:\n",
    "        #    return torch.Tensor([1])\n",
    "        #return torch.Tensor([0])\n",
    "        \n",
    "        \n",
    "\n",
    "    def train(self, X_train, y_train, X_valid=None, y_valid=None,\n",
    "          eta=0.25, num_epochs=10, isPrint=True):\n",
    "        \"\"\"\n",
    "        Train the network with SGD \n",
    "\n",
    "        :param X_train: matrix of training features \n",
    "        :param y_train: matrix of vector-encoded labels \n",
    "        \"\"\"\n",
    "        criterion = nn.MSELoss()\n",
    "        optimizer = optim.SGD(self.parameters(), lr=eta)\n",
    "        # initialize shuffled indices \n",
    "        shuffled_inds = list(range(X_train.shape[0]))\n",
    "        # loop over training epochs \n",
    "        for ep in range(1, num_epochs+1):\n",
    "\n",
    "            # shuffle indices \n",
    "            np.random.shuffle(shuffled_inds)\n",
    "\n",
    "            # loop over training examples \n",
    "            for ind in shuffled_inds:\n",
    "                optimizer.zero_grad()\n",
    "                output = self.forward(torch.from_numpy(X_train[ind]).float())\n",
    "                loss = criterion(output, torch.from_numpy(y_train[ind]).float())\n",
    "                loss.backward() \n",
    "                optimizer.step() \n",
    "\n",
    "            # print mean loss every 10 epochs if requested \n",
    "            if isPrint and (ep % 10) == 0:\n",
    "                print(\"epoch {:3d}/{:3d}: \".format(ep, num_epochs), end=\"\")\n",
    "                print(\"  train loss: {:8.3f}\".format(self.compute_loss(X_train, y_train)), end=\"\")\n",
    "                if X_valid is not None:\n",
    "                    print(\"  validation loss: {:8.3f}\".format(self.compute_loss(X_valid, y_valid)))\n",
    "                else:\n",
    "                    print(\"\")\n",
    "\n",
    "    def compute_loss(self, X, y):\n",
    "        \"\"\"\n",
    "        compute average loss for given data set \n",
    "        \n",
    "        :param X: matrix of features \n",
    "        :param y: matrix of vector-encoded labels \n",
    "        \"\"\"\n",
    "        loss = 0\n",
    "        if len(X.shape) == 1:\n",
    "            X = X[np.newaxis, :]\n",
    "        if len(y.shape) == 1:\n",
    "            y = y[np.newaxis, :]\n",
    "        criterion = nn.MSELoss()\n",
    "        for x, t in zip(X, y):\n",
    "            output = self.forward(torch.from_numpy(x).float())\n",
    "            loss += criterion(output, torch.from_numpy(t).float()).item()\n",
    "        return loss / X.shape[0]\n",
    "    "
   ]
  },
  {
   "cell_type": "code",
   "execution_count": 74,
   "id": "081ac836",
   "metadata": {},
   "outputs": [],
   "source": [
    "model = Net([X_train.shape[1], 3, 1])"
   ]
  },
  {
   "cell_type": "code",
   "execution_count": 75,
   "id": "5133a59b",
   "metadata": {},
   "outputs": [
    {
     "name": "stdout",
     "output_type": "stream",
     "text": [
      "epoch  10/100:   train loss:    0.247  validation loss:    0.241\n",
      "epoch  20/100:   train loss:    0.245  validation loss:    0.248\n",
      "epoch  30/100:   train loss:    0.247  validation loss:    0.244\n",
      "epoch  40/100:   train loss:    0.251  validation loss:    0.245\n",
      "epoch  50/100:   train loss:    0.248  validation loss:    0.244\n",
      "epoch  60/100:   train loss:    0.248  validation loss:    0.245\n",
      "epoch  70/100:   train loss:    0.248  validation loss:    0.244\n",
      "epoch  80/100:   train loss:    0.248  validation loss:    0.244\n",
      "epoch  90/100:   train loss:    0.247  validation loss:    0.245\n",
      "epoch 100/100:   train loss:    0.247  validation loss:    0.245\n"
     ]
    }
   ],
   "source": [
    "model.train(X_train, y_train, X_valid, y_valid, eta=0.10, num_epochs = 100)"
   ]
  },
  {
   "cell_type": "code",
   "execution_count": 69,
   "id": "5a7e78a0",
   "metadata": {},
   "outputs": [],
   "source": [
    "pred = model.forward(torch.from_numpy(X_valid[13]).float())\n",
    "loss_1 = loss(torch.round(pred), torch.Tensor([1]))\n",
    "loss_1.backward()"
   ]
  },
  {
   "cell_type": "code",
   "execution_count": 66,
   "id": "0e500206",
   "metadata": {},
   "outputs": [],
   "source": [
    "loss = nn.MSELoss()"
   ]
  },
  {
   "cell_type": "code",
   "execution_count": null,
   "id": "d755ca0a",
   "metadata": {},
   "outputs": [],
   "source": []
  }
 ],
 "metadata": {
  "kernelspec": {
   "display_name": "Python 3 (ipykernel)",
   "language": "python",
   "name": "python3"
  },
  "language_info": {
   "codemirror_mode": {
    "name": "ipython",
    "version": 3
   },
   "file_extension": ".py",
   "mimetype": "text/x-python",
   "name": "python",
   "nbconvert_exporter": "python",
   "pygments_lexer": "ipython3",
   "version": "3.8.2"
  }
 },
 "nbformat": 4,
 "nbformat_minor": 5
}
