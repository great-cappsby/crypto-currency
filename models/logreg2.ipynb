{
 "cells": [
  {
   "cell_type": "code",
   "execution_count": 1,
   "id": "0cd24dc6",
   "metadata": {},
   "outputs": [],
   "source": [
    "import math\n",
    "import pandas as pd\n",
    "import numpy as np\n",
    "import matplotlib.pyplot as plt\n",
    "from sklearn.model_selection import train_test_split\n",
    "from sklearn.linear_model import LogisticRegression\n",
    "from sklearn import metrics"
   ]
  },
  {
   "cell_type": "code",
   "execution_count": 2,
   "id": "9556a5f8",
   "metadata": {
    "scrolled": true
   },
   "outputs": [
    {
     "name": "stdout",
     "output_type": "stream",
     "text": [
      "0 Unnamed: 0\n",
      "1 Date\n",
      "2 Open\n",
      "3 High\n",
      "4 Low\n",
      "5 Close\n",
      "6 Volume\n",
      "7 Daily_Change\n",
      "8 Daily_Change_Ind\n",
      "9 MACD\n",
      "10 PROC_3\n",
      "11 PROC_5\n",
      "12 PROC_10\n",
      "13 wpr\n",
      "14 sto_os\n",
      "15 goog_trend_score\n",
      "16 count\n",
      "17 compound\n",
      "18 retweets_count\n",
      "19 likes_count\n",
      "20 replies_count\n",
      "21 compound_weighted_replies\n",
      "22 compound_weighted_likes\n",
      "23 compound_weighted_retweets\n",
      "24 Daily_Change_Perc\n",
      "25 Weekly_Change\n",
      "26 Weekly_Change_Perc\n",
      "27 Close/Last_Gold\n",
      "28 Open_Gold\n",
      "29 Daily_Change_Gold\n",
      "30 Daily_Change_Perc_Gold\n",
      "31 Increased_Gold\n",
      "32 Close/Last_SP500\n",
      "33 Open_SP500\n",
      "34 Daily_Change_SP500\n",
      "35 Daily_Change_Perc_SP500\n",
      "36 Increased_SP500\n",
      "37 label\n"
     ]
    }
   ],
   "source": [
    "data = pd.read_csv(\"bitcoin_train.csv\")\n",
    "cols = data.columns\n",
    "for i,c in enumerate(cols):\n",
    "    print(i, c)"
   ]
  },
  {
   "cell_type": "code",
   "execution_count": 3,
   "id": "cd15daae",
   "metadata": {},
   "outputs": [],
   "source": [
    "X = pd.read_csv(\"bitcoin_train.csv\",usecols=[7, 8, 9, 10, 11, 12, 13, 14, 15, 16, 17, 18, 24, 25, 26, 27, 28, 29, 30, 34, 35, 36])\n",
    "\n",
    "y = pd.read_csv(\"bitcoin_train.csv\",usecols=[37])\n",
    "\n",
    "X = X.to_numpy()\n",
    "y = y.to_numpy()"
   ]
  },
  {
   "cell_type": "code",
   "execution_count": 4,
   "id": "8a77e3da",
   "metadata": {},
   "outputs": [],
   "source": [
    "X_train, X_valid, y_train, y_valid = train_test_split(X, y, random_state=1234)\n",
    "y_train = y_train.reshape(-1)"
   ]
  },
  {
   "cell_type": "code",
   "execution_count": 5,
   "id": "6be4723a",
   "metadata": {},
   "outputs": [],
   "source": [
    "lr = LogisticRegression()"
   ]
  },
  {
   "cell_type": "code",
   "execution_count": 6,
   "id": "d3df96b2",
   "metadata": {},
   "outputs": [
    {
     "name": "stderr",
     "output_type": "stream",
     "text": [
      "/usr/local/lib/python3.9/site-packages/sklearn/linear_model/_logistic.py:814: ConvergenceWarning: lbfgs failed to converge (status=1):\n",
      "STOP: TOTAL NO. of ITERATIONS REACHED LIMIT.\n",
      "\n",
      "Increase the number of iterations (max_iter) or scale the data as shown in:\n",
      "    https://scikit-learn.org/stable/modules/preprocessing.html\n",
      "Please also refer to the documentation for alternative solver options:\n",
      "    https://scikit-learn.org/stable/modules/linear_model.html#logistic-regression\n",
      "  n_iter_i = _check_optimize_result(\n"
     ]
    }
   ],
   "source": [
    "lr.fit(X_train, y_train)\n",
    "y_hat = lr.predict(X_valid)"
   ]
  },
  {
   "cell_type": "code",
   "execution_count": 7,
   "id": "f7341718",
   "metadata": {},
   "outputs": [],
   "source": [
    "confusion = metrics.confusion_matrix(y_valid, y_hat)"
   ]
  },
  {
   "cell_type": "code",
   "execution_count": 8,
   "id": "208eda9d",
   "metadata": {},
   "outputs": [
    {
     "name": "stdout",
     "output_type": "stream",
     "text": [
      "0.5431309904153354\n"
     ]
    }
   ],
   "source": [
    "accuracy = np.sum(np.diagonal(confusion))/len(y_valid)\n",
    "print(accuracy)"
   ]
  },
  {
   "cell_type": "code",
   "execution_count": 9,
   "id": "c9feba94",
   "metadata": {},
   "outputs": [
    {
     "name": "stdout",
     "output_type": "stream",
     "text": [
      "0 Unnamed: 0\n",
      "1 Date\n",
      "2 Open\n",
      "3 High\n",
      "4 Low\n",
      "5 Close\n",
      "6 Adj Close**\n",
      "7 Volume\n",
      "8 Daily_Change\n",
      "9 Daily_Change_Ind\n",
      "10 MACD\n",
      "11 PROC_3\n",
      "12 PROC_5\n",
      "13 PROC_10\n",
      "14 wpr\n",
      "15 sto_os\n",
      "16 Daily_Change_Perc\n",
      "17 Weekly_Change\n",
      "18 Weekly_Change_Perc\n",
      "19 Close/Last_Gold\n",
      "20 Open_Gold\n",
      "21 Daily_Change_Gold\n",
      "22 Daily_Change_Perc_Gold\n",
      "23 Increased_Gold\n",
      "24 Close/Last_SP500\n",
      "25 Open_SP500\n",
      "26 Daily_Change_SP500\n",
      "27 Daily_Change_Perc_SP500\n",
      "28 Increased_SP500\n",
      "29 label\n",
      "30 count\n",
      "31 compound\n",
      "32 neg\n",
      "33 neu\n",
      "34 pos\n",
      "35 retweets_count\n",
      "36 likes_count\n",
      "37 replies_count\n",
      "38 compound_weighted_replies\n",
      "39 compound_weighted_likes\n",
      "40 compound_weighted_retweets\n",
      "41 goog_trend\n"
     ]
    }
   ],
   "source": [
    "data2 = pd.read_csv(\"dogecoin_train.csv\")\n",
    "cols = data2.columns\n",
    "for i,c in enumerate(cols):\n",
    "    print(i, c)"
   ]
  },
  {
   "cell_type": "code",
   "execution_count": 14,
   "id": "e348e24f",
   "metadata": {},
   "outputs": [
    {
     "name": "stderr",
     "output_type": "stream",
     "text": [
      "/usr/local/lib/python3.9/site-packages/sklearn/linear_model/_logistic.py:814: ConvergenceWarning: lbfgs failed to converge (status=1):\n",
      "STOP: TOTAL NO. of ITERATIONS REACHED LIMIT.\n",
      "\n",
      "Increase the number of iterations (max_iter) or scale the data as shown in:\n",
      "    https://scikit-learn.org/stable/modules/preprocessing.html\n",
      "Please also refer to the documentation for alternative solver options:\n",
      "    https://scikit-learn.org/stable/modules/linear_model.html#logistic-regression\n",
      "  n_iter_i = _check_optimize_result(\n"
     ]
    }
   ],
   "source": [
    "X2 = pd.read_csv(\"dogecoin_train.csv\",usecols=[8, 9, 10, 11, 12, 13, 14, 15, 16, 17, 18, 21, 22, 23, 26, 27, 28, 30, 31])\n",
    "\n",
    "y2 = pd.read_csv(\"dogecoin_train.csv\",usecols=[29])\n",
    "\n",
    "X2 = X2.to_numpy()\n",
    "y2 = y2.to_numpy()\n",
    "\n",
    "X2_train, X2_valid, y2_train, y2_valid = train_test_split(X2, y2, random_state=1234)\n",
    "y2_train = y2_train.reshape(-1)\n",
    "\n",
    "lr2 = LogisticRegression()\n",
    "\n",
    "lr.fit(X2_train, y2_train)\n",
    "y2_hat = lr.predict(X2_valid)"
   ]
  },
  {
   "cell_type": "code",
   "execution_count": 15,
   "id": "da43410c",
   "metadata": {},
   "outputs": [
    {
     "name": "stdout",
     "output_type": "stream",
     "text": [
      "0.7865853658536586\n"
     ]
    }
   ],
   "source": [
    "confusion2 = metrics.confusion_matrix(y2_valid, y2_hat)\n",
    "accuracy = np.sum(np.diagonal(confusion2))/len(y2_valid)\n",
    "print(accuracy)"
   ]
  },
  {
   "cell_type": "code",
   "execution_count": 19,
   "id": "82cf4f66",
   "metadata": {},
   "outputs": [
    {
     "data": {
      "text/plain": [
       "0.5782747603833865"
      ]
     },
     "execution_count": 19,
     "metadata": {},
     "output_type": "execute_result"
    }
   ],
   "source": [
    "y_valid.mean()"
   ]
  },
  {
   "cell_type": "code",
   "execution_count": null,
   "id": "0a8bda18",
   "metadata": {},
   "outputs": [],
   "source": []
  }
 ],
 "metadata": {
  "kernelspec": {
   "display_name": "Python 3",
   "language": "python",
   "name": "python3"
  },
  "language_info": {
   "codemirror_mode": {
    "name": "ipython",
    "version": 3
   },
   "file_extension": ".py",
   "mimetype": "text/x-python",
   "name": "python",
   "nbconvert_exporter": "python",
   "pygments_lexer": "ipython3",
   "version": "3.9.12"
  }
 },
 "nbformat": 4,
 "nbformat_minor": 5
}
