{
 "cells": [
  {
   "cell_type": "code",
   "execution_count": 2,
   "id": "0cd24dc6",
   "metadata": {},
   "outputs": [],
   "source": [
    "import math\n",
    "import pandas as pd\n",
    "import numpy as np\n",
    "import matplotlib.pyplot as plt\n",
    "from sklearn.model_selection import train_test_split\n",
    "from sklearn.linear_model import LogisticRegression\n",
    "from sklearn import metrics"
   ]
  },
  {
   "cell_type": "code",
   "execution_count": 26,
   "id": "9556a5f8",
   "metadata": {
    "scrolled": true
   },
   "outputs": [
    {
     "name": "stdout",
     "output_type": "stream",
     "text": [
      "0 Unnamed: 0\n",
      "1 Date\n",
      "2 Open\n",
      "3 High\n",
      "4 Low\n",
      "5 Close\n",
      "6 Volume\n",
      "7 Daily_Change\n",
      "8 Daily_Change_Ind\n",
      "9 MACD\n",
      "10 PROC_3\n",
      "11 PROC_5\n",
      "12 PROC_10\n",
      "13 wpr\n",
      "14 sto_os\n",
      "15 goog_trend_score\n",
      "16 count\n",
      "17 compound\n",
      "18 retweets_count\n",
      "19 likes_count\n",
      "20 replies_count\n",
      "21 compound_weighted_replies\n",
      "22 compound_weighted_likes\n",
      "23 compound_weighted_retweets\n",
      "24 Daily_Change_Perc\n",
      "25 Close/Last_Gold\n",
      "26 Open_Gold\n",
      "27 Daily_Change_Gold\n",
      "28 Daily_Change_Perc_Gold\n",
      "29 Increased_Gold\n",
      "30 Close/Last_SP500\n",
      "31 Open_SP500\n",
      "32 Daily_Change_SP500\n",
      "33 Daily_Change_Perc_SP500\n",
      "34 Increased_SP500\n",
      "35 label\n"
     ]
    }
   ],
   "source": [
    "data = pd.read_csv(\"bitcoin_train.csv\")\n",
    "cols = data.columns\n",
    "for i,c in enumerate(cols):\n",
    "    print(i, c)"
   ]
  },
  {
   "cell_type": "code",
   "execution_count": 27,
   "id": "cd15daae",
   "metadata": {},
   "outputs": [],
   "source": [
    "X = pd.read_csv(\"bitcoin_train.csv\",usecols=[7, 8, 9, 10, 11, 12, 13, 14, 15, 16, 17, 18, 24, 27, 28, 29, 32, 33, 34])\n",
    "\n",
    "y = pd.read_csv(\"bitcoin_train.csv\",usecols=[35])\n",
    "\n",
    "X = X.to_numpy()\n",
    "y = y.to_numpy()"
   ]
  },
  {
   "cell_type": "code",
   "execution_count": 28,
   "id": "8a77e3da",
   "metadata": {},
   "outputs": [],
   "source": [
    "X_train, X_valid, y_train, y_valid = train_test_split(X, y, random_state=1234)\n",
    "y_train = y_train.reshape(-1)"
   ]
  },
  {
   "cell_type": "code",
   "execution_count": 29,
   "id": "6be4723a",
   "metadata": {},
   "outputs": [],
   "source": [
    "lr = LogisticRegression()"
   ]
  },
  {
   "cell_type": "code",
   "execution_count": 30,
   "id": "d3df96b2",
   "metadata": {},
   "outputs": [
    {
     "name": "stderr",
     "output_type": "stream",
     "text": [
      "/Users/davidhackett/opt/anaconda3/lib/python3.8/site-packages/sklearn/linear_model/_logistic.py:763: ConvergenceWarning: lbfgs failed to converge (status=1):\n",
      "STOP: TOTAL NO. of ITERATIONS REACHED LIMIT.\n",
      "\n",
      "Increase the number of iterations (max_iter) or scale the data as shown in:\n",
      "    https://scikit-learn.org/stable/modules/preprocessing.html\n",
      "Please also refer to the documentation for alternative solver options:\n",
      "    https://scikit-learn.org/stable/modules/linear_model.html#logistic-regression\n",
      "  n_iter_i = _check_optimize_result(\n"
     ]
    }
   ],
   "source": [
    "lr.fit(X_train, y_train)\n",
    "y_hat = lr.predict(X_valid)"
   ]
  },
  {
   "cell_type": "code",
   "execution_count": 31,
   "id": "f7341718",
   "metadata": {},
   "outputs": [],
   "source": [
    "confusion = metrics.confusion_matrix(y_valid, y_hat)"
   ]
  },
  {
   "cell_type": "code",
   "execution_count": 32,
   "id": "208eda9d",
   "metadata": {},
   "outputs": [
    {
     "name": "stdout",
     "output_type": "stream",
     "text": [
      "0.6337579617834395\n"
     ]
    }
   ],
   "source": [
    "accuracy = np.sum(np.diagonal(confusion))/len(y_valid)\n",
    "print(accuracy)"
   ]
  },
  {
   "cell_type": "code",
   "execution_count": 3,
   "id": "c9feba94",
   "metadata": {},
   "outputs": [
    {
     "name": "stdout",
     "output_type": "stream",
     "text": [
      "0 Unnamed: 0\n",
      "1 Date\n",
      "2 Open\n",
      "3 High\n",
      "4 Low\n",
      "5 Close\n",
      "6 Adj Close**\n",
      "7 Volume\n",
      "8 Daily_Change\n",
      "9 Daily_Change_Ind\n",
      "10 MACD\n",
      "11 PROC_3\n",
      "12 PROC_5\n",
      "13 PROC_10\n",
      "14 wpr\n",
      "15 sto_os\n",
      "16 Daily_Change_Perc\n",
      "17 Close/Last_Gold\n",
      "18 Open_Gold\n",
      "19 Daily_Change_Gold\n",
      "20 Daily_Change_Perc_Gold\n",
      "21 Increased_Gold\n",
      "22 Close/Last_SP500\n",
      "23 Open_SP500\n",
      "24 Daily_Change_SP500\n",
      "25 Daily_Change_Perc_SP500\n",
      "26 Increased_SP500\n",
      "27 label\n",
      "28 count\n",
      "29 compound\n",
      "30 neg\n",
      "31 neu\n",
      "32 pos\n",
      "33 retweets_count\n",
      "34 likes_count\n",
      "35 replies_count\n",
      "36 compound_weighted_replies\n",
      "37 compound_weighted_likes\n",
      "38 compound_weighted_retweets\n",
      "39 goog_trend\n"
     ]
    }
   ],
   "source": [
    "data2 = pd.read_csv(\"dogecoin_train.csv\")\n",
    "cols = data2.columns\n",
    "for i,c in enumerate(cols):\n",
    "    print(i, c)"
   ]
  },
  {
   "cell_type": "code",
   "execution_count": null,
   "id": "e348e24f",
   "metadata": {},
   "outputs": [],
   "source": [
    "X2 = pd.read_csv(\"dogecoin_train.csv\",usecols=[8, 9, 10, 11, 12, 13, 14, 15, 16, 19, 20, 21, 24, 25, 26, 28, 29, 39])\n",
    "\n",
    "y2 = pd.read_csv(\"dogecoin_train.csv\",usecols=[27])\n",
    "\n",
    "X2 = X2.to_numpy()\n",
    "y2 = y2.to_numpy()\n",
    "\n",
    "X2_train, X2_valid, y2_train, y2_valid = train_test_split(X2, y2, random_state=1234)\n",
    "y2_train = y2_train.reshape(-1)\n",
    "\n",
    "lr2 = LogisticRegression()\n",
    "\n",
    "lr.fit(X2_train, y_train)\n",
    "y_hat = lr.predict(X_valid)"
   ]
  }
 ],
 "metadata": {
  "kernelspec": {
   "display_name": "Python 3 (ipykernel)",
   "language": "python",
   "name": "python3"
  },
  "language_info": {
   "codemirror_mode": {
    "name": "ipython",
    "version": 3
   },
   "file_extension": ".py",
   "mimetype": "text/x-python",
   "name": "python",
   "nbconvert_exporter": "python",
   "pygments_lexer": "ipython3",
   "version": "3.8.2"
  }
 },
 "nbformat": 4,
 "nbformat_minor": 5
}
