{
 "cells": [
  {
   "cell_type": "markdown",
   "metadata": {},
   "source": [
    "Using features extracted from data on historical bitcoin prices, gold prices, S&P 500 data and tweets, we will fit a Random Forest Classifier to predict whether bitcoin prices will go up or down. \n",
    "\n",
    "We experiment with different features here and choose the features that give the highest accuracy."
   ]
  },
  {
   "cell_type": "code",
   "execution_count": 64,
   "metadata": {},
   "outputs": [],
   "source": [
    "import pandas as pd\n",
    "import numpy as np \n",
    "import os\n",
    "from sklearn.model_selection import train_test_split, GridSearchCV\n",
    "from sklearn.ensemble import RandomForestClassifier\n",
    "from sklearn.metrics import accuracy_score, mean_squared_error\n",
    "\n",
    "path = '/Users/aghasaifkhan/Desktop/UChicago/Spring_22/ML_CAPP/Project/crypto-currency/data'"
   ]
  },
  {
   "cell_type": "code",
   "execution_count": 65,
   "metadata": {},
   "outputs": [
    {
     "data": {
      "text/html": [
       "<div>\n",
       "<style scoped>\n",
       "    .dataframe tbody tr th:only-of-type {\n",
       "        vertical-align: middle;\n",
       "    }\n",
       "\n",
       "    .dataframe tbody tr th {\n",
       "        vertical-align: top;\n",
       "    }\n",
       "\n",
       "    .dataframe thead th {\n",
       "        text-align: right;\n",
       "    }\n",
       "</style>\n",
       "<table border=\"1\" class=\"dataframe\">\n",
       "  <thead>\n",
       "    <tr style=\"text-align: right;\">\n",
       "      <th></th>\n",
       "      <th>Date</th>\n",
       "      <th>Open</th>\n",
       "      <th>High</th>\n",
       "      <th>Low</th>\n",
       "      <th>Close</th>\n",
       "      <th>Adj Close</th>\n",
       "      <th>Volume</th>\n",
       "      <th>Daily_Change</th>\n",
       "      <th>Daily_Change_Ind</th>\n",
       "      <th>MACD</th>\n",
       "      <th>...</th>\n",
       "      <th>compound</th>\n",
       "      <th>neg</th>\n",
       "      <th>neu</th>\n",
       "      <th>pos</th>\n",
       "      <th>retweets_count</th>\n",
       "      <th>likes_count</th>\n",
       "      <th>replies_count</th>\n",
       "      <th>compound_weighted_replies</th>\n",
       "      <th>compound_weighted_likes</th>\n",
       "      <th>compound_weighted_retweets</th>\n",
       "    </tr>\n",
       "  </thead>\n",
       "  <tbody>\n",
       "    <tr>\n",
       "      <th>0</th>\n",
       "      <td>2014-10-13</td>\n",
       "      <td>377.920990</td>\n",
       "      <td>397.226013</td>\n",
       "      <td>368.897003</td>\n",
       "      <td>390.414001</td>\n",
       "      <td>390.414001</td>\n",
       "      <td>35221400</td>\n",
       "      <td>11.864990</td>\n",
       "      <td>1.0</td>\n",
       "      <td>-15.701840</td>\n",
       "      <td>...</td>\n",
       "      <td>0.185800</td>\n",
       "      <td>0.000000</td>\n",
       "      <td>0.925667</td>\n",
       "      <td>0.074333</td>\n",
       "      <td>269</td>\n",
       "      <td>83</td>\n",
       "      <td>14</td>\n",
       "      <td>0.079629</td>\n",
       "      <td>0.127598</td>\n",
       "      <td>0.093245</td>\n",
       "    </tr>\n",
       "    <tr>\n",
       "      <th>1</th>\n",
       "      <td>2014-10-14</td>\n",
       "      <td>391.691986</td>\n",
       "      <td>411.697998</td>\n",
       "      <td>391.324005</td>\n",
       "      <td>400.869995</td>\n",
       "      <td>400.869995</td>\n",
       "      <td>38491500</td>\n",
       "      <td>10.455994</td>\n",
       "      <td>1.0</td>\n",
       "      <td>-11.895282</td>\n",
       "      <td>...</td>\n",
       "      <td>0.067580</td>\n",
       "      <td>0.048400</td>\n",
       "      <td>0.849800</td>\n",
       "      <td>0.101800</td>\n",
       "      <td>140</td>\n",
       "      <td>117</td>\n",
       "      <td>7</td>\n",
       "      <td>0.004257</td>\n",
       "      <td>-0.023816</td>\n",
       "      <td>0.009022</td>\n",
       "    </tr>\n",
       "    <tr>\n",
       "      <th>2</th>\n",
       "      <td>2014-10-15</td>\n",
       "      <td>400.954987</td>\n",
       "      <td>402.226990</td>\n",
       "      <td>388.765991</td>\n",
       "      <td>394.773010</td>\n",
       "      <td>394.773010</td>\n",
       "      <td>25267100</td>\n",
       "      <td>-6.096985</td>\n",
       "      <td>0.0</td>\n",
       "      <td>-9.263747</td>\n",
       "      <td>...</td>\n",
       "      <td>0.243837</td>\n",
       "      <td>0.025125</td>\n",
       "      <td>0.876375</td>\n",
       "      <td>0.098375</td>\n",
       "      <td>167</td>\n",
       "      <td>139</td>\n",
       "      <td>18</td>\n",
       "      <td>0.112306</td>\n",
       "      <td>0.243701</td>\n",
       "      <td>0.213320</td>\n",
       "    </tr>\n",
       "    <tr>\n",
       "      <th>3</th>\n",
       "      <td>2014-10-17</td>\n",
       "      <td>382.756012</td>\n",
       "      <td>385.477997</td>\n",
       "      <td>375.389008</td>\n",
       "      <td>383.757996</td>\n",
       "      <td>383.757996</td>\n",
       "      <td>13600700</td>\n",
       "      <td>1.201996</td>\n",
       "      <td>1.0</td>\n",
       "      <td>-6.948665</td>\n",
       "      <td>...</td>\n",
       "      <td>0.543400</td>\n",
       "      <td>0.000000</td>\n",
       "      <td>0.787667</td>\n",
       "      <td>0.212333</td>\n",
       "      <td>92</td>\n",
       "      <td>81</td>\n",
       "      <td>4</td>\n",
       "      <td>0.497100</td>\n",
       "      <td>0.519504</td>\n",
       "      <td>0.528261</td>\n",
       "    </tr>\n",
       "    <tr>\n",
       "      <th>4</th>\n",
       "      <td>2014-10-20</td>\n",
       "      <td>389.230988</td>\n",
       "      <td>390.084015</td>\n",
       "      <td>378.252014</td>\n",
       "      <td>382.845001</td>\n",
       "      <td>382.845001</td>\n",
       "      <td>16419000</td>\n",
       "      <td>-6.700989</td>\n",
       "      <td>0.0</td>\n",
       "      <td>-3.828066</td>\n",
       "      <td>...</td>\n",
       "      <td>0.269725</td>\n",
       "      <td>0.000000</td>\n",
       "      <td>0.875500</td>\n",
       "      <td>0.124500</td>\n",
       "      <td>550</td>\n",
       "      <td>135</td>\n",
       "      <td>2</td>\n",
       "      <td>0.128250</td>\n",
       "      <td>0.209440</td>\n",
       "      <td>0.042557</td>\n",
       "    </tr>\n",
       "  </tbody>\n",
       "</table>\n",
       "<p>5 rows × 32 columns</p>\n",
       "</div>"
      ],
      "text/plain": [
       "         Date        Open        High         Low       Close   Adj Close  \\\n",
       "0  2014-10-13  377.920990  397.226013  368.897003  390.414001  390.414001   \n",
       "1  2014-10-14  391.691986  411.697998  391.324005  400.869995  400.869995   \n",
       "2  2014-10-15  400.954987  402.226990  388.765991  394.773010  394.773010   \n",
       "3  2014-10-17  382.756012  385.477997  375.389008  383.757996  383.757996   \n",
       "4  2014-10-20  389.230988  390.084015  378.252014  382.845001  382.845001   \n",
       "\n",
       "     Volume  Daily_Change  Daily_Change_Ind       MACD  ...  compound  \\\n",
       "0  35221400     11.864990               1.0 -15.701840  ...  0.185800   \n",
       "1  38491500     10.455994               1.0 -11.895282  ...  0.067580   \n",
       "2  25267100     -6.096985               0.0  -9.263747  ...  0.243837   \n",
       "3  13600700      1.201996               1.0  -6.948665  ...  0.543400   \n",
       "4  16419000     -6.700989               0.0  -3.828066  ...  0.269725   \n",
       "\n",
       "        neg       neu       pos  retweets_count  likes_count  replies_count  \\\n",
       "0  0.000000  0.925667  0.074333             269           83             14   \n",
       "1  0.048400  0.849800  0.101800             140          117              7   \n",
       "2  0.025125  0.876375  0.098375             167          139             18   \n",
       "3  0.000000  0.787667  0.212333              92           81              4   \n",
       "4  0.000000  0.875500  0.124500             550          135              2   \n",
       "\n",
       "   compound_weighted_replies  compound_weighted_likes  \\\n",
       "0                   0.079629                 0.127598   \n",
       "1                   0.004257                -0.023816   \n",
       "2                   0.112306                 0.243701   \n",
       "3                   0.497100                 0.519504   \n",
       "4                   0.128250                 0.209440   \n",
       "\n",
       "   compound_weighted_retweets  \n",
       "0                    0.093245  \n",
       "1                    0.009022  \n",
       "2                    0.213320  \n",
       "3                    0.528261  \n",
       "4                    0.042557  \n",
       "\n",
       "[5 rows x 32 columns]"
      ]
     },
     "execution_count": 65,
     "metadata": {},
     "output_type": "execute_result"
    }
   ],
   "source": [
    "features_df = pd.read_csv(os.path.join(path, 'merged_datasets.csv'), index_col = 'Unnamed: 0')\n",
    "features_df.head()"
   ]
  },
  {
   "cell_type": "code",
   "execution_count": 66,
   "metadata": {},
   "outputs": [
    {
     "data": {
      "text/plain": [
       "Date                           0\n",
       "Open                           0\n",
       "High                           0\n",
       "Low                            0\n",
       "Close                          0\n",
       "Adj Close                      0\n",
       "Volume                         0\n",
       "Daily_Change                   0\n",
       "Daily_Change_Ind               0\n",
       "MACD                           0\n",
       "PROC_3                         0\n",
       "PROC_5                         0\n",
       "PROC_10                        0\n",
       "wpr                            0\n",
       "sto_os                         0\n",
       "gold_close                     0\n",
       "gold_label                     0\n",
       "sp500_close                    0\n",
       "sp500_label                    0\n",
       "goog_trend_score               0\n",
       "isPartial                      0\n",
       "count                          0\n",
       "compound                       0\n",
       "neg                            0\n",
       "neu                            0\n",
       "pos                            0\n",
       "retweets_count                 0\n",
       "likes_count                    0\n",
       "replies_count                  0\n",
       "compound_weighted_replies     30\n",
       "compound_weighted_likes        0\n",
       "compound_weighted_retweets     0\n",
       "dtype: int64"
      ]
     },
     "execution_count": 66,
     "metadata": {},
     "output_type": "execute_result"
    }
   ],
   "source": [
    "# Check for NaNs\n",
    "\n",
    "features_df.isnull().sum()"
   ]
  },
  {
   "cell_type": "code",
   "execution_count": 67,
   "metadata": {},
   "outputs": [
    {
     "data": {
      "text/plain": [
       "Date                          0\n",
       "Open                          0\n",
       "High                          0\n",
       "Low                           0\n",
       "Close                         0\n",
       "Adj Close                     0\n",
       "Volume                        0\n",
       "Daily_Change                  0\n",
       "Daily_Change_Ind              0\n",
       "MACD                          0\n",
       "PROC_3                        0\n",
       "PROC_5                        0\n",
       "PROC_10                       0\n",
       "wpr                           0\n",
       "sto_os                        0\n",
       "gold_close                    0\n",
       "gold_label                    0\n",
       "sp500_close                   0\n",
       "sp500_label                   0\n",
       "goog_trend_score              0\n",
       "isPartial                     0\n",
       "count                         0\n",
       "compound                      0\n",
       "neg                           0\n",
       "neu                           0\n",
       "pos                           0\n",
       "retweets_count                0\n",
       "likes_count                   0\n",
       "replies_count                 0\n",
       "compound_weighted_replies     0\n",
       "compound_weighted_likes       0\n",
       "compound_weighted_retweets    0\n",
       "dtype: int64"
      ]
     },
     "execution_count": 67,
     "metadata": {},
     "output_type": "execute_result"
    }
   ],
   "source": [
    "features_df = features_df.dropna()\n",
    "features_df.isnull().sum()"
   ]
  },
  {
   "cell_type": "code",
   "execution_count": 68,
   "metadata": {},
   "outputs": [
    {
     "data": {
      "text/plain": [
       "Index(['Date', 'Open', 'High', 'Low', 'Close', 'Adj Close', 'Volume',\n",
       "       'Daily_Change', 'Daily_Change_Ind', 'MACD', 'PROC_3', 'PROC_5',\n",
       "       'PROC_10', 'wpr', 'sto_os', 'gold_close', 'gold_label', 'sp500_close',\n",
       "       'sp500_label', 'goog_trend_score', 'isPartial', 'count', 'compound',\n",
       "       'neg', 'neu', 'pos', 'retweets_count', 'likes_count', 'replies_count',\n",
       "       'compound_weighted_replies', 'compound_weighted_likes',\n",
       "       'compound_weighted_retweets'],\n",
       "      dtype='object')"
      ]
     },
     "execution_count": 68,
     "metadata": {},
     "output_type": "execute_result"
    }
   ],
   "source": [
    "features_df.columns"
   ]
  },
  {
   "cell_type": "markdown",
   "metadata": {},
   "source": [
    "For the first model, we are using the same features that we used in our Logistic Regression model so that we can compare the results of both models."
   ]
  },
  {
   "cell_type": "code",
   "execution_count": 69,
   "metadata": {},
   "outputs": [],
   "source": [
    "# Creating X and y \n",
    "\n",
    "features_lst = ['Close', 'gold_close', 'sp500_close', 'goog_trend_score', 'compound', 'compound_weighted_replies', \n",
    "'compound_weighted_likes', 'compound_weighted_retweets']\n",
    "\n",
    "y = features_df['Daily_Change_Ind']\n"
   ]
  },
  {
   "cell_type": "code",
   "execution_count": 75,
   "metadata": {},
   "outputs": [],
   "source": [
    "def predict_btc(rf_model, features):\n",
    "    '''\n",
    "    Fits a Random Forest model to predict whether the price of bitcoin will go up or down\n",
    "    Inputs:\n",
    "        rf_model: the random forest model\n",
    "        features: list of features to use\n",
    "    Returns: \n",
    "         yhat: predictions  \n",
    "    '''\n",
    "    \n",
    "    X = features_df[features]\n",
    "    X_train, X_test, y_train, y_test = train_test_split(X, y, random_state = 42)\n",
    "    \n",
    "    rf.fit(X_train, y_train)\n",
    "\n",
    "    yhat = rf.predict(X_test)\n",
    "    acc_score  = accuracy_score(y_test, yhat)\n",
    "    mse = mean_squared_error(y_test, yhat)\n",
    "    \n",
    "    print('Fraction of correctly classified samples: ', acc_score)\n",
    "    \n",
    "    return yhat\n"
   ]
  },
  {
   "cell_type": "code",
   "execution_count": 71,
   "metadata": {},
   "outputs": [
    {
     "name": "stdout",
     "output_type": "stream",
     "text": [
      "Fraction of correctly classified samples:  0.4806201550387597\n"
     ]
    }
   ],
   "source": [
    "rf = RandomForestClassifier()\n",
    "yhat1 = predict_btc(rf, features_lst)"
   ]
  },
  {
   "cell_type": "markdown",
   "metadata": {},
   "source": [
    "This accuracy is lower than the accuracy we got from fitting a logistic regresion model (0.5417721518987342), so we will experiment with some different hyperparamters, but still keep the same fetaures.\n",
    "\n",
    "\n",
    "\n",
    "n_estimators=10, criterion='gini', max_depth=None, min_samples_split=2, min_samples_leaf=1, max_features='auto', max_leaf_nodes=None, bootstrap=True, oob_score=False, n_jobs=1, random_state=None, verbose=0, min_density=None, compute_importances=None"
   ]
  },
  {
   "cell_type": "code",
   "execution_count": 72,
   "metadata": {},
   "outputs": [
    {
     "data": {
      "text/plain": [
       "GridSearchCV(cv=5, error_score=nan,\n",
       "             estimator=RandomForestClassifier(bootstrap=True, ccp_alpha=0.0,\n",
       "                                              class_weight=None,\n",
       "                                              criterion='gini', max_depth=None,\n",
       "                                              max_features='auto',\n",
       "                                              max_leaf_nodes=None,\n",
       "                                              max_samples=None,\n",
       "                                              min_impurity_decrease=0.0,\n",
       "                                              min_impurity_split=None,\n",
       "                                              min_samples_leaf=1,\n",
       "                                              min_samples_split=2,\n",
       "                                              min_weight_fraction_leaf=0.0,\n",
       "                                              n_estimators=100, n_jobs=None,\n",
       "                                              oob_score=False,\n",
       "                                              random_state=None, verbose=0,\n",
       "                                              warm_start=False),\n",
       "             iid='deprecated', n_jobs=None,\n",
       "             param_grid=[{'n_estimators': [5, 10, 15, 20, 25, 30]},\n",
       "                         {'max_features': ['sqrt', 'log2', None]},\n",
       "                         {'oob_score': [True, False]}],\n",
       "             pre_dispatch='2*n_jobs', refit=True, return_train_score=False,\n",
       "             scoring='accuracy', verbose=0)"
      ]
     },
     "execution_count": 72,
     "metadata": {},
     "output_type": "execute_result"
    }
   ],
   "source": [
    "param_grid = [{'n_estimators': [5, 10, 15, 20, 25, 30]}, {'max_features': ['sqrt', 'log2', None]},\n",
    "              {'oob_score': [True, False]}]\n",
    "\n",
    "\n",
    "X = features_df[features_lst]\n",
    "grid_search_rf = GridSearchCV(rf, param_grid, cv = 5, scoring = 'accuracy')\n",
    "grid_search_rf.fit(X, y)\n"
   ]
  },
  {
   "cell_type": "code",
   "execution_count": 74,
   "metadata": {},
   "outputs": [
    {
     "data": {
      "text/plain": [
       "{'n_estimators': 15}"
      ]
     },
     "execution_count": 74,
     "metadata": {},
     "output_type": "execute_result"
    }
   ],
   "source": [
    "best_hp = grid_search_rf.best_params_\n",
    "best_hp"
   ]
  },
  {
   "cell_type": "markdown",
   "metadata": {},
   "source": [
    "The best hyperparamter from our hyperparamter grid is n_estimators =15 so we'll fit a random forest using that"
   ]
  },
  {
   "cell_type": "code",
   "execution_count": 82,
   "metadata": {},
   "outputs": [
    {
     "name": "stdout",
     "output_type": "stream",
     "text": [
      "Fraction of correctly classified samples:  0.4935400516795866\n"
     ]
    }
   ],
   "source": [
    "rf_15 = RandomForestClassifier(n_estimators = 15)\n",
    "yhat15 = predict_btc(rf_15, features_lst)"
   ]
  },
  {
   "cell_type": "markdown",
   "metadata": {},
   "source": [
    "The accuracy has increased slightly, but it is still less than our accuracy from the logistic regression"
   ]
  },
  {
   "cell_type": "code",
   "execution_count": null,
   "metadata": {},
   "outputs": [],
   "source": []
  }
 ],
 "metadata": {
  "kernelspec": {
   "display_name": "Python 3",
   "language": "python",
   "name": "python3"
  },
  "language_info": {
   "codemirror_mode": {
    "name": "ipython",
    "version": 3
   },
   "file_extension": ".py",
   "mimetype": "text/x-python",
   "name": "python",
   "nbconvert_exporter": "python",
   "pygments_lexer": "ipython3",
   "version": "3.7.6"
  }
 },
 "nbformat": 4,
 "nbformat_minor": 4
}
