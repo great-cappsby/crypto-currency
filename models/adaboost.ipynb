{
 "cells": [
  {
   "cell_type": "code",
   "execution_count": 6,
   "metadata": {},
   "outputs": [
    {
     "data": {
      "text/html": [
       "        <script type=\"text/javascript\">\n",
       "        window.PlotlyConfig = {MathJaxConfig: 'local'};\n",
       "        if (window.MathJax && window.MathJax.Hub && window.MathJax.Hub.Config) {window.MathJax.Hub.Config({SVG: {font: \"STIX-Web\"}});}\n",
       "        if (typeof require !== 'undefined') {\n",
       "        require.undef(\"plotly\");\n",
       "        requirejs.config({\n",
       "            paths: {\n",
       "                'plotly': ['https://cdn.plot.ly/plotly-2.12.1.min']\n",
       "            }\n",
       "        });\n",
       "        require(['plotly'], function(Plotly) {\n",
       "            window._Plotly = Plotly;\n",
       "        });\n",
       "        }\n",
       "        </script>\n",
       "        "
      ]
     },
     "metadata": {},
     "output_type": "display_data"
    }
   ],
   "source": [
    "\n",
    "from sklearn.model_selection import train_test_split\n",
    "from sklearn.ensemble import AdaBoostClassifier\n",
    "from sklearn.tree import DecisionTreeClassifier\n",
    "from sklearn import metrics\n",
    "from sklearn.metrics import plot_confusion_matrix\n",
    "import pandas as pd\n",
    "import numpy as np \n",
    "from functools import partial\n",
    "import plotly.offline as py\n",
    "py.init_notebook_mode(connected=True)\n",
    "\n",
    "from sklearn.model_selection import cross_val_score\n",
    "from sklearn.model_selection import RepeatedStratifiedKFold\n",
    "from sklearn.model_selection import KFold\n",
    "from sklearn.model_selection import GridSearchCV"
   ]
  },
  {
   "cell_type": "markdown",
   "metadata": {},
   "source": [
    "# Step 1 - Use all variables"
   ]
  },
  {
   "cell_type": "code",
   "execution_count": 37,
   "metadata": {},
   "outputs": [
    {
     "data": {
      "text/html": [
       "<div>\n",
       "<style scoped>\n",
       "    .dataframe tbody tr th:only-of-type {\n",
       "        vertical-align: middle;\n",
       "    }\n",
       "\n",
       "    .dataframe tbody tr th {\n",
       "        vertical-align: top;\n",
       "    }\n",
       "\n",
       "    .dataframe thead th {\n",
       "        text-align: right;\n",
       "    }\n",
       "</style>\n",
       "<table border=\"1\" class=\"dataframe\">\n",
       "  <thead>\n",
       "    <tr style=\"text-align: right;\">\n",
       "      <th></th>\n",
       "      <th>Unnamed: 0</th>\n",
       "      <th>Date</th>\n",
       "      <th>Open</th>\n",
       "      <th>High</th>\n",
       "      <th>Low</th>\n",
       "      <th>Close</th>\n",
       "      <th>Volume</th>\n",
       "      <th>Daily_Change</th>\n",
       "      <th>Daily_Change_Ind</th>\n",
       "      <th>MACD</th>\n",
       "      <th>...</th>\n",
       "      <th>Daily_Change_Perc_Gold</th>\n",
       "      <th>Increased_Gold</th>\n",
       "      <th>RSI_Gold</th>\n",
       "      <th>Close/Last_SP500</th>\n",
       "      <th>Open_SP500</th>\n",
       "      <th>Daily_Change_SP500</th>\n",
       "      <th>Daily_Change_Perc_SP500</th>\n",
       "      <th>Increased_SP500</th>\n",
       "      <th>RSI_SP500</th>\n",
       "      <th>label</th>\n",
       "    </tr>\n",
       "  </thead>\n",
       "  <tbody>\n",
       "    <tr>\n",
       "      <th>0</th>\n",
       "      <td>268</td>\n",
       "      <td>2015-11-30</td>\n",
       "      <td>371.437012</td>\n",
       "      <td>382.363007</td>\n",
       "      <td>370.382996</td>\n",
       "      <td>377.321014</td>\n",
       "      <td>71701600</td>\n",
       "      <td>6.027008</td>\n",
       "      <td>1.0</td>\n",
       "      <td>10.296558</td>\n",
       "      <td>...</td>\n",
       "      <td>0.008807</td>\n",
       "      <td>1</td>\n",
       "      <td>33.968948</td>\n",
       "      <td>2080.41</td>\n",
       "      <td>2090.95</td>\n",
       "      <td>-10.54</td>\n",
       "      <td>-0.005041</td>\n",
       "      <td>0</td>\n",
       "      <td>57.384705</td>\n",
       "      <td>0.0</td>\n",
       "    </tr>\n",
       "    <tr>\n",
       "      <th>1</th>\n",
       "      <td>1016</td>\n",
       "      <td>2018-11-15</td>\n",
       "      <td>5736.149902</td>\n",
       "      <td>5774.819824</td>\n",
       "      <td>5358.379883</td>\n",
       "      <td>5648.029785</td>\n",
       "      <td>7032140000</td>\n",
       "      <td>-90.320313</td>\n",
       "      <td>0.0</td>\n",
       "      <td>-121.126607</td>\n",
       "      <td>...</td>\n",
       "      <td>0.002641</td>\n",
       "      <td>1</td>\n",
       "      <td>48.296230</td>\n",
       "      <td>2730.20</td>\n",
       "      <td>2693.52</td>\n",
       "      <td>36.68</td>\n",
       "      <td>0.013618</td>\n",
       "      <td>1</td>\n",
       "      <td>59.599184</td>\n",
       "      <td>0.0</td>\n",
       "    </tr>\n",
       "    <tr>\n",
       "      <th>2</th>\n",
       "      <td>1144</td>\n",
       "      <td>2019-05-23</td>\n",
       "      <td>7677.269043</td>\n",
       "      <td>7943.791504</td>\n",
       "      <td>7533.196777</td>\n",
       "      <td>7881.846680</td>\n",
       "      <td>24457107820</td>\n",
       "      <td>201.780274</td>\n",
       "      <td>1.0</td>\n",
       "      <td>625.729133</td>\n",
       "      <td>...</td>\n",
       "      <td>0.009777</td>\n",
       "      <td>1</td>\n",
       "      <td>53.162762</td>\n",
       "      <td>2822.24</td>\n",
       "      <td>2836.70</td>\n",
       "      <td>-14.46</td>\n",
       "      <td>-0.005097</td>\n",
       "      <td>0</td>\n",
       "      <td>41.547984</td>\n",
       "      <td>1.0</td>\n",
       "    </tr>\n",
       "    <tr>\n",
       "      <th>3</th>\n",
       "      <td>1082</td>\n",
       "      <td>2019-02-25</td>\n",
       "      <td>3807.002441</td>\n",
       "      <td>3913.707275</td>\n",
       "      <td>3807.002441</td>\n",
       "      <td>3882.696289</td>\n",
       "      <td>9318796067</td>\n",
       "      <td>72.268799</td>\n",
       "      <td>1.0</td>\n",
       "      <td>94.876946</td>\n",
       "      <td>...</td>\n",
       "      <td>-0.001802</td>\n",
       "      <td>0</td>\n",
       "      <td>58.979842</td>\n",
       "      <td>2796.11</td>\n",
       "      <td>2804.35</td>\n",
       "      <td>-8.24</td>\n",
       "      <td>-0.002938</td>\n",
       "      <td>0</td>\n",
       "      <td>45.563129</td>\n",
       "      <td>0.0</td>\n",
       "    </tr>\n",
       "    <tr>\n",
       "      <th>4</th>\n",
       "      <td>1149</td>\n",
       "      <td>2019-05-31</td>\n",
       "      <td>8320.286133</td>\n",
       "      <td>8586.659180</td>\n",
       "      <td>8172.550781</td>\n",
       "      <td>8574.501953</td>\n",
       "      <td>25365190957</td>\n",
       "      <td>255.029297</td>\n",
       "      <td>1.0</td>\n",
       "      <td>608.732748</td>\n",
       "      <td>...</td>\n",
       "      <td>0.013842</td>\n",
       "      <td>1</td>\n",
       "      <td>63.288965</td>\n",
       "      <td>2752.06</td>\n",
       "      <td>2766.15</td>\n",
       "      <td>-14.09</td>\n",
       "      <td>-0.005094</td>\n",
       "      <td>0</td>\n",
       "      <td>20.448755</td>\n",
       "      <td>0.0</td>\n",
       "    </tr>\n",
       "  </tbody>\n",
       "</table>\n",
       "<p>5 rows × 65 columns</p>\n",
       "</div>"
      ],
      "text/plain": [
       "   Unnamed: 0        Date         Open         High          Low        Close  \\\n",
       "0         268  2015-11-30   371.437012   382.363007   370.382996   377.321014   \n",
       "1        1016  2018-11-15  5736.149902  5774.819824  5358.379883  5648.029785   \n",
       "2        1144  2019-05-23  7677.269043  7943.791504  7533.196777  7881.846680   \n",
       "3        1082  2019-02-25  3807.002441  3913.707275  3807.002441  3882.696289   \n",
       "4        1149  2019-05-31  8320.286133  8586.659180  8172.550781  8574.501953   \n",
       "\n",
       "        Volume  Daily_Change  Daily_Change_Ind        MACD  ...  \\\n",
       "0     71701600      6.027008               1.0   10.296558  ...   \n",
       "1   7032140000    -90.320313               0.0 -121.126607  ...   \n",
       "2  24457107820    201.780274               1.0  625.729133  ...   \n",
       "3   9318796067     72.268799               1.0   94.876946  ...   \n",
       "4  25365190957    255.029297               1.0  608.732748  ...   \n",
       "\n",
       "   Daily_Change_Perc_Gold  Increased_Gold   RSI_Gold  Close/Last_SP500  \\\n",
       "0                0.008807               1  33.968948           2080.41   \n",
       "1                0.002641               1  48.296230           2730.20   \n",
       "2                0.009777               1  53.162762           2822.24   \n",
       "3               -0.001802               0  58.979842           2796.11   \n",
       "4                0.013842               1  63.288965           2752.06   \n",
       "\n",
       "   Open_SP500  Daily_Change_SP500  Daily_Change_Perc_SP500  Increased_SP500  \\\n",
       "0     2090.95              -10.54                -0.005041                0   \n",
       "1     2693.52               36.68                 0.013618                1   \n",
       "2     2836.70              -14.46                -0.005097                0   \n",
       "3     2804.35               -8.24                -0.002938                0   \n",
       "4     2766.15              -14.09                -0.005094                0   \n",
       "\n",
       "   RSI_SP500  label  \n",
       "0  57.384705    0.0  \n",
       "1  59.599184    0.0  \n",
       "2  41.547984    1.0  \n",
       "3  45.563129    0.0  \n",
       "4  20.448755    0.0  \n",
       "\n",
       "[5 rows x 65 columns]"
      ]
     },
     "execution_count": 37,
     "metadata": {},
     "output_type": "execute_result"
    }
   ],
   "source": [
    "features_df = pd.read_csv(\"bitcoin_train.csv\")\n",
    "features_df.head()"
   ]
  },
  {
   "cell_type": "code",
   "execution_count": 38,
   "metadata": {},
   "outputs": [
    {
     "name": "stdout",
     "output_type": "stream",
     "text": [
      "['Daily_Change', 'Daily_Change_Ind', 'MACD', 'PROC_3', 'PROC_5', 'PROC_10', 'wpr', 'sto_os', 'goog_trend_score', 'retweets_count', 'replies_count', 'Daily_Change_Perc', 'Daily_Change_Perc_Gold', 'Daily_Change_SP500', 'Daily_Change_Perc_SP500', 'compound_weighted', 'compound_weighted_avg7', 'compound_weighted_daily_diff', 'compound_weighted_weekly_diff', 'replies_count_daily_diff', 'replies_count_avg7', 'replies_count_weekly_diff', 'count', 'count_daily_diff', 'count_weekly_diff', 'RSI']\n",
      "label\n"
     ]
    }
   ],
   "source": [
    "features_df.columns\n",
    "\n",
    "feature_lst = ['Daily_Change', 'Daily_Change_Ind', 'MACD', 'PROC_3', 'PROC_5','PROC_10', 'wpr',\\\n",
    "                'sto_os', 'goog_trend_score', 'retweets_count', \\\n",
    "                'replies_count', 'Daily_Change_Perc', \\\n",
    "                'Daily_Change_Perc_Gold', \\\n",
    "                'Daily_Change_SP500', 'Daily_Change_Perc_SP500', \\\n",
    "                'compound_weighted', 'compound_weighted_avg7', \\\n",
    "                'compound_weighted_daily_diff' , 'compound_weighted_weekly_diff',\n",
    "                'replies_count_daily_diff', 'replies_count_avg7', 'replies_count_weekly_diff',\n",
    "                'count', 'count_daily_diff', 'count_weekly_diff', 'RSI']\n",
    "\n",
    "outcome = features_df.columns[-1]\n",
    "\n",
    "print(feature_lst)\n",
    "print(outcome)"
   ]
  },
  {
   "cell_type": "code",
   "execution_count": 39,
   "metadata": {},
   "outputs": [
    {
     "name": "stdout",
     "output_type": "stream",
     "text": [
      "(1246, 26) (1246,)\n"
     ]
    }
   ],
   "source": [
    "X = features_df[feature_lst]\n",
    "y = features_df[outcome]\n",
    "print(X.shape, y.shape)"
   ]
  },
  {
   "cell_type": "code",
   "execution_count": 40,
   "metadata": {},
   "outputs": [],
   "source": [
    "X_train, X_valid, y_train, y_valid = train_test_split(X, y, random_state = 1234)"
   ]
  },
  {
   "cell_type": "code",
   "execution_count": 41,
   "metadata": {},
   "outputs": [
    {
     "name": "stdout",
     "output_type": "stream",
     "text": [
      "Best: 0.562453 using {'base_estimator__max_depth': 1, 'learning_rate': 0.1, 'n_estimators': 500}\n",
      "0.554862 (0.034373) with: {'base_estimator__max_depth': 1, 'learning_rate': 0.01, 'n_estimators': 100}\n",
      "0.556699 (0.040988) with: {'base_estimator__max_depth': 1, 'learning_rate': 0.01, 'n_estimators': 500}\n",
      "0.554560 (0.040501) with: {'base_estimator__max_depth': 1, 'learning_rate': 0.01, 'n_estimators': 1000}\n",
      "0.554579 (0.040892) with: {'base_estimator__max_depth': 1, 'learning_rate': 0.1, 'n_estimators': 100}\n",
      "0.562453 (0.038037) with: {'base_estimator__max_depth': 1, 'learning_rate': 0.1, 'n_estimators': 500}\n",
      "0.548917 (0.040531) with: {'base_estimator__max_depth': 1, 'learning_rate': 0.1, 'n_estimators': 1000}\n",
      "0.547445 (0.037467) with: {'base_estimator__max_depth': 2, 'learning_rate': 0.01, 'n_estimators': 100}\n",
      "0.542088 (0.037739) with: {'base_estimator__max_depth': 2, 'learning_rate': 0.01, 'n_estimators': 500}\n",
      "0.546736 (0.036551) with: {'base_estimator__max_depth': 2, 'learning_rate': 0.01, 'n_estimators': 1000}\n",
      "0.548543 (0.040002) with: {'base_estimator__max_depth': 2, 'learning_rate': 0.1, 'n_estimators': 100}\n",
      "0.536761 (0.047027) with: {'base_estimator__max_depth': 2, 'learning_rate': 0.1, 'n_estimators': 500}\n",
      "0.524293 (0.048098) with: {'base_estimator__max_depth': 2, 'learning_rate': 0.1, 'n_estimators': 1000}\n"
     ]
    }
   ],
   "source": [
    "model = AdaBoostClassifier(base_estimator=DecisionTreeClassifier())\n",
    "# define the grid of values to search\n",
    "grid = dict()\n",
    "\n",
    "param_grids  = {'base_estimator__max_depth':[1,2],\n",
    "              'n_estimators':[100,500,1000],\n",
    "              'learning_rate':[0.01,0.1]}\n",
    "\n",
    "# define the evaluation procedure\n",
    "cv = RepeatedStratifiedKFold(n_splits = 10, n_repeats = 3, random_state = 1234)\n",
    "\n",
    "# define the grid search procedure\n",
    "grid_search = GridSearchCV(estimator = model, param_grid = param_grids, n_jobs = -1, cv = cv, scoring = 'accuracy')\n",
    "# execute the grid search\n",
    "grid_result = grid_search.fit(X_train, y_train)\n",
    "# summarize the best score and configuration\n",
    "print(\"Best: %f using %s\" % (grid_result.best_score_, grid_result.best_params_))\n",
    "\n",
    "# summarize all scores that were evaluated\n",
    "means = grid_result.cv_results_['mean_test_score']\n",
    "stds = grid_result.cv_results_['std_test_score']\n",
    "params = grid_result.cv_results_['params']\n",
    "\n",
    "mean_results = []\n",
    "for mean, stdev, param in zip(means, stds, params):\n",
    "    print(\"%f (%f) with: %r\" % (mean, stdev, param))\n",
    "    mean_results.append(mean)"
   ]
  },
  {
   "cell_type": "markdown",
   "metadata": {},
   "source": [
    "Rerun adaboost with chosen hyperparameters"
   ]
  },
  {
   "cell_type": "code",
   "execution_count": 42,
   "metadata": {},
   "outputs": [
    {
     "name": "stdout",
     "output_type": "stream",
     "text": [
      "chosen_n: 500\n",
      "chosen_learning_rate: 0.1\n"
     ]
    }
   ],
   "source": [
    "chosen_depth = list(grid_result.best_params_.values())[0]\n",
    "chosen_learning_rate = list(grid_result.best_params_.values())[1]\n",
    "chosen_n = list(grid_result.best_params_.values())[2]\n",
    "print(\"chosen_n:\", chosen_n)\n",
    "print(\"chosen_learning_rate:\", chosen_learning_rate)\n",
    "\n",
    "base_estimator = DecisionTreeClassifier(max_depth = chosen_depth, random_state = 1234)\n",
    "adaboost = AdaBoostClassifier(base_estimator = base_estimator, n_estimators = chosen_n,\n",
    "                              learning_rate = chosen_learning_rate, random_state = 1234)\n",
    "# Train Adaboost Classifer\n",
    "adaboost.fit(X_train, y_train)\n",
    "\n",
    "# Predict the response for valid dataset\n",
    "y_hat = adaboost.predict(X_valid)"
   ]
  },
  {
   "cell_type": "code",
   "execution_count": 43,
   "metadata": {},
   "outputs": [
    {
     "name": "stdout",
     "output_type": "stream",
     "text": [
      "Accuracy: 0.5160256410256411\n",
      "CONFUSION: [[ 49  92]\n",
      " [ 59 112]]\n"
     ]
    }
   ],
   "source": [
    "# Model Accuracy with chosen decision tree depth and chosen hyperparameters\n",
    "accuracy_score = metrics.accuracy_score(y_valid, y_hat)\n",
    "confusion = metrics.confusion_matrix(y_valid, y_hat) \n",
    "\n",
    "print(\"Accuracy:\", accuracy_score)\n",
    "print(\"CONFUSION:\", confusion)"
   ]
  },
  {
   "cell_type": "markdown",
   "metadata": {},
   "source": [
    "-------------\n",
    "FINAL TESTING ON COMBINED VARS BITCOIN\n",
    "____"
   ]
  },
  {
   "cell_type": "code",
   "execution_count": 44,
   "metadata": {},
   "outputs": [],
   "source": [
    "features_df_test = pd.read_csv(\"bitcoin_test.csv\")\n",
    "features_df_test.head()\n",
    "features_df_test.columns\n",
    "\n",
    "feature_lst = ['Daily_Change', 'Daily_Change_Ind', 'MACD', 'PROC_3', 'PROC_5','PROC_10', 'wpr',\\\n",
    "                'sto_os', 'goog_trend_score', 'retweets_count', \\\n",
    "                'replies_count', 'Daily_Change_Perc', \\\n",
    "                'Daily_Change_Perc_Gold', \\\n",
    "                'Daily_Change_SP500', 'Daily_Change_Perc_SP500', \\\n",
    "                'compound_weighted', 'compound_weighted_avg7', \\\n",
    "                'compound_weighted_daily_diff' , 'compound_weighted_weekly_diff',\n",
    "                'replies_count_daily_diff', 'replies_count_avg7', 'replies_count_weekly_diff',\n",
    "                'count', 'count_daily_diff', 'count_weekly_diff', 'RSI']\n",
    "\n",
    "outcome = features_df_test.columns[-1]\n",
    "\n",
    "X_test = features_df_test[feature_lst]\n",
    "y_test = features_df_test[outcome]\n"
   ]
  },
  {
   "cell_type": "code",
   "execution_count": 45,
   "metadata": {},
   "outputs": [
    {
     "name": "stdout",
     "output_type": "stream",
     "text": [
      "chosen_n: 500\n",
      "chosen_learning_rate: 0.1\n"
     ]
    }
   ],
   "source": [
    "chosen_depth = list(grid_result.best_params_.values())[0]\n",
    "chosen_learning_rate = list(grid_result.best_params_.values())[1]\n",
    "chosen_n = list(grid_result.best_params_.values())[2]\n",
    "print(\"chosen_n:\", chosen_n)\n",
    "print(\"chosen_learning_rate:\", chosen_learning_rate)\n",
    "\n",
    "base_estimator = DecisionTreeClassifier(max_depth = chosen_depth, random_state = 1234)\n",
    "adaboost = AdaBoostClassifier(base_estimator = base_estimator, n_estimators = chosen_n,\n",
    "                              learning_rate = chosen_learning_rate, random_state = 1234)\n",
    "# Train Adaboost Classifer\n",
    "adaboost.fit(X_train, y_train) \n",
    "\n",
    "# Predict the response for valid dataset\n",
    "y_hat = adaboost.predict(X_test)\n"
   ]
  },
  {
   "cell_type": "code",
   "execution_count": 46,
   "metadata": {},
   "outputs": [
    {
     "name": "stdout",
     "output_type": "stream",
     "text": [
      "Accuracy: 0.5480769230769231\n",
      "CONFUSION: [[ 52  83]\n",
      " [ 58 119]]\n"
     ]
    }
   ],
   "source": [
    "# Model Accuracy with chosen decision tree depth and chosen hyperparameters\n",
    "accuracy_score = metrics.accuracy_score(y_test, y_hat)\n",
    "confusion = metrics.confusion_matrix(y_test, y_hat) \n",
    "\n",
    "print(\"Accuracy:\", accuracy_score)\n",
    "print(\"CONFUSION:\", confusion)"
   ]
  },
  {
   "cell_type": "code",
   "execution_count": 47,
   "metadata": {},
   "outputs": [
    {
     "name": "stdout",
     "output_type": "stream",
     "text": [
      "Daily_Change: 0.016\n",
      "Daily_Change_Ind: 0.0\n",
      "MACD: 0.094\n",
      "PROC_3: 0.026\n",
      "PROC_5: 0.026\n",
      "PROC_10: 0.058\n",
      "wpr: 0.052\n",
      "sto_os: 0.03\n",
      "goog_trend_score: 0.03\n",
      "retweets_count: 0.042\n",
      "replies_count: 0.026\n",
      "Daily_Change_Perc: 0.016\n",
      "Daily_Change_Perc_Gold: 0.034\n",
      "Daily_Change_SP500: 0.028\n",
      "Daily_Change_Perc_SP500: 0.024\n",
      "compound_weighted: 0.038\n",
      "compound_weighted_avg7: 0.048\n",
      "compound_weighted_daily_diff: 0.044\n",
      "compound_weighted_weekly_diff: 0.034\n",
      "replies_count_daily_diff: 0.05\n",
      "replies_count_avg7: 0.078\n",
      "replies_count_weekly_diff: 0.052\n",
      "count: 0.004\n",
      "count_daily_diff: 0.038\n",
      "count_weekly_diff: 0.072\n",
      "RSI: 0.04\n"
     ]
    }
   ],
   "source": [
    "feature_import = adaboost.feature_importances_\n",
    "for i in range(len(feature_lst)):\n",
    "    print(f\"{feature_lst[i]}: {feature_import[i]}\")"
   ]
  },
  {
   "cell_type": "code",
   "execution_count": 48,
   "metadata": {},
   "outputs": [
    {
     "name": "stdout",
     "output_type": "stream",
     "text": [
      "[[ 52  83]\n",
      " [ 58 119]]\n"
     ]
    },
    {
     "data": {
      "image/png": "[encoded data removed]",
      "text/plain": [
       "<Figure size 432x288 with 2 Axes>"
      ]
     },
     "metadata": {
      "needs_background": "light"
     },
     "output_type": "display_data"
    }
   ],
   "source": [
    "plot_confusion_matrix(adaboost, X_test, y_test)\n",
    "print(metrics.confusion_matrix(y_test, y_hat))"
   ]
  },
  {
   "cell_type": "markdown",
   "metadata": {},
   "source": [
    "# Repeat bitcoin financial variables only"
   ]
  },
  {
   "cell_type": "code",
   "execution_count": 20,
   "metadata": {},
   "outputs": [],
   "source": [
    "features_df = pd.read_csv(\"bitcoin_train.csv\")\n",
    "features_df.columns\n",
    "\n",
    "feature_lst = ['Daily_Change', 'Daily_Change_Ind', 'MACD', 'PROC_3', 'PROC_5','PROC_10', 'wpr',\\\n",
    "                'sto_os', \\\n",
    "                'replies_count', 'Daily_Change_Perc', \\\n",
    "                'Daily_Change_Perc_Gold', \\\n",
    "                'Daily_Change_SP500', 'Daily_Change_Perc_SP500', 'RSI']\n",
    "\n",
    "outcome = features_df.columns[-1]\n",
    "\n",
    "X = features_df[feature_lst]\n",
    "y = features_df[outcome]\n",
    "X_train, X_valid, y_train, y_valid = train_test_split(X, y, random_state = 1234)"
   ]
  },
  {
   "cell_type": "code",
   "execution_count": 21,
   "metadata": {},
   "outputs": [
    {
     "name": "stdout",
     "output_type": "stream",
     "text": [
      "Best: 0.572775 using {'base_estimator__max_depth': 1, 'learning_rate': 0.01, 'n_estimators': 1000}\n",
      "0.557027 (0.040750) with: {'base_estimator__max_depth': 1, 'learning_rate': 0.01, 'n_estimators': 100}\n",
      "0.567052 (0.037960) with: {'base_estimator__max_depth': 1, 'learning_rate': 0.01, 'n_estimators': 500}\n",
      "0.572775 (0.042266) with: {'base_estimator__max_depth': 1, 'learning_rate': 0.01, 'n_estimators': 1000}\n",
      "0.566018 (0.045879) with: {'base_estimator__max_depth': 1, 'learning_rate': 0.1, 'n_estimators': 100}\n",
      "0.550305 (0.040061) with: {'base_estimator__max_depth': 1, 'learning_rate': 0.1, 'n_estimators': 500}\n",
      "0.543869 (0.044943) with: {'base_estimator__max_depth': 1, 'learning_rate': 0.1, 'n_estimators': 1000}\n",
      "0.547011 (0.046142) with: {'base_estimator__max_depth': 2, 'learning_rate': 0.01, 'n_estimators': 100}\n",
      "0.548116 (0.042234) with: {'base_estimator__max_depth': 2, 'learning_rate': 0.01, 'n_estimators': 500}\n",
      "0.532769 (0.044890) with: {'base_estimator__max_depth': 2, 'learning_rate': 0.01, 'n_estimators': 1000}\n",
      "0.537402 (0.051886) with: {'base_estimator__max_depth': 2, 'learning_rate': 0.1, 'n_estimators': 100}\n",
      "0.506757 (0.047626) with: {'base_estimator__max_depth': 2, 'learning_rate': 0.1, 'n_estimators': 500}\n",
      "0.498909 (0.045625) with: {'base_estimator__max_depth': 2, 'learning_rate': 0.1, 'n_estimators': 1000}\n"
     ]
    }
   ],
   "source": [
    "model = AdaBoostClassifier(base_estimator=DecisionTreeClassifier())\n",
    "# define the grid of values to search\n",
    "grid = dict()\n",
    "param_grids  = {'base_estimator__max_depth':[1,2],\n",
    "              'n_estimators':[100,500,1000],\n",
    "              'learning_rate':[0.01,0.1]}\n",
    "              \n",
    "# define the evaluation procedure\n",
    "cv = RepeatedStratifiedKFold(n_splits = 10, n_repeats = 3, random_state = 1234)\n",
    "\n",
    "# define the grid search procedure\n",
    "grid_search = GridSearchCV(estimator = model, param_grid = param_grids, n_jobs = -1, cv = cv, scoring = 'accuracy')\n",
    "# execute the grid search\n",
    "grid_result = grid_search.fit(X_train, y_train)\n",
    "# summarize the best score and configuration\n",
    "print(\"Best: %f using %s\" % (grid_result.best_score_, grid_result.best_params_))\n",
    "\n",
    "# summarize all scores that were evaluated\n",
    "means = grid_result.cv_results_['mean_test_score']\n",
    "stds = grid_result.cv_results_['std_test_score']\n",
    "params = grid_result.cv_results_['params']\n",
    "\n",
    "mean_results = []\n",
    "for mean, stdev, param in zip(means, stds, params):\n",
    "    print(\"%f (%f) with: %r\" % (mean, stdev, param))\n",
    "    mean_results.append(mean)"
   ]
  },
  {
   "cell_type": "code",
   "execution_count": 22,
   "metadata": {},
   "outputs": [
    {
     "name": "stdout",
     "output_type": "stream",
     "text": [
      "chosen_n: 1000\n",
      "chosen_learning_rate: 0.01\n"
     ]
    }
   ],
   "source": [
    "chosen_depth = list(grid_result.best_params_.values())[0]\n",
    "chosen_learning_rate = list(grid_result.best_params_.values())[1]\n",
    "chosen_n = list(grid_result.best_params_.values())[2]\n",
    "print(\"chosen_n:\", chosen_n)\n",
    "print(\"chosen_learning_rate:\", chosen_learning_rate)\n",
    "\n",
    "base_estimator = DecisionTreeClassifier(max_depth = chosen_depth, random_state = 1234)\n",
    "adaboost = AdaBoostClassifier(base_estimator = base_estimator, n_estimators = chosen_n,\n",
    "                              learning_rate = chosen_learning_rate, random_state = 1234)\n",
    "# Train Adaboost Classifer\n",
    "adaboost.fit(X_train, y_train)\n",
    "\n",
    "# Predict the response for valid dataset\n",
    "y_hat = adaboost.predict(X_valid)"
   ]
  },
  {
   "cell_type": "code",
   "execution_count": 23,
   "metadata": {},
   "outputs": [
    {
     "name": "stdout",
     "output_type": "stream",
     "text": [
      "Accuracy: 0.5064102564102564\n",
      "CONFUSION: [[ 44  97]\n",
      " [ 57 114]]\n"
     ]
    }
   ],
   "source": [
    "accuracy_score = metrics.accuracy_score(y_valid, y_hat)\n",
    "confusion = metrics.confusion_matrix(y_valid, y_hat) \n",
    "\n",
    "print(\"Accuracy:\", accuracy_score)\n",
    "print(\"CONFUSION:\", confusion)"
   ]
  },
  {
   "cell_type": "markdown",
   "metadata": {},
   "source": [
    "-------------\n",
    "FINAL TESTING ON FINANCIAL VARS BITCOIN\n",
    "____"
   ]
  },
  {
   "cell_type": "code",
   "execution_count": 24,
   "metadata": {},
   "outputs": [],
   "source": [
    "features_df_test = pd.read_csv(\"bitcoin_test.csv\")\n",
    "features_df_test.head()\n",
    "features_df_test.columns\n",
    "\n",
    "feature_lst = ['Daily_Change', 'Daily_Change_Ind', 'MACD', 'PROC_3', 'PROC_5','PROC_10', 'wpr',\\\n",
    "                'sto_os', \\\n",
    "                'replies_count', 'Daily_Change_Perc', \\\n",
    "                'Daily_Change_Perc_Gold', \\\n",
    "                'Daily_Change_SP500', 'Daily_Change_Perc_SP500', 'RSI']\n",
    "\n",
    "outcome = features_df_test.columns[-1]\n",
    "\n",
    "X_test = features_df_test[feature_lst]\n",
    "y_test = features_df_test[outcome]\n"
   ]
  },
  {
   "cell_type": "code",
   "execution_count": 25,
   "metadata": {},
   "outputs": [
    {
     "name": "stdout",
     "output_type": "stream",
     "text": [
      "chosen_n: 1000\n",
      "chosen_learning_rate: 0.01\n"
     ]
    }
   ],
   "source": [
    "chosen_depth = list(grid_result.best_params_.values())[0]\n",
    "chosen_learning_rate = list(grid_result.best_params_.values())[1]\n",
    "chosen_n = list(grid_result.best_params_.values())[2]\n",
    "print(\"chosen_n:\", chosen_n)\n",
    "print(\"chosen_learning_rate:\", chosen_learning_rate)\n",
    "\n",
    "base_estimator = DecisionTreeClassifier(max_depth = chosen_depth, random_state = 1234)\n",
    "adaboost = AdaBoostClassifier(base_estimator = base_estimator, n_estimators = chosen_n,\n",
    "                              learning_rate = chosen_learning_rate, random_state = 1234)\n",
    "# Train Adaboost Classifer\n",
    "adaboost.fit(X_train, y_train) \n",
    "\n",
    "# Predict the response for valid dataset\n",
    "y_hat = adaboost.predict(X_test)"
   ]
  },
  {
   "cell_type": "code",
   "execution_count": 26,
   "metadata": {},
   "outputs": [
    {
     "name": "stdout",
     "output_type": "stream",
     "text": [
      "Accuracy: 0.5384615384615384\n",
      "CONFUSION: [[ 46  89]\n",
      " [ 55 122]]\n"
     ]
    }
   ],
   "source": [
    "accuracy_score = metrics.accuracy_score(y_test, y_hat)\n",
    "confusion = metrics.confusion_matrix(y_test, y_hat) \n",
    "\n",
    "print(\"Accuracy:\", accuracy_score)\n",
    "print(\"CONFUSION:\", confusion)"
   ]
  },
  {
   "cell_type": "code",
   "execution_count": 27,
   "metadata": {},
   "outputs": [
    {
     "name": "stdout",
     "output_type": "stream",
     "text": [
      "Daily_Change: 0.0\n",
      "Daily_Change_Ind: 0.0\n",
      "MACD: 0.244\n",
      "PROC_3: 0.099\n",
      "PROC_5: 0.001\n",
      "PROC_10: 0.181\n",
      "wpr: 0.057\n",
      "sto_os: 0.051\n",
      "replies_count: 0.122\n",
      "Daily_Change_Perc: 0.059\n",
      "Daily_Change_Perc_Gold: 0.026\n",
      "Daily_Change_SP500: 0.014\n",
      "Daily_Change_Perc_SP500: 0.079\n",
      "RSI: 0.067\n"
     ]
    }
   ],
   "source": [
    "feature_import = adaboost.feature_importances_\n",
    "for i in range(len(feature_lst)):\n",
    "    print(f\"{feature_lst[i]}: {feature_import[i]}\")"
   ]
  },
  {
   "cell_type": "code",
   "execution_count": 28,
   "metadata": {},
   "outputs": [
    {
     "name": "stdout",
     "output_type": "stream",
     "text": [
      "[[ 46  89]\n",
      " [ 55 122]]\n"
     ]
    },
    {
     "data": {
      "image/png": "[encoded data removed]",
      "text/plain": [
       "<Figure size 432x288 with 2 Axes>"
      ]
     },
     "metadata": {
      "needs_background": "light"
     },
     "output_type": "display_data"
    }
   ],
   "source": [
    "plot_confusion_matrix(adaboost, X_test, y_test)\n",
    "print(metrics.confusion_matrix(y_test, y_hat))"
   ]
  },
  {
   "cell_type": "markdown",
   "metadata": {},
   "source": [
    "----------------------------------"
   ]
  },
  {
   "cell_type": "markdown",
   "metadata": {},
   "source": [
    "# Repeat for tweets vars"
   ]
  },
  {
   "cell_type": "code",
   "execution_count": 29,
   "metadata": {},
   "outputs": [
    {
     "name": "stdout",
     "output_type": "stream",
     "text": [
      "['goog_trend_score', 'retweets_count', 'replies_count', 'compound_weighted', 'compound_weighted_avg7', 'compound_weighted_daily_diff', 'compound_weighted_weekly_diff', 'replies_count_daily_diff', 'replies_count_avg7', 'replies_count_weekly_diff', 'count', 'count_daily_diff', 'count_weekly_diff']\n",
      "label\n"
     ]
    }
   ],
   "source": [
    "features_df = pd.read_csv(\"bitcoin_train.csv\")\n",
    "\n",
    "feature_lst = [ 'goog_trend_score', 'retweets_count', \\\n",
    "                'replies_count', \\\n",
    "                'compound_weighted', 'compound_weighted_avg7', \\\n",
    "                'compound_weighted_daily_diff' , 'compound_weighted_weekly_diff',\n",
    "                'replies_count_daily_diff', 'replies_count_avg7', 'replies_count_weekly_diff',\n",
    "                'count', 'count_daily_diff', 'count_weekly_diff']\n",
    "\n",
    "outcome = features_df.columns[-1]\n",
    "\n",
    "print(feature_lst)\n",
    "print(outcome)\n",
    "\n",
    "outcome = features_df.columns[-1]\n",
    "\n",
    "X = features_df[feature_lst]\n",
    "y = features_df[outcome]\n",
    "X_train, X_valid, y_train, y_valid = train_test_split(X, y, random_state = 1234)"
   ]
  },
  {
   "cell_type": "code",
   "execution_count": 30,
   "metadata": {},
   "outputs": [
    {
     "name": "stdout",
     "output_type": "stream",
     "text": [
      "Best: 0.562072 using {'base_estimator__max_depth': 1, 'learning_rate': 0.1, 'n_estimators': 100}\n",
      "0.561687 (0.031566) with: {'base_estimator__max_depth': 1, 'learning_rate': 0.01, 'n_estimators': 100}\n",
      "0.554568 (0.036579) with: {'base_estimator__max_depth': 1, 'learning_rate': 0.01, 'n_estimators': 500}\n",
      "0.561359 (0.036729) with: {'base_estimator__max_depth': 1, 'learning_rate': 0.01, 'n_estimators': 1000}\n",
      "0.562072 (0.035564) with: {'base_estimator__max_depth': 1, 'learning_rate': 0.1, 'n_estimators': 100}\n",
      "0.556711 (0.037838) with: {'base_estimator__max_depth': 1, 'learning_rate': 0.1, 'n_estimators': 500}\n",
      "0.542069 (0.039393) with: {'base_estimator__max_depth': 1, 'learning_rate': 0.1, 'n_estimators': 1000}\n",
      "0.539907 (0.042809) with: {'base_estimator__max_depth': 2, 'learning_rate': 0.01, 'n_estimators': 100}\n",
      "0.555632 (0.046210) with: {'base_estimator__max_depth': 2, 'learning_rate': 0.01, 'n_estimators': 500}\n",
      "0.554587 (0.055437) with: {'base_estimator__max_depth': 2, 'learning_rate': 0.01, 'n_estimators': 1000}\n",
      "0.557843 (0.053928) with: {'base_estimator__max_depth': 2, 'learning_rate': 0.1, 'n_estimators': 100}\n",
      "0.537554 (0.045560) with: {'base_estimator__max_depth': 2, 'learning_rate': 0.1, 'n_estimators': 500}\n",
      "0.530367 (0.045157) with: {'base_estimator__max_depth': 2, 'learning_rate': 0.1, 'n_estimators': 1000}\n"
     ]
    }
   ],
   "source": [
    "model = AdaBoostClassifier(base_estimator=DecisionTreeClassifier())\n",
    "grid = dict()\n",
    "\n",
    "param_grids  = {'base_estimator__max_depth':[1,2],\n",
    "              'n_estimators':[100,500,1000],\n",
    "              'learning_rate':[0.01,0.1]}\n",
    "\n",
    "# define the evaluation procedure\n",
    "cv = RepeatedStratifiedKFold(n_splits = 10, n_repeats = 3, random_state = 1234)\n",
    "\n",
    "# define the grid search procedure\n",
    "grid_search = GridSearchCV(estimator = model, param_grid = param_grids, n_jobs = -1, cv = cv, scoring = 'accuracy')\n",
    "# execute the grid search\n",
    "grid_result = grid_search.fit(X_train, y_train)\n",
    "# summarize the best score and configuration\n",
    "print(\"Best: %f using %s\" % (grid_result.best_score_, grid_result.best_params_))\n",
    "\n",
    "# summarize all scores that were evaluated\n",
    "means = grid_result.cv_results_['mean_test_score']\n",
    "stds = grid_result.cv_results_['std_test_score']\n",
    "params = grid_result.cv_results_['params']\n",
    "\n",
    "mean_results = []\n",
    "for mean, stdev, param in zip(means, stds, params):\n",
    "    print(\"%f (%f) with: %r\" % (mean, stdev, param))\n",
    "    mean_results.append(mean)"
   ]
  },
  {
   "cell_type": "code",
   "execution_count": 31,
   "metadata": {},
   "outputs": [
    {
     "name": "stdout",
     "output_type": "stream",
     "text": [
      "chosen_n: 100\n",
      "chosen_learning_rate: 0.1\n"
     ]
    }
   ],
   "source": [
    "chosen_depth = list(grid_result.best_params_.values())[0]\n",
    "chosen_learning_rate = list(grid_result.best_params_.values())[1]\n",
    "chosen_n = list(grid_result.best_params_.values())[2]\n",
    "print(\"chosen_n:\", chosen_n)\n",
    "print(\"chosen_learning_rate:\", chosen_learning_rate)\n",
    "\n",
    "base_estimator = DecisionTreeClassifier(max_depth = chosen_depth, random_state = 1234)\n",
    "adaboost = AdaBoostClassifier(base_estimator = base_estimator, n_estimators = chosen_n,\n",
    "                              learning_rate = chosen_learning_rate, random_state = 1234)\n",
    "# Train Adaboost Classifer\n",
    "adaboost.fit(X_train, y_train)\n",
    "\n",
    "# Predict the response for valid dataset\n",
    "y_hat = adaboost.predict(X_valid)"
   ]
  },
  {
   "cell_type": "code",
   "execution_count": 32,
   "metadata": {},
   "outputs": [
    {
     "name": "stdout",
     "output_type": "stream",
     "text": [
      "Accuracy: 0.5\n",
      "CONFUSION: [[ 30 111]\n",
      " [ 45 126]]\n"
     ]
    }
   ],
   "source": [
    "# Model Accuracy with chosen decision tree depth and chosen hyperparameters\n",
    "accuracy_score = metrics.accuracy_score(y_valid, y_hat)\n",
    "confusion = metrics.confusion_matrix(y_valid, y_hat) \n",
    "\n",
    "print(\"Accuracy:\", accuracy_score)\n",
    "print(\"CONFUSION:\", confusion)"
   ]
  },
  {
   "cell_type": "markdown",
   "metadata": {},
   "source": [
    "-------------\n",
    "FINAL TESTING ON SOCIAL VARS BITCOIN\n",
    "____"
   ]
  },
  {
   "cell_type": "code",
   "execution_count": 33,
   "metadata": {},
   "outputs": [],
   "source": [
    "features_df_test = pd.read_csv(\"bitcoin_test.csv\")\n",
    "features_df_test.head()\n",
    "features_df_test.columns\n",
    "\n",
    "feature_lst = [ 'goog_trend_score', 'retweets_count', \\\n",
    "                'replies_count', \\\n",
    "                'compound_weighted', 'compound_weighted_avg7', \\\n",
    "                'compound_weighted_daily_diff' , 'compound_weighted_weekly_diff',\n",
    "                'replies_count_daily_diff', 'replies_count_avg7', 'replies_count_weekly_diff',\n",
    "                'count', 'count_daily_diff', 'count_weekly_diff']\n",
    "\n",
    "outcome = features_df_test.columns[-1]\n",
    "\n",
    "X_test = features_df_test[feature_lst]\n",
    "y_test = features_df_test[outcome]"
   ]
  },
  {
   "cell_type": "code",
   "execution_count": 34,
   "metadata": {},
   "outputs": [
    {
     "name": "stdout",
     "output_type": "stream",
     "text": [
      "Accuracy: 0.532051282051282\n",
      "CONFUSION: [[ 32 103]\n",
      " [ 43 134]]\n"
     ]
    }
   ],
   "source": [
    "accuracy_score = metrics.accuracy_score(y_test, y_hat)\n",
    "confusion = metrics.confusion_matrix(y_test, y_hat) \n",
    "\n",
    "print(\"Accuracy:\", accuracy_score)\n",
    "print(\"CONFUSION:\", confusion)"
   ]
  },
  {
   "cell_type": "code",
   "execution_count": 35,
   "metadata": {},
   "outputs": [
    {
     "name": "stdout",
     "output_type": "stream",
     "text": [
      "goog_trend_score: 0.06\n",
      "retweets_count: 0.03\n",
      "replies_count: 0.05\n",
      "compound_weighted: 0.08\n",
      "compound_weighted_avg7: 0.16\n",
      "compound_weighted_daily_diff: 0.14\n",
      "compound_weighted_weekly_diff: 0.01\n",
      "replies_count_daily_diff: 0.05\n",
      "replies_count_avg7: 0.07\n",
      "replies_count_weekly_diff: 0.1\n",
      "count: 0.01\n",
      "count_daily_diff: 0.09\n",
      "count_weekly_diff: 0.15\n"
     ]
    }
   ],
   "source": [
    "feature_import = adaboost.feature_importances_\n",
    "for i in range(len(feature_lst)):\n",
    "    print(f\"{feature_lst[i]}: {feature_import[i]}\")"
   ]
  },
  {
   "cell_type": "code",
   "execution_count": 36,
   "metadata": {},
   "outputs": [
    {
     "name": "stdout",
     "output_type": "stream",
     "text": [
      "[[ 32 103]\n",
      " [ 43 134]]\n"
     ]
    },
    {
     "data": {
      "image/png": "[encoded data removed]",
      "text/plain": [
       "<Figure size 432x288 with 2 Axes>"
      ]
     },
     "metadata": {
      "needs_background": "light"
     },
     "output_type": "display_data"
    }
   ],
   "source": [
    "plot_confusion_matrix(adaboost, X_test, y_test)\n",
    "print(metrics.confusion_matrix(y_test, y_hat))"
   ]
  },
  {
   "cell_type": "markdown",
   "metadata": {},
   "source": [
    "-------------------------------------------"
   ]
  },
  {
   "cell_type": "markdown",
   "metadata": {},
   "source": [
    "# Repeat for Dogecoin\n"
   ]
  },
  {
   "cell_type": "code",
   "execution_count": 67,
   "metadata": {},
   "outputs": [],
   "source": [
    "dogecoin = pd.read_csv(\"dogecoin_train.csv\")\n",
    "dogecoin = dogecoin.rename(columns={'goog_trend': 'goog_trend_score'})\n",
    "\n",
    "feature_lst = ['Daily_Change', 'Daily_Change_Ind', 'MACD', 'PROC_3', 'PROC_5','PROC_10', 'wpr',\\\n",
    "                'sto_os', 'goog_trend_score', 'retweets_count', \\\n",
    "                'replies_count', 'Daily_Change_Perc', \\\n",
    "                'Daily_Change_Perc_Gold', \\\n",
    "                'Daily_Change_SP500', 'Daily_Change_Perc_SP500', \\\n",
    "                'compound_weighted', 'compound_weighted_avg7', \\\n",
    "                'compound_weighted_daily_diff' , 'compound_weighted_weekly_diff',\n",
    "                'replies_count_daily_diff', 'replies_count_avg7', 'replies_count_weekly_diff',\n",
    "                'count', 'count_daily_diff', 'count_weekly_diff', 'RSI']\n",
    "\n",
    "outcome = features_df.columns[-1]\n",
    "\n",
    "X_dog = dogecoin[feature_lst]\n",
    "y_dog = dogecoin['label']\n",
    "X_train, X_valid, y_train, y_valid = train_test_split(X_dog, y_dog, random_state = 1234)"
   ]
  },
  {
   "cell_type": "code",
   "execution_count": 68,
   "metadata": {},
   "outputs": [
    {
     "name": "stdout",
     "output_type": "stream",
     "text": [
      "Best: 0.805308 using {'base_estimator__max_depth': 1, 'learning_rate': 0.01, 'n_estimators': 100}\n",
      "0.805308 (0.002443) with: {'base_estimator__max_depth': 1, 'learning_rate': 0.01, 'n_estimators': 100}\n",
      "0.801910 (0.007982) with: {'base_estimator__max_depth': 1, 'learning_rate': 0.01, 'n_estimators': 500}\n",
      "0.799546 (0.015552) with: {'base_estimator__max_depth': 1, 'learning_rate': 0.01, 'n_estimators': 1000}\n",
      "0.799546 (0.016416) with: {'base_estimator__max_depth': 1, 'learning_rate': 0.1, 'n_estimators': 100}\n",
      "0.792074 (0.024262) with: {'base_estimator__max_depth': 1, 'learning_rate': 0.1, 'n_estimators': 500}\n",
      "0.781543 (0.025356) with: {'base_estimator__max_depth': 1, 'learning_rate': 0.1, 'n_estimators': 1000}\n",
      "0.796815 (0.011561) with: {'base_estimator__max_depth': 2, 'learning_rate': 0.01, 'n_estimators': 100}\n",
      "0.796135 (0.018694) with: {'base_estimator__max_depth': 2, 'learning_rate': 0.01, 'n_estimators': 500}\n",
      "0.791734 (0.023704) with: {'base_estimator__max_depth': 2, 'learning_rate': 0.01, 'n_estimators': 1000}\n",
      "0.789346 (0.020940) with: {'base_estimator__max_depth': 2, 'learning_rate': 0.1, 'n_estimators': 100}\n",
      "0.773370 (0.027994) with: {'base_estimator__max_depth': 2, 'learning_rate': 0.1, 'n_estimators': 500}\n",
      "0.776775 (0.024164) with: {'base_estimator__max_depth': 2, 'learning_rate': 0.1, 'n_estimators': 1000}\n"
     ]
    }
   ],
   "source": [
    "model = AdaBoostClassifier(base_estimator=DecisionTreeClassifier())\n",
    "# define the grid of values to search\n",
    "grid = dict()\n",
    "\n",
    "param_grids  = {'base_estimator__max_depth':[1,2],\n",
    "              'n_estimators':[100,500,1000],\n",
    "              'learning_rate':[0.01,0.1]}\n",
    "\n",
    "# define the evaluation procedure\n",
    "cv = RepeatedStratifiedKFold(n_splits = 10, n_repeats = 3, random_state = 1234)\n",
    "\n",
    "# define the grid search procedure\n",
    "grid_search = GridSearchCV(estimator = model, param_grid = param_grids, n_jobs = -1, cv = cv, scoring = 'accuracy')\n",
    "# execute the grid search\n",
    "grid_result = grid_search.fit(X_train, y_train)\n",
    "# summarize the best score and configuration\n",
    "print(\"Best: %f using %s\" % (grid_result.best_score_, grid_result.best_params_))\n",
    "\n",
    "# summarize all scores that were evaluated\n",
    "means = grid_result.cv_results_['mean_test_score']\n",
    "stds = grid_result.cv_results_['std_test_score']\n",
    "params = grid_result.cv_results_['params']\n",
    "\n",
    "mean_results = []\n",
    "for mean, stdev, param in zip(means, stds, params):\n",
    "    print(\"%f (%f) with: %r\" % (mean, stdev, param))\n",
    "    mean_results.append(mean)"
   ]
  },
  {
   "cell_type": "code",
   "execution_count": 69,
   "metadata": {},
   "outputs": [
    {
     "name": "stdout",
     "output_type": "stream",
     "text": [
      "chosen_n: 100\n",
      "chosen_learning_rate: 0.01\n"
     ]
    }
   ],
   "source": [
    "chosen_depth = list(grid_result.best_params_.values())[0]\n",
    "chosen_learning_rate = list(grid_result.best_params_.values())[1]\n",
    "chosen_n = list(grid_result.best_params_.values())[2]\n",
    "print(\"chosen_n:\", chosen_n)\n",
    "print(\"chosen_learning_rate:\", chosen_learning_rate)\n",
    "\n",
    "base_estimator = DecisionTreeClassifier(max_depth = chosen_depth, random_state = 1234)\n",
    "adaboost = AdaBoostClassifier(base_estimator = base_estimator, n_estimators = chosen_n,\n",
    "                              learning_rate = chosen_learning_rate, random_state = 1234)\n",
    "# Train Adaboost Classifer\n",
    "adaboost.fit(X_train, y_train)\n",
    "\n",
    "# Predict the response for valid dataset\n",
    "y_hat = adaboost.predict(X_valid)"
   ]
  },
  {
   "cell_type": "code",
   "execution_count": 70,
   "metadata": {},
   "outputs": [
    {
     "name": "stdout",
     "output_type": "stream",
     "text": [
      "Accuracy: 0.7957317073170732\n",
      "CONFUSION: [[261   0]\n",
      " [ 67   0]]\n"
     ]
    }
   ],
   "source": [
    "# Model Accuracy with chosen decision tree depth and chosen hyperparameters\n",
    "accuracy_score = metrics.accuracy_score(y_valid, y_hat)\n",
    "confusion = metrics.confusion_matrix(y_valid, y_hat) \n",
    "\n",
    "print(\"Accuracy:\", accuracy_score)\n",
    "print(\"CONFUSION:\", confusion)"
   ]
  },
  {
   "cell_type": "markdown",
   "metadata": {},
   "source": [
    "-------------\n",
    "FINAL TESTING ON COMBINED VARS Dogecoin\n",
    "____"
   ]
  },
  {
   "cell_type": "code",
   "execution_count": 71,
   "metadata": {},
   "outputs": [],
   "source": [
    "dogecoin = pd.read_csv(\"dogecoin_test.csv\")\n",
    "dogecoin = dogecoin.rename(columns={'goog_trend': 'goog_trend_score'})\n",
    "\n",
    "feature_lst = ['Daily_Change', 'Daily_Change_Ind', 'MACD', 'PROC_3', 'PROC_5','PROC_10', 'wpr',\\\n",
    "                'sto_os', 'goog_trend_score', 'retweets_count', \\\n",
    "                'replies_count', 'Daily_Change_Perc', \\\n",
    "                'Daily_Change_Perc_Gold', \\\n",
    "                'Daily_Change_SP500', 'Daily_Change_Perc_SP500', \\\n",
    "                'compound_weighted', 'compound_weighted_avg7', \\\n",
    "                'compound_weighted_daily_diff' , 'compound_weighted_weekly_diff',\n",
    "                'replies_count_daily_diff', 'replies_count_avg7', 'replies_count_weekly_diff',\n",
    "                'count', 'count_daily_diff', 'count_weekly_diff', 'RSI']\n",
    "\n",
    "outcome = features_df.columns[-1]\n",
    "\n",
    "X_test = dogecoin[feature_lst]\n",
    "y_test = dogecoin['label']\n"
   ]
  },
  {
   "cell_type": "code",
   "execution_count": 72,
   "metadata": {},
   "outputs": [
    {
     "name": "stdout",
     "output_type": "stream",
     "text": [
      "chosen_n: 100\n",
      "chosen_learning_rate: 0.01\n"
     ]
    }
   ],
   "source": [
    "chosen_depth = list(grid_result.best_params_.values())[0]\n",
    "chosen_learning_rate = list(grid_result.best_params_.values())[1]\n",
    "chosen_n = list(grid_result.best_params_.values())[2]\n",
    "print(\"chosen_n:\", chosen_n)\n",
    "print(\"chosen_learning_rate:\", chosen_learning_rate)\n",
    "\n",
    "base_estimator = DecisionTreeClassifier(max_depth = chosen_depth, random_state = 1234)\n",
    "adaboost = AdaBoostClassifier(base_estimator = base_estimator, n_estimators = chosen_n,\n",
    "                              learning_rate = chosen_learning_rate, random_state = 1234)\n",
    "# Train Adaboost Classifer\n",
    "adaboost.fit(X_train, y_train) \n",
    "\n",
    "# Predict the response for valid dataset\n",
    "y_hat = adaboost.predict(X_test)"
   ]
  },
  {
   "cell_type": "code",
   "execution_count": 73,
   "metadata": {},
   "outputs": [
    {
     "name": "stdout",
     "output_type": "stream",
     "text": [
      "Accuracy: 0.8140243902439024\n",
      "CONFUSION: [[267   0]\n",
      " [ 61   0]]\n"
     ]
    }
   ],
   "source": [
    "# Model Accuracy with chosen decision tree depth and chosen hyperparameters\n",
    "accuracy_score = metrics.accuracy_score(y_test, y_hat)\n",
    "confusion = metrics.confusion_matrix(y_test, y_hat) \n",
    "\n",
    "print(\"Accuracy:\", accuracy_score)\n",
    "print(\"CONFUSION:\", confusion)"
   ]
  },
  {
   "cell_type": "code",
   "execution_count": 74,
   "metadata": {},
   "outputs": [
    {
     "name": "stdout",
     "output_type": "stream",
     "text": [
      "Daily_Change: 0.0\n",
      "Daily_Change_Ind: 0.0\n",
      "MACD: 0.57\n",
      "PROC_3: 0.0\n",
      "PROC_5: 0.08\n",
      "PROC_10: 0.0\n",
      "wpr: 0.02\n",
      "sto_os: 0.16\n",
      "goog_trend_score: 0.02\n",
      "retweets_count: 0.0\n",
      "replies_count: 0.0\n",
      "Daily_Change_Perc: 0.15\n",
      "Daily_Change_Perc_Gold: 0.0\n",
      "Daily_Change_SP500: 0.0\n",
      "Daily_Change_Perc_SP500: 0.0\n",
      "compound_weighted: 0.0\n",
      "compound_weighted_avg7: 0.0\n",
      "compound_weighted_daily_diff: 0.0\n",
      "compound_weighted_weekly_diff: 0.0\n",
      "replies_count_daily_diff: 0.0\n",
      "replies_count_avg7: 0.0\n",
      "replies_count_weekly_diff: 0.0\n",
      "count: 0.0\n",
      "count_daily_diff: 0.0\n",
      "count_weekly_diff: 0.0\n",
      "RSI: 0.0\n"
     ]
    }
   ],
   "source": [
    "feature_import = adaboost.feature_importances_\n",
    "for i in range(len(feature_lst)):\n",
    "    print(f\"{feature_lst[i]}: {feature_import[i]}\")"
   ]
  },
  {
   "cell_type": "code",
   "execution_count": 75,
   "metadata": {},
   "outputs": [
    {
     "name": "stdout",
     "output_type": "stream",
     "text": [
      "[[267   0]\n",
      " [ 61   0]]\n"
     ]
    },
    {
     "data": {
      "image/png": "[encoded data removed]",
      "text/plain": [
       "<Figure size 432x288 with 2 Axes>"
      ]
     },
     "metadata": {
      "needs_background": "light"
     },
     "output_type": "display_data"
    }
   ],
   "source": [
    "plot_confusion_matrix(adaboost, X_test, y_test)\n",
    "print(metrics.confusion_matrix(y_test, y_hat))"
   ]
  },
  {
   "cell_type": "markdown",
   "metadata": {},
   "source": [
    "----------------------"
   ]
  },
  {
   "cell_type": "markdown",
   "metadata": {},
   "source": [
    "# Repeat Dogecoin financial vars"
   ]
  },
  {
   "cell_type": "code",
   "execution_count": 81,
   "metadata": {},
   "outputs": [],
   "source": [
    "dogecoin = pd.read_csv(\"dogecoin_train.csv\")\n",
    "dogecoin = dogecoin.rename(columns={'goog_trend': 'goog_trend_score'})\n",
    "\n",
    "feature_lst = ['Daily_Change', 'Daily_Change_Ind', 'MACD', 'PROC_3', 'PROC_5','PROC_10', 'wpr',\\\n",
    "                'sto_os', \\\n",
    "                'replies_count', 'Daily_Change_Perc', \\\n",
    "                'Daily_Change_Perc_Gold', \\\n",
    "                'Daily_Change_SP500', 'Daily_Change_Perc_SP500', 'RSI']\n",
    "\n",
    "outcome = features_df.columns[-1]\n",
    "\n",
    "X_dog = dogecoin[feature_lst]\n",
    "y_dog = dogecoin['label']\n",
    "X_train, X_valid, y_train, y_valid = train_test_split(X_dog, y_dog, random_state = 1234)"
   ]
  },
  {
   "cell_type": "code",
   "execution_count": 82,
   "metadata": {},
   "outputs": [
    {
     "name": "stdout",
     "output_type": "stream",
     "text": [
      "Best: 0.805329 using {'base_estimator__max_depth': 1, 'learning_rate': 0.1, 'n_estimators': 100}\n",
      "0.805308 (0.002443) with: {'base_estimator__max_depth': 1, 'learning_rate': 0.01, 'n_estimators': 100}\n",
      "0.801910 (0.009179) with: {'base_estimator__max_depth': 1, 'learning_rate': 0.01, 'n_estimators': 500}\n",
      "0.804638 (0.016445) with: {'base_estimator__max_depth': 1, 'learning_rate': 0.01, 'n_estimators': 1000}\n",
      "0.805329 (0.017951) with: {'base_estimator__max_depth': 1, 'learning_rate': 0.1, 'n_estimators': 100}\n",
      "0.793098 (0.024712) with: {'base_estimator__max_depth': 1, 'learning_rate': 0.1, 'n_estimators': 500}\n",
      "0.787989 (0.025290) with: {'base_estimator__max_depth': 1, 'learning_rate': 0.1, 'n_estimators': 1000}\n",
      "0.798179 (0.011913) with: {'base_estimator__max_depth': 2, 'learning_rate': 0.01, 'n_estimators': 100}\n",
      "0.797499 (0.019511) with: {'base_estimator__max_depth': 2, 'learning_rate': 0.01, 'n_estimators': 500}\n",
      "0.797849 (0.023608) with: {'base_estimator__max_depth': 2, 'learning_rate': 0.01, 'n_estimators': 1000}\n",
      "0.790359 (0.022498) with: {'base_estimator__max_depth': 2, 'learning_rate': 0.1, 'n_estimators': 100}\n",
      "0.774040 (0.029190) with: {'base_estimator__max_depth': 2, 'learning_rate': 0.1, 'n_estimators': 500}\n",
      "0.767598 (0.028369) with: {'base_estimator__max_depth': 2, 'learning_rate': 0.1, 'n_estimators': 1000}\n"
     ]
    }
   ],
   "source": [
    "model = AdaBoostClassifier(base_estimator=DecisionTreeClassifier())\n",
    "# define the grid of values to search\n",
    "grid = dict()\n",
    "param_grids  = {'base_estimator__max_depth':[1,2],\n",
    "              'n_estimators':[100,500,1000],\n",
    "              'learning_rate':[0.01,0.1]}\n",
    "\n",
    "# define the evaluation procedure\n",
    "cv = RepeatedStratifiedKFold(n_splits = 10, n_repeats = 3, random_state = 1234)\n",
    "\n",
    "# define the grid search procedure\n",
    "grid_search = GridSearchCV(estimator = model, param_grid = param_grids, n_jobs = -1, cv = cv, scoring = 'accuracy')\n",
    "# execute the grid search\n",
    "grid_result = grid_search.fit(X_train, y_train)\n",
    "# summarize the best score and configuration\n",
    "print(\"Best: %f using %s\" % (grid_result.best_score_, grid_result.best_params_))\n",
    "\n",
    "# summarize all scores that were evaluated\n",
    "means = grid_result.cv_results_['mean_test_score']\n",
    "stds = grid_result.cv_results_['std_test_score']\n",
    "params = grid_result.cv_results_['params']\n",
    "\n",
    "mean_results = []\n",
    "for mean, stdev, param in zip(means, stds, params):\n",
    "    print(\"%f (%f) with: %r\" % (mean, stdev, param))\n",
    "    mean_results.append(mean)"
   ]
  },
  {
   "cell_type": "code",
   "execution_count": 83,
   "metadata": {},
   "outputs": [
    {
     "name": "stdout",
     "output_type": "stream",
     "text": [
      "chosen_n: 100\n",
      "chosen_learning_rate: 0.1\n"
     ]
    }
   ],
   "source": [
    "chosen_depth = list(grid_result.best_params_.values())[0]\n",
    "chosen_learning_rate = list(grid_result.best_params_.values())[1]\n",
    "chosen_n = list(grid_result.best_params_.values())[2]\n",
    "print(\"chosen_n:\", chosen_n)\n",
    "print(\"chosen_learning_rate:\", chosen_learning_rate)\n",
    "\n",
    "base_estimator = DecisionTreeClassifier(max_depth = chosen_depth, random_state = 1234)\n",
    "adaboost = AdaBoostClassifier(base_estimator = base_estimator, n_estimators = chosen_n,\n",
    "                              learning_rate = chosen_learning_rate, random_state = 1234)\n",
    "# Train Adaboost Classifer\n",
    "adaboost.fit(X_train, y_train)\n",
    "\n",
    "# Predict the response for valid dataset\n",
    "y_hat = adaboost.predict(X_valid)"
   ]
  },
  {
   "cell_type": "code",
   "execution_count": 84,
   "metadata": {},
   "outputs": [
    {
     "name": "stdout",
     "output_type": "stream",
     "text": [
      "Accuracy: 0.7957317073170732\n",
      "CONFUSION: [[256   5]\n",
      " [ 62   5]]\n"
     ]
    }
   ],
   "source": [
    "# Model Accuracy with chosen decision tree depth and chosen hyperparameters\n",
    "accuracy_score = metrics.accuracy_score(y_valid, y_hat)\n",
    "confusion = metrics.confusion_matrix(y_valid, y_hat) \n",
    "\n",
    "print(\"Accuracy:\", accuracy_score)\n",
    "print(\"CONFUSION:\", confusion)"
   ]
  },
  {
   "cell_type": "markdown",
   "metadata": {},
   "source": [
    "-------------\n",
    "FINAL TESTING ON financial VARS Dogecoin\n",
    "____"
   ]
  },
  {
   "cell_type": "code",
   "execution_count": 85,
   "metadata": {},
   "outputs": [],
   "source": [
    "dogecoin = pd.read_csv(\"dogecoin_test.csv\")\n",
    "dogecoin = dogecoin.rename(columns={'goog_trend': 'goog_trend_score'})\n",
    "\n",
    "feature_lst = ['Daily_Change', 'Daily_Change_Ind', 'MACD', 'PROC_3', 'PROC_5','PROC_10', 'wpr',\\\n",
    "                'sto_os', \\\n",
    "                'replies_count', 'Daily_Change_Perc', \\\n",
    "                'Daily_Change_Perc_Gold', \\\n",
    "                'Daily_Change_SP500', 'Daily_Change_Perc_SP500', 'RSI']\n",
    "\n",
    "outcome = features_df.columns[-1]\n",
    "\n",
    "X_test = dogecoin[feature_lst]\n",
    "y_test = dogecoin['label']\n"
   ]
  },
  {
   "cell_type": "code",
   "execution_count": 86,
   "metadata": {},
   "outputs": [
    {
     "name": "stdout",
     "output_type": "stream",
     "text": [
      "chosen_n: 100\n",
      "chosen_learning_rate: 0.1\n"
     ]
    }
   ],
   "source": [
    "chosen_depth = list(grid_result.best_params_.values())[0]\n",
    "chosen_learning_rate = list(grid_result.best_params_.values())[1]\n",
    "chosen_n = list(grid_result.best_params_.values())[2]\n",
    "print(\"chosen_n:\", chosen_n)\n",
    "print(\"chosen_learning_rate:\", chosen_learning_rate)\n",
    "\n",
    "base_estimator = DecisionTreeClassifier(max_depth = chosen_depth, random_state = 1234)\n",
    "adaboost = AdaBoostClassifier(base_estimator = base_estimator, n_estimators = chosen_n,\n",
    "                              learning_rate = chosen_learning_rate, random_state = 1234)\n",
    "# Train Adaboost Classifer\n",
    "adaboost.fit(X_train, y_train) \n",
    "\n",
    "# Predict the response for valid dataset\n",
    "y_hat = adaboost.predict(X_test)"
   ]
  },
  {
   "cell_type": "code",
   "execution_count": 87,
   "metadata": {},
   "outputs": [
    {
     "name": "stdout",
     "output_type": "stream",
     "text": [
      "Accuracy: 0.7987804878048781\n",
      "CONFUSION: [[259   8]\n",
      " [ 58   3]]\n"
     ]
    }
   ],
   "source": [
    "# Model Accuracy with chosen decision tree depth and chosen hyperparameters\n",
    "accuracy_score = metrics.accuracy_score(y_test, y_hat)\n",
    "confusion = metrics.confusion_matrix(y_test, y_hat) \n",
    "\n",
    "print(\"Accuracy:\", accuracy_score)\n",
    "print(\"CONFUSION:\", confusion)"
   ]
  },
  {
   "cell_type": "code",
   "execution_count": 88,
   "metadata": {},
   "outputs": [
    {
     "name": "stdout",
     "output_type": "stream",
     "text": [
      "Daily_Change: 0.01\n",
      "Daily_Change_Ind: 0.0\n",
      "MACD: 0.27\n",
      "PROC_3: 0.06\n",
      "PROC_5: 0.1\n",
      "PROC_10: 0.05\n",
      "wpr: 0.1\n",
      "sto_os: 0.2\n",
      "replies_count: 0.0\n",
      "Daily_Change_Perc: 0.06\n",
      "Daily_Change_Perc_Gold: 0.0\n",
      "Daily_Change_SP500: 0.02\n",
      "Daily_Change_Perc_SP500: 0.03\n",
      "RSI: 0.1\n"
     ]
    }
   ],
   "source": [
    "feature_import = adaboost.feature_importances_\n",
    "for i in range(len(feature_lst)):\n",
    "    print(f\"{feature_lst[i]}: {feature_import[i]}\")"
   ]
  },
  {
   "cell_type": "code",
   "execution_count": 89,
   "metadata": {},
   "outputs": [
    {
     "name": "stdout",
     "output_type": "stream",
     "text": [
      "[[259   8]\n",
      " [ 58   3]]\n"
     ]
    },
    {
     "data": {
      "image/png": "[encoded data removed]",
      "text/plain": [
       "<Figure size 432x288 with 2 Axes>"
      ]
     },
     "metadata": {
      "needs_background": "light"
     },
     "output_type": "display_data"
    }
   ],
   "source": [
    "plot_confusion_matrix(adaboost, X_test, y_test)\n",
    "print(metrics.confusion_matrix(y_test, y_hat))"
   ]
  },
  {
   "cell_type": "markdown",
   "metadata": {},
   "source": [
    "------------------------"
   ]
  },
  {
   "cell_type": "markdown",
   "metadata": {},
   "source": [
    "# Repeat Dogecoin social vars"
   ]
  },
  {
   "cell_type": "code",
   "execution_count": 90,
   "metadata": {},
   "outputs": [],
   "source": [
    "dogecoin = pd.read_csv(\"dogecoin_train.csv\")\n",
    "dogecoin = dogecoin.rename(columns={'goog_trend': 'goog_trend_score'})\n",
    "\n",
    "feature_lst = [ 'goog_trend_score', 'retweets_count', \\\n",
    "                'replies_count', \\\n",
    "                'compound_weighted', 'compound_weighted_avg7', \\\n",
    "                'compound_weighted_daily_diff' , 'compound_weighted_weekly_diff',\n",
    "                'replies_count_daily_diff', 'replies_count_avg7', 'replies_count_weekly_diff',\n",
    "                'count', 'count_daily_diff', 'count_weekly_diff']\n",
    "\n",
    "outcome = features_df.columns[-1]\n",
    "\n",
    "X_dog = dogecoin[feature_lst]\n",
    "y_dog = dogecoin['label']\n",
    "X_train, X_valid, y_train, y_valid = train_test_split(X_dog, y_dog, random_state = 1234)"
   ]
  },
  {
   "cell_type": "code",
   "execution_count": 91,
   "metadata": {},
   "outputs": [
    {
     "name": "stdout",
     "output_type": "stream",
     "text": [
      "Best: 0.805308 using {'base_estimator__max_depth': 1, 'learning_rate': 0.01, 'n_estimators': 100}\n",
      "0.805308 (0.002443) with: {'base_estimator__max_depth': 1, 'learning_rate': 0.01, 'n_estimators': 100}\n",
      "0.800206 (0.008083) with: {'base_estimator__max_depth': 1, 'learning_rate': 0.01, 'n_estimators': 500}\n",
      "0.799186 (0.009501) with: {'base_estimator__max_depth': 1, 'learning_rate': 0.01, 'n_estimators': 1000}\n",
      "0.798165 (0.010963) with: {'base_estimator__max_depth': 1, 'learning_rate': 0.1, 'n_estimators': 100}\n",
      "0.795455 (0.017540) with: {'base_estimator__max_depth': 1, 'learning_rate': 0.1, 'n_estimators': 500}\n",
      "0.795448 (0.020527) with: {'base_estimator__max_depth': 1, 'learning_rate': 0.1, 'n_estimators': 1000}\n",
      "0.799869 (0.009537) with: {'base_estimator__max_depth': 2, 'learning_rate': 0.01, 'n_estimators': 100}\n",
      "0.790370 (0.015866) with: {'base_estimator__max_depth': 2, 'learning_rate': 0.01, 'n_estimators': 500}\n",
      "0.790033 (0.018250) with: {'base_estimator__max_depth': 2, 'learning_rate': 0.01, 'n_estimators': 1000}\n",
      "0.786968 (0.018819) with: {'base_estimator__max_depth': 2, 'learning_rate': 0.1, 'n_estimators': 100}\n",
      "0.783223 (0.024849) with: {'base_estimator__max_depth': 2, 'learning_rate': 0.1, 'n_estimators': 500}\n",
      "0.777781 (0.026447) with: {'base_estimator__max_depth': 2, 'learning_rate': 0.1, 'n_estimators': 1000}\n"
     ]
    }
   ],
   "source": [
    "model = AdaBoostClassifier(base_estimator=DecisionTreeClassifier())\n",
    "# define the grid of values to search\n",
    "grid = dict()\n",
    "param_grids  = {'base_estimator__max_depth':[1,2],\n",
    "              'n_estimators':[100,500,1000],\n",
    "              'learning_rate':[0.01,0.1]}\n",
    "\n",
    "# define the evaluation procedure\n",
    "cv = RepeatedStratifiedKFold(n_splits = 10, n_repeats = 3, random_state = 1234)\n",
    "\n",
    "# define the grid search procedure\n",
    "grid_search = GridSearchCV(estimator = model, param_grid = param_grids, n_jobs = -1, cv = cv, scoring = 'accuracy')\n",
    "# execute the grid search\n",
    "grid_result = grid_search.fit(X_train, y_train)\n",
    "# summarize the best score and configuration\n",
    "print(\"Best: %f using %s\" % (grid_result.best_score_, grid_result.best_params_))\n",
    "\n",
    "# summarize all scores that were evaluated\n",
    "means = grid_result.cv_results_['mean_test_score']\n",
    "stds = grid_result.cv_results_['std_test_score']\n",
    "params = grid_result.cv_results_['params']\n",
    "\n",
    "mean_results = []\n",
    "for mean, stdev, param in zip(means, stds, params):\n",
    "    print(\"%f (%f) with: %r\" % (mean, stdev, param))\n",
    "    mean_results.append(mean)"
   ]
  },
  {
   "cell_type": "code",
   "execution_count": 92,
   "metadata": {},
   "outputs": [
    {
     "name": "stdout",
     "output_type": "stream",
     "text": [
      "chosen_n: 100\n",
      "chosen_learning_rate: 0.01\n"
     ]
    }
   ],
   "source": [
    "chosen_depth = list(grid_result.best_params_.values())[0]\n",
    "chosen_learning_rate = list(grid_result.best_params_.values())[1]\n",
    "chosen_n = list(grid_result.best_params_.values())[2]\n",
    "print(\"chosen_n:\", chosen_n)\n",
    "print(\"chosen_learning_rate:\", chosen_learning_rate)\n",
    "\n",
    "base_estimator = DecisionTreeClassifier(max_depth = chosen_depth, random_state = 1234)\n",
    "adaboost = AdaBoostClassifier(base_estimator = base_estimator, n_estimators = chosen_n,\n",
    "                              learning_rate = chosen_learning_rate, random_state = 1234)\n",
    "# Train Adaboost Classifer\n",
    "adaboost.fit(X_train, y_train)\n",
    "\n",
    "# Predict the response for valid dataset\n",
    "y_hat = adaboost.predict(X_valid)"
   ]
  },
  {
   "cell_type": "code",
   "execution_count": 93,
   "metadata": {},
   "outputs": [
    {
     "name": "stdout",
     "output_type": "stream",
     "text": [
      "Accuracy: 0.7957317073170732\n",
      "CONFUSION: [[261   0]\n",
      " [ 67   0]]\n"
     ]
    }
   ],
   "source": [
    "# Model Accuracy with chosen decision tree depth and chosen hyperparameters\n",
    "accuracy_score = metrics.accuracy_score(y_valid, y_hat)\n",
    "confusion = metrics.confusion_matrix(y_valid, y_hat) \n",
    "\n",
    "print(\"Accuracy:\", accuracy_score)\n",
    "print(\"CONFUSION:\", confusion)"
   ]
  },
  {
   "cell_type": "markdown",
   "metadata": {},
   "source": [
    "-------------\n",
    "FINAL TESTING ON social media VARS Dogecoin\n",
    "____"
   ]
  },
  {
   "cell_type": "code",
   "execution_count": 94,
   "metadata": {},
   "outputs": [],
   "source": [
    "dogecoin = pd.read_csv(\"dogecoin_test.csv\")\n",
    "dogecoin = dogecoin.rename(columns={'goog_trend': 'goog_trend_score'})\n",
    "\n",
    "feature_lst = [ 'goog_trend_score', 'retweets_count', \\\n",
    "                'replies_count', \\\n",
    "                'compound_weighted', 'compound_weighted_avg7', \\\n",
    "                'compound_weighted_daily_diff' , 'compound_weighted_weekly_diff',\n",
    "                'replies_count_daily_diff', 'replies_count_avg7', 'replies_count_weekly_diff',\n",
    "                'count', 'count_daily_diff', 'count_weekly_diff']\n",
    "\n",
    "outcome = features_df.columns[-1]\n",
    "\n",
    "X_test = dogecoin[feature_lst]\n",
    "y_test = dogecoin['label']"
   ]
  },
  {
   "cell_type": "code",
   "execution_count": 95,
   "metadata": {},
   "outputs": [
    {
     "name": "stdout",
     "output_type": "stream",
     "text": [
      "chosen_n: 100\n",
      "chosen_learning_rate: 0.01\n"
     ]
    }
   ],
   "source": [
    "chosen_depth = list(grid_result.best_params_.values())[0]\n",
    "chosen_learning_rate = list(grid_result.best_params_.values())[1]\n",
    "chosen_n = list(grid_result.best_params_.values())[2]\n",
    "print(\"chosen_n:\", chosen_n)\n",
    "print(\"chosen_learning_rate:\", chosen_learning_rate)\n",
    "\n",
    "base_estimator = DecisionTreeClassifier(max_depth = chosen_depth, random_state = 1234)\n",
    "adaboost = AdaBoostClassifier(base_estimator = base_estimator, n_estimators = chosen_n,\n",
    "                              learning_rate = chosen_learning_rate, random_state = 1234)\n",
    "# Train Adaboost Classifer\n",
    "adaboost.fit(X_train, y_train) \n",
    "\n",
    "# Predict the response for valid dataset\n",
    "y_hat = adaboost.predict(X_test)"
   ]
  },
  {
   "cell_type": "code",
   "execution_count": 96,
   "metadata": {},
   "outputs": [
    {
     "name": "stdout",
     "output_type": "stream",
     "text": [
      "Accuracy: 0.8140243902439024\n",
      "CONFUSION: [[267   0]\n",
      " [ 61   0]]\n"
     ]
    }
   ],
   "source": [
    "# Model Accuracy with chosen decision tree depth and chosen hyperparameters\n",
    "accuracy_score = metrics.accuracy_score(y_test, y_hat)\n",
    "confusion = metrics.confusion_matrix(y_test, y_hat) \n",
    "\n",
    "print(\"Accuracy:\", accuracy_score)\n",
    "print(\"CONFUSION:\", confusion)"
   ]
  },
  {
   "cell_type": "code",
   "execution_count": 97,
   "metadata": {},
   "outputs": [
    {
     "name": "stdout",
     "output_type": "stream",
     "text": [
      "goog_trend_score: 0.65\n",
      "retweets_count: 0.0\n",
      "replies_count: 0.0\n",
      "compound_weighted: 0.0\n",
      "compound_weighted_avg7: 0.0\n",
      "compound_weighted_daily_diff: 0.04\n",
      "compound_weighted_weekly_diff: 0.0\n",
      "replies_count_daily_diff: 0.01\n",
      "replies_count_avg7: 0.0\n",
      "replies_count_weekly_diff: 0.21\n",
      "count: 0.0\n",
      "count_daily_diff: 0.0\n",
      "count_weekly_diff: 0.09\n"
     ]
    }
   ],
   "source": [
    "feature_import = adaboost.feature_importances_\n",
    "for i in range(len(feature_lst)):\n",
    "    print(f\"{feature_lst[i]}: {feature_import[i]}\")"
   ]
  },
  {
   "cell_type": "code",
   "execution_count": 98,
   "metadata": {},
   "outputs": [
    {
     "name": "stdout",
     "output_type": "stream",
     "text": [
      "[[267   0]\n",
      " [ 61   0]]\n"
     ]
    },
    {
     "data": {
      "image/png": "[encoded data removed]",
      "text/plain": [
       "<Figure size 432x288 with 2 Axes>"
      ]
     },
     "metadata": {
      "needs_background": "light"
     },
     "output_type": "display_data"
    }
   ],
   "source": [
    "plot_confusion_matrix(adaboost, X_test, y_test)\n",
    "print(metrics.confusion_matrix(y_test, y_hat))"
   ]
  }
 ],
 "metadata": {
  "interpreter": {
   "hash": "916dbcbb3f70747c44a77c7bcd40155683ae19c65e1c03b4aa3499c5328201f1"
  },
  "kernelspec": {
   "display_name": "Python 3.8.10 64-bit",
   "language": "python",
   "name": "python3"
  },
  "language_info": {
   "codemirror_mode": {
    "name": "ipython",
    "version": 3
   },
   "file_extension": ".py",
   "mimetype": "text/x-python",
   "name": "python",
   "nbconvert_exporter": "python",
   "pygments_lexer": "ipython3",
   "version": "3.8.10"
  },
  "orig_nbformat": 4
 },
 "nbformat": 4,
 "nbformat_minor": 2
}
