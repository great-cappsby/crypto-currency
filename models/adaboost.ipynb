{
 "cells": [
  {
   "cell_type": "code",
   "execution_count": 249,
   "metadata": {},
   "outputs": [
    {
     "data": {
      "text/html": [
       "        <script type=\"text/javascript\">\n",
       "        window.PlotlyConfig = {MathJaxConfig: 'local'};\n",
       "        if (window.MathJax && window.MathJax.Hub && window.MathJax.Hub.Config) {window.MathJax.Hub.Config({SVG: {font: \"STIX-Web\"}});}\n",
       "        if (typeof require !== 'undefined') {\n",
       "        require.undef(\"plotly\");\n",
       "        requirejs.config({\n",
       "            paths: {\n",
       "                'plotly': ['https://cdn.plot.ly/plotly-2.12.1.min']\n",
       "            }\n",
       "        });\n",
       "        require(['plotly'], function(Plotly) {\n",
       "            window._Plotly = Plotly;\n",
       "        });\n",
       "        }\n",
       "        </script>\n",
       "        "
      ]
     },
     "metadata": {},
     "output_type": "display_data"
    }
   ],
   "source": [
    "\n",
    "from sklearn.model_selection import train_test_split\n",
    "from sklearn.ensemble import AdaBoostClassifier\n",
    "from sklearn.tree import DecisionTreeClassifier\n",
    "from sklearn import metrics\n",
    "from sklearn.metrics import plot_confusion_matrix #classification_report, plot_roc_curve, plot_precision_recall_curve \n",
    "import pandas as pd\n",
    "import numpy as np \n",
    "from functools import partial\n",
    "#import plotly\n",
    "import plotly.offline as py\n",
    "py.init_notebook_mode(connected=True)\n",
    "\n",
    "from optuna.visualization import plot_optimization_history\n",
    "from sklearn.model_selection import cross_val_score\n",
    "from sklearn.model_selection import RepeatedStratifiedKFold\n",
    "from sklearn.model_selection import KFold\n",
    "from sklearn.model_selection import GridSearchCV\n",
    "\n",
    "import optuna\n",
    "from optuna.trial import Trial\n",
    "optuna.logging.set_verbosity(optuna.logging.FATAL)\n",
    "import warnings\n",
    "warnings.filterwarnings(\"ignore\")\n"
   ]
  },
  {
   "cell_type": "markdown",
   "metadata": {},
   "source": [
    "# Step 1 - Use all variables"
   ]
  },
  {
   "cell_type": "code",
   "execution_count": 268,
   "metadata": {},
   "outputs": [
    {
     "data": {
      "text/html": [
       "<div>\n",
       "<style scoped>\n",
       "    .dataframe tbody tr th:only-of-type {\n",
       "        vertical-align: middle;\n",
       "    }\n",
       "\n",
       "    .dataframe tbody tr th {\n",
       "        vertical-align: top;\n",
       "    }\n",
       "\n",
       "    .dataframe thead th {\n",
       "        text-align: right;\n",
       "    }\n",
       "</style>\n",
       "<table border=\"1\" class=\"dataframe\">\n",
       "  <thead>\n",
       "    <tr style=\"text-align: right;\">\n",
       "      <th></th>\n",
       "      <th>Unnamed: 0</th>\n",
       "      <th>Date</th>\n",
       "      <th>Open</th>\n",
       "      <th>High</th>\n",
       "      <th>Low</th>\n",
       "      <th>Close</th>\n",
       "      <th>Volume</th>\n",
       "      <th>Daily_Change</th>\n",
       "      <th>Daily_Change_Ind</th>\n",
       "      <th>MACD</th>\n",
       "      <th>...</th>\n",
       "      <th>Daily_Change_Perc_Gold</th>\n",
       "      <th>Increased_Gold</th>\n",
       "      <th>RSI_Gold</th>\n",
       "      <th>Close/Last_SP500</th>\n",
       "      <th>Open_SP500</th>\n",
       "      <th>Daily_Change_SP500</th>\n",
       "      <th>Daily_Change_Perc_SP500</th>\n",
       "      <th>Increased_SP500</th>\n",
       "      <th>RSI_SP500</th>\n",
       "      <th>label</th>\n",
       "    </tr>\n",
       "  </thead>\n",
       "  <tbody>\n",
       "    <tr>\n",
       "      <th>0</th>\n",
       "      <td>268</td>\n",
       "      <td>2015-11-30</td>\n",
       "      <td>371.437012</td>\n",
       "      <td>382.363007</td>\n",
       "      <td>370.382996</td>\n",
       "      <td>377.321014</td>\n",
       "      <td>71701600</td>\n",
       "      <td>6.027008</td>\n",
       "      <td>1.0</td>\n",
       "      <td>10.296558</td>\n",
       "      <td>...</td>\n",
       "      <td>0.008807</td>\n",
       "      <td>1</td>\n",
       "      <td>33.968948</td>\n",
       "      <td>2080.41</td>\n",
       "      <td>2090.95</td>\n",
       "      <td>-10.54</td>\n",
       "      <td>-0.005041</td>\n",
       "      <td>0</td>\n",
       "      <td>57.384705</td>\n",
       "      <td>0.0</td>\n",
       "    </tr>\n",
       "    <tr>\n",
       "      <th>1</th>\n",
       "      <td>1016</td>\n",
       "      <td>2018-11-15</td>\n",
       "      <td>5736.149902</td>\n",
       "      <td>5774.819824</td>\n",
       "      <td>5358.379883</td>\n",
       "      <td>5648.029785</td>\n",
       "      <td>7032140000</td>\n",
       "      <td>-90.320313</td>\n",
       "      <td>0.0</td>\n",
       "      <td>-121.126607</td>\n",
       "      <td>...</td>\n",
       "      <td>0.002641</td>\n",
       "      <td>1</td>\n",
       "      <td>48.296230</td>\n",
       "      <td>2730.20</td>\n",
       "      <td>2693.52</td>\n",
       "      <td>36.68</td>\n",
       "      <td>0.013618</td>\n",
       "      <td>1</td>\n",
       "      <td>59.599184</td>\n",
       "      <td>0.0</td>\n",
       "    </tr>\n",
       "    <tr>\n",
       "      <th>2</th>\n",
       "      <td>1144</td>\n",
       "      <td>2019-05-23</td>\n",
       "      <td>7677.269043</td>\n",
       "      <td>7943.791504</td>\n",
       "      <td>7533.196777</td>\n",
       "      <td>7881.846680</td>\n",
       "      <td>24457107820</td>\n",
       "      <td>201.780274</td>\n",
       "      <td>1.0</td>\n",
       "      <td>625.729133</td>\n",
       "      <td>...</td>\n",
       "      <td>0.009777</td>\n",
       "      <td>1</td>\n",
       "      <td>53.162762</td>\n",
       "      <td>2822.24</td>\n",
       "      <td>2836.70</td>\n",
       "      <td>-14.46</td>\n",
       "      <td>-0.005097</td>\n",
       "      <td>0</td>\n",
       "      <td>41.547984</td>\n",
       "      <td>1.0</td>\n",
       "    </tr>\n",
       "    <tr>\n",
       "      <th>3</th>\n",
       "      <td>1082</td>\n",
       "      <td>2019-02-25</td>\n",
       "      <td>3807.002441</td>\n",
       "      <td>3913.707275</td>\n",
       "      <td>3807.002441</td>\n",
       "      <td>3882.696289</td>\n",
       "      <td>9318796067</td>\n",
       "      <td>72.268799</td>\n",
       "      <td>1.0</td>\n",
       "      <td>94.876946</td>\n",
       "      <td>...</td>\n",
       "      <td>-0.001802</td>\n",
       "      <td>0</td>\n",
       "      <td>58.979842</td>\n",
       "      <td>2796.11</td>\n",
       "      <td>2804.35</td>\n",
       "      <td>-8.24</td>\n",
       "      <td>-0.002938</td>\n",
       "      <td>0</td>\n",
       "      <td>45.563129</td>\n",
       "      <td>0.0</td>\n",
       "    </tr>\n",
       "    <tr>\n",
       "      <th>4</th>\n",
       "      <td>1149</td>\n",
       "      <td>2019-05-31</td>\n",
       "      <td>8320.286133</td>\n",
       "      <td>8586.659180</td>\n",
       "      <td>8172.550781</td>\n",
       "      <td>8574.501953</td>\n",
       "      <td>25365190957</td>\n",
       "      <td>255.029297</td>\n",
       "      <td>1.0</td>\n",
       "      <td>608.732748</td>\n",
       "      <td>...</td>\n",
       "      <td>0.013842</td>\n",
       "      <td>1</td>\n",
       "      <td>63.288965</td>\n",
       "      <td>2752.06</td>\n",
       "      <td>2766.15</td>\n",
       "      <td>-14.09</td>\n",
       "      <td>-0.005094</td>\n",
       "      <td>0</td>\n",
       "      <td>20.448755</td>\n",
       "      <td>0.0</td>\n",
       "    </tr>\n",
       "  </tbody>\n",
       "</table>\n",
       "<p>5 rows × 65 columns</p>\n",
       "</div>"
      ],
      "text/plain": [
       "   Unnamed: 0        Date         Open         High          Low        Close  \\\n",
       "0         268  2015-11-30   371.437012   382.363007   370.382996   377.321014   \n",
       "1        1016  2018-11-15  5736.149902  5774.819824  5358.379883  5648.029785   \n",
       "2        1144  2019-05-23  7677.269043  7943.791504  7533.196777  7881.846680   \n",
       "3        1082  2019-02-25  3807.002441  3913.707275  3807.002441  3882.696289   \n",
       "4        1149  2019-05-31  8320.286133  8586.659180  8172.550781  8574.501953   \n",
       "\n",
       "        Volume  Daily_Change  Daily_Change_Ind        MACD  ...  \\\n",
       "0     71701600      6.027008               1.0   10.296558  ...   \n",
       "1   7032140000    -90.320313               0.0 -121.126607  ...   \n",
       "2  24457107820    201.780274               1.0  625.729133  ...   \n",
       "3   9318796067     72.268799               1.0   94.876946  ...   \n",
       "4  25365190957    255.029297               1.0  608.732748  ...   \n",
       "\n",
       "   Daily_Change_Perc_Gold  Increased_Gold   RSI_Gold  Close/Last_SP500  \\\n",
       "0                0.008807               1  33.968948           2080.41   \n",
       "1                0.002641               1  48.296230           2730.20   \n",
       "2                0.009777               1  53.162762           2822.24   \n",
       "3               -0.001802               0  58.979842           2796.11   \n",
       "4                0.013842               1  63.288965           2752.06   \n",
       "\n",
       "   Open_SP500  Daily_Change_SP500  Daily_Change_Perc_SP500  Increased_SP500  \\\n",
       "0     2090.95              -10.54                -0.005041                0   \n",
       "1     2693.52               36.68                 0.013618                1   \n",
       "2     2836.70              -14.46                -0.005097                0   \n",
       "3     2804.35               -8.24                -0.002938                0   \n",
       "4     2766.15              -14.09                -0.005094                0   \n",
       "\n",
       "   RSI_SP500  label  \n",
       "0  57.384705    0.0  \n",
       "1  59.599184    0.0  \n",
       "2  41.547984    1.0  \n",
       "3  45.563129    0.0  \n",
       "4  20.448755    0.0  \n",
       "\n",
       "[5 rows x 65 columns]"
      ]
     },
     "execution_count": 268,
     "metadata": {},
     "output_type": "execute_result"
    }
   ],
   "source": [
    "features_df = pd.read_csv(\"bitcoin_train.csv\")\n",
    "features_df.head()"
   ]
  },
  {
   "cell_type": "code",
   "execution_count": 284,
   "metadata": {},
   "outputs": [
    {
     "name": "stdout",
     "output_type": "stream",
     "text": [
      "['Daily_Change', 'MACD', 'PROC_3', 'PROC_5', 'PROC_10', 'wpr', 'sto_os', 'goog_trend_score', 'retweets_count', 'replies_count', 'Daily_Change_Perc', 'Daily_Change_Perc_Gold', 'Daily_Change_SP500', 'Daily_Change_Perc_SP500', 'compound_weighted', 'compound_weighted_avg7', 'compound_weighted_daily_diff', 'compound_weighted_weekly_diff', 'replies_count_daily_diff', 'replies_count_avg7', 'replies_count_weekly_diff', 'count_daily_diff', 'count_weekly_diff', 'RSI']\n",
      "label\n"
     ]
    }
   ],
   "source": [
    "features_df.columns\n",
    "\n",
    "feature_lst = ['Daily_Change', 'Daily_Change_Ind', 'MACD', 'PROC_3', 'PROC_5','PROC_10', 'wpr',\\\n",
    "                'sto_os', 'goog_trend_score', 'retweets_count', \\\n",
    "                'replies_count', 'Daily_Change_Perc', \\\n",
    "                'Daily_Change_Perc_Gold', \\\n",
    "                'Daily_Change_SP500', 'Daily_Change_Perc_SP500', \\\n",
    "                'compound_weighted', 'compound_weighted_avg7', \\\n",
    "                'compound_weighted_daily_diff' , 'compound_weighted_weekly_diff',\n",
    "                'replies_count_daily_diff', 'replies_count_avg7', 'replies_count_weekly_diff',\n",
    "                'count', 'count_daily_diff', 'count_weekly_diff', 'RSI']\n",
    "\n",
    "outcome = features_df.columns[-1]\n",
    "\n",
    "print(feature_lst)\n",
    "print(outcome)"
   ]
  },
  {
   "cell_type": "code",
   "execution_count": 285,
   "metadata": {},
   "outputs": [
    {
     "name": "stdout",
     "output_type": "stream",
     "text": [
      "(1246, 24) (1246,)\n"
     ]
    }
   ],
   "source": [
    "X = features_df[feature_lst]\n",
    "y = features_df[outcome]\n",
    "print(X.shape, y.shape)"
   ]
  },
  {
   "cell_type": "code",
   "execution_count": 286,
   "metadata": {},
   "outputs": [],
   "source": [
    "X_train, X_valid, y_train, y_valid = train_test_split(X, y, random_state = 1234)"
   ]
  },
  {
   "cell_type": "markdown",
   "metadata": {},
   "source": [
    "-----------------------------------------------\n",
    "Trying hyperparameter tuning (OPTUNA):"
   ]
  },
  {
   "cell_type": "code",
   "execution_count": 254,
   "metadata": {},
   "outputs": [],
   "source": [
    "# # USING OPTUNA TO CHOOSE BEST HYPERPARAMETERS\n",
    "# def objective(trial:Trial, train = None, labels = None, val = None, val_labels = None):\n",
    "#     ada_m_depth = trial.suggest_int(\"max_depth\", 1, 5, step = 1)\n",
    "#     ada_n_estimators = trial.suggest_int(\"n_estimators\", 50, 1000, step = 50)\n",
    "#     ada_learning_rate = trial.suggest_float(\"learning_rate\", 0.001, 1.0, step = .009)\n",
    "\n",
    "#     base_estimator = DecisionTreeClassifier(max_depth = ada_m_depth, random_state = 1234)\n",
    "#     ada_clf = AdaBoostClassifier(base_estimator, \n",
    "#                                 n_estimators = ada_n_estimators,\n",
    "#                                 learning_rate = ada_learning_rate,\n",
    "#                                 algorithm = \"SAMME.R\",\n",
    "#                                 random_state = 1234)\n",
    "\n",
    "\n",
    "#     X = features_df[feature_lst]\n",
    "#     y = features_df[outcome]\n",
    "#     X_train, X_valid, y_train, y_valid = train_test_split(X, y, random_state = 1234)                          \n",
    "#     ada_clf.fit(X_train, y_train)\n",
    "#     accuracy = ada_clf.score(X_valid, y_valid)\n",
    "\n",
    "#     return accuracy"
   ]
  },
  {
   "cell_type": "code",
   "execution_count": 255,
   "metadata": {},
   "outputs": [],
   "source": [
    "# from optuna.samplers import TPESampler\n",
    "# sampler2 = TPESampler(seed=10) \n",
    "# study = optuna.create_study(direction ='maximize', sampler=optuna.samplers.RandomSampler(seed=123))\n"
   ]
  },
  {
   "cell_type": "code",
   "execution_count": 256,
   "metadata": {},
   "outputs": [],
   "source": [
    "# study.optimize((objective), n_trials=20,n_jobs=-1)\n",
    "\n",
    "# trial = study.best_trial\n",
    "# print(\"Best Score: \", trial.value)\n",
    "# print(\"Best Params: \")\n",
    "# for key, value in trial.params.items():\n",
    "#     print(\"  {}: {}\".format(key, value))"
   ]
  },
  {
   "cell_type": "code",
   "execution_count": 257,
   "metadata": {},
   "outputs": [],
   "source": [
    "# optuna.visualization.plot_param_importances(study)"
   ]
  },
  {
   "cell_type": "code",
   "execution_count": 258,
   "metadata": {},
   "outputs": [],
   "source": [
    "# plot_optimization_history(study)"
   ]
  },
  {
   "cell_type": "markdown",
   "metadata": {},
   "source": [
    "end of what Ana suggested\n",
    "\n",
    "-----------------------------------------------------------------------"
   ]
  },
  {
   "cell_type": "markdown",
   "metadata": {},
   "source": [
    "run a regular decision tree model with different tree depth, \n",
    "use as comparison to show that adaboost is better"
   ]
  },
  {
   "cell_type": "code",
   "execution_count": 259,
   "metadata": {},
   "outputs": [],
   "source": [
    "# # Figure out what the tree depth should be (maximum score)\n",
    "# results_dict = {}\n",
    "# cx_validation = KFold(n_splits = 10, shuffle = True, random_state = 1)\n",
    "# for depth in range(1, 11):\n",
    "#     base_estimator = DecisionTreeClassifier(max_depth = depth, random_state = 1234)\n",
    "#     if base_estimator.fit(X_train,y_train).tree_.max_depth < depth:\n",
    "#         break\n",
    "#     accuracy_score = np.mean(cross_val_score(base_estimator, X, y, cv = cx_validation, scoring = 'accuracy', n_jobs = 1))\n",
    "#     print(\"Depth:\", depth, \", Score:\", accuracy_score)\n",
    "\n",
    "#     results_dict[depth] = accuracy_score\n",
    "\n",
    "# max_val = -1\n",
    "# max_depth_val = None\n",
    "# for key, val in results_dict.items():\n",
    "#     if val > max_val:\n",
    "#         max_val = val\n",
    "#         max_depth_val = key\n",
    "\n",
    "# print(\"Max depth should be:\", max_depth_val)   "
   ]
  },
  {
   "cell_type": "markdown",
   "metadata": {},
   "source": [
    "Straight run of the model with default chosen n_estimators and learning_rate"
   ]
  },
  {
   "cell_type": "code",
   "execution_count": 260,
   "metadata": {},
   "outputs": [],
   "source": [
    "# # Create adaboost classifer object\n",
    "# base_estimator = DecisionTreeClassifier(max_depth = 2, random_state = 1234)\n",
    "\n",
    "# adaboost = AdaBoostClassifier(base_estimator = base_estimator, random_state = 1234)\n",
    "\n",
    "# # Train Adaboost Classifer\n",
    "# adaboost.fit(X_train, y_train)\n",
    "\n",
    "# # Predict the response for valid dataset\n",
    "# y_hat = adaboost.predict(X_valid)"
   ]
  },
  {
   "cell_type": "code",
   "execution_count": 261,
   "metadata": {},
   "outputs": [],
   "source": [
    "# # Model Accuracy with chosen decision tree depth and randomly chosen hyperparameters\n",
    "# accuracy_score = metrics.accuracy_score(y_valid, y_hat)\n",
    "# mse = metrics.mean_squared_error(y_valid, y_hat)\n",
    "# confusion = metrics.confusion_matrix(y_valid, y_hat) \n",
    "\n",
    "# print(\"Accuracy:\", accuracy_score)\n",
    "# print(\"MSE:\", mse)\n",
    "# print(\"CONFUSION:\", confusion)"
   ]
  },
  {
   "cell_type": "code",
   "execution_count": 262,
   "metadata": {},
   "outputs": [],
   "source": [
    "# feature_import = adaboost.feature_importances_\n",
    "# for i in range(len(feature_lst)):\n",
    "#     print(f\"{feature_lst[i]}: {feature_import[i]}\")"
   ]
  },
  {
   "cell_type": "markdown",
   "metadata": {},
   "source": [
    "hyper parametertuning (number estimators and learning rate)\n"
   ]
  },
  {
   "cell_type": "markdown",
   "metadata": {},
   "source": [
    "tuning n_estimators and learning_Rate"
   ]
  },
  {
   "cell_type": "code",
   "execution_count": 287,
   "metadata": {},
   "outputs": [
    {
     "name": "stdout",
     "output_type": "stream",
     "text": [
      "Best: 0.562449 using {'base_estimator__max_depth': 1, 'learning_rate': 0.1, 'n_estimators': 500}\n",
      "0.554862 (0.034373) with: {'base_estimator__max_depth': 1, 'learning_rate': 0.01, 'n_estimators': 100}\n",
      "0.558114 (0.039659) with: {'base_estimator__max_depth': 1, 'learning_rate': 0.01, 'n_estimators': 500}\n",
      "0.555620 (0.039498) with: {'base_estimator__max_depth': 1, 'learning_rate': 0.01, 'n_estimators': 1000}\n",
      "0.559205 (0.039393) with: {'base_estimator__max_depth': 1, 'learning_rate': 0.1, 'n_estimators': 100}\n",
      "0.562449 (0.041849) with: {'base_estimator__max_depth': 1, 'learning_rate': 0.1, 'n_estimators': 500}\n",
      "0.550702 (0.040121) with: {'base_estimator__max_depth': 1, 'learning_rate': 0.1, 'n_estimators': 1000}\n",
      "0.546034 (0.037731) with: {'base_estimator__max_depth': 2, 'learning_rate': 0.01, 'n_estimators': 100}\n",
      "0.537078 (0.041194) with: {'base_estimator__max_depth': 2, 'learning_rate': 0.01, 'n_estimators': 500}\n",
      "0.539922 (0.040257) with: {'base_estimator__max_depth': 2, 'learning_rate': 0.01, 'n_estimators': 1000}\n",
      "0.553477 (0.037861) with: {'base_estimator__max_depth': 2, 'learning_rate': 0.1, 'n_estimators': 100}\n",
      "0.525673 (0.042170) with: {'base_estimator__max_depth': 2, 'learning_rate': 0.1, 'n_estimators': 500}\n",
      "0.523206 (0.046752) with: {'base_estimator__max_depth': 2, 'learning_rate': 0.1, 'n_estimators': 1000}\n"
     ]
    }
   ],
   "source": [
    "# https://machinelearningmastery.com/adaboost-ensemble-in-python/\n",
    "\n",
    "# alternative way to check n_estiamtors and learning_Rate\n",
    "model = AdaBoostClassifier(base_estimator=DecisionTreeClassifier())\n",
    "# define the grid of values to search\n",
    "grid = dict()\n",
    "\n",
    "param_grids  = {'base_estimator__max_depth':[1,2],\n",
    "              'n_estimators':[100,500,1000],\n",
    "              'learning_rate':[0.01,0.1]}\n",
    "\n",
    "\n",
    "grid['n_estimators'] = [10, 50, 100, 500, 1000]\n",
    "grid['learning_rate'] = [0.001, 0.01, 0.1, 1.0]\n",
    "\n",
    "# define the evaluation procedure\n",
    "cv = RepeatedStratifiedKFold(n_splits = 10, n_repeats = 3, random_state = 1234)\n",
    "\n",
    "# define the grid search procedure\n",
    "#grid_search = GridSearchCV(estimator = model, param_grid = grid, n_jobs = -1, cv = cv, scoring = 'accuracy')\n",
    "grid_search = GridSearchCV(estimator = model, param_grid = param_grids, n_jobs = -1, cv = cv, scoring = 'accuracy')\n",
    "# execute the grid search\n",
    "\n",
    "grid_result = grid_search.fit(X_train, y_train)\n",
    "# summarize the best score and configuration\n",
    "print(\"Best: %f using %s\" % (grid_result.best_score_, grid_result.best_params_))\n",
    "\n",
    "# summarize all scores that were evaluated\n",
    "means = grid_result.cv_results_['mean_test_score']\n",
    "stds = grid_result.cv_results_['std_test_score']\n",
    "params = grid_result.cv_results_['params']\n",
    "\n",
    "mean_results = []\n",
    "for mean, stdev, param in zip(means, stds, params):\n",
    "    print(\"%f (%f) with: %r\" % (mean, stdev, param))\n",
    "    mean_results.append(mean)"
   ]
  },
  {
   "cell_type": "markdown",
   "metadata": {},
   "source": [
    "Rerun adaboost with chosen hyperparameters"
   ]
  },
  {
   "cell_type": "code",
   "execution_count": 288,
   "metadata": {},
   "outputs": [
    {
     "name": "stdout",
     "output_type": "stream",
     "text": [
      "chosen_n: 500\n",
      "chosen_learning_rate: 0.1\n"
     ]
    }
   ],
   "source": [
    "chosen_depth = list(grid_result.best_params_.values())[0]\n",
    "chosen_learning_rate = list(grid_result.best_params_.values())[1]\n",
    "chosen_n = list(grid_result.best_params_.values())[2]\n",
    "print(\"chosen_n:\", chosen_n)\n",
    "print(\"chosen_learning_rate:\", chosen_learning_rate)\n",
    "\n",
    "base_estimator = DecisionTreeClassifier(max_depth = chosen_depth, random_state = 1234)\n",
    "adaboost = AdaBoostClassifier(base_estimator = base_estimator, n_estimators = chosen_n,\n",
    "                              learning_rate = chosen_learning_rate, random_state = 1234)\n",
    "# Train Adaboost Classifer\n",
    "adaboost.fit(X_train, y_train)\n",
    "\n",
    "# Predict the response for valid dataset\n",
    "y_hat = adaboost.predict(X_valid)"
   ]
  },
  {
   "cell_type": "code",
   "execution_count": 289,
   "metadata": {},
   "outputs": [
    {
     "name": "stdout",
     "output_type": "stream",
     "text": [
      "Accuracy: 0.5128205128205128\n",
      "CONFUSION: [[ 47  94]\n",
      " [ 58 113]]\n"
     ]
    }
   ],
   "source": [
    "# Model Accuracy with chosen decision tree depth and chosen hyperparameters\n",
    "accuracy_score = metrics.accuracy_score(y_valid, y_hat)\n",
    "confusion = metrics.confusion_matrix(y_valid, y_hat) \n",
    "\n",
    "print(\"Accuracy:\", accuracy_score)\n",
    "print(\"CONFUSION:\", confusion)"
   ]
  },
  {
   "cell_type": "code",
   "execution_count": 275,
   "metadata": {},
   "outputs": [
    {
     "name": "stdout",
     "output_type": "stream",
     "text": [
      "[[ 48  93]\n",
      " [ 59 112]]\n"
     ]
    },
    {
     "data": {
      "image/png": "[encoded data removed]",
      "text/plain": [
       "<Figure size 432x288 with 2 Axes>"
      ]
     },
     "metadata": {
      "needs_background": "light"
     },
     "output_type": "display_data"
    }
   ],
   "source": [
    "plot_confusion_matrix(adaboost, X_valid, y_valid)\n",
    "print(metrics.confusion_matrix(y_valid, y_hat))"
   ]
  },
  {
   "cell_type": "code",
   "execution_count": 283,
   "metadata": {},
   "outputs": [
    {
     "name": "stdout",
     "output_type": "stream",
     "text": [
      "Daily_Change: 0.016\n",
      "Daily_Change_Ind: 0.0\n",
      "MACD: 0.094\n",
      "PROC_3: 0.026\n",
      "PROC_5: 0.026\n",
      "PROC_10: 0.058\n",
      "wpr: 0.052\n",
      "sto_os: 0.03\n",
      "goog_trend_score: 0.03\n",
      "retweets_count: 0.042\n",
      "replies_count: 0.026\n",
      "Daily_Change_Perc: 0.016\n",
      "Daily_Change_Perc_Gold: 0.034\n",
      "Daily_Change_SP500: 0.028\n",
      "Daily_Change_Perc_SP500: 0.024\n",
      "compound_weighted: 0.038\n",
      "compound_weighted_avg7: 0.048\n",
      "compound_weighted_daily_diff: 0.044\n",
      "compound_weighted_weekly_diff: 0.034\n",
      "replies_count_daily_diff: 0.05\n",
      "replies_count_avg7: 0.078\n",
      "replies_count_weekly_diff: 0.052\n",
      "count: 0.004\n",
      "count_daily_diff: 0.038\n",
      "count_weekly_diff: 0.072\n",
      "RSI: 0.04\n"
     ]
    }
   ],
   "source": [
    "feature_import = adaboost.feature_importances_\n",
    "for i in range(len(feature_lst)):\n",
    "    print(f\"{feature_lst[i]}: {feature_import[i]}\")"
   ]
  },
  {
   "cell_type": "markdown",
   "metadata": {},
   "source": [
    "# Repeat financial variables only"
   ]
  },
  {
   "cell_type": "code",
   "execution_count": 291,
   "metadata": {},
   "outputs": [],
   "source": [
    "features_df = pd.read_csv(\"bitcoin_train.csv\")\n",
    "features_df.columns\n",
    "\n",
    "feature_lst = ['Daily_Change', 'Daily_Change_Ind', 'MACD', 'PROC_3', 'PROC_5','PROC_10', 'wpr',\\\n",
    "                'sto_os', \\\n",
    "                'replies_count', 'Daily_Change_Perc', \\\n",
    "                'Daily_Change_Perc_Gold', \\\n",
    "                'Daily_Change_SP500', 'Daily_Change_Perc_SP500', 'RSI']\n",
    "\n",
    "outcome = features_df.columns[-1]\n",
    "\n",
    "X = features_df[feature_lst]\n",
    "y = features_df[outcome]\n",
    "X_train, X_valid, y_train, y_valid = train_test_split(X, y, random_state = 1234)"
   ]
  },
  {
   "cell_type": "code",
   "execution_count": 292,
   "metadata": {},
   "outputs": [
    {
     "name": "stdout",
     "output_type": "stream",
     "text": [
      "Best: 0.572775 using {'base_estimator__max_depth': 1, 'learning_rate': 0.01, 'n_estimators': 1000}\n",
      "0.557027 (0.040750) with: {'base_estimator__max_depth': 1, 'learning_rate': 0.01, 'n_estimators': 100}\n",
      "0.567052 (0.037960) with: {'base_estimator__max_depth': 1, 'learning_rate': 0.01, 'n_estimators': 500}\n",
      "0.572775 (0.042266) with: {'base_estimator__max_depth': 1, 'learning_rate': 0.01, 'n_estimators': 1000}\n",
      "0.566018 (0.045879) with: {'base_estimator__max_depth': 1, 'learning_rate': 0.1, 'n_estimators': 100}\n",
      "0.550305 (0.040061) with: {'base_estimator__max_depth': 1, 'learning_rate': 0.1, 'n_estimators': 500}\n",
      "0.543510 (0.044863) with: {'base_estimator__max_depth': 1, 'learning_rate': 0.1, 'n_estimators': 1000}\n",
      "0.547011 (0.046142) with: {'base_estimator__max_depth': 2, 'learning_rate': 0.01, 'n_estimators': 100}\n",
      "0.548829 (0.042177) with: {'base_estimator__max_depth': 2, 'learning_rate': 0.01, 'n_estimators': 500}\n",
      "0.532769 (0.046052) with: {'base_estimator__max_depth': 2, 'learning_rate': 0.01, 'n_estimators': 1000}\n",
      "0.535263 (0.050917) with: {'base_estimator__max_depth': 2, 'learning_rate': 0.1, 'n_estimators': 100}\n",
      "0.505323 (0.050152) with: {'base_estimator__max_depth': 2, 'learning_rate': 0.1, 'n_estimators': 500}\n",
      "0.495703 (0.046541) with: {'base_estimator__max_depth': 2, 'learning_rate': 0.1, 'n_estimators': 1000}\n"
     ]
    }
   ],
   "source": [
    "# https://machinelearningmastery.com/adaboost-ensemble-in-python/\n",
    "\n",
    "# alternative way to check n_estiamtors and learning_Rate\n",
    "model = AdaBoostClassifier(base_estimator=DecisionTreeClassifier())\n",
    "# define the grid of values to search\n",
    "grid = dict()\n",
    "\n",
    "param_grids  = {'base_estimator__max_depth':[1,2],\n",
    "              'n_estimators':[100,500,1000],\n",
    "              'learning_rate':[0.01,0.1]}\n",
    "\n",
    "\n",
    "grid['n_estimators'] = [10, 50, 100, 500, 1000]\n",
    "grid['learning_rate'] = [0.001, 0.01, 0.1, 1.0]\n",
    "\n",
    "# define the evaluation procedure\n",
    "cv = RepeatedStratifiedKFold(n_splits = 10, n_repeats = 3, random_state = 1234)\n",
    "\n",
    "# define the grid search procedure\n",
    "#grid_search = GridSearchCV(estimator = model, param_grid = grid, n_jobs = -1, cv = cv, scoring = 'accuracy')\n",
    "grid_search = GridSearchCV(estimator = model, param_grid = param_grids, n_jobs = -1, cv = cv, scoring = 'accuracy')\n",
    "# execute the grid search\n",
    "\n",
    "grid_result = grid_search.fit(X_train, y_train)\n",
    "# summarize the best score and configuration\n",
    "print(\"Best: %f using %s\" % (grid_result.best_score_, grid_result.best_params_))\n",
    "\n",
    "# summarize all scores that were evaluated\n",
    "means = grid_result.cv_results_['mean_test_score']\n",
    "stds = grid_result.cv_results_['std_test_score']\n",
    "params = grid_result.cv_results_['params']\n",
    "\n",
    "mean_results = []\n",
    "for mean, stdev, param in zip(means, stds, params):\n",
    "    print(\"%f (%f) with: %r\" % (mean, stdev, param))\n",
    "    mean_results.append(mean)"
   ]
  },
  {
   "cell_type": "code",
   "execution_count": 293,
   "metadata": {},
   "outputs": [
    {
     "name": "stdout",
     "output_type": "stream",
     "text": [
      "chosen_n: 1000\n",
      "chosen_learning_rate: 0.01\n"
     ]
    }
   ],
   "source": [
    "chosen_depth = list(grid_result.best_params_.values())[0]\n",
    "chosen_learning_rate = list(grid_result.best_params_.values())[1]\n",
    "chosen_n = list(grid_result.best_params_.values())[2]\n",
    "print(\"chosen_n:\", chosen_n)\n",
    "print(\"chosen_learning_rate:\", chosen_learning_rate)\n",
    "\n",
    "base_estimator = DecisionTreeClassifier(max_depth = chosen_depth, random_state = 1234)\n",
    "adaboost = AdaBoostClassifier(base_estimator = base_estimator, n_estimators = chosen_n,\n",
    "                              learning_rate = chosen_learning_rate, random_state = 1234)\n",
    "# Train Adaboost Classifer\n",
    "adaboost.fit(X_train, y_train)\n",
    "\n",
    "# Predict the response for valid dataset\n",
    "y_hat = adaboost.predict(X_valid)"
   ]
  },
  {
   "cell_type": "code",
   "execution_count": 294,
   "metadata": {},
   "outputs": [
    {
     "name": "stdout",
     "output_type": "stream",
     "text": [
      "Accuracy: 0.5064102564102564\n",
      "CONFUSION: [[ 44  97]\n",
      " [ 57 114]]\n"
     ]
    }
   ],
   "source": [
    "# Model Accuracy with chosen decision tree depth and chosen hyperparameters\n",
    "accuracy_score = metrics.accuracy_score(y_valid, y_hat)\n",
    "confusion = metrics.confusion_matrix(y_valid, y_hat) \n",
    "\n",
    "print(\"Accuracy:\", accuracy_score)\n",
    "print(\"CONFUSION:\", confusion)"
   ]
  },
  {
   "cell_type": "code",
   "execution_count": 296,
   "metadata": {},
   "outputs": [
    {
     "name": "stdout",
     "output_type": "stream",
     "text": [
      "Daily_Change: 0.0\n",
      "Daily_Change_Ind: 0.0\n",
      "MACD: 0.244\n",
      "PROC_3: 0.099\n",
      "PROC_5: 0.001\n",
      "PROC_10: 0.181\n",
      "wpr: 0.057\n",
      "sto_os: 0.051\n",
      "replies_count: 0.122\n",
      "Daily_Change_Perc: 0.059\n",
      "Daily_Change_Perc_Gold: 0.026\n",
      "Daily_Change_SP500: 0.014\n",
      "Daily_Change_Perc_SP500: 0.079\n",
      "RSI: 0.067\n"
     ]
    }
   ],
   "source": [
    "feature_import = adaboost.feature_importances_\n",
    "for i in range(len(feature_lst)):\n",
    "    print(f\"{feature_lst[i]}: {feature_import[i]}\")"
   ]
  },
  {
   "cell_type": "code",
   "execution_count": null,
   "metadata": {},
   "outputs": [],
   "source": [
    "plot_confusion_matrix(adaboost, X_valid, y_valid)\n",
    "print(metrics.confusion_matrix(y_valid, y_hat))"
   ]
  },
  {
   "cell_type": "markdown",
   "metadata": {},
   "source": [
    "----------------------------------"
   ]
  },
  {
   "cell_type": "markdown",
   "metadata": {},
   "source": [
    "# Repeat for tweets vars"
   ]
  },
  {
   "cell_type": "code",
   "execution_count": 297,
   "metadata": {},
   "outputs": [
    {
     "name": "stdout",
     "output_type": "stream",
     "text": [
      "['goog_trend_score', 'retweets_count', 'replies_count', 'compound_weighted', 'compound_weighted_avg7', 'compound_weighted_daily_diff', 'compound_weighted_weekly_diff', 'replies_count_daily_diff', 'replies_count_avg7', 'replies_count_weekly_diff', 'count', 'count_daily_diff', 'count_weekly_diff']\n",
      "label\n"
     ]
    }
   ],
   "source": [
    "features_df = pd.read_csv(\"bitcoin_train.csv\")\n",
    "\n",
    "feature_lst = [ 'goog_trend_score', 'retweets_count', \\\n",
    "                'replies_count', \\\n",
    "                'compound_weighted', 'compound_weighted_avg7', \\\n",
    "                'compound_weighted_daily_diff' , 'compound_weighted_weekly_diff',\n",
    "                'replies_count_daily_diff', 'replies_count_avg7', 'replies_count_weekly_diff',\n",
    "                'count', 'count_daily_diff', 'count_weekly_diff']\n",
    "\n",
    "outcome = features_df.columns[-1]\n",
    "\n",
    "print(feature_lst)\n",
    "print(outcome)\n",
    "\n",
    "outcome = features_df.columns[-1]\n",
    "\n",
    "X = features_df[feature_lst]\n",
    "y = features_df[outcome]\n",
    "X_train, X_valid, y_train, y_valid = train_test_split(X, y, random_state = 1234)"
   ]
  },
  {
   "cell_type": "code",
   "execution_count": 298,
   "metadata": {},
   "outputs": [
    {
     "name": "stdout",
     "output_type": "stream",
     "text": [
      "Best: 0.562072 using {'base_estimator__max_depth': 1, 'learning_rate': 0.1, 'n_estimators': 100}\n",
      "0.561687 (0.031566) with: {'base_estimator__max_depth': 1, 'learning_rate': 0.01, 'n_estimators': 100}\n",
      "0.554568 (0.036579) with: {'base_estimator__max_depth': 1, 'learning_rate': 0.01, 'n_estimators': 500}\n",
      "0.561359 (0.036729) with: {'base_estimator__max_depth': 1, 'learning_rate': 0.01, 'n_estimators': 1000}\n",
      "0.562072 (0.035564) with: {'base_estimator__max_depth': 1, 'learning_rate': 0.1, 'n_estimators': 100}\n",
      "0.556711 (0.037838) with: {'base_estimator__max_depth': 1, 'learning_rate': 0.1, 'n_estimators': 500}\n",
      "0.542073 (0.039451) with: {'base_estimator__max_depth': 1, 'learning_rate': 0.1, 'n_estimators': 1000}\n",
      "0.539907 (0.042809) with: {'base_estimator__max_depth': 2, 'learning_rate': 0.01, 'n_estimators': 100}\n",
      "0.555990 (0.046361) with: {'base_estimator__max_depth': 2, 'learning_rate': 0.01, 'n_estimators': 500}\n",
      "0.556009 (0.056178) with: {'base_estimator__max_depth': 2, 'learning_rate': 0.01, 'n_estimators': 1000}\n",
      "0.559963 (0.053357) with: {'base_estimator__max_depth': 2, 'learning_rate': 0.1, 'n_estimators': 100}\n",
      "0.538229 (0.049319) with: {'base_estimator__max_depth': 2, 'learning_rate': 0.1, 'n_estimators': 500}\n",
      "0.530714 (0.045107) with: {'base_estimator__max_depth': 2, 'learning_rate': 0.1, 'n_estimators': 1000}\n"
     ]
    }
   ],
   "source": [
    "# https://machinelearningmastery.com/adaboost-ensemble-in-python/\n",
    "\n",
    "# alternative way to check n_estiamtors and learning_Rate\n",
    "model = AdaBoostClassifier(base_estimator=DecisionTreeClassifier())\n",
    "# define the grid of values to search\n",
    "grid = dict()\n",
    "\n",
    "param_grids  = {'base_estimator__max_depth':[1,2],\n",
    "              'n_estimators':[100,500,1000],\n",
    "              'learning_rate':[0.01,0.1]}\n",
    "\n",
    "\n",
    "grid['n_estimators'] = [10, 50, 100, 500, 1000]\n",
    "grid['learning_rate'] = [0.001, 0.01, 0.1, 1.0]\n",
    "\n",
    "# define the evaluation procedure\n",
    "cv = RepeatedStratifiedKFold(n_splits = 10, n_repeats = 3, random_state = 1234)\n",
    "\n",
    "# define the grid search procedure\n",
    "#grid_search = GridSearchCV(estimator = model, param_grid = grid, n_jobs = -1, cv = cv, scoring = 'accuracy')\n",
    "grid_search = GridSearchCV(estimator = model, param_grid = param_grids, n_jobs = -1, cv = cv, scoring = 'accuracy')\n",
    "# execute the grid search\n",
    "\n",
    "grid_result = grid_search.fit(X_train, y_train)\n",
    "# summarize the best score and configuration\n",
    "print(\"Best: %f using %s\" % (grid_result.best_score_, grid_result.best_params_))\n",
    "\n",
    "# summarize all scores that were evaluated\n",
    "means = grid_result.cv_results_['mean_test_score']\n",
    "stds = grid_result.cv_results_['std_test_score']\n",
    "params = grid_result.cv_results_['params']\n",
    "\n",
    "mean_results = []\n",
    "for mean, stdev, param in zip(means, stds, params):\n",
    "    print(\"%f (%f) with: %r\" % (mean, stdev, param))\n",
    "    mean_results.append(mean)"
   ]
  },
  {
   "cell_type": "code",
   "execution_count": 299,
   "metadata": {},
   "outputs": [
    {
     "name": "stdout",
     "output_type": "stream",
     "text": [
      "chosen_n: 100\n",
      "chosen_learning_rate: 0.1\n"
     ]
    }
   ],
   "source": [
    "chosen_depth = list(grid_result.best_params_.values())[0]\n",
    "chosen_learning_rate = list(grid_result.best_params_.values())[1]\n",
    "chosen_n = list(grid_result.best_params_.values())[2]\n",
    "print(\"chosen_n:\", chosen_n)\n",
    "print(\"chosen_learning_rate:\", chosen_learning_rate)\n",
    "\n",
    "base_estimator = DecisionTreeClassifier(max_depth = chosen_depth, random_state = 1234)\n",
    "adaboost = AdaBoostClassifier(base_estimator = base_estimator, n_estimators = chosen_n,\n",
    "                              learning_rate = chosen_learning_rate, random_state = 1234)\n",
    "# Train Adaboost Classifer\n",
    "adaboost.fit(X_train, y_train)\n",
    "\n",
    "# Predict the response for valid dataset\n",
    "y_hat = adaboost.predict(X_valid)"
   ]
  },
  {
   "cell_type": "code",
   "execution_count": 300,
   "metadata": {},
   "outputs": [
    {
     "name": "stdout",
     "output_type": "stream",
     "text": [
      "Accuracy: 0.5\n",
      "CONFUSION: [[ 30 111]\n",
      " [ 45 126]]\n"
     ]
    }
   ],
   "source": [
    "# Model Accuracy with chosen decision tree depth and chosen hyperparameters\n",
    "accuracy_score = metrics.accuracy_score(y_valid, y_hat)\n",
    "confusion = metrics.confusion_matrix(y_valid, y_hat) \n",
    "\n",
    "print(\"Accuracy:\", accuracy_score)\n",
    "print(\"CONFUSION:\", confusion)"
   ]
  },
  {
   "cell_type": "code",
   "execution_count": 301,
   "metadata": {},
   "outputs": [
    {
     "name": "stdout",
     "output_type": "stream",
     "text": [
      "goog_trend_score: 0.06\n",
      "retweets_count: 0.03\n",
      "replies_count: 0.05\n",
      "compound_weighted: 0.08\n",
      "compound_weighted_avg7: 0.16\n",
      "compound_weighted_daily_diff: 0.14\n",
      "compound_weighted_weekly_diff: 0.01\n",
      "replies_count_daily_diff: 0.05\n",
      "replies_count_avg7: 0.07\n",
      "replies_count_weekly_diff: 0.1\n",
      "count: 0.01\n",
      "count_daily_diff: 0.09\n",
      "count_weekly_diff: 0.15\n"
     ]
    }
   ],
   "source": [
    "feature_import = adaboost.feature_importances_\n",
    "for i in range(len(feature_lst)):\n",
    "    print(f\"{feature_lst[i]}: {feature_import[i]}\")"
   ]
  },
  {
   "cell_type": "code",
   "execution_count": 302,
   "metadata": {},
   "outputs": [
    {
     "name": "stdout",
     "output_type": "stream",
     "text": [
      "[[ 30 111]\n",
      " [ 45 126]]\n"
     ]
    },
    {
     "data": {
      "image/png": "[encoded data removed]",
      "text/plain": [
       "<Figure size 432x288 with 2 Axes>"
      ]
     },
     "metadata": {
      "needs_background": "light"
     },
     "output_type": "display_data"
    }
   ],
   "source": [
    "plot_confusion_matrix(adaboost, X_valid, y_valid)\n",
    "print(metrics.confusion_matrix(y_valid, y_hat))"
   ]
  },
  {
   "cell_type": "markdown",
   "metadata": {},
   "source": [
    "-------------------------------------------"
   ]
  },
  {
   "cell_type": "markdown",
   "metadata": {},
   "source": [
    "# Repeat for Dogecoin\n"
   ]
  },
  {
   "cell_type": "code",
   "execution_count": 306,
   "metadata": {},
   "outputs": [],
   "source": [
    "dogecoin = pd.read_csv(\"dogecoin_train.csv\")\n",
    "dogecoin = dogecoin.rename(columns={'goog_trend': 'goog_trend_score'})"
   ]
  },
  {
   "cell_type": "code",
   "execution_count": 307,
   "metadata": {},
   "outputs": [],
   "source": [
    "X_dog = dogecoin[feature_lst]\n",
    "y_dog = dogecoin['label']"
   ]
  },
  {
   "cell_type": "code",
   "execution_count": 308,
   "metadata": {},
   "outputs": [],
   "source": [
    "X_train, X_valid, y_train, y_valid = train_test_split(X_dog, y_dog, random_state = 1234)"
   ]
  },
  {
   "cell_type": "code",
   "execution_count": 309,
   "metadata": {},
   "outputs": [
    {
     "name": "stdout",
     "output_type": "stream",
     "text": [
      "Best: 0.805308 using {'base_estimator__max_depth': 1, 'learning_rate': 0.01, 'n_estimators': 100}\n",
      "0.805308 (0.002443) with: {'base_estimator__max_depth': 1, 'learning_rate': 0.01, 'n_estimators': 100}\n",
      "0.800206 (0.008083) with: {'base_estimator__max_depth': 1, 'learning_rate': 0.01, 'n_estimators': 500}\n",
      "0.799186 (0.009501) with: {'base_estimator__max_depth': 1, 'learning_rate': 0.01, 'n_estimators': 1000}\n",
      "0.798165 (0.010963) with: {'base_estimator__max_depth': 1, 'learning_rate': 0.1, 'n_estimators': 100}\n",
      "0.795114 (0.017228) with: {'base_estimator__max_depth': 1, 'learning_rate': 0.1, 'n_estimators': 500}\n",
      "0.795448 (0.020527) with: {'base_estimator__max_depth': 1, 'learning_rate': 0.1, 'n_estimators': 1000}\n",
      "0.799869 (0.009537) with: {'base_estimator__max_depth': 2, 'learning_rate': 0.01, 'n_estimators': 100}\n",
      "0.790370 (0.015866) with: {'base_estimator__max_depth': 2, 'learning_rate': 0.01, 'n_estimators': 500}\n",
      "0.789696 (0.018746) with: {'base_estimator__max_depth': 2, 'learning_rate': 0.01, 'n_estimators': 1000}\n",
      "0.786965 (0.019397) with: {'base_estimator__max_depth': 2, 'learning_rate': 0.1, 'n_estimators': 100}\n",
      "0.782547 (0.025304) with: {'base_estimator__max_depth': 2, 'learning_rate': 0.1, 'n_estimators': 500}\n",
      "0.777781 (0.026183) with: {'base_estimator__max_depth': 2, 'learning_rate': 0.1, 'n_estimators': 1000}\n"
     ]
    }
   ],
   "source": [
    "# https://machinelearningmastery.com/adaboost-ensemble-in-python/\n",
    "\n",
    "# alternative way to check n_estiamtors and learning_Rate\n",
    "model = AdaBoostClassifier(base_estimator=DecisionTreeClassifier())\n",
    "# define the grid of values to search\n",
    "grid = dict()\n",
    "\n",
    "param_grids  = {'base_estimator__max_depth':[1,2],\n",
    "              'n_estimators':[100,500,1000],\n",
    "              'learning_rate':[0.01,0.1]}\n",
    "\n",
    "\n",
    "grid['n_estimators'] = [10, 50, 100, 500, 1000]\n",
    "grid['learning_rate'] = [0.001, 0.01, 0.1, 1.0]\n",
    "\n",
    "# define the evaluation procedure\n",
    "cv = RepeatedStratifiedKFold(n_splits = 10, n_repeats = 3, random_state = 1234)\n",
    "\n",
    "# define the grid search procedure\n",
    "#grid_search = GridSearchCV(estimator = model, param_grid = grid, n_jobs = -1, cv = cv, scoring = 'accuracy')\n",
    "grid_search = GridSearchCV(estimator = model, param_grid = param_grids, n_jobs = -1, cv = cv, scoring = 'accuracy')\n",
    "# execute the grid search\n",
    "\n",
    "grid_result = grid_search.fit(X_train, y_train)\n",
    "# summarize the best score and configuration\n",
    "print(\"Best: %f using %s\" % (grid_result.best_score_, grid_result.best_params_))\n",
    "\n",
    "# summarize all scores that were evaluated\n",
    "means = grid_result.cv_results_['mean_test_score']\n",
    "stds = grid_result.cv_results_['std_test_score']\n",
    "params = grid_result.cv_results_['params']\n",
    "\n",
    "mean_results = []\n",
    "for mean, stdev, param in zip(means, stds, params):\n",
    "    print(\"%f (%f) with: %r\" % (mean, stdev, param))\n",
    "    mean_results.append(mean)"
   ]
  },
  {
   "cell_type": "code",
   "execution_count": 310,
   "metadata": {},
   "outputs": [
    {
     "name": "stdout",
     "output_type": "stream",
     "text": [
      "chosen_n: 100\n",
      "chosen_learning_rate: 0.01\n"
     ]
    }
   ],
   "source": [
    "chosen_depth = list(grid_result.best_params_.values())[0]\n",
    "chosen_learning_rate = list(grid_result.best_params_.values())[1]\n",
    "chosen_n = list(grid_result.best_params_.values())[2]\n",
    "print(\"chosen_n:\", chosen_n)\n",
    "print(\"chosen_learning_rate:\", chosen_learning_rate)\n",
    "\n",
    "base_estimator = DecisionTreeClassifier(max_depth = chosen_depth, random_state = 1234)\n",
    "adaboost = AdaBoostClassifier(base_estimator = base_estimator, n_estimators = chosen_n,\n",
    "                              learning_rate = chosen_learning_rate, random_state = 1234)\n",
    "# Train Adaboost Classifer\n",
    "adaboost.fit(X_train, y_train)\n",
    "\n",
    "# Predict the response for valid dataset\n",
    "y_hat = adaboost.predict(X_valid)"
   ]
  },
  {
   "cell_type": "code",
   "execution_count": 311,
   "metadata": {},
   "outputs": [
    {
     "name": "stdout",
     "output_type": "stream",
     "text": [
      "Accuracy: 0.7957317073170732\n",
      "CONFUSION: [[261   0]\n",
      " [ 67   0]]\n"
     ]
    }
   ],
   "source": [
    "# Model Accuracy with chosen decision tree depth and chosen hyperparameters\n",
    "accuracy_score = metrics.accuracy_score(y_valid, y_hat)\n",
    "confusion = metrics.confusion_matrix(y_valid, y_hat) \n",
    "\n",
    "print(\"Accuracy:\", accuracy_score)\n",
    "print(\"CONFUSION:\", confusion)"
   ]
  },
  {
   "cell_type": "code",
   "execution_count": 312,
   "metadata": {},
   "outputs": [
    {
     "name": "stdout",
     "output_type": "stream",
     "text": [
      "goog_trend_score: 0.65\n",
      "retweets_count: 0.0\n",
      "replies_count: 0.0\n",
      "compound_weighted: 0.0\n",
      "compound_weighted_avg7: 0.0\n",
      "compound_weighted_daily_diff: 0.04\n",
      "compound_weighted_weekly_diff: 0.0\n",
      "replies_count_daily_diff: 0.01\n",
      "replies_count_avg7: 0.0\n",
      "replies_count_weekly_diff: 0.21\n",
      "count: 0.0\n",
      "count_daily_diff: 0.0\n",
      "count_weekly_diff: 0.09\n"
     ]
    }
   ],
   "source": [
    "feature_import = adaboost.feature_importances_\n",
    "for i in range(len(feature_lst)):\n",
    "    print(f\"{feature_lst[i]}: {feature_import[i]}\")"
   ]
  },
  {
   "cell_type": "code",
   "execution_count": 313,
   "metadata": {},
   "outputs": [
    {
     "name": "stdout",
     "output_type": "stream",
     "text": [
      "[[261   0]\n",
      " [ 67   0]]\n"
     ]
    },
    {
     "data": {
      "image/png": "[encoded data removed]",
      "text/plain": [
       "<Figure size 432x288 with 2 Axes>"
      ]
     },
     "metadata": {
      "needs_background": "light"
     },
     "output_type": "display_data"
    }
   ],
   "source": [
    "plot_confusion_matrix(adaboost, X_valid, y_valid)\n",
    "print(metrics.confusion_matrix(y_valid, y_hat))"
   ]
  },
  {
   "cell_type": "markdown",
   "metadata": {},
   "source": [
    "----------------------"
   ]
  },
  {
   "cell_type": "markdown",
   "metadata": {},
   "source": [
    "# Repeat Dogecoin financial vars"
   ]
  },
  {
   "cell_type": "code",
   "execution_count": 314,
   "metadata": {},
   "outputs": [],
   "source": [
    "dogecoin = pd.read_csv(\"dogecoin_train.csv\")\n",
    "dogecoin = dogecoin.rename(columns={'goog_trend': 'goog_trend_score'})\n",
    "\n",
    "\n",
    "\n",
    "feature_lst = ['Daily_Change', 'Daily_Change_Ind', 'MACD', 'PROC_3', 'PROC_5','PROC_10', 'wpr',\\\n",
    "                'sto_os', \\\n",
    "                'replies_count', 'Daily_Change_Perc', \\\n",
    "                'Daily_Change_Perc_Gold', \\\n",
    "                'Daily_Change_SP500', 'Daily_Change_Perc_SP500', 'RSI']\n",
    "\n",
    "outcome = features_df.columns[-1]\n",
    "\n",
    "X_dog = dogecoin[feature_lst]\n",
    "y_dog = dogecoin['label']\n",
    "X_train, X_valid, y_train, y_valid = train_test_split(X_dog, y_dog, random_state = 1234)"
   ]
  },
  {
   "cell_type": "code",
   "execution_count": 315,
   "metadata": {},
   "outputs": [
    {
     "name": "stdout",
     "output_type": "stream",
     "text": [
      "Best: 0.805329 using {'base_estimator__max_depth': 1, 'learning_rate': 0.1, 'n_estimators': 100}\n",
      "0.805308 (0.002443) with: {'base_estimator__max_depth': 1, 'learning_rate': 0.01, 'n_estimators': 100}\n",
      "0.801910 (0.009179) with: {'base_estimator__max_depth': 1, 'learning_rate': 0.01, 'n_estimators': 500}\n",
      "0.804638 (0.016445) with: {'base_estimator__max_depth': 1, 'learning_rate': 0.01, 'n_estimators': 1000}\n",
      "0.805329 (0.017951) with: {'base_estimator__max_depth': 1, 'learning_rate': 0.1, 'n_estimators': 100}\n",
      "0.793098 (0.024712) with: {'base_estimator__max_depth': 1, 'learning_rate': 0.1, 'n_estimators': 500}\n",
      "0.787989 (0.025290) with: {'base_estimator__max_depth': 1, 'learning_rate': 0.1, 'n_estimators': 1000}\n",
      "0.798179 (0.011913) with: {'base_estimator__max_depth': 2, 'learning_rate': 0.01, 'n_estimators': 100}\n",
      "0.797499 (0.019511) with: {'base_estimator__max_depth': 2, 'learning_rate': 0.01, 'n_estimators': 500}\n",
      "0.797509 (0.023560) with: {'base_estimator__max_depth': 2, 'learning_rate': 0.01, 'n_estimators': 1000}\n",
      "0.790700 (0.021877) with: {'base_estimator__max_depth': 2, 'learning_rate': 0.1, 'n_estimators': 100}\n",
      "0.773700 (0.029349) with: {'base_estimator__max_depth': 2, 'learning_rate': 0.1, 'n_estimators': 500}\n",
      "0.766584 (0.028903) with: {'base_estimator__max_depth': 2, 'learning_rate': 0.1, 'n_estimators': 1000}\n"
     ]
    }
   ],
   "source": [
    "# https://machinelearningmastery.com/adaboost-ensemble-in-python/\n",
    "\n",
    "# alternative way to check n_estiamtors and learning_Rate\n",
    "model = AdaBoostClassifier(base_estimator=DecisionTreeClassifier())\n",
    "# define the grid of values to search\n",
    "grid = dict()\n",
    "\n",
    "param_grids  = {'base_estimator__max_depth':[1,2],\n",
    "              'n_estimators':[100,500,1000],\n",
    "              'learning_rate':[0.01,0.1]}\n",
    "\n",
    "\n",
    "grid['n_estimators'] = [10, 50, 100, 500, 1000]\n",
    "grid['learning_rate'] = [0.001, 0.01, 0.1, 1.0]\n",
    "\n",
    "# define the evaluation procedure\n",
    "cv = RepeatedStratifiedKFold(n_splits = 10, n_repeats = 3, random_state = 1234)\n",
    "\n",
    "# define the grid search procedure\n",
    "#grid_search = GridSearchCV(estimator = model, param_grid = grid, n_jobs = -1, cv = cv, scoring = 'accuracy')\n",
    "grid_search = GridSearchCV(estimator = model, param_grid = param_grids, n_jobs = -1, cv = cv, scoring = 'accuracy')\n",
    "# execute the grid search\n",
    "\n",
    "grid_result = grid_search.fit(X_train, y_train)\n",
    "# summarize the best score and configuration\n",
    "print(\"Best: %f using %s\" % (grid_result.best_score_, grid_result.best_params_))\n",
    "\n",
    "# summarize all scores that were evaluated\n",
    "means = grid_result.cv_results_['mean_test_score']\n",
    "stds = grid_result.cv_results_['std_test_score']\n",
    "params = grid_result.cv_results_['params']\n",
    "\n",
    "mean_results = []\n",
    "for mean, stdev, param in zip(means, stds, params):\n",
    "    print(\"%f (%f) with: %r\" % (mean, stdev, param))\n",
    "    mean_results.append(mean)"
   ]
  },
  {
   "cell_type": "code",
   "execution_count": 316,
   "metadata": {},
   "outputs": [
    {
     "name": "stdout",
     "output_type": "stream",
     "text": [
      "chosen_n: 100\n",
      "chosen_learning_rate: 0.1\n"
     ]
    }
   ],
   "source": [
    "chosen_depth = list(grid_result.best_params_.values())[0]\n",
    "chosen_learning_rate = list(grid_result.best_params_.values())[1]\n",
    "chosen_n = list(grid_result.best_params_.values())[2]\n",
    "print(\"chosen_n:\", chosen_n)\n",
    "print(\"chosen_learning_rate:\", chosen_learning_rate)\n",
    "\n",
    "base_estimator = DecisionTreeClassifier(max_depth = chosen_depth, random_state = 1234)\n",
    "adaboost = AdaBoostClassifier(base_estimator = base_estimator, n_estimators = chosen_n,\n",
    "                              learning_rate = chosen_learning_rate, random_state = 1234)\n",
    "# Train Adaboost Classifer\n",
    "adaboost.fit(X_train, y_train)\n",
    "\n",
    "# Predict the response for valid dataset\n",
    "y_hat = adaboost.predict(X_valid)"
   ]
  },
  {
   "cell_type": "code",
   "execution_count": 317,
   "metadata": {},
   "outputs": [
    {
     "name": "stdout",
     "output_type": "stream",
     "text": [
      "Accuracy: 0.7957317073170732\n",
      "CONFUSION: [[256   5]\n",
      " [ 62   5]]\n"
     ]
    }
   ],
   "source": [
    "# Model Accuracy with chosen decision tree depth and chosen hyperparameters\n",
    "accuracy_score = metrics.accuracy_score(y_valid, y_hat)\n",
    "confusion = metrics.confusion_matrix(y_valid, y_hat) \n",
    "\n",
    "print(\"Accuracy:\", accuracy_score)\n",
    "print(\"CONFUSION:\", confusion)"
   ]
  },
  {
   "cell_type": "code",
   "execution_count": 318,
   "metadata": {},
   "outputs": [
    {
     "name": "stdout",
     "output_type": "stream",
     "text": [
      "Daily_Change: 0.01\n",
      "Daily_Change_Ind: 0.0\n",
      "MACD: 0.27\n",
      "PROC_3: 0.06\n",
      "PROC_5: 0.1\n",
      "PROC_10: 0.05\n",
      "wpr: 0.1\n",
      "sto_os: 0.2\n",
      "replies_count: 0.0\n",
      "Daily_Change_Perc: 0.06\n",
      "Daily_Change_Perc_Gold: 0.0\n",
      "Daily_Change_SP500: 0.02\n",
      "Daily_Change_Perc_SP500: 0.03\n",
      "RSI: 0.1\n"
     ]
    }
   ],
   "source": [
    "feature_import = adaboost.feature_importances_\n",
    "for i in range(len(feature_lst)):\n",
    "    print(f\"{feature_lst[i]}: {feature_import[i]}\")"
   ]
  },
  {
   "cell_type": "code",
   "execution_count": 319,
   "metadata": {},
   "outputs": [
    {
     "name": "stdout",
     "output_type": "stream",
     "text": [
      "[[256   5]\n",
      " [ 62   5]]\n"
     ]
    },
    {
     "data": {
      "image/png": "[encoded data removed]",
      "text/plain": [
       "<Figure size 432x288 with 2 Axes>"
      ]
     },
     "metadata": {
      "needs_background": "light"
     },
     "output_type": "display_data"
    }
   ],
   "source": [
    "plot_confusion_matrix(adaboost, X_valid, y_valid)\n",
    "print(metrics.confusion_matrix(y_valid, y_hat))"
   ]
  },
  {
   "cell_type": "markdown",
   "metadata": {},
   "source": [
    "------------------------"
   ]
  },
  {
   "cell_type": "markdown",
   "metadata": {},
   "source": [
    "# Repeat Dogecoin social vars"
   ]
  },
  {
   "cell_type": "code",
   "execution_count": 320,
   "metadata": {},
   "outputs": [],
   "source": [
    "dogecoin = pd.read_csv(\"dogecoin_train.csv\")\n",
    "dogecoin = dogecoin.rename(columns={'goog_trend': 'goog_trend_score'})\n",
    "\n",
    "feature_lst = [ 'goog_trend_score', 'retweets_count', \\\n",
    "                'replies_count', \\\n",
    "                'compound_weighted', 'compound_weighted_avg7', \\\n",
    "                'compound_weighted_daily_diff' , 'compound_weighted_weekly_diff',\n",
    "                'replies_count_daily_diff', 'replies_count_avg7', 'replies_count_weekly_diff',\n",
    "                'count', 'count_daily_diff', 'count_weekly_diff']\n",
    "\n",
    "outcome = features_df.columns[-1]\n",
    "\n",
    "X_dog = dogecoin[feature_lst]\n",
    "y_dog = dogecoin['label']\n",
    "X_train, X_valid, y_train, y_valid = train_test_split(X_dog, y_dog, random_state = 1234)"
   ]
  },
  {
   "cell_type": "code",
   "execution_count": 321,
   "metadata": {},
   "outputs": [
    {
     "name": "stdout",
     "output_type": "stream",
     "text": [
      "Best: 0.805308 using {'base_estimator__max_depth': 1, 'learning_rate': 0.01, 'n_estimators': 100}\n",
      "0.805308 (0.002443) with: {'base_estimator__max_depth': 1, 'learning_rate': 0.01, 'n_estimators': 100}\n",
      "0.800206 (0.008083) with: {'base_estimator__max_depth': 1, 'learning_rate': 0.01, 'n_estimators': 500}\n",
      "0.799186 (0.009501) with: {'base_estimator__max_depth': 1, 'learning_rate': 0.01, 'n_estimators': 1000}\n",
      "0.798165 (0.010963) with: {'base_estimator__max_depth': 1, 'learning_rate': 0.1, 'n_estimators': 100}\n",
      "0.795455 (0.016730) with: {'base_estimator__max_depth': 1, 'learning_rate': 0.1, 'n_estimators': 500}\n",
      "0.795448 (0.020527) with: {'base_estimator__max_depth': 1, 'learning_rate': 0.1, 'n_estimators': 1000}\n",
      "0.799869 (0.009537) with: {'base_estimator__max_depth': 2, 'learning_rate': 0.01, 'n_estimators': 100}\n",
      "0.790370 (0.015866) with: {'base_estimator__max_depth': 2, 'learning_rate': 0.01, 'n_estimators': 500}\n",
      "0.790033 (0.018250) with: {'base_estimator__max_depth': 2, 'learning_rate': 0.01, 'n_estimators': 1000}\n",
      "0.784928 (0.019919) with: {'base_estimator__max_depth': 2, 'learning_rate': 0.1, 'n_estimators': 100}\n",
      "0.782206 (0.025190) with: {'base_estimator__max_depth': 2, 'learning_rate': 0.1, 'n_estimators': 500}\n",
      "0.778125 (0.025518) with: {'base_estimator__max_depth': 2, 'learning_rate': 0.1, 'n_estimators': 1000}\n"
     ]
    }
   ],
   "source": [
    "# https://machinelearningmastery.com/adaboost-ensemble-in-python/\n",
    "\n",
    "# alternative way to check n_estiamtors and learning_Rate\n",
    "model = AdaBoostClassifier(base_estimator=DecisionTreeClassifier())\n",
    "# define the grid of values to search\n",
    "grid = dict()\n",
    "\n",
    "param_grids  = {'base_estimator__max_depth':[1,2],\n",
    "              'n_estimators':[100,500,1000],\n",
    "              'learning_rate':[0.01,0.1]}\n",
    "\n",
    "\n",
    "grid['n_estimators'] = [10, 50, 100, 500, 1000]\n",
    "grid['learning_rate'] = [0.001, 0.01, 0.1, 1.0]\n",
    "\n",
    "# define the evaluation procedure\n",
    "cv = RepeatedStratifiedKFold(n_splits = 10, n_repeats = 3, random_state = 1234)\n",
    "\n",
    "# define the grid search procedure\n",
    "#grid_search = GridSearchCV(estimator = model, param_grid = grid, n_jobs = -1, cv = cv, scoring = 'accuracy')\n",
    "grid_search = GridSearchCV(estimator = model, param_grid = param_grids, n_jobs = -1, cv = cv, scoring = 'accuracy')\n",
    "# execute the grid search\n",
    "\n",
    "grid_result = grid_search.fit(X_train, y_train)\n",
    "# summarize the best score and configuration\n",
    "print(\"Best: %f using %s\" % (grid_result.best_score_, grid_result.best_params_))\n",
    "\n",
    "# summarize all scores that were evaluated\n",
    "means = grid_result.cv_results_['mean_test_score']\n",
    "stds = grid_result.cv_results_['std_test_score']\n",
    "params = grid_result.cv_results_['params']\n",
    "\n",
    "mean_results = []\n",
    "for mean, stdev, param in zip(means, stds, params):\n",
    "    print(\"%f (%f) with: %r\" % (mean, stdev, param))\n",
    "    mean_results.append(mean)"
   ]
  },
  {
   "cell_type": "code",
   "execution_count": 322,
   "metadata": {},
   "outputs": [
    {
     "name": "stdout",
     "output_type": "stream",
     "text": [
      "chosen_n: 100\n",
      "chosen_learning_rate: 0.01\n"
     ]
    }
   ],
   "source": [
    "chosen_depth = list(grid_result.best_params_.values())[0]\n",
    "chosen_learning_rate = list(grid_result.best_params_.values())[1]\n",
    "chosen_n = list(grid_result.best_params_.values())[2]\n",
    "print(\"chosen_n:\", chosen_n)\n",
    "print(\"chosen_learning_rate:\", chosen_learning_rate)\n",
    "\n",
    "base_estimator = DecisionTreeClassifier(max_depth = chosen_depth, random_state = 1234)\n",
    "adaboost = AdaBoostClassifier(base_estimator = base_estimator, n_estimators = chosen_n,\n",
    "                              learning_rate = chosen_learning_rate, random_state = 1234)\n",
    "# Train Adaboost Classifer\n",
    "adaboost.fit(X_train, y_train)\n",
    "\n",
    "# Predict the response for valid dataset\n",
    "y_hat = adaboost.predict(X_valid)"
   ]
  },
  {
   "cell_type": "code",
   "execution_count": 323,
   "metadata": {},
   "outputs": [
    {
     "name": "stdout",
     "output_type": "stream",
     "text": [
      "Accuracy: 0.7957317073170732\n",
      "CONFUSION: [[261   0]\n",
      " [ 67   0]]\n"
     ]
    }
   ],
   "source": [
    "# Model Accuracy with chosen decision tree depth and chosen hyperparameters\n",
    "accuracy_score = metrics.accuracy_score(y_valid, y_hat)\n",
    "confusion = metrics.confusion_matrix(y_valid, y_hat) \n",
    "\n",
    "print(\"Accuracy:\", accuracy_score)\n",
    "print(\"CONFUSION:\", confusion)"
   ]
  },
  {
   "cell_type": "code",
   "execution_count": 324,
   "metadata": {},
   "outputs": [
    {
     "name": "stdout",
     "output_type": "stream",
     "text": [
      "goog_trend_score: 0.65\n",
      "retweets_count: 0.0\n",
      "replies_count: 0.0\n",
      "compound_weighted: 0.0\n",
      "compound_weighted_avg7: 0.0\n",
      "compound_weighted_daily_diff: 0.04\n",
      "compound_weighted_weekly_diff: 0.0\n",
      "replies_count_daily_diff: 0.01\n",
      "replies_count_avg7: 0.0\n",
      "replies_count_weekly_diff: 0.21\n",
      "count: 0.0\n",
      "count_daily_diff: 0.0\n",
      "count_weekly_diff: 0.09\n"
     ]
    }
   ],
   "source": [
    "feature_import = adaboost.feature_importances_\n",
    "for i in range(len(feature_lst)):\n",
    "    print(f\"{feature_lst[i]}: {feature_import[i]}\")"
   ]
  },
  {
   "cell_type": "code",
   "execution_count": 325,
   "metadata": {},
   "outputs": [
    {
     "name": "stdout",
     "output_type": "stream",
     "text": [
      "[[261   0]\n",
      " [ 67   0]]\n"
     ]
    },
    {
     "data": {
      "image/png": "[encoded data removed]",
      "text/plain": [
       "<Figure size 432x288 with 2 Axes>"
      ]
     },
     "metadata": {
      "needs_background": "light"
     },
     "output_type": "display_data"
    }
   ],
   "source": [
    "plot_confusion_matrix(adaboost, X_valid, y_valid)\n",
    "print(metrics.confusion_matrix(y_valid, y_hat))"
   ]
  },
  {
   "cell_type": "markdown",
   "metadata": {},
   "source": [
    "-----------------------------------------------------------------\n",
    "ignore\n",
    "------------------------------------------------------------"
   ]
  },
  {
   "cell_type": "markdown",
   "metadata": {},
   "source": [
    "first do bitcoin"
   ]
  },
  {
   "cell_type": "code",
   "execution_count": 79,
   "metadata": {},
   "outputs": [
    {
     "name": "stdout",
     "output_type": "stream",
     "text": [
      "['Daily_Change', 'Daily_Change_Ind', 'MACD', 'PROC_3', 'PROC_5', 'PROC_10', 'wpr', 'sto_os', 'goog_trend_score', 'count', 'retweets_count', 'likes_count', 'replies_count', 'Daily_Change_Perc', 'Daily_Change_Gold', 'Daily_Change_Perc_Gold', 'Increased_Gold', 'Daily_Change_SP500', 'Daily_Change_Perc_SP500', 'Increased_SP500']\n",
      "label\n"
     ]
    }
   ],
   "source": [
    "features_df.columns\n",
    "\n",
    "features_lst = ['MACD', 'RSI', 'PROC_3', 'Daily_Change_Perc_SP500', 'Daily_Change_Perc_Gold', \\\n",
    "                'compound_weighted_avg7', 'likes_count_daily_diff', 'pos_weighted_avg7',\\\n",
    "                'retweets_count_weekly_diff','goog_trend_score']\n",
    "\n",
    "outcome = features_df.columns[-1]\n",
    "\n",
    "print(feature_lst)\n",
    "print(outcome)"
   ]
  },
  {
   "cell_type": "code",
   "execution_count": 80,
   "metadata": {},
   "outputs": [
    {
     "name": "stdout",
     "output_type": "stream",
     "text": [
      "(1246, 20) (1246,)\n"
     ]
    }
   ],
   "source": [
    "X = features_df[feature_lst]\n",
    "y = features_df[outcome]\n",
    "print(X.shape, y.shape)\n",
    "X_train, X_valid, y_train, y_valid = train_test_split(X, y, random_state = 1234)"
   ]
  },
  {
   "cell_type": "code",
   "execution_count": 81,
   "metadata": {},
   "outputs": [],
   "source": [
    "def objective(trial:Trial, train = None, labels = None, val = None, val_labels = None):\n",
    "    ada_m_depth = trial.suggest_int(\"max_depth\", 1, 5, step = 1)\n",
    "    ada_n_estimators = trial.suggest_int(\"n_estimators\", 50, 1000, step = 50)\n",
    "    ada_learning_rate = trial.suggest_float(\"learning_rate\", 0.001, 1.0, step = .009)\n",
    "\n",
    "    base_estimator = DecisionTreeClassifier(max_depth = ada_m_depth, random_state = 1234)\n",
    "    ada_clf = AdaBoostClassifier(base_estimator, \n",
    "                                n_estimators = ada_n_estimators,\n",
    "                                learning_rate = ada_learning_rate,\n",
    "                                algorithm = \"SAMME.R\")\n",
    "    ada_clf.fit(X_train, y_train)\n",
    "    accuracy = ada_clf.score(X_valid, y_valid)\n",
    "\n",
    "    return accuracy"
   ]
  },
  {
   "cell_type": "code",
   "execution_count": 82,
   "metadata": {},
   "outputs": [
    {
     "name": "stdout",
     "output_type": "stream",
     "text": [
      "Best Score:  0.5352564102564102\n",
      "Best Params: \n",
      "  max_depth: 3\n",
      "  n_estimators: 150\n",
      "  learning_rate: 0.8649999999999999\n"
     ]
    }
   ],
   "source": [
    "study = optuna.create_study(direction = \"maximize\")\n",
    "study.optimize(objective, n_trials = 20, n_jobs = -1)\n",
    "\n",
    "trial = study.best_trial\n",
    "print(\"Best Score: \", trial.value)\n",
    "print(\"Best Params: \")\n",
    "for key, value in trial.params.items():\n",
    "    print(\"  {}: {}\".format(key, value))"
   ]
  },
  {
   "cell_type": "code",
   "execution_count": 83,
   "metadata": {},
   "outputs": [],
   "source": [
    "base_estimator = DecisionTreeClassifier(max_depth = 2, random_state = 1234)\n",
    "adaboost = AdaBoostClassifier(base_estimator = base_estimator, n_estimators = 250,\n",
    "                              learning_rate = 0.001, random_state = 1234)\n",
    "\n",
    "# Train Adaboost Classifer\n",
    "adaboost.fit(X_train, y_train)\n",
    "\n",
    "# Predict the response for valid dataset\n",
    "y_hat = adaboost.predict(X_valid)"
   ]
  },
  {
   "cell_type": "code",
   "execution_count": 84,
   "metadata": {},
   "outputs": [
    {
     "name": "stdout",
     "output_type": "stream",
     "text": [
      "Accuracy: 0.5416666666666666\n",
      "MSE: 0.4583333333333333\n",
      "CONFUSION: [[ 62  79]\n",
      " [ 64 107]]\n"
     ]
    }
   ],
   "source": [
    "accuracy_score = metrics.accuracy_score(y_valid, y_hat)\n",
    "mse = metrics.mean_squared_error(y_valid, y_hat)\n",
    "confusion = metrics.confusion_matrix(y_valid, y_hat) \n",
    "\n",
    "print(\"Accuracy:\", accuracy_score)\n",
    "print(\"MSE:\", mse)\n",
    "print(\"CONFUSION:\", confusion)"
   ]
  },
  {
   "cell_type": "code",
   "execution_count": 85,
   "metadata": {},
   "outputs": [
    {
     "name": "stdout",
     "output_type": "stream",
     "text": [
      "Best: 0.577156 using {'learning_rate': 0.1, 'n_estimators': 100}\n",
      "0.558270 (0.046790) with: {'learning_rate': 0.001, 'n_estimators': 10}\n",
      "0.558270 (0.046790) with: {'learning_rate': 0.001, 'n_estimators': 50}\n",
      "0.558270 (0.046790) with: {'learning_rate': 0.001, 'n_estimators': 100}\n",
      "0.556486 (0.046447) with: {'learning_rate': 0.001, 'n_estimators': 500}\n",
      "0.559677 (0.046496) with: {'learning_rate': 0.001, 'n_estimators': 1000}\n",
      "0.558270 (0.046790) with: {'learning_rate': 0.01, 'n_estimators': 10}\n",
      "0.556128 (0.045798) with: {'learning_rate': 0.01, 'n_estimators': 50}\n",
      "0.560036 (0.046449) with: {'learning_rate': 0.01, 'n_estimators': 100}\n",
      "0.563967 (0.049997) with: {'learning_rate': 0.01, 'n_estimators': 500}\n",
      "0.572886 (0.051213) with: {'learning_rate': 0.01, 'n_estimators': 1000}\n",
      "0.563959 (0.043869) with: {'learning_rate': 0.1, 'n_estimators': 10}\n",
      "0.569675 (0.049124) with: {'learning_rate': 0.1, 'n_estimators': 50}\n",
      "0.577156 (0.051566) with: {'learning_rate': 0.1, 'n_estimators': 100}\n",
      "0.565694 (0.052309) with: {'learning_rate': 0.1, 'n_estimators': 500}\n",
      "0.555659 (0.046494) with: {'learning_rate': 0.1, 'n_estimators': 1000}\n",
      "0.557519 (0.050688) with: {'learning_rate': 1.0, 'n_estimators': 10}\n",
      "0.558930 (0.056309) with: {'learning_rate': 1.0, 'n_estimators': 50}\n",
      "0.549245 (0.052923) with: {'learning_rate': 1.0, 'n_estimators': 100}\n",
      "0.530695 (0.051016) with: {'learning_rate': 1.0, 'n_estimators': 500}\n",
      "0.518630 (0.050345) with: {'learning_rate': 1.0, 'n_estimators': 1000}\n"
     ]
    }
   ],
   "source": [
    "# https://machinelearningmastery.com/adaboost-ensemble-in-python/\n",
    "\n",
    "# alternative way to check n_estiamtors and learning_Rate\n",
    "model = AdaBoostClassifier()\n",
    "# define the grid of values to search\n",
    "grid = dict()\n",
    "grid['n_estimators'] = [10, 50, 100, 500, 1000]\n",
    "grid['learning_rate'] = [0.001, 0.01, 0.1, 1.0]\n",
    "\n",
    "# define the evaluation procedure\n",
    "cv = RepeatedStratifiedKFold(n_splits = 10, n_repeats = 3, random_state = 1)\n",
    "# define the grid search procedure\n",
    "grid_search = GridSearchCV(estimator = model, param_grid = grid, n_jobs = -1, cv = cv, scoring = 'accuracy')\n",
    "# execute the grid search\n",
    "grid_result = grid_search.fit(X_train, y_train)\n",
    "# summarize the best score and configuration\n",
    "print(\"Best: %f using %s\" % (grid_result.best_score_, grid_result.best_params_))\n",
    "# summarize all scores that were evaluated\n",
    "means = grid_result.cv_results_['mean_test_score']\n",
    "stds = grid_result.cv_results_['std_test_score']\n",
    "params = grid_result.cv_results_['params']\n",
    "mean_results = []\n",
    "for mean, stdev, param in zip(means, stds, params):\n",
    "    print(\"%f (%f) with: %r\" % (mean, stdev, param))\n",
    "    mean_results.append(mean)"
   ]
  },
  {
   "cell_type": "code",
   "execution_count": 86,
   "metadata": {},
   "outputs": [],
   "source": [
    "# Create adaboost classifer object\n",
    "base_estimator = DecisionTreeClassifier(max_depth = 2, random_state = 1234)\n",
    "adaboost = AdaBoostClassifier(base_estimator = base_estimator, random_state = 1234)\n",
    "# Train Adaboost Classifer\n",
    "adaboost.fit(X_train, y_train)\n",
    "# Predict the response for valid dataset\n",
    "y_hat = adaboost.predict(X_valid)"
   ]
  },
  {
   "cell_type": "code",
   "execution_count": 87,
   "metadata": {},
   "outputs": [
    {
     "name": "stdout",
     "output_type": "stream",
     "text": [
      "Accuracy: 0.47115384615384615\n",
      "MSE: 0.5288461538461539\n",
      "CONFUSION: [[53 88]\n",
      " [77 94]]\n"
     ]
    }
   ],
   "source": [
    "# Model Accuracy with chosen decision tree depth and chosen hyperparameters\n",
    "accuracy_score = metrics.accuracy_score(y_valid, y_hat)\n",
    "mse = metrics.mean_squared_error(y_valid, y_hat)\n",
    "confusion = metrics.confusion_matrix(y_valid, y_hat) \n",
    "\n",
    "print(\"Accuracy:\", accuracy_score)\n",
    "print(\"MSE:\", mse)\n",
    "print(\"CONFUSION:\", confusion)"
   ]
  },
  {
   "cell_type": "code",
   "execution_count": 88,
   "metadata": {},
   "outputs": [
    {
     "name": "stdout",
     "output_type": "stream",
     "text": [
      "Daily_Change: 0.06837026229462262\n",
      "Daily_Change_Ind: 0.0\n",
      "MACD: 0.0984933981907369\n",
      "PROC_3: 0.08124960788836638\n",
      "PROC_5: 0.05510786728617159\n",
      "PROC_10: 0.06006722592379675\n",
      "wpr: 0.044479782083094256\n",
      "sto_os: 0.04439830938995261\n",
      "goog_trend_score: 0.07085841939511693\n",
      "count: 0.037122684239862105\n",
      "retweets_count: 0.061018737499452774\n",
      "likes_count: 0.05253288451127324\n",
      "replies_count: 0.050023428685943665\n",
      "Daily_Change_Perc: 0.020446008740331485\n",
      "Daily_Change_Gold: 0.05330507295888297\n",
      "Daily_Change_Perc_Gold: 0.059561404144577515\n",
      "Increased_Gold: 0.0\n",
      "Daily_Change_SP500: 0.07252642244639963\n",
      "Daily_Change_Perc_SP500: 0.07043848432141858\n",
      "Increased_SP500: 0.0\n"
     ]
    }
   ],
   "source": [
    "feature_import = adaboost.feature_importances_\n",
    "for i in range(len(feature_lst)):\n",
    "    print(f\"{feature_lst[i]}: {feature_import[i]}\")"
   ]
  },
  {
   "cell_type": "markdown",
   "metadata": {},
   "source": [
    "# Repeat fewer vars for dogecoin"
   ]
  },
  {
   "cell_type": "code",
   "execution_count": 89,
   "metadata": {},
   "outputs": [],
   "source": [
    "dogecoin = pd.read_csv(\"dogecoin_train.csv\")\n",
    "dogecoin = dogecoin.rename(columns={'goog_trend': 'goog_trend_score'})\n",
    "features_df.columns\n",
    "\n",
    "features_lst = ['MACD', 'RSI', 'PROC_3', 'Daily_Change_Perc_SP500', 'Daily_Change_Perc_Gold', \\\n",
    "                'compound_weighted_avg7', 'likes_count_daily_diff', 'pos_weighted_avg7',\\\n",
    "                'retweets_count_weekly_diff','goog_trend_score']\n",
    "\n",
    "outcome = features_df.columns[-1]\n",
    "X_dog = dogecoin[feature_lst]\n",
    "y_dog = dogecoin['label']\n",
    "X_train, X_valid, y_train, y_valid = train_test_split(X_dog, y_dog, random_state = 1234)"
   ]
  },
  {
   "cell_type": "code",
   "execution_count": 90,
   "metadata": {},
   "outputs": [],
   "source": [
    "def objective(trial:Trial, train = None, labels = None, val = None, val_labels = None, val_rets = None):\n",
    "    ada_m_depth = trial.suggest_int(\"max_depth\", 1, 5, step = 1)\n",
    "    ada_n_estimators = trial.suggest_int(\"n_estimators\", 50, 1000, step = 50)\n",
    "    ada_learning_rate = trial.suggest_float(\"learning_rate\", 0.001, 1.0, step = .009)\n",
    "\n",
    "    base_estimator = DecisionTreeClassifier(max_depth = ada_m_depth, random_state = 1234)\n",
    "    ada_clf = AdaBoostClassifier(base_estimator, \n",
    "                                n_estimators = ada_n_estimators,\n",
    "                                learning_rate = ada_learning_rate,\n",
    "                                algorithm = \"SAMME.R\")\n",
    "    ada_clf.fit(X_train, y_train)\n",
    "    accuracy = ada_clf.score(X_valid, y_valid)\n",
    "\n",
    "    return accuracy"
   ]
  },
  {
   "cell_type": "code",
   "execution_count": 91,
   "metadata": {},
   "outputs": [
    {
     "name": "stdout",
     "output_type": "stream",
     "text": [
      "Best Score:  0.7926829268292683\n",
      "Best Params: \n",
      "  max_depth: 4\n",
      "  n_estimators: 250\n",
      "  learning_rate: 0.9099999999999999\n"
     ]
    }
   ],
   "source": [
    "study = optuna.create_study(direction = \"maximize\")\n",
    "study.optimize(objective, n_trials = 20, n_jobs = -1)\n",
    "\n",
    "\n",
    "trial = study.best_trial\n",
    "print(\"Best Score: \", trial.value)\n",
    "print(\"Best Params: \")\n",
    "for key, value in trial.params.items():\n",
    "    print(\"  {}: {}\".format(key, value))\n"
   ]
  },
  {
   "cell_type": "code",
   "execution_count": 92,
   "metadata": {},
   "outputs": [],
   "source": [
    "base_estimator = DecisionTreeClassifier(max_depth = 2, random_state = 1234)\n",
    "adaboost = AdaBoostClassifier(base_estimator = base_estimator, n_estimators = 250,\n",
    "                              learning_rate = 0.001, random_state = 1234)\n",
    "\n",
    "# Train Adaboost Classifer\n",
    "adaboost.fit(X_train, y_train)\n",
    "\n",
    "# Predict the response for valid dataset\n",
    "y_hat = adaboost.predict(X_valid)"
   ]
  },
  {
   "cell_type": "code",
   "execution_count": 93,
   "metadata": {},
   "outputs": [
    {
     "name": "stdout",
     "output_type": "stream",
     "text": [
      "Accuracy: 0.7957317073170732\n",
      "MSE: 0.20426829268292682\n",
      "CONFUSION: [[256   5]\n",
      " [ 62   5]]\n"
     ]
    }
   ],
   "source": [
    "accuracy_score = metrics.accuracy_score(y_valid, y_hat)\n",
    "mse = metrics.mean_squared_error(y_valid, y_hat)\n",
    "confusion = metrics.confusion_matrix(y_valid, y_hat) \n",
    "\n",
    "print(\"Accuracy:\", accuracy_score)\n",
    "print(\"MSE:\", mse)\n",
    "print(\"CONFUSION:\", confusion)"
   ]
  },
  {
   "cell_type": "code",
   "execution_count": 94,
   "metadata": {},
   "outputs": [
    {
     "name": "stdout",
     "output_type": "stream",
     "text": [
      "Best: 0.805308 using {'learning_rate': 0.001, 'n_estimators': 10}\n",
      "0.805308 (0.002443) with: {'learning_rate': 0.001, 'n_estimators': 10}\n",
      "0.805308 (0.002443) with: {'learning_rate': 0.001, 'n_estimators': 50}\n",
      "0.805308 (0.002443) with: {'learning_rate': 0.001, 'n_estimators': 100}\n",
      "0.805308 (0.002443) with: {'learning_rate': 0.001, 'n_estimators': 500}\n",
      "0.805308 (0.002443) with: {'learning_rate': 0.001, 'n_estimators': 1000}\n",
      "0.805308 (0.002443) with: {'learning_rate': 0.01, 'n_estimators': 10}\n",
      "0.805308 (0.002443) with: {'learning_rate': 0.01, 'n_estimators': 50}\n",
      "0.805308 (0.002443) with: {'learning_rate': 0.01, 'n_estimators': 100}\n",
      "0.802584 (0.008477) with: {'learning_rate': 0.01, 'n_estimators': 500}\n",
      "0.804291 (0.018565) with: {'learning_rate': 0.01, 'n_estimators': 1000}\n",
      "0.805308 (0.002443) with: {'learning_rate': 0.1, 'n_estimators': 10}\n",
      "0.802244 (0.008115) with: {'learning_rate': 0.1, 'n_estimators': 50}\n",
      "0.801580 (0.019279) with: {'learning_rate': 0.1, 'n_estimators': 100}\n",
      "0.795795 (0.019700) with: {'learning_rate': 0.1, 'n_estimators': 500}\n",
      "0.788999 (0.024653) with: {'learning_rate': 0.1, 'n_estimators': 1000}\n",
      "0.792053 (0.028753) with: {'learning_rate': 1.0, 'n_estimators': 10}\n",
      "0.787291 (0.026957) with: {'learning_rate': 1.0, 'n_estimators': 50}\n",
      "0.788332 (0.030515) with: {'learning_rate': 1.0, 'n_estimators': 100}\n",
      "0.771353 (0.032597) with: {'learning_rate': 1.0, 'n_estimators': 500}\n",
      "0.761152 (0.037313) with: {'learning_rate': 1.0, 'n_estimators': 1000}\n"
     ]
    }
   ],
   "source": [
    "model = AdaBoostClassifier()\n",
    "# define the grid of values to search\n",
    "grid = dict()\n",
    "grid['n_estimators'] = [10, 50, 100, 500, 1000]\n",
    "grid['learning_rate'] = [0.001, 0.01, 0.1, 1.0]\n",
    "\n",
    "# define the evaluation procedure\n",
    "cv = RepeatedStratifiedKFold(n_splits = 10, n_repeats = 3, random_state = 1)\n",
    "\n",
    "# define the grid search procedure\n",
    "grid_search = GridSearchCV(estimator = model, param_grid = grid, n_jobs = -1, cv = cv, scoring = 'accuracy')\n",
    "\n",
    "# execute the grid search\n",
    "grid_result = grid_search.fit(X_train, y_train)\n",
    "\n",
    "# summarize the best score and configuration\n",
    "print(\"Best: %f using %s\" % (grid_result.best_score_, grid_result.best_params_))\n",
    "\n",
    "# summarize all scores that were evaluated\n",
    "means = grid_result.cv_results_['mean_test_score']\n",
    "stds = grid_result.cv_results_['std_test_score']\n",
    "params = grid_result.cv_results_['params']\n",
    "for mean, stdev, param in zip(means, stds, params):\n",
    "    print(\"%f (%f) with: %r\" % (mean, stdev, param))"
   ]
  },
  {
   "cell_type": "code",
   "execution_count": 95,
   "metadata": {},
   "outputs": [
    {
     "name": "stdout",
     "output_type": "stream",
     "text": [
      "chosen_n: 10\n",
      "chosen_learing_rate: 0.001\n"
     ]
    }
   ],
   "source": [
    "base_estimator = DecisionTreeClassifier(max_depth = 1, random_state = 1234)\n",
    "\n",
    "chosen_learning_rate = list(grid_result.best_params_.values())[0]\n",
    "chosen_n = list(grid_result.best_params_.values())[1]\n",
    "\n",
    "print(\"chosen_n:\", chosen_n)\n",
    "print(\"chosen_learing_rate:\", chosen_learning_rate)\n",
    "\n",
    "adaboost = AdaBoostClassifier(base_estimator = base_estimator, n_estimators = chosen_n,\n",
    "                              learning_rate = chosen_learning_rate, random_state = 1234)\n",
    "\n",
    "# Train Adaboost Classifer\n",
    "adaboost.fit(X_train, y_train)\n",
    "\n",
    "# Predict the response for valid dataset\n",
    "y_hat = adaboost.predict(X_valid)"
   ]
  },
  {
   "cell_type": "code",
   "execution_count": 96,
   "metadata": {},
   "outputs": [
    {
     "name": "stdout",
     "output_type": "stream",
     "text": [
      "Accuracy: 0.7957317073170732\n",
      "MSE: 0.20426829268292682\n",
      "CONFUSION: [[261   0]\n",
      " [ 67   0]]\n"
     ]
    }
   ],
   "source": [
    "accuracy_score = metrics.accuracy_score(y_valid, y_hat)\n",
    "mse = metrics.mean_squared_error(y_valid, y_hat)\n",
    "confusion = metrics.confusion_matrix(y_valid, y_hat) \n",
    "\n",
    "print(\"Accuracy:\", accuracy_score)\n",
    "print(\"MSE:\", mse)\n",
    "print(\"CONFUSION:\", confusion)"
   ]
  },
  {
   "cell_type": "code",
   "execution_count": null,
   "metadata": {},
   "outputs": [],
   "source": [
    "plot_confusion_matrix(adaboost, X_valid, y_valid)\n",
    "print(metrics.confusion_matrix(y_valid, y_hat))"
   ]
  },
  {
   "cell_type": "markdown",
   "metadata": {},
   "source": [
    "--------------------------------------------------------------------\n",
    "# MISC OTHER CODE NOT USING"
   ]
  },
  {
   "cell_type": "markdown",
   "metadata": {},
   "source": [
    "-------------------------------------------------------------\n",
    "We will evaluate the model using repeated stratified k-fold cross-validation, with three repeats and 10 folds. We will report the mean and standard deviation of the accuracy of the model across all repeats and folds.\n",
    "\n",
    "https://machinelearningmastery.com/adaboost-ensemble-in-python/"
   ]
  },
  {
   "cell_type": "code",
   "execution_count": 45,
   "metadata": {},
   "outputs": [
    {
     "name": "stdout",
     "output_type": "stream",
     "text": [
      "Accuracy: 0.635 (0.053)\n"
     ]
    }
   ],
   "source": [
    "model = AdaBoostClassifier()\n",
    "# evaluate the model\n",
    "cv = RepeatedStratifiedKFold(n_splits=10, n_repeats=3, random_state=1234)\n",
    "n_scores = cross_val_score(model, X_train, y_train, scoring='accuracy', cv=cv, n_jobs=-1, error_score='raise')\n",
    "# report performance\n",
    "print('Accuracy: %.3f (%.3f)' % (np.mean(n_scores), np.std(n_scores)))"
   ]
  },
  {
   "cell_type": "markdown",
   "metadata": {},
   "source": [
    "This achieved 63.5% accuracy with default hyperparameters. Now make predictions on new data"
   ]
  },
  {
   "cell_type": "code",
   "execution_count": 47,
   "metadata": {},
   "outputs": [
    {
     "name": "stdout",
     "output_type": "stream",
     "text": [
      "Accuracy: 0.7070063694267515\n",
      "MSE: 0.2929936305732484\n",
      "CONFUSION: [[ 91  45]\n",
      " [ 47 131]]\n"
     ]
    }
   ],
   "source": [
    "model = AdaBoostClassifier()\n",
    "# fit the model on the whole dataset\n",
    "model.fit(X_train, y_train)\n",
    "# make a single prediction\n",
    "y_hat = model.predict(X_valid)\n",
    "\n",
    "accuracy_score = metrics.accuracy_score(y_valid, y_hat)\n",
    "mse = metrics.mean_squared_error(y_valid, y_hat)\n",
    "confusion = metrics.confusion_matrix(y_valid, y_hat) \n",
    "\n",
    "print(\"Accuracy:\", accuracy_score)\n",
    "print(\"MSE:\", mse)\n",
    "print(\"CONFUSION:\", confusion)"
   ]
  },
  {
   "cell_type": "code",
   "execution_count": 53,
   "metadata": {},
   "outputs": [
    {
     "data": {
      "text/plain": [
       "AdaBoostClassifier(algorithm='SAMME',\n",
       "                   base_estimator=DecisionTreeClassifier(max_depth=3,\n",
       "                                                         random_state=1234),\n",
       "                   n_estimators=3, random_state=0)"
      ]
     },
     "execution_count": 53,
     "metadata": {},
     "output_type": "execute_result"
    }
   ],
   "source": [
    "base_estimator = DecisionTreeClassifier(max_depth=3, random_state=1234)\n",
    "adaboost = AdaBoostClassifier(base_estimator=base_estimator,\n",
    "                              n_estimators=3, algorithm=\"SAMME\",\n",
    "                              random_state=0)\n",
    "adaboost.fit(X_train, y_train)"
   ]
  },
  {
   "cell_type": "code",
   "execution_count": null,
   "metadata": {},
   "outputs": [],
   "source": [
    "import matplotlib.pyplot as plt\n",
    "from sklearn.tree import DecisionTreeClassifier\n",
    "from sklearn.inspection import DecisionBoundaryDisplay\n"
   ]
  },
  {
   "cell_type": "code",
   "execution_count": null,
   "metadata": {},
   "outputs": [],
   "source": [
    "for boosting_round, tree in enumerate(adaboost.estimators_):\n",
    "    plt.figure()\n",
    "    # we convert `data` into a NumPy array to avoid a warning raised in scikit-learn\n",
    "    DecisionBoundaryDisplay.from_estimator(\n",
    "        tree, X_train.to_numpy(), response_method=\"predict\", cmap=\"RdBu\", alpha=0.5\n",
    "    )\n",
    "    sns.scatterplot(x=culmen_columns[0], y=culmen_columns[1],\n",
    "                    hue=target_column, data=penguins,\n",
    "                    palette=palette)\n",
    "    plt.legend(bbox_to_anchor=(1.04, 0.5), loc=\"center left\")\n",
    "    _ = plt.title(f\"Decision tree trained at round {boosting_round}\")"
   ]
  },
  {
   "cell_type": "code",
   "execution_count": null,
   "metadata": {},
   "outputs": [],
   "source": [
    "# hyper parametertuning (number estimators and learning rate)\n",
    "# ada = AdaBoostClassifier()\n",
    "# search_grid = {'n_estimators':[500,1000,2000], 'learning_rate':[.001,0.01,.1]}\n",
    "# search = GridSearchCV(estimator = ada, param_grid = search_grid, scoring = 'accuracy', n_jobs = 1, cv = cx_validation)\n",
    "\n",
    "#https://python-bloggers.com/2019/01/adaboost-classification-in-python/\n",
    "\n",
    "# search.fit(X,y)\n",
    "# search.best_params_\n",
    "# print(search.best_params_)\n",
    "# search.best_score_\n",
    "# print(search.best_score_)\n",
    "#Out[34]: 0.7425149700598802\n",
    "\n",
    "\n",
    "\n",
    "# https://python-bloggers.com/2019/01/adaboost-classification-in-python/\n",
    "\n",
    "# score = np.mean(cross_val_score(ada, X, y, scoring='accuracy', cv = cx_validation, n_jobs = 1))\n",
    "# score\n",
    "\n",
    "\n",
    "#https://python-bloggers.com/2019/01/adaboost-classification-in-python/\n",
    "\n",
    "# AdaBoostClassifier.get_params().keys()"
   ]
  }
 ],
 "metadata": {
  "interpreter": {
   "hash": "916dbcbb3f70747c44a77c7bcd40155683ae19c65e1c03b4aa3499c5328201f1"
  },
  "kernelspec": {
   "display_name": "Python 3.8.10 64-bit",
   "language": "python",
   "name": "python3"
  },
  "language_info": {
   "codemirror_mode": {
    "name": "ipython",
    "version": 3
   },
   "file_extension": ".py",
   "mimetype": "text/x-python",
   "name": "python",
   "nbconvert_exporter": "python",
   "pygments_lexer": "ipython3",
   "version": "3.8.10"
  },
  "orig_nbformat": 4
 },
 "nbformat": 4,
 "nbformat_minor": 2
}
