{
 "cells": [
  {
   "cell_type": "code",
   "execution_count": 1,
   "id": "0cd24dc6",
   "metadata": {},
   "outputs": [],
   "source": [
    "import os\n",
    "import math\n",
    "import pandas as pd\n",
    "import numpy as np\n",
    "import matplotlib.pyplot as plt\n",
    "from sklearn.model_selection import train_test_split\n",
    "from sklearn.linear_model import LogisticRegression\n",
    "from sklearn import metrics\n",
    "\n",
    "os.chdir('/Users/yjp/capp30254/crypto-currency/data')"
   ]
  },
  {
   "cell_type": "code",
   "execution_count": 2,
   "id": "9556a5f8",
   "metadata": {
    "scrolled": true
   },
   "outputs": [
    {
     "name": "stdout",
     "output_type": "stream",
     "text": [
      "0 Unnamed: 0\n",
      "1 Date\n",
      "2 Open\n",
      "3 High\n",
      "4 Low\n",
      "5 Close\n",
      "6 Adj Close\n",
      "7 Volume\n",
      "8 Daily_Change\n",
      "9 Daily_Change_Ind\n",
      "10 MACD\n",
      "11 PROC_3\n",
      "12 PROC_5\n",
      "13 PROC_10\n",
      "14 wpr\n",
      "15 sto_os\n",
      "16 gold_close\n",
      "17 gold_label\n",
      "18 sp500_close\n",
      "19 sp500_label\n",
      "20 goog_trend_score\n",
      "21 isPartial\n",
      "22 count\n",
      "23 compound\n",
      "24 neg\n",
      "25 neu\n",
      "26 pos\n",
      "27 retweets_count\n",
      "28 likes_count\n",
      "29 replies_count\n",
      "30 compound_weighted_replies\n",
      "31 compound_weighted_likes\n",
      "32 compound_weighted_retweets\n"
     ]
    }
   ],
   "source": [
    "data = pd.read_csv(\"merged_datasets.csv\")\n",
    "cols = data.columns\n",
    "for i,c in enumerate(cols):\n",
    "    print(i, c)"
   ]
  },
  {
   "cell_type": "code",
   "execution_count": 3,
   "id": "cd15daae",
   "metadata": {},
   "outputs": [],
   "source": [
    "X = pd.read_csv(\"merged_datasets.csv\",usecols=[5, 16, 18, 20, 23, 30, 31, 32])\n",
    "y = pd.read_csv(\"merged_datasets.csv\",usecols=[9])\n",
    "X['compound_weighted_replies'] = X['compound_weighted_replies'].fillna(0)\n",
    "\n",
    "X = X.to_numpy()\n",
    "y = y.to_numpy()"
   ]
  },
  {
   "cell_type": "code",
   "execution_count": 4,
   "id": "8a77e3da",
   "metadata": {},
   "outputs": [],
   "source": [
    "X_train, X_test, y_train, y_test = train_test_split(X, y)\n",
    "y_train = y_train.reshape(-1)"
   ]
  },
  {
   "cell_type": "code",
   "execution_count": 5,
   "id": "6be4723a",
   "metadata": {},
   "outputs": [],
   "source": [
    "lr = LogisticRegression()"
   ]
  },
  {
   "cell_type": "code",
   "execution_count": 6,
   "id": "d3df96b2",
   "metadata": {},
   "outputs": [],
   "source": [
    "lr.fit(X_train, y_train)\n",
    "y_hat=lr.predict(X_test)"
   ]
  },
  {
   "cell_type": "code",
   "execution_count": 7,
   "id": "f7341718",
   "metadata": {},
   "outputs": [],
   "source": [
    "confusion = metrics.confusion_matrix(y_test, y_hat)"
   ]
  },
  {
   "cell_type": "code",
   "execution_count": 8,
   "id": "208eda9d",
   "metadata": {},
   "outputs": [
    {
     "name": "stdout",
     "output_type": "stream",
     "text": [
      "0.5417721518987342\n"
     ]
    }
   ],
   "source": [
    "accuracy = np.sum(np.diagonal(confusion))/len(y_test)\n",
    "print(accuracy)"
   ]
  },
  {
   "cell_type": "code",
   "execution_count": null,
   "id": "c9feba94",
   "metadata": {},
   "outputs": [],
   "source": []
  }
 ],
 "metadata": {
  "kernelspec": {
   "display_name": "Python 3 (ipykernel)",
   "language": "python",
   "name": "python3"
  },
  "language_info": {
   "codemirror_mode": {
    "name": "ipython",
    "version": 3
   },
   "file_extension": ".py",
   "mimetype": "text/x-python",
   "name": "python",
   "nbconvert_exporter": "python",
   "pygments_lexer": "ipython3",
   "version": "3.9.7"
  }
 },
 "nbformat": 4,
 "nbformat_minor": 5
}
