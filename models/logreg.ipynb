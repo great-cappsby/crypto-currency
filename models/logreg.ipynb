{
 "cells": [
  {
   "cell_type": "code",
   "execution_count": 1,
   "id": "0cd24dc6",
   "metadata": {},
   "outputs": [],
   "source": [
    "import os\n",
    "import math\n",
    "import pandas as pd\n",
    "import numpy as np\n",
    "import matplotlib.pyplot as plt\n",
    "from sklearn.model_selection import train_test_split\n",
    "from sklearn.linear_model import LogisticRegression\n",
    "from sklearn import metrics\n",
    "import itertools"
   ]
  },
  {
   "cell_type": "markdown",
   "id": "584b8a2d",
   "metadata": {},
   "source": [
    "FEATURE CATEGORIES: <br> \n",
    "    stock measures <br> \n",
    "    google trends score <br> \n",
    "    tweets <br> \n",
    "    S&P 500 <br> \n",
    "    Gold <br> "
   ]
  },
  {
   "cell_type": "code",
   "execution_count": 2,
   "id": "abcdaa1c",
   "metadata": {
    "scrolled": true
   },
   "outputs": [
    {
     "name": "stdout",
     "output_type": "stream",
     "text": [
      "0 Unnamed: 0\n",
      "1 Date\n",
      "2 Open\n",
      "3 High\n",
      "4 Low\n",
      "5 Close\n",
      "6 Volume\n",
      "7 Daily_Change\n",
      "8 Daily_Change_Ind\n",
      "9 MACD\n",
      "10 PROC_3\n",
      "11 PROC_5\n",
      "12 PROC_10\n",
      "13 wpr\n",
      "14 sto_os\n",
      "15 goog_trend_score\n",
      "16 count\n",
      "17 compound_times_retweets\n",
      "18 likes_count\n",
      "19 neg_times_retweets\n",
      "20 pos_times_retweets\n",
      "21 replies_count\n",
      "22 retweets_count\n",
      "23 pos_weighted\n",
      "24 neg_weighted\n",
      "25 compound_weighted\n",
      "26 count_avg7\n",
      "27 count_daily_diff\n",
      "28 count_weekly_diff\n",
      "29 replies_count_avg7\n",
      "30 replies_count_daily_diff\n",
      "31 replies_count_weekly_diff\n",
      "32 retweets_count_avg7\n",
      "33 retweets_count_daily_diff\n",
      "34 retweets_count_weekly_diff\n",
      "35 likes_count_avg7\n",
      "36 likes_count_daily_diff\n",
      "37 likes_count_weekly_diff\n",
      "38 compound_weighted_avg7\n",
      "39 compound_weighted_daily_diff\n",
      "40 compound_weighted_weekly_diff\n",
      "41 pos_weighted_avg7\n",
      "42 pos_weighted_daily_diff\n",
      "43 pos_weighted_weekly_diff\n",
      "44 neg_weighted_avg7\n",
      "45 neg_weighted_daily_diff\n",
      "46 neg_weighted_weekly_diff\n",
      "47 Daily_Change_Perc\n",
      "48 RSI\n",
      "49 Weekly_Change\n",
      "50 Weekly_Change_Perc\n",
      "51 streak\n",
      "52 Close/Last_Gold\n",
      "53 Open_Gold\n",
      "54 Daily_Change_Gold\n",
      "55 Daily_Change_Perc_Gold\n",
      "56 Increased_Gold\n",
      "57 RSI_Gold\n",
      "58 Close/Last_SP500\n",
      "59 Open_SP500\n",
      "60 Daily_Change_SP500\n",
      "61 Daily_Change_Perc_SP500\n",
      "62 Increased_SP500\n",
      "63 RSI_SP500\n",
      "64 label\n"
     ]
    }
   ],
   "source": [
    "data = pd.read_csv(\"bitcoin_train.csv\")\n",
    "\n",
    "financial_features_final = ['RSI', 'RSI_Gold', 'RSI_SP500', 'Daily_Change_Perc_SP500',\n",
    "                            'Daily_Change_Perc_Gold','wpr', 'MACD', 'PROC_3', 'streak']\n",
    "\n",
    "sentiment_features_final = ['compound_weighted_avg7', 'compound_weighted', 'likes_count_daily_diff',\n",
    "                            'retweets_count_weekly_diff', 'likes_count_avg7', 'goog_trend_score','neg_weighted',\n",
    "                            'neg_weighted_avg7', 'pos_weighted_weekly_diff']\n",
    "\n",
    "train_cols = data.columns\n",
    "\n",
    "for i,c in enumerate(train_cols):\n",
    "    print(i, c)"
   ]
  },
  {
   "cell_type": "code",
   "execution_count": 3,
   "id": "9556a5f8",
   "metadata": {
    "scrolled": true
   },
   "outputs": [
    {
     "name": "stdout",
     "output_type": "stream",
     "text": [
      "[9, 48, 10, 61, 55, 38, 36, 41, 34, 15]\n",
      "[64]\n"
     ]
    }
   ],
   "source": [
    "features_lst = ['MACD', 'RSI', 'PROC_3', 'Daily_Change_Perc_SP500', 'Daily_Change_Perc_Gold', \\\n",
    "                'compound_weighted_avg7', 'likes_count_daily_diff', 'pos_weighted_avg7',\\\n",
    "                'retweets_count_weekly_diff','goog_trend_score']\n",
    "\n",
    "\n",
    "train_label = [train_cols.get_loc('label')]\n",
    "\n",
    "def find_features(feature_names):\n",
    "    train_col_numbs = []\n",
    "    for f in feature_names:\n",
    "        train_col_numbs.append(train_cols.get_loc(f))\n",
    "    return train_col_numbs\n",
    "\n",
    "train_col_numbs = find_features(features_lst)\n",
    "print(train_col_numbs)\n",
    "print(train_label)"
   ]
  },
  {
   "cell_type": "code",
   "execution_count": 4,
   "id": "c4d46d5a",
   "metadata": {},
   "outputs": [],
   "source": [
    "from sklearn.metrics import accuracy_score\n",
    "\n",
    "def train_model(dataset, train_cols, train_label, max_iters=None):\n",
    "    # get train data\n",
    "    X = pd.read_csv(dataset,usecols=train_cols)\n",
    "    y = pd.read_csv(dataset,usecols=train_label)\n",
    "    \n",
    "    X_train, X_test, y_train, y_test = train_test_split(X, y.values.ravel(), random_state = 1234)\n",
    "    #y_train = y_train.reshape(-1)\n",
    "    \n",
    "    # set up model\n",
    "    lr = LogisticRegression(random_state=1234)\n",
    "    if max_iters:\n",
    "        lr.max_iter=max_iters\n",
    "    \n",
    "    #fit and predict model\n",
    "    lr.fit(X_train, y_train)\n",
    "    y_hat=lr.predict(X_test)\n",
    "    confusion = metrics.confusion_matrix(y_test, y_hat)\n",
    "    score = accuracy_score(y_test,y_hat)\n",
    "    return lr, score, confusion"
   ]
  },
  {
   "cell_type": "code",
   "execution_count": 5,
   "id": "8a77e3da",
   "metadata": {},
   "outputs": [
    {
     "name": "stdout",
     "output_type": "stream",
     "text": [
      "0.4935897435897436\n",
      "[[ 23 118]\n",
      " [ 40 131]]\n"
     ]
    }
   ],
   "source": [
    "model, acc, confusion = train_model(\"bitcoin_train.csv\", train_col_numbs, train_label, max_iters=50)\n",
    "print(acc)\n",
    "print(confusion)"
   ]
  },
  {
   "cell_type": "code",
   "execution_count": 6,
   "id": "cd15daae",
   "metadata": {},
   "outputs": [
    {
     "name": "stdout",
     "output_type": "stream",
     "text": [
      "MACD -0.00017473137327951124\n",
      "RSI 2.589862960151024e-05\n",
      "PROC_3 -0.007965572807570029\n",
      "Daily_Change_Perc_SP500 6.6833472129563466e-06\n",
      "Daily_Change_Perc_Gold 8.554491737389992e-06\n",
      "compound_weighted_avg7 -0.00010513510567183508\n",
      "likes_count_daily_diff -2.2541270316481435e-05\n",
      "pos_weighted_avg7 0.010491148844596093\n",
      "retweets_count_weekly_diff -4.5019438669025727e-07\n",
      "goog_trend_score -4.586396439621075e-06\n"
     ]
    }
   ],
   "source": [
    "coefs = {}\n",
    "for i, f in enumerate(features_lst):\n",
    "    coefs[f] = model.coef_[0, i]\n",
    "for k, v in coefs.items():\n",
    "    print(k, v)"
   ]
  },
  {
   "cell_type": "code",
   "execution_count": 7,
   "id": "6be4723a",
   "metadata": {},
   "outputs": [
    {
     "data": {
      "text/plain": [
       "[4.5019438669025727e-07,\n",
       " 4.586396439621075e-06,\n",
       " 6.6833472129563466e-06,\n",
       " 8.554491737389992e-06,\n",
       " 2.2541270316481435e-05,\n",
       " 2.589862960151024e-05,\n",
       " 0.00010513510567183508,\n",
       " 0.00017473137327951124,\n",
       " 0.007965572807570029,\n",
       " 0.010491148844596093]"
      ]
     },
     "execution_count": 7,
     "metadata": {},
     "output_type": "execute_result"
    }
   ],
   "source": [
    "sorted_coefs = [abs(v) for v in coefs.values()]\n",
    "sorted_coefs.sort()\n",
    "sorted_coefs"
   ]
  },
  {
   "cell_type": "code",
   "execution_count": 8,
   "id": "d3df96b2",
   "metadata": {},
   "outputs": [],
   "source": [
    "# Most valuable features\n",
    "[0.00017473137327951124, 0.007965572807570029, 0.010491148844596093]\n",
    "val_features = ['MACD', 'PROC_3', 'pos_weighted_avg7']"
   ]
  },
  {
   "cell_type": "markdown",
   "id": "06033a44",
   "metadata": {},
   "source": [
    "TEST ON MOST VALUABLE FEATURES"
   ]
  },
  {
   "cell_type": "code",
   "execution_count": 9,
   "id": "208eda9d",
   "metadata": {},
   "outputs": [
    {
     "data": {
      "text/plain": [
       "(LogisticRegression(max_iter=50, random_state=1234),\n",
       " 0.5384615384615384,\n",
       " array([[  3, 138],\n",
       "        [  6, 165]]))"
      ]
     },
     "execution_count": 9,
     "metadata": {},
     "output_type": "execute_result"
    }
   ],
   "source": [
    "val_lst = find_features(val_features)\n",
    "train_model(\"bitcoin_train.csv\", val_features, train_label, max_iters=50)"
   ]
  },
  {
   "cell_type": "markdown",
   "id": "7f4dcc27",
   "metadata": {},
   "source": [
    "CHANGE ITERATIONS"
   ]
  },
  {
   "cell_type": "code",
   "execution_count": 10,
   "id": "f9302291",
   "metadata": {},
   "outputs": [
    {
     "name": "stdout",
     "output_type": "stream",
     "text": [
      "LogisticRegression(max_iter=50, random_state=1234) 0.5384615384615384\n",
      "LogisticRegression(random_state=1234) 0.5384615384615384\n",
      "LogisticRegression(max_iter=200, random_state=1234) 0.5384615384615384\n",
      "LogisticRegression(max_iter=500, random_state=1234) 0.5384615384615384\n"
     ]
    }
   ],
   "source": [
    "models = []\n",
    "accuracies = []\n",
    "\n",
    "model1, acc1, _ = train_model(\"bitcoin_train.csv\", val_lst, train_label, max_iters=50)\n",
    "model2, acc2, _ = train_model(\"bitcoin_train.csv\", val_lst, train_label, max_iters=100) #default\n",
    "model3, acc3, _ = train_model(\"bitcoin_train.csv\", val_lst, train_label, max_iters=200)\n",
    "model4, acc4, _ = train_model(\"bitcoin_train.csv\", val_lst, train_label, max_iters=500)\n",
    "\n",
    "print(model1, acc1)\n",
    "print(model2, acc2)\n",
    "print(model3, acc3)\n",
    "print(model4, acc4)"
   ]
  },
  {
   "cell_type": "markdown",
   "id": "92a4b291",
   "metadata": {},
   "source": [
    "Changing iterations doesn't affect accuracy"
   ]
  },
  {
   "cell_type": "markdown",
   "id": "0cdcd70c",
   "metadata": {},
   "source": [
    "Test ONLY on S&P 500, gold, google trends score"
   ]
  },
  {
   "cell_type": "code",
   "execution_count": 11,
   "id": "d656bdd3",
   "metadata": {},
   "outputs": [
    {
     "name": "stdout",
     "output_type": "stream",
     "text": [
      "0.5448717948717948\n",
      "[[-0.00485931 -0.02508352 -0.26845533]]\n"
     ]
    }
   ],
   "source": [
    "naive_features = ['Daily_Change_Perc_SP500', 'Daily_Change_Perc_Gold', 'goog_trend_score']\n",
    "naive_list = find_features(naive_features)\n",
    "\n",
    "model, acc, _ = train_model(\"bitcoin_train.csv\", naive_list, train_label)\n",
    "print(acc)\n",
    "print(model.coef_)"
   ]
  },
  {
   "cell_type": "markdown",
   "id": "bd65f005",
   "metadata": {},
   "source": [
    "Combining naive features with the valuable features"
   ]
  },
  {
   "cell_type": "code",
   "execution_count": 12,
   "id": "99beaead",
   "metadata": {},
   "outputs": [
    {
     "name": "stdout",
     "output_type": "stream",
     "text": [
      "0.5256410256410257\n",
      "[[-8.27416463e-07  9.39521530e-01 -4.76420843e-03 -7.52875656e-01]]\n"
     ]
    }
   ],
   "source": [
    "combined_features = ['MACD', 'PROC_3', 'pos_weighted_avg7', 'goog_trend_score']\n",
    "combined_list = find_features(combined_features)\n",
    "\n",
    "model, acc, _ = train_model(\"bitcoin_train.csv\", combined_list, train_label)\n",
    "print(acc)\n",
    "print(model.coef_)"
   ]
  },
  {
   "cell_type": "markdown",
   "id": "f2ff1546",
   "metadata": {},
   "source": [
    "Accuracy gets slightly worse--maybe features don't play nice together"
   ]
  },
  {
   "cell_type": "markdown",
   "id": "016ac0e7",
   "metadata": {},
   "source": [
    "**TEST ON TEST DATA**"
   ]
  },
  {
   "cell_type": "markdown",
   "id": "3d5f0882",
   "metadata": {},
   "source": [
    "Test using valuable features"
   ]
  },
  {
   "cell_type": "code",
   "execution_count": null,
   "id": "d8969d1e",
   "metadata": {},
   "outputs": [],
   "source": [
    "def test_model(dataset, model):\n",
    "    "
   ]
  },
  {
   "cell_type": "code",
   "execution_count": 13,
   "id": "aa01a81b",
   "metadata": {},
   "outputs": [
    {
     "name": "stdout",
     "output_type": "stream",
     "text": [
      "LogisticRegression(random_state=1234) 0.6025641025641025\n"
     ]
    }
   ],
   "source": [
    "val_features = ['MACD', 'PROC_3', 'pos_weighted_avg7']\n",
    "\n",
    "model, acc, confusion = train_model(\"bitcoin_test.csv\", val_lst, train_label)\n",
    "print(model, acc)"
   ]
  },
  {
   "cell_type": "markdown",
   "id": "73882617",
   "metadata": {},
   "source": [
    "Now test using naive features"
   ]
  },
  {
   "cell_type": "code",
   "execution_count": 14,
   "id": "381fc7c4",
   "metadata": {},
   "outputs": [
    {
     "name": "stdout",
     "output_type": "stream",
     "text": [
      "0.5769230769230769\n",
      "[[-0.00667858 -0.09949942 -0.0497938 ]]\n"
     ]
    }
   ],
   "source": [
    "model, acc, _ = train_model(\"bitcoin_test.csv\", naive_list, train_label)\n",
    "print(acc)\n",
    "print(model.coef_)"
   ]
  },
  {
   "cell_type": "markdown",
   "id": "5e0c6909",
   "metadata": {},
   "source": [
    "Add google trend score to combined features"
   ]
  },
  {
   "cell_type": "code",
   "execution_count": 15,
   "id": "ac99393d",
   "metadata": {},
   "outputs": [
    {
     "name": "stdout",
     "output_type": "stream",
     "text": [
      "LogisticRegression(random_state=1234) 0.5897435897435898\n",
      "[[ 2 29]\n",
      " [ 3 44]]\n"
     ]
    }
   ],
   "source": [
    "combined_features = ['MACD', 'PROC_3', 'pos_weighted_avg7', 'goog_trend_score']\n",
    "\n",
    "model, acc, confusion = train_model(\"bitcoin_test.csv\", combined_list, train_label)\n",
    "print(model, acc)\n",
    "print(confusion)"
   ]
  },
  {
   "cell_type": "markdown",
   "id": "856d5429",
   "metadata": {},
   "source": [
    "**DOGECOIN**"
   ]
  },
  {
   "cell_type": "code",
   "execution_count": 16,
   "id": "07b5546c",
   "metadata": {
    "scrolled": true
   },
   "outputs": [
    {
     "name": "stdout",
     "output_type": "stream",
     "text": [
      "0 Unnamed: 0\n",
      "1 Date\n",
      "2 Open\n",
      "3 High\n",
      "4 Low\n",
      "5 Close\n",
      "6 Adj Close**\n",
      "7 Volume\n",
      "8 Daily_Change\n",
      "9 Daily_Change_Ind\n",
      "10 MACD\n",
      "11 PROC_3\n",
      "12 PROC_5\n",
      "13 PROC_10\n",
      "14 wpr\n",
      "15 sto_os\n",
      "16 Daily_Change_Perc\n",
      "17 Weekly_Change\n",
      "18 Weekly_Change_Perc\n",
      "19 RSI\n",
      "20 streak\n",
      "21 Close/Last_Gold\n",
      "22 Open_Gold\n",
      "23 Daily_Change_Gold\n",
      "24 Daily_Change_Perc_Gold\n",
      "25 Increased_Gold\n",
      "26 RSI_Gold\n",
      "27 Close/Last_SP500\n",
      "28 Open_SP500\n",
      "29 Daily_Change_SP500\n",
      "30 Daily_Change_Perc_SP500\n",
      "31 Increased_SP500\n",
      "32 RSI_SP500\n",
      "33 label\n",
      "34 count\n",
      "35 compound\n",
      "36 compound_times_retweets\n",
      "37 likes_count\n",
      "38 neg\n",
      "39 neg_times_retweets\n",
      "40 neu\n",
      "41 pos\n",
      "42 pos_times_retweets\n",
      "43 replies_count\n",
      "44 retweets_count\n",
      "45 pos_weighted\n",
      "46 neg_weighted\n",
      "47 compound_weighted\n",
      "48 count_avg7\n",
      "49 count_daily_diff\n",
      "50 count_weekly_diff\n",
      "51 replies_count_avg7\n",
      "52 replies_count_daily_diff\n",
      "53 replies_count_weekly_diff\n",
      "54 retweets_count_avg7\n",
      "55 retweets_count_daily_diff\n",
      "56 retweets_count_weekly_diff\n",
      "57 likes_count_avg7\n",
      "58 likes_count_daily_diff\n",
      "59 likes_count_weekly_diff\n",
      "60 compound_weighted_avg7\n",
      "61 compound_weighted_daily_diff\n",
      "62 compound_weighted_weekly_diff\n",
      "63 pos_weighted_avg7\n",
      "64 pos_weighted_daily_diff\n",
      "65 pos_weighted_weekly_diff\n",
      "66 neg_weighted_avg7\n",
      "67 neg_weighted_daily_diff\n",
      "68 neg_weighted_weekly_diff\n",
      "69 goog_trend_score\n"
     ]
    }
   ],
   "source": [
    "doge = pd.read_csv(\"dogecoin_train.csv\")\n",
    "\n",
    "financial_features_final = ['RSI', 'RSI_Gold', 'RSI_SP500', 'Daily_Change_Perc_SP500',\n",
    "                            'Daily_Change_Perc_Gold','wpr', 'MACD', 'PROC_3', 'streak']\n",
    "\n",
    "sentiment_features_final = ['compound_weighted_avg7', 'compound_weighted', 'likes_count_daily_diff',\n",
    "                            'retweets_count_weekly_diff', 'likes_count_avg7', 'goog_trend_score','neg_weighted',\n",
    "                            'neg_weighted_avg7', 'pos_weighted_weekly_diff']\n",
    "\n",
    "train_cols = doge.columns\n",
    "\n",
    "for i,c in enumerate(train_cols):\n",
    "    print(i, c)"
   ]
  },
  {
   "cell_type": "code",
   "execution_count": 17,
   "id": "b846cb79",
   "metadata": {},
   "outputs": [
    {
     "name": "stdout",
     "output_type": "stream",
     "text": [
      "[10, 19, 11, 30, 24, 60, 58, 63, 56, 69]\n",
      "[33]\n"
     ]
    }
   ],
   "source": [
    "features_lst = ['MACD', 'RSI', 'PROC_3', 'Daily_Change_Perc_SP500', 'Daily_Change_Perc_Gold', \\\n",
    "                'compound_weighted_avg7', 'likes_count_daily_diff', 'pos_weighted_avg7',\\\n",
    "                'retweets_count_weekly_diff','goog_trend_score']\n",
    "\n",
    "\n",
    "train_label = [train_cols.get_loc('label')]\n",
    "\n",
    "def find_features(feature_names):\n",
    "    train_col_numbs = []\n",
    "    for f in feature_names:\n",
    "        train_col_numbs.append(train_cols.get_loc(f))\n",
    "    return train_col_numbs\n",
    "\n",
    "train_col_numbs = find_features(features_lst)\n",
    "print(train_col_numbs)\n",
    "print(train_label)"
   ]
  },
  {
   "cell_type": "code",
   "execution_count": 24,
   "id": "1cfc4a20",
   "metadata": {},
   "outputs": [
    {
     "name": "stdout",
     "output_type": "stream",
     "text": [
      "LogisticRegression(random_state=1234) 0.7957317073170732\n",
      "[[261   0]\n",
      " [ 67   0]]\n"
     ]
    }
   ],
   "source": [
    "model, acc, confusion = train_model(\"dogecoin_train.csv\", train_col_numbs, train_label)\n",
    "print(model, acc)\n",
    "print(confusion)"
   ]
  },
  {
   "cell_type": "code",
   "execution_count": 19,
   "id": "b4be1b7c",
   "metadata": {},
   "outputs": [
    {
     "name": "stdout",
     "output_type": "stream",
     "text": [
      "MACD 0.0031047691550734184\n",
      "RSI 0.38956348631646504\n",
      "PROC_3 0.008051315813397153\n",
      "Daily_Change_Perc_SP500 -0.006235015978670364\n",
      "Daily_Change_Perc_Gold -0.019189454915207394\n",
      "compound_weighted_avg7 1.72714443205048e-05\n",
      "likes_count_daily_diff 3.5562640522676276e-05\n",
      "pos_weighted_avg7 0.7244792490857764\n",
      "retweets_count_weekly_diff 0.22816809383926726\n",
      "goog_trend_score -0.01497118460960242\n"
     ]
    }
   ],
   "source": [
    "coefs = {}\n",
    "for i, f in enumerate(features_lst):\n",
    "    coefs[f] = model.coef_[0, i]\n",
    "for k, v in coefs.items():\n",
    "    print(k, v)"
   ]
  },
  {
   "cell_type": "code",
   "execution_count": 20,
   "id": "e91256da",
   "metadata": {},
   "outputs": [
    {
     "data": {
      "text/plain": [
       "[1.72714443205048e-05,\n",
       " 3.5562640522676276e-05,\n",
       " 0.0031047691550734184,\n",
       " 0.006235015978670364,\n",
       " 0.008051315813397153,\n",
       " 0.01497118460960242,\n",
       " 0.019189454915207394,\n",
       " 0.22816809383926726,\n",
       " 0.38956348631646504,\n",
       " 0.7244792490857764]"
      ]
     },
     "execution_count": 20,
     "metadata": {},
     "output_type": "execute_result"
    }
   ],
   "source": [
    "sorted_coefs = [abs(v) for v in coefs.values()]\n",
    "sorted_coefs.sort()\n",
    "sorted_coefs"
   ]
  },
  {
   "cell_type": "code",
   "execution_count": 30,
   "id": "6fd24872",
   "metadata": {},
   "outputs": [
    {
     "name": "stdout",
     "output_type": "stream",
     "text": [
      "LogisticRegression(random_state=1234) 0.7957317073170732\n",
      "[[261   0]\n",
      " [ 67   0]]\n",
      "[[ 8.44922163e-03 -6.43347621e-02  8.61743833e-05  1.79862961e+00]]\n"
     ]
    }
   ],
   "source": [
    "val_features = ['Daily_Change_Perc_Gold','retweets_count_weekly_diff','RSI','pos_weighted_avg7']\n",
    "val_lst = find_features(val_features)\n",
    "\n",
    "model, acc, confusion = train_model(\"dogecoin_train.csv\", val_lst, train_label)\n",
    "print(model, acc)\n",
    "print(confusion)\n",
    "print(model.coef_)"
   ]
  },
  {
   "cell_type": "code",
   "execution_count": 32,
   "id": "3dfbd629",
   "metadata": {},
   "outputs": [
    {
     "name": "stdout",
     "output_type": "stream",
     "text": [
      "0.7957317073170732\n",
      "[[-0.00098927 -0.00468049 -0.01579694]]\n"
     ]
    }
   ],
   "source": [
    "naive_features = ['Daily_Change_Perc_SP500', 'Daily_Change_Perc_Gold', 'goog_trend_score']\n",
    "naive_list = find_features(naive_features)\n",
    "\n",
    "model, acc, _ = train_model(\"dogecoin_train.csv\", naive_list, train_label)\n",
    "print(acc)\n",
    "print(model.coef_)"
   ]
  },
  {
   "cell_type": "code",
   "execution_count": 33,
   "id": "9ccecabf",
   "metadata": {},
   "outputs": [
    {
     "name": "stdout",
     "output_type": "stream",
     "text": [
      "0.7957317073170732\n",
      "[[-4.12839355e-02 -1.07760812e-01  7.95115212e-05  1.57403286e+00\n",
      "  -1.52002624e-02]]\n"
     ]
    }
   ],
   "source": [
    "combined_features = ['pos_weighted_avg7','Daily_Change_Perc_SP500', 'Daily_Change_Perc_Gold',\n",
    "                     'goog_trend_score', 'retweets_count_weekly_diff']\n",
    "combined_list = find_features(combined_features)\n",
    "\n",
    "model, acc, _ = train_model(\"dogecoin_train.csv\", combined_list, train_label)\n",
    "print(acc)\n",
    "print(model.coef_)"
   ]
  },
  {
   "cell_type": "markdown",
   "id": "473787e3",
   "metadata": {},
   "source": [
    "**Now use dogecoin_test**"
   ]
  },
  {
   "cell_type": "code",
   "execution_count": 37,
   "id": "70d3984f",
   "metadata": {},
   "outputs": [
    {
     "name": "stdout",
     "output_type": "stream",
     "text": [
      "LogisticRegression(random_state=1234) 0.7926829268292683\n",
      "[[65  0]\n",
      " [17  0]]\n",
      "[[ 7.09983370e-03  2.57564798e-02 -3.96334996e-05  1.62269423e-01]]\n"
     ]
    }
   ],
   "source": [
    "model, acc1, confusion = train_model(\"dogecoin_test.csv\", val_lst, train_label)\n",
    "print(model, acc)\n",
    "print(confusion)\n",
    "print(model.coef_)"
   ]
  },
  {
   "cell_type": "code",
   "execution_count": 39,
   "id": "fe6045a5",
   "metadata": {},
   "outputs": [
    {
     "name": "stdout",
     "output_type": "stream",
     "text": [
      "0.7926829268292683\n",
      "[[ 0.08155698  0.00316606 -0.01763218]]\n"
     ]
    }
   ],
   "source": [
    "model, acc, _ = train_model(\"dogecoin_test.csv\", naive_list, train_label)\n",
    "print(acc)\n",
    "print(model.coef_)"
   ]
  },
  {
   "cell_type": "code",
   "execution_count": 40,
   "id": "89392eba",
   "metadata": {},
   "outputs": [
    {
     "name": "stdout",
     "output_type": "stream",
     "text": [
      "0.7926829268292683\n",
      "[[ 9.02343049e-03  8.58443133e-04  3.08654851e-05  2.10983820e-02\n",
      "  -1.76877178e-02]]\n"
     ]
    }
   ],
   "source": [
    "model, acc, _ = train_model(\"dogecoin_test.csv\", combined_list, train_label)\n",
    "print(acc)\n",
    "print(model.coef_)"
   ]
  },
  {
   "cell_type": "code",
   "execution_count": null,
   "id": "c8c59d3a",
   "metadata": {},
   "outputs": [],
   "source": []
  }
 ],
 "metadata": {
  "kernelspec": {
   "display_name": "Python 3 (ipykernel)",
   "language": "python",
   "name": "python3"
  },
  "language_info": {
   "codemirror_mode": {
    "name": "ipython",
    "version": 3
   },
   "file_extension": ".py",
   "mimetype": "text/x-python",
   "name": "python",
   "nbconvert_exporter": "python",
   "pygments_lexer": "ipython3",
   "version": "3.9.7"
  }
 },
 "nbformat": 4,
 "nbformat_minor": 5
}
