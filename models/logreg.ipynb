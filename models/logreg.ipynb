{
 "cells": [
  {
   "cell_type": "code",
   "execution_count": 1,
   "id": "0cd24dc6",
   "metadata": {},
   "outputs": [],
   "source": [
    "import os\n",
    "import math\n",
    "import pandas as pd\n",
    "import numpy as np\n",
    "import matplotlib.pyplot as plt\n",
    "from sklearn.model_selection import train_test_split\n",
    "from sklearn.linear_model import LogisticRegression\n",
    "from sklearn.metrics import accuracy_score\n",
    "from sklearn import metrics\n",
    "import itertools"
   ]
  },
  {
   "cell_type": "markdown",
   "id": "604bd9fd",
   "metadata": {},
   "source": [
    "FEATURE CATEGORIES: <br> \n",
    "    stock measures <br> \n",
    "    google trends score <br> \n",
    "    tweets <br> \n",
    "    S&P 500 <br> \n",
    "    Gold <br> "
   ]
  },
  {
   "cell_type": "code",
   "execution_count": 2,
   "id": "29a43f0c",
   "metadata": {},
   "outputs": [],
   "source": [
    "class coin():\n",
    "\n",
    "    def __init__(self, train_data, test_data, feature_names):\n",
    "        self.train_data = train_data\n",
    "        self.test_data = test_data\n",
    "        self.train_dataset = pd.read_csv(self.train_data)\n",
    "\n",
    "        self.cols = self.train_dataset.columns\n",
    "        self.label_ind = [self.cols.get_loc('label')]\n",
    "        \n",
    "        self.feature_names = feature_names\n",
    "        \n",
    "    def find_features(self):\n",
    "        col_inds = []\n",
    "        for f in self.feature_names:\n",
    "            col_inds.append(self.cols.get_loc(f))\n",
    "        self.col_inds = col_inds\n",
    "\n",
    "    def train_model(self, max_iters=None):\n",
    "        \n",
    "        self.find_features()\n",
    "\n",
    "        # get train data\n",
    "        X = pd.read_csv(self.train_data,usecols=self.col_inds)\n",
    "        y = pd.read_csv(self.train_data,usecols=self.label_ind)\n",
    "\n",
    "        X_train, X_test, y_train, y_test = train_test_split(X, y.values.ravel(), random_state = 1234)\n",
    "\n",
    "        # set up model\n",
    "        lr = LogisticRegression(random_state=1234)\n",
    "        if max_iters:\n",
    "            lr.max_iter=max_iters\n",
    "        else:\n",
    "            lr.max_iter=1000\n",
    "        \n",
    "\n",
    "        #fit and predict model\n",
    "        lr.fit(X_train, y_train)\n",
    "        y_hat=lr.predict(X_test)\n",
    "        confusion = metrics.confusion_matrix(y_test, y_hat)\n",
    "        score = accuracy_score(y_test,y_hat)\n",
    "\n",
    "        self.model = lr\n",
    "        self.train_score = score\n",
    "        self.train_confusion = confusion\n",
    "\n",
    "    def test_model(self):\n",
    "        X_test = pd.read_csv(self.test_data,usecols=self.col_inds)\n",
    "        y_test = pd.read_csv(self.test_data,usecols=self.label_ind)\n",
    "\n",
    "        #predict model\n",
    "        y_hat = self.model.predict(X_test)\n",
    "        confusion = metrics.confusion_matrix(y_test, y_hat)\n",
    "        score = accuracy_score(y_test, y_hat)\n",
    "        self.test_score = score\n",
    "        self.test_confusion = confusion\n"
   ]
  },
  {
   "cell_type": "code",
   "execution_count": 3,
   "id": "a46cca12",
   "metadata": {},
   "outputs": [
    {
     "name": "stdout",
     "output_type": "stream",
     "text": [
      "Number of iterations: 100\n",
      "0.5128205128205128\n",
      "[[ 55  86]\n",
      " [ 66 105]]\n",
      "0.5641025641025641\n",
      "[[ 49  86]\n",
      " [ 50 127]]\n",
      "Number of iterations: 200\n",
      "0.5128205128205128\n",
      "[[ 55  86]\n",
      " [ 66 105]]\n",
      "0.5641025641025641\n",
      "[[ 49  86]\n",
      " [ 50 127]]\n",
      "Number of iterations: 500\n",
      "0.5128205128205128\n",
      "[[ 55  86]\n",
      " [ 66 105]]\n",
      "0.5641025641025641\n",
      "[[ 49  86]\n",
      " [ 50 127]]\n"
     ]
    }
   ],
   "source": [
    "iter_vals = [100, 200, 500]\n",
    "base_features = ['MACD', 'RSI', 'PROC_3', 'Daily_Change_Perc_SP500', 'Daily_Change_Perc_Gold', \\\n",
    "                'compound_weighted_avg7', 'likes_count_daily_diff', 'pos_weighted_avg7',\\\n",
    "                'retweets_count_weekly_diff','goog_trend_score']\n",
    "\n",
    "bc_base = coin(\"bitcoin_train_normal.csv\", \"bitcoin_test_normal.csv\", base_features)\n",
    "\n",
    "for i in iter_vals:\n",
    "    print('Number of iterations:', i)\n",
    "    bc_base.train_model(max_iters=i)\n",
    "    print(bc_base.train_score)\n",
    "    print(bc_base.train_confusion)\n",
    "\n",
    "    bc_base.test_model()\n",
    "    print(bc_base.test_score)\n",
    "    print(bc_base.test_confusion)\n"
   ]
  },
  {
   "cell_type": "markdown",
   "id": "ab046478",
   "metadata": {},
   "source": [
    "We see that no. of iterations doesn't do much--we will ignore going forward"
   ]
  },
  {
   "cell_type": "code",
   "execution_count": 4,
   "id": "13d3e694",
   "metadata": {},
   "outputs": [
    {
     "name": "stdout",
     "output_type": "stream",
     "text": [
      "0.5128205128205128\n",
      "[[ 55  86]\n",
      " [ 66 105]]\n",
      "0.5641025641025641\n",
      "[[ 49  86]\n",
      " [ 50 127]]\n"
     ]
    }
   ],
   "source": [
    "# check base features\n",
    "base_features = ['MACD', 'RSI', 'PROC_3', 'Daily_Change_Perc_SP500', 'Daily_Change_Perc_Gold', \\\n",
    "                'compound_weighted_avg7', 'likes_count_daily_diff', 'pos_weighted_avg7',\\\n",
    "                'retweets_count_weekly_diff','goog_trend_score']\n",
    "\n",
    "bc_base = coin(\"bitcoin_train_normal.csv\", \"bitcoin_test_normal.csv\", base_features)\n",
    "bc_base.train_model(max_iters=100)\n",
    "print(bc_base.train_score)\n",
    "print(bc_base.train_confusion)\n",
    "\n",
    "bc_base.test_model()\n",
    "print(bc_base.test_score)\n",
    "print(bc_base.test_confusion)"
   ]
  },
  {
   "cell_type": "code",
   "execution_count": 5,
   "id": "dc79fa0e",
   "metadata": {},
   "outputs": [
    {
     "name": "stdout",
     "output_type": "stream",
     "text": [
      "0.5096153846153846\n",
      "[[ 45  96]\n",
      " [ 57 114]]\n",
      "0.5416666666666666\n",
      "[[ 43  92]\n",
      " [ 51 126]]\n"
     ]
    }
   ],
   "source": [
    "# check financial features\n",
    "financial_features_final = ['RSI', 'RSI_Gold', 'RSI_SP500', 'Daily_Change_Perc_SP500',\n",
    "                            'Daily_Change_Perc_Gold','wpr', 'MACD', 'PROC_3', 'streak']\n",
    "\n",
    "bc_finance = coin(\"bitcoin_train_normal.csv\", \"bitcoin_test_normal.csv\", financial_features_final)\n",
    "bc_finance.train_model()\n",
    "print(bc_finance.train_score)\n",
    "print(bc_finance.train_confusion)\n",
    "\n",
    "bc_finance.test_model()\n",
    "print(bc_finance.test_score)\n",
    "print(bc_finance.test_confusion)\n"
   ]
  },
  {
   "cell_type": "code",
   "execution_count": 6,
   "id": "aebd01e8",
   "metadata": {},
   "outputs": [
    {
     "name": "stdout",
     "output_type": "stream",
     "text": [
      "0.5224358974358975\n",
      "[[ 48  93]\n",
      " [ 56 115]]\n",
      "0.5576923076923077\n",
      "[[ 40  95]\n",
      " [ 43 134]]\n"
     ]
    }
   ],
   "source": [
    "# check sentiment features\n",
    "sentiment_features_final = ['compound_weighted_avg7', 'compound_weighted', 'likes_count_daily_diff',\n",
    "                            'retweets_count_weekly_diff', 'likes_count_avg7', 'goog_trend_score','neg_weighted',\n",
    "                            'neg_weighted_avg7', 'pos_weighted_weekly_diff']\n",
    "\n",
    "bc_sentiment = coin(\"bitcoin_train_normal.csv\", \"bitcoin_test_normal.csv\", sentiment_features_final)\n",
    "bc_sentiment.train_model()\n",
    "print(bc_sentiment.train_score)\n",
    "print(bc_sentiment.train_confusion)\n",
    "\n",
    "bc_sentiment.test_model()\n",
    "print(bc_sentiment.test_score)\n",
    "print(bc_sentiment.test_confusion)"
   ]
  },
  {
   "cell_type": "code",
   "execution_count": 7,
   "id": "408eacfe",
   "metadata": {},
   "outputs": [
    {
     "name": "stdout",
     "output_type": "stream",
     "text": [
      "0.5064102564102564\n",
      "[[ 57  84]\n",
      " [ 70 101]]\n",
      "0.5833333333333334\n",
      "[[ 53  82]\n",
      " [ 48 129]]\n"
     ]
    }
   ],
   "source": [
    "# check combined financial and sentiment features\n",
    "combined_final = ['RSI', 'RSI_Gold', 'RSI_SP500', 'Daily_Change_Perc_SP500', 'Daily_Change_Perc_Gold', 'wpr', 'MACD',\n",
    "            'PROC_3', 'streak', 'compound_weighted_avg7', 'compound_weighted', 'likes_count_daily_diff',\n",
    "            'retweets_count_weekly_diff', 'likes_count_avg7', 'goog_trend_score', 'neg_weighted', 'neg_weighted_avg7',\n",
    "            'pos_weighted_weekly_diff']\n",
    "\n",
    "bc_combo = coin(\"bitcoin_train_normal.csv\", \"bitcoin_test_normal.csv\", combined_final)\n",
    "bc_combo.train_model()\n",
    "print(bc_combo.train_score)\n",
    "print(bc_combo.train_confusion)\n",
    "\n",
    "bc_combo.test_model()\n",
    "print(bc_combo.test_score)\n",
    "print(bc_combo.test_confusion)"
   ]
  },
  {
   "cell_type": "code",
   "execution_count": 8,
   "id": "cd15daae",
   "metadata": {},
   "outputs": [
    {
     "name": "stdout",
     "output_type": "stream",
     "text": [
      "RSI -0.19782960129256938\n",
      "RSI_Gold -0.037800596478276986\n",
      "RSI_SP500 0.024604817480043353\n",
      "Daily_Change_Perc_SP500 -0.08960858164066209\n",
      "Daily_Change_Perc_Gold -0.09731956155574008\n",
      "wpr -0.1729605670450808\n",
      "MACD 0.06101302203360053\n",
      "PROC_3 0.07560087268614953\n",
      "streak 0.12467538055101426\n",
      "compound_weighted_avg7 -0.06998192701868343\n",
      "compound_weighted 0.08818671654302696\n",
      "likes_count_daily_diff 0.04312891495399478\n",
      "retweets_count_weekly_diff 0.28304815218944473\n",
      "likes_count_avg7 -0.0030665591983262954\n",
      "goog_trend_score 0.0052272796285316794\n",
      "neg_weighted -0.09193655052473547\n",
      "neg_weighted_avg7 -0.14396443820359325\n",
      "pos_weighted_weekly_diff -0.136350527592868\n"
     ]
    }
   ],
   "source": [
    "coefs = {}\n",
    "for i, f in enumerate(combined_final):\n",
    "    coefs[f] = bc_combo.model.coef_[0, i]\n",
    "for k, v in coefs.items():\n",
    "    print(k, v)"
   ]
  },
  {
   "cell_type": "code",
   "execution_count": 9,
   "id": "6be4723a",
   "metadata": {},
   "outputs": [
    {
     "data": {
      "text/plain": [
       "[0.0030665591983262954,\n",
       " 0.0052272796285316794,\n",
       " 0.024604817480043353,\n",
       " 0.037800596478276986,\n",
       " 0.04312891495399478,\n",
       " 0.06101302203360053,\n",
       " 0.06998192701868343,\n",
       " 0.07560087268614953,\n",
       " 0.08818671654302696,\n",
       " 0.08960858164066209,\n",
       " 0.09193655052473547,\n",
       " 0.09731956155574008,\n",
       " 0.12467538055101426,\n",
       " 0.136350527592868,\n",
       " 0.14396443820359325,\n",
       " 0.1729605670450808,\n",
       " 0.19782960129256938,\n",
       " 0.28304815218944473]"
      ]
     },
     "execution_count": 9,
     "metadata": {},
     "output_type": "execute_result"
    }
   ],
   "source": [
    "sorted_coefs = [abs(v) for v in coefs.values()]\n",
    "sorted_coefs.sort()\n",
    "sorted_coefs"
   ]
  },
  {
   "cell_type": "markdown",
   "id": "50db0cda",
   "metadata": {},
   "source": [
    "**TEST ON FEATURES WITH LARGE COEFFICIENTS**"
   ]
  },
  {
   "cell_type": "code",
   "execution_count": 10,
   "id": "d3df96b2",
   "metadata": {},
   "outputs": [
    {
     "name": "stdout",
     "output_type": "stream",
     "text": [
      "0.4935897435897436\n",
      "[[ 37 104]\n",
      " [ 54 117]]\n",
      "0.5416666666666666\n",
      "[[ 34 101]\n",
      " [ 42 135]]\n",
      "[[-5.24627941e-03  1.00920735e-01 -1.94020573e-02 -6.74949493e-05\n",
      "   2.18239715e-01  3.46770980e-02]]\n"
     ]
    }
   ],
   "source": [
    "# Most valuable features\n",
    "\n",
    "val_features = ['streak', 'pos_weighted_weekly_diff','neg_weighted_avg7','wpr',\n",
    "                'RSI', 'retweets_count_weekly_diff']\n",
    "\n",
    "bc_val = coin(\"bitcoin_train_normal.csv\", \"bitcoin_test_normal.csv\", val_features)\n",
    "bc_val.train_model()\n",
    "print(bc_val.train_score)\n",
    "print(bc_val.train_confusion)\n",
    "\n",
    "bc_val.test_model()\n",
    "print(bc_val.test_score)\n",
    "print(bc_val.test_confusion)\n",
    "print(bc_val.model.coef_)"
   ]
  },
  {
   "cell_type": "markdown",
   "id": "3c169685",
   "metadata": {},
   "source": [
    "**Train ONLY on S&P 500, gold, google trends score**"
   ]
  },
  {
   "cell_type": "code",
   "execution_count": 11,
   "id": "e8223963",
   "metadata": {},
   "outputs": [
    {
     "name": "stdout",
     "output_type": "stream",
     "text": [
      "0.5384615384615384\n",
      "[[ 16 125]\n",
      " [ 19 152]]\n",
      "0.5801282051282052\n",
      "[[ 20 115]\n",
      " [ 16 161]]\n"
     ]
    }
   ],
   "source": [
    "naive_features = ['Daily_Change_Perc_SP500', 'Daily_Change_Perc_Gold', 'goog_trend_score']\n",
    "\n",
    "bc_naive = coin(\"bitcoin_train_normal.csv\", \"bitcoin_test_normal.csv\", naive_features)\n",
    "bc_naive.train_model()\n",
    "print(bc_naive.train_score)\n",
    "print(bc_naive.train_confusion)\n",
    "\n",
    "bc_naive.test_model()\n",
    "print(bc_naive.test_score)\n",
    "print(bc_naive.test_confusion)"
   ]
  },
  {
   "cell_type": "markdown",
   "id": "3313dc49",
   "metadata": {},
   "source": [
    "Test sparse combo"
   ]
  },
  {
   "cell_type": "code",
   "execution_count": 12,
   "id": "174eba5a",
   "metadata": {},
   "outputs": [
    {
     "name": "stdout",
     "output_type": "stream",
     "text": [
      "0.49038461538461536\n",
      "[[ 32 109]\n",
      " [ 50 121]]\n",
      "0.5801282051282052\n",
      "[[ 45  90]\n",
      " [ 41 136]]\n"
     ]
    }
   ],
   "source": [
    "financial_features_final = ['RSI', 'RSI_Gold', 'RSI_SP500', 'Daily_Change_Perc_SP500',\n",
    "                            'Daily_Change_Perc_Gold','wpr', 'MACD', 'PROC_3', 'streak']\n",
    "\n",
    "sentiment_features_final = ['compound_weighted_avg7', 'compound_weighted', 'likes_count_daily_diff',\n",
    "                            'retweets_count_weekly_diff', 'likes_count_avg7', 'goog_trend_score','neg_weighted',\n",
    "                            'neg_weighted_avg7', 'pos_weighted_weekly_diff']\n",
    "\n",
    "\n",
    "sparse_features = ['RSI', 'wpr', 'goog_trend_score', 'Daily_Change_Perc_SP500', 'Daily_Change_Perc_Gold']\n",
    "\n",
    "bc_sparse = coin(\"bitcoin_train_normal.csv\", \"bitcoin_test_normal.csv\", sparse_features)\n",
    "bc_sparse.train_model()\n",
    "print(bc_sparse.train_score)\n",
    "print(bc_sparse.train_confusion)\n",
    "\n",
    "bc_sparse.test_model()\n",
    "print(bc_sparse.test_score)\n",
    "print(bc_sparse.test_confusion)"
   ]
  },
  {
   "cell_type": "markdown",
   "id": "2c783574",
   "metadata": {},
   "source": [
    "**DOGECOIN**"
   ]
  },
  {
   "cell_type": "code",
   "execution_count": 13,
   "id": "38c555a9",
   "metadata": {},
   "outputs": [
    {
     "name": "stdout",
     "output_type": "stream",
     "text": [
      "0.7957317073170732\n",
      "[[261   0]\n",
      " [ 67   0]]\n",
      "0.8109756097560976\n",
      "[[266   1]\n",
      " [ 61   0]]\n"
     ]
    }
   ],
   "source": [
    "base_features = ['MACD', 'RSI', 'PROC_3', 'Daily_Change_Perc_SP500', 'Daily_Change_Perc_Gold', \\\n",
    "                'compound_weighted_avg7', 'likes_count_daily_diff', 'pos_weighted_avg7',\\\n",
    "                'retweets_count_weekly_diff','goog_trend_score']\n",
    "\n",
    "doge_base = coin(\"dogecoin_train_normal.csv\", \"dogecoin_test_normal.csv\", base_features)\n",
    "doge_base.train_model()\n",
    "print(doge_base.train_score)\n",
    "print(doge_base.train_confusion)\n",
    "\n",
    "doge_base.test_model()\n",
    "print(doge_base.test_score)\n",
    "print(doge_base.test_confusion)\n",
    "\n"
   ]
  },
  {
   "cell_type": "code",
   "execution_count": 14,
   "id": "c4be9002",
   "metadata": {},
   "outputs": [
    {
     "name": "stdout",
     "output_type": "stream",
     "text": [
      "0.7926829268292683\n",
      "[[260   1]\n",
      " [ 67   0]]\n",
      "0.8109756097560976\n",
      "[[265   2]\n",
      " [ 60   1]]\n"
     ]
    }
   ],
   "source": [
    "# check financial features\n",
    "financial_features_final = ['RSI', 'RSI_Gold', 'RSI_SP500', 'Daily_Change_Perc_SP500',\n",
    "                            'Daily_Change_Perc_Gold','wpr', 'MACD', 'PROC_3', 'streak']\n",
    "\n",
    "doge_finance = coin(\"dogecoin_train_normal.csv\", \"dogecoin_test_normal.csv\", financial_features_final)\n",
    "doge_finance.train_model()\n",
    "print(doge_finance.train_score)\n",
    "print(doge_finance.train_confusion)\n",
    "\n",
    "doge_finance.test_model()\n",
    "print(doge_finance.test_score)\n",
    "print(doge_finance.test_confusion)\n"
   ]
  },
  {
   "cell_type": "code",
   "execution_count": 15,
   "id": "7570f71e",
   "metadata": {},
   "outputs": [
    {
     "name": "stdout",
     "output_type": "stream",
     "text": [
      "0.7957317073170732\n",
      "[[261   0]\n",
      " [ 67   0]]\n",
      "0.8140243902439024\n",
      "[[267   0]\n",
      " [ 61   0]]\n"
     ]
    }
   ],
   "source": [
    "sentiment_features_final = ['compound_weighted_avg7', 'compound_weighted', 'likes_count_daily_diff',\n",
    "                            'retweets_count_weekly_diff', 'likes_count_avg7', 'goog_trend_score','neg_weighted',\n",
    "                            'neg_weighted_avg7', 'pos_weighted_weekly_diff']\n",
    "\n",
    "doge_sentiment = coin(\"dogecoin_train_normal.csv\", \"dogecoin_test_normal.csv\", sentiment_features_final)\n",
    "doge_sentiment.train_model()\n",
    "print(doge_sentiment.train_score)\n",
    "print(doge_sentiment.train_confusion)\n",
    "\n",
    "doge_sentiment.test_model()\n",
    "print(doge_sentiment.test_score)\n",
    "print(doge_sentiment.test_confusion)\n",
    "\n"
   ]
  },
  {
   "cell_type": "code",
   "execution_count": 16,
   "id": "fcf4e8ad",
   "metadata": {},
   "outputs": [
    {
     "name": "stdout",
     "output_type": "stream",
     "text": [
      "0.7957317073170732\n",
      "[[261   0]\n",
      " [ 67   0]]\n",
      "0.8109756097560976\n",
      "[[266   1]\n",
      " [ 61   0]]\n"
     ]
    }
   ],
   "source": [
    "# check both\n",
    "combined_final = ['RSI', 'RSI_Gold', 'RSI_SP500', 'Daily_Change_Perc_SP500', 'Daily_Change_Perc_Gold', 'wpr', 'MACD',\n",
    "            'PROC_3', 'streak', 'compound_weighted_avg7', 'compound_weighted', 'likes_count_daily_diff',\n",
    "            'retweets_count_weekly_diff', 'likes_count_avg7', 'goog_trend_score', 'neg_weighted', 'neg_weighted_avg7',\n",
    "            'pos_weighted_weekly_diff']\n",
    "\n",
    "doge_combo = coin(\"dogecoin_train_normal.csv\", \"dogecoin_test_normal.csv\", combined_final)\n",
    "doge_combo.train_model()\n",
    "print(doge_combo.train_score)\n",
    "print(doge_combo.train_confusion)\n",
    "\n",
    "doge_combo.test_model()\n",
    "print(doge_combo.test_score)\n",
    "print(doge_combo.test_confusion)"
   ]
  },
  {
   "cell_type": "code",
   "execution_count": 17,
   "id": "128441fa",
   "metadata": {},
   "outputs": [
    {
     "name": "stdout",
     "output_type": "stream",
     "text": [
      "RSI 0.10295593948610059\n",
      "RSI_Gold -0.05676170209286166\n",
      "RSI_SP500 0.17701101653129594\n",
      "Daily_Change_Perc_SP500 -0.10153168359798781\n",
      "Daily_Change_Perc_Gold 1.171584704374162\n",
      "wpr -0.07568780005356415\n",
      "MACD 0.07171413521119072\n",
      "PROC_3 -0.14095568476401835\n",
      "streak -0.1345656934741825\n",
      "compound_weighted_avg7 -0.10596021658526344\n",
      "compound_weighted -0.3656502826023437\n",
      "likes_count_daily_diff 0.006304129510958132\n",
      "retweets_count_weekly_diff -0.012768599713037353\n",
      "likes_count_avg7 0.0976873757480095\n",
      "goog_trend_score 0.3811167357976115\n",
      "neg_weighted 0.157449619296527\n",
      "neg_weighted_avg7 0.09530139057825703\n",
      "pos_weighted_weekly_diff -0.1911170312704625\n"
     ]
    }
   ],
   "source": [
    "coefs = {}\n",
    "for i, f in enumerate(combined_final):\n",
    "    coefs[f] = doge_combo.model.coef_[0, i]\n",
    "for k, v in coefs.items():\n",
    "    print(k, v)"
   ]
  },
  {
   "cell_type": "code",
   "execution_count": 18,
   "id": "1862862f",
   "metadata": {},
   "outputs": [
    {
     "data": {
      "text/plain": [
       "[0.006304129510958132,\n",
       " 0.012768599713037353,\n",
       " 0.05676170209286166,\n",
       " 0.07171413521119072,\n",
       " 0.07568780005356415,\n",
       " 0.09530139057825703,\n",
       " 0.0976873757480095,\n",
       " 0.10153168359798781,\n",
       " 0.10295593948610059,\n",
       " 0.10596021658526344,\n",
       " 0.1345656934741825,\n",
       " 0.14095568476401835,\n",
       " 0.157449619296527,\n",
       " 0.17701101653129594,\n",
       " 0.1911170312704625,\n",
       " 0.3656502826023437,\n",
       " 0.3811167357976115,\n",
       " 1.171584704374162]"
      ]
     },
     "execution_count": 18,
     "metadata": {},
     "output_type": "execute_result"
    }
   ],
   "source": [
    "sorted_coefs = [abs(v) for v in coefs.values()]\n",
    "sorted_coefs.sort()\n",
    "sorted_coefs"
   ]
  },
  {
   "cell_type": "code",
   "execution_count": 19,
   "id": "e363427c",
   "metadata": {},
   "outputs": [
    {
     "name": "stdout",
     "output_type": "stream",
     "text": [
      "0.7957317073170732\n",
      "[[261   0]\n",
      " [ 67   0]]\n",
      "0.8140243902439024\n",
      "[[267   0]\n",
      " [ 61   0]]\n",
      "[[-0.3863609]]\n"
     ]
    }
   ],
   "source": [
    "val_features = ['goog_trend_score']\n",
    "\n",
    "doge_val = coin(\"dogecoin_train_normal.csv\", \"dogecoin_test_normal.csv\", val_features)\n",
    "doge_val.train_model()\n",
    "print(doge_val.train_score)\n",
    "print(doge_val.train_confusion)\n",
    "\n",
    "doge_val.test_model()\n",
    "print(doge_val.test_score)\n",
    "print(doge_val.test_confusion)\n",
    "print(doge_val.model.coef_)\n"
   ]
  },
  {
   "cell_type": "code",
   "execution_count": 20,
   "id": "3aa818e9",
   "metadata": {},
   "outputs": [
    {
     "name": "stdout",
     "output_type": "stream",
     "text": [
      "0.7957317073170732\n",
      "[[261   0]\n",
      " [ 67   0]]\n",
      "0.8140243902439024\n",
      "[[267   0]\n",
      " [ 61   0]]\n"
     ]
    }
   ],
   "source": [
    "naive_features = ['Daily_Change_Perc_SP500', 'Daily_Change_Perc_Gold', 'goog_trend_score']\n",
    "\n",
    "doge_naive = coin(\"dogecoin_train.csv\", \"dogecoin_test.csv\", naive_features)\n",
    "doge_naive.train_model()\n",
    "print(doge_naive.train_score)\n",
    "print(doge_naive.train_confusion)\n",
    "\n",
    "doge_naive.test_model()\n",
    "print(doge_naive.test_score)\n",
    "print(doge_naive.test_confusion)\n"
   ]
  },
  {
   "cell_type": "code",
   "execution_count": 21,
   "id": "867a0e72",
   "metadata": {},
   "outputs": [
    {
     "name": "stdout",
     "output_type": "stream",
     "text": [
      "0.7957317073170732\n",
      "[[261   0]\n",
      " [ 67   0]]\n",
      "0.8140243902439024\n",
      "[[267   0]\n",
      " [ 61   0]]\n"
     ]
    }
   ],
   "source": [
    "sparse_features = ['MACD', 'PROC_3', 'goog_trend_score', 'Daily_Change_Perc_SP500', 'Daily_Change_Perc_Gold']\n",
    "\n",
    "doge_sparse = coin(\"dogecoin_train.csv\", \"dogecoin_test.csv\", sparse_features)\n",
    "doge_sparse.train_model()\n",
    "print(doge_sparse.train_score)\n",
    "print(doge_sparse.train_confusion)\n",
    "\n",
    "doge_sparse.test_model()\n",
    "print(doge_sparse.test_score)\n",
    "print(doge_sparse.test_confusion)\n"
   ]
  },
  {
   "cell_type": "markdown",
   "id": "36f29ab9",
   "metadata": {},
   "source": [
    "**CHARTS**"
   ]
  },
  {
   "cell_type": "code",
   "execution_count": 22,
   "id": "d380f580",
   "metadata": {},
   "outputs": [],
   "source": [
    "import matplotlib.pyplot as plt\n",
    "\n",
    "\n",
    "bitcoin_accs = {'Features': ['Base', 'Finance', 'Sentiment', 'Combo', 'Valuable', \n",
    "                            'Naive', 'Sparse'],\n",
    "                'Scores': [bc_base.test_score, bc_finance.test_score, bc_sentiment.test_score,\n",
    "                         bc_combo.test_score, bc_val.test_score, bc_naive.test_score,\n",
    "                        bc_sparse.test_score]}\n",
    "\n",
    "bitcoin_accs = pd.DataFrame(data=bitcoin_accs)\n",
    "\n",
    "doge_accs = {'Features': ['Base', 'Finance', 'Sentiment', 'Combo', 'Valuable', 'Naive', 'Sparse'],\n",
    "             'Scores':[doge_base.test_score, doge_finance.test_score, doge_sentiment.test_score, \n",
    "                     doge_combo.test_score, doge_val.test_score, doge_naive.test_score,\n",
    "                     doge_sparse.test_score]}\n",
    "\n",
    "doge_accs = pd.DataFrame(data=doge_accs)"
   ]
  },
  {
   "cell_type": "code",
   "execution_count": 23,
   "id": "36df3eba",
   "metadata": {},
   "outputs": [
    {
     "data": {
      "text/plain": [
       "<AxesSubplot:xlabel='Features'>"
      ]
     },
     "execution_count": 23,
     "metadata": {},
     "output_type": "execute_result"
    },
    {
     "data": {
      "image/png": "[encoded data removed]",
      "text/plain": [
       "<Figure size 432x288 with 1 Axes>"
      ]
     },
     "metadata": {
      "needs_background": "light"
     },
     "output_type": "display_data"
    }
   ],
   "source": [
    "bitcoin_accs.plot.bar(x='Features', y='Scores', ylim=(0,1))\n"
   ]
  },
  {
   "cell_type": "code",
   "execution_count": 25,
   "id": "7b39b90f",
   "metadata": {},
   "outputs": [
    {
     "data": {
      "text/plain": [
       "<AxesSubplot:xlabel='Features'>"
      ]
     },
     "execution_count": 25,
     "metadata": {},
     "output_type": "execute_result"
    },
    {
     "data": {
      "image/png": "[encoded data removed]",
      "text/plain": [
       "<Figure size 432x288 with 1 Axes>"
      ]
     },
     "metadata": {
      "needs_background": "light"
     },
     "output_type": "display_data"
    }
   ],
   "source": [
    "doge_accs.plot.bar(x='Features', y='Scores', ylim=(0,1), color='Green')"
   ]
  },
  {
   "cell_type": "code",
   "execution_count": null,
   "id": "b3edeb7f",
   "metadata": {},
   "outputs": [],
   "source": []
  }
 ],
 "metadata": {
  "kernelspec": {
   "display_name": "Python 3 (ipykernel)",
   "language": "python",
   "name": "python3"
  },
  "language_info": {
   "codemirror_mode": {
    "name": "ipython",
    "version": 3
   },
   "file_extension": ".py",
   "mimetype": "text/x-python",
   "name": "python",
   "nbconvert_exporter": "python",
   "pygments_lexer": "ipython3",
   "version": "3.9.7"
  }
 },
 "nbformat": 4,
 "nbformat_minor": 5
}
