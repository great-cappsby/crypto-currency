{
 "cells": [
  {
   "cell_type": "code",
   "execution_count": 1,
   "id": "89c55dc7",
   "metadata": {},
   "outputs": [],
   "source": [
    "import pandas as pd\n",
    "import datetime\n",
    "from pytrends.request import TrendReq # you may need to pip install pytrends first"
   ]
  },
  {
   "cell_type": "code",
   "execution_count": 2,
   "id": "058313fe",
   "metadata": {},
   "outputs": [],
   "source": [
    "def get_daily_google_trends(keywords, start, end):\n",
    "    \"\"\" Gets daily trends for a list of keywords in a given time range\n",
    "    \n",
    "    Parameters\n",
    "    ----------\n",
    "    keywords : List[str]\n",
    "        A list of keywords to get trends for\n",
    "    start : datetime.date\n",
    "        The start of your time range (should be before your end date)\n",
    "    end : datetime.date\n",
    "        The end of your time range (should be after your start date)\n",
    "        \n",
    "    Returns\n",
    "    -------\n",
    "    pandas.DataFrame\n",
    "        A dataframe containing the daily google search index for that time period for the given keywords\n",
    "    \"\"\"\n",
    "    # Set date intevals, 90 is the most days you can search while still getting daily results\n",
    "    date_interval = datetime.timedelta(90)\n",
    "    oneday = datetime.timedelta(1)\n",
    "    date_format = \"%Y-%m-%d\"\n",
    "    pytrends = TrendReq(hl='en-US', tz=360)\n",
    "\n",
    "    \n",
    "    current_start = start\n",
    "    done = False\n",
    "    dfs = []\n",
    "    while not done:\n",
    "        current_end = current_start + date_interval\n",
    "        \n",
    "        # Check if last date has been passed\n",
    "        if current_end > end:\n",
    "            current_end = end\n",
    "            done = True\n",
    "        \n",
    "        # Gets the data for current range adds to list\n",
    "        pytrends.build_payload(keywords, timeframe=current_start.strftime(date_format) + \" \" + current_end.strftime(date_format))\n",
    "        dfs.append(pytrends.interest_over_time())\n",
    "        \n",
    "        current_start = current_end + oneday\n",
    "        \n",
    "    return pd.concat(dfs)\n",
    "\n"
   ]
  },
  {
   "cell_type": "code",
   "execution_count": 3,
   "id": "78b09d9f",
   "metadata": {},
   "outputs": [],
   "source": [
    "end = datetime.date.today()\n",
    "start = datetime.date(2017, 1, 1)\n",
    "bitcoin_trends = get_daily_google_trends([\"bitcoin\"], start, end)"
   ]
  },
  {
   "cell_type": "code",
   "execution_count": 4,
   "id": "e5e7bbc8",
   "metadata": {},
   "outputs": [],
   "source": [
    "bitcoin_trends.to_csv(\"../data/bitcoin_google_trends.csv\")"
   ]
  },
  {
   "cell_type": "code",
   "execution_count": null,
   "id": "efbc9e70",
   "metadata": {},
   "outputs": [],
   "source": []
  }
 ],
 "metadata": {
  "kernelspec": {
   "display_name": "Python 3",
   "language": "python",
   "name": "python3"
  },
  "language_info": {
   "codemirror_mode": {
    "name": "ipython",
    "version": 3
   },
   "file_extension": ".py",
   "mimetype": "text/x-python",
   "name": "python",
   "nbconvert_exporter": "python",
   "pygments_lexer": "ipython3",
   "version": "3.8.8"
  }
 },
 "nbformat": 4,
 "nbformat_minor": 5
}
